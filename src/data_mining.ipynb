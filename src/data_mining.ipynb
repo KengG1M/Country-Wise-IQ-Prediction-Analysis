{
  "cells": [
    {
      "cell_type": "markdown",
      "metadata": {
        "id": "CwqfyN-cpu7y"
      },
      "source": [
        "# Note :    Riêng **Colab** phải **Ctrl+S** hoặc **Save** thì mới update được nha mọi người."
      ]
    },
    {
      "cell_type": "code",
      "execution_count": 1,
      "metadata": {
        "id": "tO27aFHUZN4n"
      },
      "outputs": [],
      "source": [
        "import pandas as pd\n",
        "import numpy as np\n",
        "import matplotlib.pyplot as plt\n",
        "import seaborn as sns\n",
        "from matplotlib import pyplot\n",
        "from sklearn.model_selection import train_test_split\n"
      ]
    },
    {
      "cell_type": "markdown",
      "metadata": {
        "id": "ZjPp3HxfZPFs"
      },
      "source": [
        "# 1.Data Preparation"
      ]
    },
    {
      "cell_type": "markdown",
      "metadata": {},
      "source": [
        "## 1.1. Data Integration"
      ]
    },
    {
      "cell_type": "code",
      "execution_count": 2,
      "metadata": {},
      "outputs": [],
      "source": [
        "\n",
        "# Read dataset into data frame\n",
        "Iq = pd.read_csv('../data/IQ.csv')\n",
        "It = pd.read_csv('../data/IncTmp.csv')"
      ]
    },
    {
      "cell_type": "code",
      "execution_count": 3,
      "metadata": {},
      "outputs": [
        {
          "data": {
            "text/html": [
              "<div>\n",
              "<style scoped>\n",
              "    .dataframe tbody tr th:only-of-type {\n",
              "        vertical-align: middle;\n",
              "    }\n",
              "\n",
              "    .dataframe tbody tr th {\n",
              "        vertical-align: top;\n",
              "    }\n",
              "\n",
              "    .dataframe thead th {\n",
              "        text-align: right;\n",
              "    }\n",
              "</style>\n",
              "<table border=\"1\" class=\"dataframe\">\n",
              "  <thead>\n",
              "    <tr style=\"text-align: right;\">\n",
              "      <th></th>\n",
              "      <th>Id</th>\n",
              "      <th>country</th>\n",
              "      <th>IQ</th>\n",
              "      <th>education_expenditure</th>\n",
              "      <th>avg_income</th>\n",
              "      <th>avg_temp</th>\n",
              "    </tr>\n",
              "  </thead>\n",
              "  <tbody>\n",
              "    <tr>\n",
              "      <th>0</th>\n",
              "      <td>1</td>\n",
              "      <td>Hong Kong</td>\n",
              "      <td>106</td>\n",
              "      <td>1283.0</td>\n",
              "      <td>35304.0</td>\n",
              "      <td>26.2</td>\n",
              "    </tr>\n",
              "    <tr>\n",
              "      <th>1</th>\n",
              "      <td>2</td>\n",
              "      <td>Japan</td>\n",
              "      <td>106</td>\n",
              "      <td>1340.0</td>\n",
              "      <td>40964.0</td>\n",
              "      <td>19.2</td>\n",
              "    </tr>\n",
              "    <tr>\n",
              "      <th>2</th>\n",
              "      <td>3</td>\n",
              "      <td>Singapore</td>\n",
              "      <td>106</td>\n",
              "      <td>1428.0</td>\n",
              "      <td>41100.0</td>\n",
              "      <td>31.5</td>\n",
              "    </tr>\n",
              "    <tr>\n",
              "      <th>3</th>\n",
              "      <td>4</td>\n",
              "      <td>Taiwan</td>\n",
              "      <td>106</td>\n",
              "      <td>NaN</td>\n",
              "      <td>NaN</td>\n",
              "      <td>26.9</td>\n",
              "    </tr>\n",
              "    <tr>\n",
              "      <th>4</th>\n",
              "      <td>5</td>\n",
              "      <td>China</td>\n",
              "      <td>104</td>\n",
              "      <td>183.0</td>\n",
              "      <td>4654.0</td>\n",
              "      <td>19.1</td>\n",
              "    </tr>\n",
              "  </tbody>\n",
              "</table>\n",
              "</div>"
            ],
            "text/plain": [
              "   Id     country   IQ  education_expenditure  avg_income  avg_temp\n",
              "0   1  Hong Kong   106                 1283.0     35304.0      26.2\n",
              "1   2       Japan  106                 1340.0     40964.0      19.2\n",
              "2   3   Singapore  106                 1428.0     41100.0      31.5\n",
              "3   4     Taiwan   106                    NaN         NaN      26.9\n",
              "4   5       China  104                  183.0      4654.0      19.1"
            ]
          },
          "execution_count": 3,
          "metadata": {},
          "output_type": "execute_result"
        }
      ],
      "source": [
        "Iq_It = pd.merge(Iq, It, on=['Id', 'country'])\n",
        "Iq_It.head()"
      ]
    },
    {
      "cell_type": "markdown",
      "metadata": {
        "id": "emZYd8UiZa6o"
      },
      "source": [
        "## 1.1. Data Shuffling"
      ]
    },
    {
      "cell_type": "code",
      "execution_count": 4,
      "metadata": {},
      "outputs": [
        {
          "name": "stdout",
          "output_type": "stream",
          "text": [
            "<class 'pandas.core.frame.DataFrame'>\n",
            "RangeIndex: 108 entries, 0 to 107\n",
            "Data columns (total 6 columns):\n",
            " #   Column                 Non-Null Count  Dtype  \n",
            "---  ------                 --------------  -----  \n",
            " 0   Id                     108 non-null    int64  \n",
            " 1   country                108 non-null    object \n",
            " 2   IQ                     108 non-null    int64  \n",
            " 3   education_expenditure  103 non-null    float64\n",
            " 4   avg_income             106 non-null    float64\n",
            " 5   avg_temp               108 non-null    float64\n",
            "dtypes: float64(3), int64(2), object(1)\n",
            "memory usage: 5.2+ KB\n"
          ]
        }
      ],
      "source": [
        "Iq_It.info()"
      ]
    },
    {
      "cell_type": "code",
      "execution_count": 5,
      "metadata": {},
      "outputs": [
        {
          "data": {
            "text/html": [
              "<div>\n",
              "<style scoped>\n",
              "    .dataframe tbody tr th:only-of-type {\n",
              "        vertical-align: middle;\n",
              "    }\n",
              "\n",
              "    .dataframe tbody tr th {\n",
              "        vertical-align: top;\n",
              "    }\n",
              "\n",
              "    .dataframe thead th {\n",
              "        text-align: right;\n",
              "    }\n",
              "</style>\n",
              "<table border=\"1\" class=\"dataframe\">\n",
              "  <thead>\n",
              "    <tr style=\"text-align: right;\">\n",
              "      <th></th>\n",
              "      <th>Id</th>\n",
              "      <th>country</th>\n",
              "      <th>IQ</th>\n",
              "      <th>education_expenditure</th>\n",
              "      <th>avg_income</th>\n",
              "      <th>avg_temp</th>\n",
              "    </tr>\n",
              "  </thead>\n",
              "  <tbody>\n",
              "    <tr>\n",
              "      <th>2</th>\n",
              "      <td>3</td>\n",
              "      <td>Singapore</td>\n",
              "      <td>106</td>\n",
              "      <td>1428.0</td>\n",
              "      <td>41100.0</td>\n",
              "      <td>31.5</td>\n",
              "    </tr>\n",
              "    <tr>\n",
              "      <th>41</th>\n",
              "      <td>42</td>\n",
              "      <td>Bulgaria</td>\n",
              "      <td>91</td>\n",
              "      <td>224.0</td>\n",
              "      <td>5703.0</td>\n",
              "      <td>18.1</td>\n",
              "    </tr>\n",
              "    <tr>\n",
              "      <th>19</th>\n",
              "      <td>20</td>\n",
              "      <td>Austria</td>\n",
              "      <td>99</td>\n",
              "      <td>2341.0</td>\n",
              "      <td>42635.0</td>\n",
              "      <td>13.2</td>\n",
              "    </tr>\n",
              "    <tr>\n",
              "      <th>37</th>\n",
              "      <td>38</td>\n",
              "      <td>Israel</td>\n",
              "      <td>93</td>\n",
              "      <td>1811.0</td>\n",
              "      <td>29009.0</td>\n",
              "      <td>25.4</td>\n",
              "    </tr>\n",
              "    <tr>\n",
              "      <th>97</th>\n",
              "      <td>98</td>\n",
              "      <td>Nigeria</td>\n",
              "      <td>68</td>\n",
              "      <td>NaN</td>\n",
              "      <td>1752.0</td>\n",
              "      <td>33.3</td>\n",
              "    </tr>\n",
              "  </tbody>\n",
              "</table>\n",
              "</div>"
            ],
            "text/plain": [
              "    Id    country   IQ  education_expenditure  avg_income  avg_temp\n",
              "2    3  Singapore  106                 1428.0     41100.0      31.5\n",
              "41  42   Bulgaria   91                  224.0      5703.0      18.1\n",
              "19  20    Austria   99                 2341.0     42635.0      13.2\n",
              "37  38     Israel   93                 1811.0     29009.0      25.4\n",
              "97  98    Nigeria   68                    NaN      1752.0      33.3"
            ]
          },
          "execution_count": 5,
          "metadata": {},
          "output_type": "execute_result"
        }
      ],
      "source": [
        "from sklearn.utils import shuffle\n",
        "\n",
        "Iq_It = shuffle(Iq_It)\n",
        "Iq_It.head()"
      ]
    },
    {
      "cell_type": "markdown",
      "metadata": {
        "id": "UURLcvjwZbWv"
      },
      "source": [
        "## 1.2. Data Preprocessing"
      ]
    },
    {
      "cell_type": "markdown",
      "metadata": {},
      "source": [
        "### Handle Duplicate"
      ]
    },
    {
      "cell_type": "code",
      "execution_count": 6,
      "metadata": {},
      "outputs": [
        {
          "name": "stdout",
          "output_type": "stream",
          "text": [
            "    Id       country   IQ  education_expenditure  avg_income  avg_temp\n",
            "2    3     Singapore  106                 1428.0     41100.0      31.5\n",
            "41  42      Bulgaria   91                  224.0      5703.0      18.1\n",
            "19  20       Austria   99                 2341.0     42635.0      13.2\n",
            "37  38        Israel   93                 1811.0     29009.0      25.4\n",
            "97  98       Nigeria   68                    NaN      1752.0      33.3\n",
            "..  ..           ...  ...                    ...         ...       ...\n",
            "34  35         Italy   95                 1380.0     32104.0      17.8\n",
            "94  95  South Africa   69                  336.0      5941.0      24.7\n",
            "18  19       Iceland   99                 3812.0     47106.0       8.1\n",
            "49  50        Serbia   89                  208.0      4876.0      18.3\n",
            "90  91         Kenya   74                   62.0       939.0      27.4\n",
            "\n",
            "[108 rows x 6 columns]\n"
          ]
        }
      ],
      "source": [
        "print(Iq_It)"
      ]
    },
    {
      "cell_type": "code",
      "execution_count": 7,
      "metadata": {},
      "outputs": [
        {
          "name": "stdout",
          "output_type": "stream",
          "text": [
            "\n",
            "Duplicate Row:\n",
            "Empty DataFrame\n",
            "Columns: [Id, country, IQ, education_expenditure, avg_income, avg_temp]\n",
            "Index: []\n"
          ]
        }
      ],
      "source": [
        "duplicates = Iq_It.duplicated()\n",
        "print(\"\\nDuplicate Row:\")\n",
        "print(Iq_It[duplicates])"
      ]
    },
    {
      "cell_type": "markdown",
      "metadata": {},
      "source": [
        "There are no duplicate in our data"
      ]
    },
    {
      "cell_type": "code",
      "execution_count": null,
      "metadata": {},
      "outputs": [],
      "source": []
    },
    {
      "cell_type": "markdown",
      "metadata": {},
      "source": [
        "### Handle Outlier"
      ]
    },
    {
      "cell_type": "markdown",
      "metadata": {},
      "source": [
        "### Handle Missing Values"
      ]
    },
    {
      "cell_type": "code",
      "execution_count": 8,
      "metadata": {},
      "outputs": [
        {
          "name": "stdout",
          "output_type": "stream",
          "text": [
            "Original DataFrame:\n",
            "    Id       country   IQ  education_expenditure  avg_income  avg_temp\n",
            "2    3     Singapore  106                 1428.0     41100.0      31.5\n",
            "41  42      Bulgaria   91                  224.0      5703.0      18.1\n",
            "19  20       Austria   99                 2341.0     42635.0      13.2\n",
            "37  38        Israel   93                 1811.0     29009.0      25.4\n",
            "97  98       Nigeria   68                    NaN      1752.0      33.3\n",
            "..  ..           ...  ...                    ...         ...       ...\n",
            "34  35         Italy   95                 1380.0     32104.0      17.8\n",
            "94  95  South Africa   69                  336.0      5941.0      24.7\n",
            "18  19       Iceland   99                 3812.0     47106.0       8.1\n",
            "49  50        Serbia   89                  208.0      4876.0      18.3\n",
            "90  91         Kenya   74                   62.0       939.0      27.4\n",
            "\n",
            "[108 rows x 6 columns]\n"
          ]
        }
      ],
      "source": [
        "# Display the DataFrame to inspect it\n",
        "print(\"Original DataFrame:\")\n",
        "print(Iq_It)\n"
      ]
    },
    {
      "cell_type": "code",
      "execution_count": 9,
      "metadata": {},
      "outputs": [
        {
          "name": "stdout",
          "output_type": "stream",
          "text": [
            "\n",
            "Missing values in each column:\n",
            "Id                       0\n",
            "country                  0\n",
            "IQ                       0\n",
            "education_expenditure    5\n",
            "avg_income               2\n",
            "avg_temp                 0\n",
            "dtype: int64\n"
          ]
        }
      ],
      "source": [
        "# Check for missing values\n",
        "print(\"\\nMissing values in each column:\")\n",
        "print(Iq_It.isnull().sum())"
      ]
    },
    {
      "cell_type": "code",
      "execution_count": 10,
      "metadata": {},
      "outputs": [
        {
          "name": "stdout",
          "output_type": "stream",
          "text": [
            "\n",
            "DataFrame after handling missing values:\n",
            "    Id       country   IQ  education_expenditure  avg_income  avg_temp\n",
            "2    3     Singapore  106            1428.000000     41100.0      31.5\n",
            "41  42      Bulgaria   91             224.000000      5703.0      18.1\n",
            "19  20       Austria   99            2341.000000     42635.0      13.2\n",
            "37  38        Israel   93            1811.000000     29009.0      25.4\n",
            "97  98       Nigeria   68             903.058252      1752.0      33.3\n",
            "..  ..           ...  ...                    ...         ...       ...\n",
            "34  35         Italy   95            1380.000000     32104.0      17.8\n",
            "94  95  South Africa   69             336.000000      5941.0      24.7\n",
            "18  19       Iceland   99            3812.000000     47106.0       8.1\n",
            "49  50        Serbia   89             208.000000      4876.0      18.3\n",
            "90  91         Kenya   74              62.000000       939.0      27.4\n",
            "\n",
            "[108 rows x 6 columns]\n"
          ]
        }
      ],
      "source": [
        "# Handling missing values\n",
        "# 1. Fill missing values with a specific value (e.g., 0 or mean/median of the column)\n",
        "Iq_It_f = Iq_It.fillna({\n",
        "    'education_expenditure': Iq_It['education_expenditure'].mean(),  # Fill with mean\n",
        "    'avg_income': Iq_It['avg_income'].mean(),  # Fill with mean\n",
        "    'avg_temp': Iq_It['avg_temp'].mean()  # Fill with mean\n",
        "})\n",
        "\n",
        "# Display the DataFrame after handling missing values\n",
        "print(\"\\nDataFrame after handling missing values:\")\n",
        "print(Iq_It_f)"
      ]
    },
    {
      "cell_type": "markdown",
      "metadata": {},
      "source": [
        "Encode"
      ]
    },
    {
      "cell_type": "code",
      "execution_count": 11,
      "metadata": {},
      "outputs": [
        {
          "data": {
            "text/html": [
              "<div>\n",
              "<style scoped>\n",
              "    .dataframe tbody tr th:only-of-type {\n",
              "        vertical-align: middle;\n",
              "    }\n",
              "\n",
              "    .dataframe tbody tr th {\n",
              "        vertical-align: top;\n",
              "    }\n",
              "\n",
              "    .dataframe thead th {\n",
              "        text-align: right;\n",
              "    }\n",
              "</style>\n",
              "<table border=\"1\" class=\"dataframe\">\n",
              "  <thead>\n",
              "    <tr style=\"text-align: right;\">\n",
              "      <th></th>\n",
              "      <th>Id</th>\n",
              "      <th>country</th>\n",
              "      <th>IQ</th>\n",
              "      <th>education_expenditure</th>\n",
              "      <th>avg_income</th>\n",
              "      <th>avg_temp</th>\n",
              "      <th>IQ_Level</th>\n",
              "    </tr>\n",
              "  </thead>\n",
              "  <tbody>\n",
              "    <tr>\n",
              "      <th>2</th>\n",
              "      <td>3</td>\n",
              "      <td>Singapore</td>\n",
              "      <td>106</td>\n",
              "      <td>1428.000000</td>\n",
              "      <td>41100.0</td>\n",
              "      <td>31.5</td>\n",
              "      <td>3</td>\n",
              "    </tr>\n",
              "    <tr>\n",
              "      <th>41</th>\n",
              "      <td>42</td>\n",
              "      <td>Bulgaria</td>\n",
              "      <td>91</td>\n",
              "      <td>224.000000</td>\n",
              "      <td>5703.0</td>\n",
              "      <td>18.1</td>\n",
              "      <td>3</td>\n",
              "    </tr>\n",
              "    <tr>\n",
              "      <th>19</th>\n",
              "      <td>20</td>\n",
              "      <td>Austria</td>\n",
              "      <td>99</td>\n",
              "      <td>2341.000000</td>\n",
              "      <td>42635.0</td>\n",
              "      <td>13.2</td>\n",
              "      <td>3</td>\n",
              "    </tr>\n",
              "    <tr>\n",
              "      <th>37</th>\n",
              "      <td>38</td>\n",
              "      <td>Israel</td>\n",
              "      <td>93</td>\n",
              "      <td>1811.000000</td>\n",
              "      <td>29009.0</td>\n",
              "      <td>25.4</td>\n",
              "      <td>3</td>\n",
              "    </tr>\n",
              "    <tr>\n",
              "      <th>97</th>\n",
              "      <td>98</td>\n",
              "      <td>Nigeria</td>\n",
              "      <td>68</td>\n",
              "      <td>903.058252</td>\n",
              "      <td>1752.0</td>\n",
              "      <td>33.3</td>\n",
              "      <td>1</td>\n",
              "    </tr>\n",
              "  </tbody>\n",
              "</table>\n",
              "</div>"
            ],
            "text/plain": [
              "    Id    country   IQ  education_expenditure  avg_income  avg_temp  IQ_Level\n",
              "2    3  Singapore  106            1428.000000     41100.0      31.5         3\n",
              "41  42   Bulgaria   91             224.000000      5703.0      18.1         3\n",
              "19  20    Austria   99            2341.000000     42635.0      13.2         3\n",
              "37  38     Israel   93            1811.000000     29009.0      25.4         3\n",
              "97  98    Nigeria   68             903.058252      1752.0      33.3         1"
            ]
          },
          "execution_count": 11,
          "metadata": {},
          "output_type": "execute_result"
        }
      ],
      "source": [
        "# Define a function to categorize IQ into intervals\n",
        "def categorize_iq(iq):\n",
        "    if iq < 70:\n",
        "        return 1\n",
        "    elif iq < 90:\n",
        "        return 2\n",
        "    elif iq < 107:\n",
        "        return 3\n",
        "\n",
        "\n",
        "# Apply the function to the IQ column\n",
        "Iq_It_f['IQ_Level'] = Iq_It_f['IQ'].apply(categorize_iq)\n",
        "\n",
        "Iq_It_f.head()\n"
      ]
    },
    {
      "cell_type": "code",
      "execution_count": 12,
      "metadata": {},
      "outputs": [
        {
          "data": {
            "image/png": "[encoded data removed]",
            "text/plain": [
              "<Figure size 2000x600 with 3 Axes>"
            ]
          },
          "metadata": {},
          "output_type": "display_data"
        }
      ],
      "source": [
        "# Plot histograms\n",
        "plt.figure(figsize=(20, 6))\n",
        "\n",
        "plt.subplot(1, 3, 1)\n",
        "Iq_It_f['IQ'].hist(bins=10, edgecolor='black')\n",
        "plt.title('Distribution of IQ')\n",
        "plt.xlabel('IQ')\n",
        "plt.ylabel('Frequency')\n",
        "\n",
        "plt.subplot(1, 3, 2)\n",
        "Iq_It_f['education_expenditure'].hist(bins=10, edgecolor='black')\n",
        "plt.title('Distribution of Education Expenditure')\n",
        "plt.xlabel('Education Expenditure')\n",
        "plt.ylabel('Frequency')\n",
        "\n",
        "plt.subplot(1, 3, 3)\n",
        "Iq_It_f['avg_income'].hist(bins=10, edgecolor='black')\n",
        "plt.title('Distribution of Average Income')\n",
        "plt.xlabel('Average Income')\n",
        "plt.ylabel('Frequency')\n",
        "\n",
        "plt.tight_layout()\n",
        "plt.show()"
      ]
    },
    {
      "cell_type": "code",
      "execution_count": 13,
      "metadata": {},
      "outputs": [
        {
          "data": {
            "image/png": "[encoded data removed]",
            "text/plain": [
              "<Figure size 2000x600 with 3 Axes>"
            ]
          },
          "metadata": {},
          "output_type": "display_data"
        }
      ],
      "source": [
        "plt.figure(figsize=(20, 6))\n",
        "\n",
        "plt.subplot(1, 3, 1)\n",
        "sns.boxplot(y=Iq_It_f['IQ'])\n",
        "plt.title('Box Plot of IQ')\n",
        "\n",
        "plt.subplot(1, 3, 2)\n",
        "sns.boxplot(y=Iq_It_f['education_expenditure'])\n",
        "plt.title('Box Plot of Education Expenditure')\n",
        "\n",
        "plt.subplot(1, 3, 3)\n",
        "sns.boxplot(y=Iq_It_f['avg_income'])\n",
        "plt.title('Box Plot of Average Income')\n",
        "\n",
        "plt.tight_layout()\n",
        "plt.show()\n"
      ]
    },
    {
      "cell_type": "code",
      "execution_count": 14,
      "metadata": {},
      "outputs": [
        {
          "data": {
            "image/png": "[encoded data removed]",
            "text/plain": [
              "<Figure size 2000x600 with 3 Axes>"
            ]
          },
          "metadata": {},
          "output_type": "display_data"
        }
      ],
      "source": [
        "plt.figure(figsize=(20, 6))\n",
        "\n",
        "plt.subplot(1, 3, 1)\n",
        "sns.kdeplot(Iq_It_f['IQ'], fill=True)\n",
        "plt.title('Density Plot of IQ')\n",
        "\n",
        "plt.subplot(1, 3, 2)\n",
        "sns.kdeplot(Iq_It_f['education_expenditure'], fill=True)\n",
        "plt.title('Density Plot of Education Expenditure')\n",
        "\n",
        "plt.subplot(1, 3, 3)\n",
        "sns.kdeplot(Iq_It_f['avg_income'], fill=True)\n",
        "plt.title('Density Plot of Average Income')\n",
        "\n",
        "plt.tight_layout()\n",
        "plt.show()\n"
      ]
    },
    {
      "cell_type": "markdown",
      "metadata": {},
      "source": [
        "### Clone into train&test file"
      ]
    },
    {
      "cell_type": "code",
      "execution_count": 15,
      "metadata": {},
      "outputs": [],
      "source": [
        "import os\n",
        "\n",
        "clone_directory = 'clone_data'\n",
        "train_filepath = os.path.join(clone_directory, 'IqIt_train.csv')\n",
        "\n",
        "\n",
        "test_filepath = os.path.join(clone_directory, 'IqIt_test.csv')\n",
        "\n",
        "\n",
        "if not os.path.exists(clone_directory):\n",
        "    os.makedirs(clone_directory)\n",
        "\n",
        "Iq_It_f.to_csv(train_filepath)\n",
        "\n",
        "Iq_It_f.to_csv(test_filepath)\n",
        "\n"
      ]
    },
    {
      "cell_type": "markdown",
      "metadata": {
        "id": "iW3BHRYgk9rB"
      },
      "source": [
        "# 2. Selection"
      ]
    },
    {
      "cell_type": "code",
      "execution_count": 16,
      "metadata": {},
      "outputs": [],
      "source": [
        "IqIt_train = pd.read_csv(\"../src/clone_data/IqIt_train.csv\")"
      ]
    },
    {
      "cell_type": "markdown",
      "metadata": {
        "id": "tAqgXbYUk9tu"
      },
      "source": [
        "## 2.1. Information Gain"
      ]
    },
    {
      "cell_type": "code",
      "execution_count": 17,
      "metadata": {},
      "outputs": [],
      "source": [
        "import numpy as np\n",
        "import matplotlib.pyplot as plt\n",
        "from sklearn.datasets import load_diabetes\n",
        "from sklearn.feature_selection import mutual_info_regression"
      ]
    },
    {
      "cell_type": "code",
      "execution_count": 18,
      "metadata": {},
      "outputs": [
        {
          "name": "stdout",
          "output_type": "stream",
          "text": [
            "Features: avg_income Score:  0.3423368582568509\n",
            "Features: education_expenditure Score:  0.2861749805319631\n",
            "Features: avg_temp Score:  0.2706449607219006\n"
          ]
        },
        {
          "data": {
            "image/png": "[encoded data removed]",
            "text/plain": [
              "<Figure size 640x480 with 1 Axes>"
            ]
          },
          "metadata": {},
          "output_type": "display_data"
        }
      ],
      "source": [
        "x = IqIt_train.drop(columns=[\"Unnamed: 0\",\"country\",\"Id\",\"IQ\",\"IQ_Level\"])\n",
        "y = IqIt_train[\"IQ_Level\"]\n",
        "\n",
        "#Apply Information Gain\n",
        "ig = mutual_info_regression(x,y)\n",
        "\n",
        "#Create a dictionary of feature importance scores\n",
        "feature_scores = {}\n",
        "for i in range(len(x.columns)):\n",
        "    feature_scores[x.columns[i]] = ig[i]\n",
        "\n",
        "# Sort the features by importance score in descending order\n",
        "sorted_features = sorted(feature_scores.items(), key=lambda x: x[1], reverse=True)\n",
        "\n",
        "#Sort the features by importance scores and the sorted features\n",
        "for feature, score in sorted_features:\n",
        "    print(\"Features:\", feature, \"Score: \", score)\n",
        "\n",
        "#Plot a horizontal bar chat of the feature importance scores\n",
        "fig, ax = plt.subplots()\n",
        "y_pos = np.arange(len(sorted_features))\n",
        "ax.barh(y_pos, [score for feature, score in sorted_features], align=\"center\")\n",
        "ax.set_yticks(y_pos)\n",
        "ax.set_yticklabels([feature for feature, score in sorted_features])\n",
        "ax.invert_yaxis()  # Labels read top-to-bottom\n",
        "ax.set_xlabel(\"Importance Score\")\n",
        "ax.set_title(\"Feature Importance Scores (Information Gain)\")\n",
        "\n",
        "# Add importance scores as labels on the horizontal bar chart\n",
        "for i, v in enumerate([score for feature, score in sorted_features]):\n",
        "    ax.text(v + 0.01, i, str(round(v, 3)), color=\"black\", fontweight=\"bold\")\n",
        "plt.show()"
      ]
    },
    {
      "cell_type": "markdown",
      "metadata": {
        "id": "f9TIYqosk9wd"
      },
      "source": [
        "## 2.2. Forward Selection"
      ]
    },
    {
      "cell_type": "code",
      "execution_count": 19,
      "metadata": {},
      "outputs": [],
      "source": [
        "# # from sklearn.linear_model import LogisticRegression\n",
        "# from sklearn.discriminant_analysis import LinearDiscriminantAnalysis\n",
        "# from mlxtend.feature_selection import SequentialFeatureSelector as SFS"
      ]
    },
    {
      "cell_type": "code",
      "execution_count": 20,
      "metadata": {},
      "outputs": [],
      "source": [
        "# 12313"
      ]
    },
    {
      "cell_type": "markdown",
      "metadata": {
        "id": "KVmy8FRpk9yV"
      },
      "source": [
        "## 2.3. Chi_Square"
      ]
    },
    {
      "cell_type": "markdown",
      "metadata": {
        "id": "aqQJbOKMZbdl"
      },
      "source": [
        "# 3. Split and Prepare Data"
      ]
    },
    {
      "cell_type": "code",
      "execution_count": 21,
      "metadata": {},
      "outputs": [],
      "source": [
        "from sklearn.model_selection import train_test_split"
      ]
    },
    {
      "cell_type": "markdown",
      "metadata": {},
      "source": [
        "## IQ Country and Income&Temperature"
      ]
    },
    {
      "cell_type": "code",
      "execution_count": 22,
      "metadata": {},
      "outputs": [],
      "source": [
        "X_iqit = IqIt_train[\n",
        "    [\n",
        "        \"education_expenditure\",\n",
        "        \"avg_income\",\n",
        "        \"avg_temp\"\n",
        "    ]\n",
        "]\n",
        "\n",
        "Y_iqit = IqIt_train[\"IQ_Level\"]\n",
        "\n",
        "X_train_iqit, X_test_iqit, Y_train_iqit, Y_test_iqit = train_test_split(\n",
        "    X_iqit, Y_iqit, test_size = 0.1, random_state=42\n",
        ")"
      ]
    },
    {
      "cell_type": "markdown",
      "metadata": {
        "id": "sTtE1-nVYDOT"
      },
      "source": [
        "# 4. Modeling\n",
        "#### Decision Tree, Logistic Regression, Random Forest, KNN, Naive Bayes, SVM"
      ]
    },
    {
      "cell_type": "code",
      "execution_count": 23,
      "metadata": {},
      "outputs": [],
      "source": [
        "from sklearn.metrics import accuracy_score\n",
        "from sklearn.pipeline import Pipeline\n",
        "from sklearn.ensemble import RandomForestClassifier\n",
        "from sklearn.ensemble import GradientBoostingClassifier\n",
        "from sklearn.ensemble import ExtraTreesClassifier\n",
        "from sklearn.ensemble import AdaBoostClassifier\n",
        "from sklearn.preprocessing import StandardScaler\n",
        "from sklearn.model_selection import KFold\n",
        "from sklearn.model_selection import cross_val_score\n",
        "from sklearn.model_selection import GridSearchCV\n",
        "from sklearn.linear_model import LogisticRegression\n",
        "from sklearn.tree import DecisionTreeClassifier\n",
        "from sklearn.neighbors import KNeighborsClassifier\n",
        "from sklearn.svm import SVC\n",
        "from pandas import read_csv\n",
        "from pandas import set_option\n",
        "from sklearn.preprocessing import StandardScaler\n",
        "from sklearn.metrics import classification_report\n",
        "from sklearn.metrics import confusion_matrix\n",
        "from sklearn.discriminant_analysis import LinearDiscriminantAnalysis\n",
        "from sklearn.naive_bayes import GaussianNB\n",
        "\n",
        "num_folds = 10\n",
        "seed = 7\n",
        "scoring = \"accuracy\"\n",
        "\n",
        "models = []\n",
        "models.append((\"LR\", LogisticRegression()))\n",
        "models.append((\"LDA\", LinearDiscriminantAnalysis()))\n",
        "models.append((\"KNN\", KNeighborsClassifier()))\n",
        "models.append((\"CART\", DecisionTreeClassifier()))\n",
        "models.append((\"NB\", GaussianNB()))\n",
        "models.append((\"SVM\", SVC()))"
      ]
    },
    {
      "cell_type": "code",
      "execution_count": 24,
      "metadata": {},
      "outputs": [
        {
          "name": "stderr",
          "output_type": "stream",
          "text": [
            "c:\\Users\\Admin\\AppData\\Local\\Programs\\Python\\Python311\\Lib\\site-packages\\sklearn\\linear_model\\_logistic.py:469: ConvergenceWarning: lbfgs failed to converge (status=1):\n",
            "STOP: TOTAL NO. of ITERATIONS REACHED LIMIT.\n",
            "\n",
            "Increase the number of iterations (max_iter) or scale the data as shown in:\n",
            "    https://scikit-learn.org/stable/modules/preprocessing.html\n",
            "Please also refer to the documentation for alternative solver options:\n",
            "    https://scikit-learn.org/stable/modules/linear_model.html#logistic-regression\n",
            "  n_iter_i = _check_optimize_result(\n",
            "c:\\Users\\Admin\\AppData\\Local\\Programs\\Python\\Python311\\Lib\\site-packages\\sklearn\\linear_model\\_logistic.py:469: ConvergenceWarning: lbfgs failed to converge (status=1):\n",
            "STOP: TOTAL NO. of ITERATIONS REACHED LIMIT.\n",
            "\n",
            "Increase the number of iterations (max_iter) or scale the data as shown in:\n",
            "    https://scikit-learn.org/stable/modules/preprocessing.html\n",
            "Please also refer to the documentation for alternative solver options:\n",
            "    https://scikit-learn.org/stable/modules/linear_model.html#logistic-regression\n",
            "  n_iter_i = _check_optimize_result(\n",
            "c:\\Users\\Admin\\AppData\\Local\\Programs\\Python\\Python311\\Lib\\site-packages\\sklearn\\linear_model\\_logistic.py:469: ConvergenceWarning: lbfgs failed to converge (status=1):\n",
            "STOP: TOTAL NO. of ITERATIONS REACHED LIMIT.\n",
            "\n",
            "Increase the number of iterations (max_iter) or scale the data as shown in:\n",
            "    https://scikit-learn.org/stable/modules/preprocessing.html\n",
            "Please also refer to the documentation for alternative solver options:\n",
            "    https://scikit-learn.org/stable/modules/linear_model.html#logistic-regression\n",
            "  n_iter_i = _check_optimize_result(\n",
            "c:\\Users\\Admin\\AppData\\Local\\Programs\\Python\\Python311\\Lib\\site-packages\\sklearn\\linear_model\\_logistic.py:469: ConvergenceWarning: lbfgs failed to converge (status=1):\n",
            "STOP: TOTAL NO. of ITERATIONS REACHED LIMIT.\n",
            "\n",
            "Increase the number of iterations (max_iter) or scale the data as shown in:\n",
            "    https://scikit-learn.org/stable/modules/preprocessing.html\n",
            "Please also refer to the documentation for alternative solver options:\n",
            "    https://scikit-learn.org/stable/modules/linear_model.html#logistic-regression\n",
            "  n_iter_i = _check_optimize_result(\n",
            "c:\\Users\\Admin\\AppData\\Local\\Programs\\Python\\Python311\\Lib\\site-packages\\sklearn\\linear_model\\_logistic.py:469: ConvergenceWarning: lbfgs failed to converge (status=1):\n",
            "STOP: TOTAL NO. of ITERATIONS REACHED LIMIT.\n",
            "\n",
            "Increase the number of iterations (max_iter) or scale the data as shown in:\n",
            "    https://scikit-learn.org/stable/modules/preprocessing.html\n",
            "Please also refer to the documentation for alternative solver options:\n",
            "    https://scikit-learn.org/stable/modules/linear_model.html#logistic-regression\n",
            "  n_iter_i = _check_optimize_result(\n",
            "c:\\Users\\Admin\\AppData\\Local\\Programs\\Python\\Python311\\Lib\\site-packages\\sklearn\\linear_model\\_logistic.py:469: ConvergenceWarning: lbfgs failed to converge (status=1):\n",
            "STOP: TOTAL NO. of ITERATIONS REACHED LIMIT.\n",
            "\n",
            "Increase the number of iterations (max_iter) or scale the data as shown in:\n",
            "    https://scikit-learn.org/stable/modules/preprocessing.html\n",
            "Please also refer to the documentation for alternative solver options:\n",
            "    https://scikit-learn.org/stable/modules/linear_model.html#logistic-regression\n",
            "  n_iter_i = _check_optimize_result(\n",
            "c:\\Users\\Admin\\AppData\\Local\\Programs\\Python\\Python311\\Lib\\site-packages\\sklearn\\linear_model\\_logistic.py:469: ConvergenceWarning: lbfgs failed to converge (status=1):\n",
            "STOP: TOTAL NO. of ITERATIONS REACHED LIMIT.\n",
            "\n",
            "Increase the number of iterations (max_iter) or scale the data as shown in:\n",
            "    https://scikit-learn.org/stable/modules/preprocessing.html\n",
            "Please also refer to the documentation for alternative solver options:\n",
            "    https://scikit-learn.org/stable/modules/linear_model.html#logistic-regression\n",
            "  n_iter_i = _check_optimize_result(\n",
            "c:\\Users\\Admin\\AppData\\Local\\Programs\\Python\\Python311\\Lib\\site-packages\\sklearn\\linear_model\\_logistic.py:469: ConvergenceWarning: lbfgs failed to converge (status=1):\n",
            "STOP: TOTAL NO. of ITERATIONS REACHED LIMIT.\n",
            "\n",
            "Increase the number of iterations (max_iter) or scale the data as shown in:\n",
            "    https://scikit-learn.org/stable/modules/preprocessing.html\n",
            "Please also refer to the documentation for alternative solver options:\n",
            "    https://scikit-learn.org/stable/modules/linear_model.html#logistic-regression\n",
            "  n_iter_i = _check_optimize_result(\n",
            "c:\\Users\\Admin\\AppData\\Local\\Programs\\Python\\Python311\\Lib\\site-packages\\sklearn\\linear_model\\_logistic.py:469: ConvergenceWarning: lbfgs failed to converge (status=1):\n",
            "STOP: TOTAL NO. of ITERATIONS REACHED LIMIT.\n",
            "\n",
            "Increase the number of iterations (max_iter) or scale the data as shown in:\n",
            "    https://scikit-learn.org/stable/modules/preprocessing.html\n",
            "Please also refer to the documentation for alternative solver options:\n",
            "    https://scikit-learn.org/stable/modules/linear_model.html#logistic-regression\n",
            "  n_iter_i = _check_optimize_result(\n",
            "c:\\Users\\Admin\\AppData\\Local\\Programs\\Python\\Python311\\Lib\\site-packages\\sklearn\\linear_model\\_logistic.py:469: ConvergenceWarning: lbfgs failed to converge (status=1):\n",
            "STOP: TOTAL NO. of ITERATIONS REACHED LIMIT.\n",
            "\n",
            "Increase the number of iterations (max_iter) or scale the data as shown in:\n",
            "    https://scikit-learn.org/stable/modules/preprocessing.html\n",
            "Please also refer to the documentation for alternative solver options:\n",
            "    https://scikit-learn.org/stable/modules/linear_model.html#logistic-regression\n",
            "  n_iter_i = _check_optimize_result(\n"
          ]
        },
        {
          "name": "stdout",
          "output_type": "stream",
          "text": [
            "LR: 0.771111 (0.108206)\n",
            "LDA: 0.781111 (0.114832)\n",
            "KNN: 0.771111 (0.125334)\n",
            "CART: 0.722222 (0.093624)\n",
            "NB: 0.631111 (0.177625)\n",
            "SVM: 0.710000 (0.118785)\n"
          ]
        }
      ],
      "source": [
        "results = []\n",
        "names = []\n",
        "for name, model in models:\n",
        "    kfold = KFold(n_splits = num_folds, random_state = None)\n",
        "    cv_results = cross_val_score(\n",
        "        model, X_train_iqit, Y_train_iqit, cv = kfold, scoring = scoring\n",
        "    )\n",
        "    results.append(cv_results)\n",
        "    names.append(name)\n",
        "    msg = \"%s: %f (%f)\" % (name, cv_results.mean(), cv_results.std())\n",
        "    print(msg)"
      ]
    },
    {
      "cell_type": "code",
      "execution_count": 25,
      "metadata": {},
      "outputs": [
        {
          "data": {
            "image/png": "[encoded data removed]",
            "text/plain": [
              "<Figure size 1000x1000 with 1 Axes>"
            ]
          },
          "metadata": {},
          "output_type": "display_data"
        }
      ],
      "source": [
        "                                                                                                                                                                                                                                                                                                                                                                                                                                                                                                                                                  import matplotlib.pyplot as plt\n",
        "fig = plt.figure(figsize=(10, 10))\n",
        "fig.suptitle(\"Algorithm Comparison\")\n",
        "ax = fig.add_subplot(111)\n",
        "pyplot.boxplot(results)\n",
        "ax.set_xticklabels(names)\n",
        "pyplot.show()"
      ]
    },
    {
      "cell_type": "code",
      "execution_count": 26,
      "metadata": {},
      "outputs": [
        {
          "name": "stdout",
          "output_type": "stream",
          "text": [
            "ScaledLR: 0.790000 (0.125063)\n",
            "ScaledLDA: 0.781111 (0.114832)\n",
            "ScaledKNN: 0.738889 (0.163318)\n",
            "ScaledCART: 0.742222 (0.097348)\n",
            "ScaledNB: 0.652222 (0.178820)\n",
            "ScaledSVM: 0.800000 (0.129386)\n"
          ]
        }
      ],
      "source": [
        "pipelines = []\n",
        "pipelines.append(\n",
        "    (\"ScaledLR\", Pipeline([(\"Scaler\", StandardScaler()), (\"LR\", LogisticRegression())]))\n",
        ")\n",
        "pipelines.append(\n",
        "    (\n",
        "        \"ScaledLDA\",\n",
        "        Pipeline([(\"Scaler\", StandardScaler()), (\"LDA\", LinearDiscriminantAnalysis())]),\n",
        "    )\n",
        ")\n",
        "pipelines.append(\n",
        "    (\n",
        "        \"ScaledKNN\",\n",
        "        Pipeline([(\"Scaler\", StandardScaler()), (\"KNN\", KNeighborsClassifier())]),\n",
        "    )\n",
        ")\n",
        "pipelines.append(\n",
        "    (\n",
        "        \"ScaledCART\",\n",
        "        Pipeline([(\"Scaler\", StandardScaler()), (\"CART\", DecisionTreeClassifier())]),\n",
        "    )\n",
        ")\n",
        "pipelines.append(\n",
        "    (\"ScaledNB\", Pipeline([(\"Scaler\", StandardScaler()), (\"NB\", GaussianNB())]))\n",
        ")\n",
        "pipelines.append(\n",
        "    (\"ScaledSVM\", Pipeline([(\"Scaler\", StandardScaler()), (\"SVM\", SVC())]))\n",
        ")\n",
        "results = []\n",
        "names = []\n",
        "for name, model in pipelines:\n",
        "    kfold = KFold(n_splits=num_folds, random_state=None)\n",
        "    cv_results = cross_val_score(\n",
        "        model, X_train_iqit, Y_train_iqit, cv=kfold, scoring=scoring\n",
        "    )\n",
        "    results.append(cv_results)\n",
        "    names.append(name)\n",
        "    msg = \"%s: %f (%f)\" % (name, cv_results.mean(), cv_results.std())\n",
        "    print(msg)"
      ]
    },
    {
      "cell_type": "markdown",
      "metadata": {},
      "source": [
        "LDA - LR - SVM"
      ]
    },
    {
      "cell_type": "code",
      "execution_count": 27,
      "metadata": {},
      "outputs": [
        {
          "name": "stderr",
          "output_type": "stream",
          "text": [
            "c:\\Users\\Admin\\AppData\\Local\\Programs\\Python\\Python311\\Lib\\site-packages\\sklearn\\ensemble\\_weight_boosting.py:527: FutureWarning: The SAMME.R algorithm (the default) is deprecated and will be removed in 1.6. Use the SAMME algorithm to circumvent this warning.\n",
            "  warnings.warn(\n",
            "c:\\Users\\Admin\\AppData\\Local\\Programs\\Python\\Python311\\Lib\\site-packages\\sklearn\\ensemble\\_weight_boosting.py:527: FutureWarning: The SAMME.R algorithm (the default) is deprecated and will be removed in 1.6. Use the SAMME algorithm to circumvent this warning.\n",
            "  warnings.warn(\n",
            "c:\\Users\\Admin\\AppData\\Local\\Programs\\Python\\Python311\\Lib\\site-packages\\sklearn\\ensemble\\_weight_boosting.py:527: FutureWarning: The SAMME.R algorithm (the default) is deprecated and will be removed in 1.6. Use the SAMME algorithm to circumvent this warning.\n",
            "  warnings.warn(\n",
            "c:\\Users\\Admin\\AppData\\Local\\Programs\\Python\\Python311\\Lib\\site-packages\\sklearn\\ensemble\\_weight_boosting.py:527: FutureWarning: The SAMME.R algorithm (the default) is deprecated and will be removed in 1.6. Use the SAMME algorithm to circumvent this warning.\n",
            "  warnings.warn(\n",
            "c:\\Users\\Admin\\AppData\\Local\\Programs\\Python\\Python311\\Lib\\site-packages\\sklearn\\ensemble\\_weight_boosting.py:527: FutureWarning: The SAMME.R algorithm (the default) is deprecated and will be removed in 1.6. Use the SAMME algorithm to circumvent this warning.\n",
            "  warnings.warn(\n",
            "c:\\Users\\Admin\\AppData\\Local\\Programs\\Python\\Python311\\Lib\\site-packages\\sklearn\\ensemble\\_weight_boosting.py:527: FutureWarning: The SAMME.R algorithm (the default) is deprecated and will be removed in 1.6. Use the SAMME algorithm to circumvent this warning.\n",
            "  warnings.warn(\n",
            "c:\\Users\\Admin\\AppData\\Local\\Programs\\Python\\Python311\\Lib\\site-packages\\sklearn\\ensemble\\_weight_boosting.py:527: FutureWarning: The SAMME.R algorithm (the default) is deprecated and will be removed in 1.6. Use the SAMME algorithm to circumvent this warning.\n",
            "  warnings.warn(\n",
            "c:\\Users\\Admin\\AppData\\Local\\Programs\\Python\\Python311\\Lib\\site-packages\\sklearn\\ensemble\\_weight_boosting.py:527: FutureWarning: The SAMME.R algorithm (the default) is deprecated and will be removed in 1.6. Use the SAMME algorithm to circumvent this warning.\n",
            "  warnings.warn(\n",
            "c:\\Users\\Admin\\AppData\\Local\\Programs\\Python\\Python311\\Lib\\site-packages\\sklearn\\ensemble\\_weight_boosting.py:527: FutureWarning: The SAMME.R algorithm (the default) is deprecated and will be removed in 1.6. Use the SAMME algorithm to circumvent this warning.\n",
            "  warnings.warn(\n",
            "c:\\Users\\Admin\\AppData\\Local\\Programs\\Python\\Python311\\Lib\\site-packages\\sklearn\\ensemble\\_weight_boosting.py:527: FutureWarning: The SAMME.R algorithm (the default) is deprecated and will be removed in 1.6. Use the SAMME algorithm to circumvent this warning.\n",
            "  warnings.warn(\n"
          ]
        },
        {
          "name": "stdout",
          "output_type": "stream",
          "text": [
            "AB: 0.637778 (0.106829)\n",
            "GBM: 0.761111 (0.109685)\n",
            "RF: 0.762222 (0.096890)\n",
            "ET: 0.793333 (0.124544)\n"
          ]
        }
      ],
      "source": [
        "ensembles = []\n",
        "ensembles.append((\"AB\", AdaBoostClassifier()))\n",
        "ensembles.append((\"GBM\", GradientBoostingClassifier()))\n",
        "ensembles.append((\"RF\", RandomForestClassifier()))\n",
        "ensembles.append((\"ET\", ExtraTreesClassifier()))\n",
        "results = []\n",
        "names = []\n",
        "for name, model in ensembles:\n",
        "    kfold = KFold(n_splits=num_folds, random_state=None)\n",
        "    cv_results = cross_val_score(\n",
        "        model, X_train_iqit, Y_train_iqit, cv=kfold, scoring=scoring\n",
        "    )\n",
        "    results.append(cv_results)\n",
        "    names.append(name)\n",
        "    msg = \"%s: %f (%f)\" % (name, cv_results.mean(), cv_results.std())\n",
        "    print(msg)"
      ]
    },
    {
      "cell_type": "code",
      "execution_count": 28,
      "metadata": {},
      "outputs": [
        {
          "data": {
            "image/png": "[encoded data removed]",
            "text/plain": [
              "<Figure size 1000x1000 with 1 Axes>"
            ]
          },
          "metadata": {},
          "output_type": "display_data"
        }
      ],
      "source": [
        "fig = pyplot.figure(figsize=(10, 10))\n",
        "fig.suptitle(\"Scaled Ensemble Algorithm Comparison\")\n",
        "ax = fig.add_subplot(111)\n",
        "pyplot.boxplot(results)\n",
        "ax.set_xticklabels(names)\n",
        "pyplot.show()"
      ]
    },
    {
      "cell_type": "markdown",
      "metadata": {},
      "source": [
        "# 5. Tuning Data"
      ]
    },
    {
      "cell_type": "code",
      "execution_count": 29,
      "metadata": {},
      "outputs": [],
      "source": [
        "# data standardization\n",
        "scaler = StandardScaler().fit(X_train_iqit)\n",
        "rescaledX = scaler.transform(X_train_iqit)"
      ]
    },
    {
      "cell_type": "code",
      "execution_count": 30,
      "metadata": {},
      "outputs": [
        {
          "name": "stdout",
          "output_type": "stream",
          "text": [
            "Best: 0.791111 using {'shrinkage': 0.8, 'solver': 'lsqr'}\n",
            "0.770000 (0.129772) with: {'shrinkage': 0.1, 'solver': 'lsqr'}\n",
            "0.770000 (0.129772) with: {'shrinkage': 0.1, 'solver': 'eigen'}\n",
            "0.750000 (0.115068) with: {'shrinkage': 0.2, 'solver': 'lsqr'}\n",
            "0.750000 (0.115068) with: {'shrinkage': 0.2, 'solver': 'eigen'}\n",
            "0.750000 (0.115068) with: {'shrinkage': 0.3, 'solver': 'lsqr'}\n",
            "0.750000 (0.115068) with: {'shrinkage': 0.3, 'solver': 'eigen'}\n",
            "0.770000 (0.121823) with: {'shrinkage': 0.4, 'solver': 'lsqr'}\n",
            "0.770000 (0.121823) with: {'shrinkage': 0.4, 'solver': 'eigen'}\n",
            "0.780000 (0.119753) with: {'shrinkage': 0.5, 'solver': 'lsqr'}\n",
            "0.780000 (0.119753) with: {'shrinkage': 0.5, 'solver': 'eigen'}\n",
            "0.790000 (0.125063) with: {'shrinkage': 0.6, 'solver': 'lsqr'}\n",
            "0.790000 (0.125063) with: {'shrinkage': 0.6, 'solver': 'eigen'}\n",
            "0.790000 (0.125063) with: {'shrinkage': 0.7, 'solver': 'lsqr'}\n",
            "0.790000 (0.125063) with: {'shrinkage': 0.7, 'solver': 'eigen'}\n",
            "0.791111 (0.102295) with: {'shrinkage': 0.8, 'solver': 'lsqr'}\n",
            "0.791111 (0.102295) with: {'shrinkage': 0.8, 'solver': 'eigen'}\n",
            "0.791111 (0.102295) with: {'shrinkage': 0.9, 'solver': 'lsqr'}\n",
            "0.791111 (0.102295) with: {'shrinkage': 0.9, 'solver': 'eigen'}\n",
            "0.771111 (0.117084) with: {'shrinkage': 0.05, 'solver': 'lsqr'}\n",
            "0.771111 (0.117084) with: {'shrinkage': 0.05, 'solver': 'eigen'}\n",
            "0.750000 (0.115068) with: {'shrinkage': 0.25, 'solver': 'lsqr'}\n",
            "0.750000 (0.115068) with: {'shrinkage': 0.25, 'solver': 'eigen'}\n",
            "0.760000 (0.123048) with: {'shrinkage': 0.15, 'solver': 'lsqr'}\n",
            "0.760000 (0.123048) with: {'shrinkage': 0.15, 'solver': 'eigen'}\n",
            "0.760000 (0.123048) with: {'shrinkage': 0.35, 'solver': 'lsqr'}\n",
            "0.760000 (0.123048) with: {'shrinkage': 0.35, 'solver': 'eigen'}\n",
            "0.780000 (0.119753) with: {'shrinkage': 0.45, 'solver': 'lsqr'}\n",
            "0.780000 (0.119753) with: {'shrinkage': 0.45, 'solver': 'eigen'}\n",
            "0.790000 (0.125063) with: {'shrinkage': 0.55, 'solver': 'lsqr'}\n",
            "0.790000 (0.125063) with: {'shrinkage': 0.55, 'solver': 'eigen'}\n",
            "0.790000 (0.125063) with: {'shrinkage': 0.65, 'solver': 'lsqr'}\n",
            "0.790000 (0.125063) with: {'shrinkage': 0.65, 'solver': 'eigen'}\n",
            "0.790000 (0.125063) with: {'shrinkage': 0.75, 'solver': 'lsqr'}\n",
            "0.790000 (0.125063) with: {'shrinkage': 0.75, 'solver': 'eigen'}\n",
            "0.791111 (0.102295) with: {'shrinkage': 0.85, 'solver': 'lsqr'}\n",
            "0.791111 (0.102295) with: {'shrinkage': 0.85, 'solver': 'eigen'}\n",
            "0.791111 (0.102295) with: {'shrinkage': 0.95, 'solver': 'lsqr'}\n",
            "0.791111 (0.102295) with: {'shrinkage': 0.95, 'solver': 'eigen'}\n"
          ]
        }
      ],
      "source": [
        "# LDA\n",
        "# Implementing Grid Search and Linear Discriminant Analysis\n",
        "# -> Finfing best parameters \n",
        "scaler = StandardScaler().fit(X_train_iqit)\n",
        "rescaledX = scaler.transform(X_train_iqit)\n",
        "shrinkage_values = [0.1, 0.2, 0.3, 0.4, 0.5, 0.6, 0.7, 0.8, 0.9, 0.05, 0.25, 0.15, 0.35, 0.45, 0.55, 0.65, 0.75, 0.85, 0.95]\n",
        "solver_values = [\"lsqr\", \"eigen\"]  # Loại bỏ 'svd' khỏi solver_values\n",
        "\n",
        "param_grid = dict(shrinkage=shrinkage_values, solver=solver_values)\n",
        "\n",
        "model = LinearDiscriminantAnalysis()\n",
        "kfold = KFold(n_splits=num_folds, random_state=None)\n",
        "grid = GridSearchCV(estimator=model, param_grid=param_grid, scoring=scoring, cv=kfold)\n",
        "grid_result = grid.fit(rescaledX, Y_train_iqit)\n",
        "print(\"Best: %f using %s\" % (grid_result.best_score_, grid_result.best_params_))\n",
        "means = grid_result.cv_results_[\"mean_test_score\"]\n",
        "stds = grid_result.cv_results_[\"std_test_score\"]\n",
        "params = grid_result.cv_results_[\"params\"]\n",
        "for mean, stdev, param in zip(means, stds, params):\n",
        "    print(\"%f (%f) with: %r\" % (mean, stdev, param))\n",
        "    \n",
        "\n",
        "## -> Here, we can get the best result. It provides the best hyperparameter for LDA model -> Helping improve and deploy the model with best performance\n",
        "### These values use for several steps: evaluation on test set, model deployment, result analysis and report"
      ]
    },
    {
      "cell_type": "code",
      "execution_count": 31,
      "metadata": {},
      "outputs": [
        {
          "name": "stderr",
          "output_type": "stream",
          "text": [
            "c:\\Users\\Admin\\AppData\\Local\\Programs\\Python\\Python311\\Lib\\site-packages\\sklearn\\linear_model\\_sag.py:349: ConvergenceWarning: The max_iter was reached which means the coef_ did not converge\n",
            "  warnings.warn(\n",
            "c:\\Users\\Admin\\AppData\\Local\\Programs\\Python\\Python311\\Lib\\site-packages\\sklearn\\linear_model\\_sag.py:349: ConvergenceWarning: The max_iter was reached which means the coef_ did not converge\n",
            "  warnings.warn(\n",
            "c:\\Users\\Admin\\AppData\\Local\\Programs\\Python\\Python311\\Lib\\site-packages\\sklearn\\linear_model\\_sag.py:349: ConvergenceWarning: The max_iter was reached which means the coef_ did not converge\n",
            "  warnings.warn(\n",
            "c:\\Users\\Admin\\AppData\\Local\\Programs\\Python\\Python311\\Lib\\site-packages\\sklearn\\linear_model\\_sag.py:349: ConvergenceWarning: The max_iter was reached which means the coef_ did not converge\n",
            "  warnings.warn(\n",
            "c:\\Users\\Admin\\AppData\\Local\\Programs\\Python\\Python311\\Lib\\site-packages\\sklearn\\linear_model\\_sag.py:349: ConvergenceWarning: The max_iter was reached which means the coef_ did not converge\n",
            "  warnings.warn(\n",
            "c:\\Users\\Admin\\AppData\\Local\\Programs\\Python\\Python311\\Lib\\site-packages\\sklearn\\linear_model\\_sag.py:349: ConvergenceWarning: The max_iter was reached which means the coef_ did not converge\n",
            "  warnings.warn(\n",
            "c:\\Users\\Admin\\AppData\\Local\\Programs\\Python\\Python311\\Lib\\site-packages\\sklearn\\linear_model\\_sag.py:349: ConvergenceWarning: The max_iter was reached which means the coef_ did not converge\n",
            "  warnings.warn(\n",
            "c:\\Users\\Admin\\AppData\\Local\\Programs\\Python\\Python311\\Lib\\site-packages\\sklearn\\linear_model\\_sag.py:349: ConvergenceWarning: The max_iter was reached which means the coef_ did not converge\n",
            "  warnings.warn(\n",
            "c:\\Users\\Admin\\AppData\\Local\\Programs\\Python\\Python311\\Lib\\site-packages\\sklearn\\linear_model\\_sag.py:349: ConvergenceWarning: The max_iter was reached which means the coef_ did not converge\n",
            "  warnings.warn(\n",
            "c:\\Users\\Admin\\AppData\\Local\\Programs\\Python\\Python311\\Lib\\site-packages\\sklearn\\linear_model\\_sag.py:349: ConvergenceWarning: The max_iter was reached which means the coef_ did not converge\n",
            "  warnings.warn(\n",
            "c:\\Users\\Admin\\AppData\\Local\\Programs\\Python\\Python311\\Lib\\site-packages\\sklearn\\linear_model\\_sag.py:349: ConvergenceWarning: The max_iter was reached which means the coef_ did not converge\n",
            "  warnings.warn(\n",
            "c:\\Users\\Admin\\AppData\\Local\\Programs\\Python\\Python311\\Lib\\site-packages\\sklearn\\linear_model\\_sag.py:349: ConvergenceWarning: The max_iter was reached which means the coef_ did not converge\n",
            "  warnings.warn(\n",
            "c:\\Users\\Admin\\AppData\\Local\\Programs\\Python\\Python311\\Lib\\site-packages\\sklearn\\linear_model\\_sag.py:349: ConvergenceWarning: The max_iter was reached which means the coef_ did not converge\n",
            "  warnings.warn(\n",
            "c:\\Users\\Admin\\AppData\\Local\\Programs\\Python\\Python311\\Lib\\site-packages\\sklearn\\linear_model\\_sag.py:349: ConvergenceWarning: The max_iter was reached which means the coef_ did not converge\n",
            "  warnings.warn(\n",
            "c:\\Users\\Admin\\AppData\\Local\\Programs\\Python\\Python311\\Lib\\site-packages\\sklearn\\linear_model\\_sag.py:349: ConvergenceWarning: The max_iter was reached which means the coef_ did not converge\n",
            "  warnings.warn(\n",
            "c:\\Users\\Admin\\AppData\\Local\\Programs\\Python\\Python311\\Lib\\site-packages\\sklearn\\linear_model\\_sag.py:349: ConvergenceWarning: The max_iter was reached which means the coef_ did not converge\n",
            "  warnings.warn(\n",
            "c:\\Users\\Admin\\AppData\\Local\\Programs\\Python\\Python311\\Lib\\site-packages\\sklearn\\linear_model\\_sag.py:349: ConvergenceWarning: The max_iter was reached which means the coef_ did not converge\n",
            "  warnings.warn(\n",
            "c:\\Users\\Admin\\AppData\\Local\\Programs\\Python\\Python311\\Lib\\site-packages\\sklearn\\linear_model\\_sag.py:349: ConvergenceWarning: The max_iter was reached which means the coef_ did not converge\n",
            "  warnings.warn(\n",
            "c:\\Users\\Admin\\AppData\\Local\\Programs\\Python\\Python311\\Lib\\site-packages\\sklearn\\linear_model\\_sag.py:349: ConvergenceWarning: The max_iter was reached which means the coef_ did not converge\n",
            "  warnings.warn(\n",
            "c:\\Users\\Admin\\AppData\\Local\\Programs\\Python\\Python311\\Lib\\site-packages\\sklearn\\linear_model\\_sag.py:349: ConvergenceWarning: The max_iter was reached which means the coef_ did not converge\n",
            "  warnings.warn(\n",
            "c:\\Users\\Admin\\AppData\\Local\\Programs\\Python\\Python311\\Lib\\site-packages\\sklearn\\linear_model\\_sag.py:349: ConvergenceWarning: The max_iter was reached which means the coef_ did not converge\n",
            "  warnings.warn(\n",
            "c:\\Users\\Admin\\AppData\\Local\\Programs\\Python\\Python311\\Lib\\site-packages\\sklearn\\linear_model\\_sag.py:349: ConvergenceWarning: The max_iter was reached which means the coef_ did not converge\n",
            "  warnings.warn(\n",
            "c:\\Users\\Admin\\AppData\\Local\\Programs\\Python\\Python311\\Lib\\site-packages\\sklearn\\linear_model\\_sag.py:349: ConvergenceWarning: The max_iter was reached which means the coef_ did not converge\n",
            "  warnings.warn(\n",
            "c:\\Users\\Admin\\AppData\\Local\\Programs\\Python\\Python311\\Lib\\site-packages\\sklearn\\linear_model\\_sag.py:349: ConvergenceWarning: The max_iter was reached which means the coef_ did not converge\n",
            "  warnings.warn(\n",
            "c:\\Users\\Admin\\AppData\\Local\\Programs\\Python\\Python311\\Lib\\site-packages\\sklearn\\linear_model\\_sag.py:349: ConvergenceWarning: The max_iter was reached which means the coef_ did not converge\n",
            "  warnings.warn(\n",
            "c:\\Users\\Admin\\AppData\\Local\\Programs\\Python\\Python311\\Lib\\site-packages\\sklearn\\linear_model\\_sag.py:349: ConvergenceWarning: The max_iter was reached which means the coef_ did not converge\n",
            "  warnings.warn(\n",
            "c:\\Users\\Admin\\AppData\\Local\\Programs\\Python\\Python311\\Lib\\site-packages\\sklearn\\linear_model\\_sag.py:349: ConvergenceWarning: The max_iter was reached which means the coef_ did not converge\n",
            "  warnings.warn(\n",
            "c:\\Users\\Admin\\AppData\\Local\\Programs\\Python\\Python311\\Lib\\site-packages\\sklearn\\linear_model\\_sag.py:349: ConvergenceWarning: The max_iter was reached which means the coef_ did not converge\n",
            "  warnings.warn(\n",
            "c:\\Users\\Admin\\AppData\\Local\\Programs\\Python\\Python311\\Lib\\site-packages\\sklearn\\linear_model\\_sag.py:349: ConvergenceWarning: The max_iter was reached which means the coef_ did not converge\n",
            "  warnings.warn(\n",
            "c:\\Users\\Admin\\AppData\\Local\\Programs\\Python\\Python311\\Lib\\site-packages\\sklearn\\linear_model\\_sag.py:349: ConvergenceWarning: The max_iter was reached which means the coef_ did not converge\n",
            "  warnings.warn(\n",
            "c:\\Users\\Admin\\AppData\\Local\\Programs\\Python\\Python311\\Lib\\site-packages\\sklearn\\linear_model\\_sag.py:349: ConvergenceWarning: The max_iter was reached which means the coef_ did not converge\n",
            "  warnings.warn(\n",
            "c:\\Users\\Admin\\AppData\\Local\\Programs\\Python\\Python311\\Lib\\site-packages\\sklearn\\linear_model\\_sag.py:349: ConvergenceWarning: The max_iter was reached which means the coef_ did not converge\n",
            "  warnings.warn(\n",
            "c:\\Users\\Admin\\AppData\\Local\\Programs\\Python\\Python311\\Lib\\site-packages\\sklearn\\linear_model\\_sag.py:349: ConvergenceWarning: The max_iter was reached which means the coef_ did not converge\n",
            "  warnings.warn(\n",
            "c:\\Users\\Admin\\AppData\\Local\\Programs\\Python\\Python311\\Lib\\site-packages\\sklearn\\linear_model\\_sag.py:349: ConvergenceWarning: The max_iter was reached which means the coef_ did not converge\n",
            "  warnings.warn(\n",
            "c:\\Users\\Admin\\AppData\\Local\\Programs\\Python\\Python311\\Lib\\site-packages\\sklearn\\linear_model\\_sag.py:349: ConvergenceWarning: The max_iter was reached which means the coef_ did not converge\n",
            "  warnings.warn(\n",
            "c:\\Users\\Admin\\AppData\\Local\\Programs\\Python\\Python311\\Lib\\site-packages\\sklearn\\linear_model\\_sag.py:349: ConvergenceWarning: The max_iter was reached which means the coef_ did not converge\n",
            "  warnings.warn(\n",
            "c:\\Users\\Admin\\AppData\\Local\\Programs\\Python\\Python311\\Lib\\site-packages\\sklearn\\linear_model\\_sag.py:349: ConvergenceWarning: The max_iter was reached which means the coef_ did not converge\n",
            "  warnings.warn(\n",
            "c:\\Users\\Admin\\AppData\\Local\\Programs\\Python\\Python311\\Lib\\site-packages\\sklearn\\linear_model\\_sag.py:349: ConvergenceWarning: The max_iter was reached which means the coef_ did not converge\n",
            "  warnings.warn(\n",
            "c:\\Users\\Admin\\AppData\\Local\\Programs\\Python\\Python311\\Lib\\site-packages\\sklearn\\linear_model\\_sag.py:349: ConvergenceWarning: The max_iter was reached which means the coef_ did not converge\n",
            "  warnings.warn(\n",
            "c:\\Users\\Admin\\AppData\\Local\\Programs\\Python\\Python311\\Lib\\site-packages\\sklearn\\linear_model\\_sag.py:349: ConvergenceWarning: The max_iter was reached which means the coef_ did not converge\n",
            "  warnings.warn(\n",
            "c:\\Users\\Admin\\AppData\\Local\\Programs\\Python\\Python311\\Lib\\site-packages\\sklearn\\linear_model\\_sag.py:349: ConvergenceWarning: The max_iter was reached which means the coef_ did not converge\n",
            "  warnings.warn(\n",
            "c:\\Users\\Admin\\AppData\\Local\\Programs\\Python\\Python311\\Lib\\site-packages\\sklearn\\linear_model\\_sag.py:349: ConvergenceWarning: The max_iter was reached which means the coef_ did not converge\n",
            "  warnings.warn(\n",
            "c:\\Users\\Admin\\AppData\\Local\\Programs\\Python\\Python311\\Lib\\site-packages\\sklearn\\linear_model\\_sag.py:349: ConvergenceWarning: The max_iter was reached which means the coef_ did not converge\n",
            "  warnings.warn(\n",
            "c:\\Users\\Admin\\AppData\\Local\\Programs\\Python\\Python311\\Lib\\site-packages\\sklearn\\linear_model\\_sag.py:349: ConvergenceWarning: The max_iter was reached which means the coef_ did not converge\n",
            "  warnings.warn(\n",
            "c:\\Users\\Admin\\AppData\\Local\\Programs\\Python\\Python311\\Lib\\site-packages\\sklearn\\linear_model\\_sag.py:349: ConvergenceWarning: The max_iter was reached which means the coef_ did not converge\n",
            "  warnings.warn(\n",
            "c:\\Users\\Admin\\AppData\\Local\\Programs\\Python\\Python311\\Lib\\site-packages\\sklearn\\linear_model\\_sag.py:349: ConvergenceWarning: The max_iter was reached which means the coef_ did not converge\n",
            "  warnings.warn(\n",
            "c:\\Users\\Admin\\AppData\\Local\\Programs\\Python\\Python311\\Lib\\site-packages\\sklearn\\linear_model\\_sag.py:349: ConvergenceWarning: The max_iter was reached which means the coef_ did not converge\n",
            "  warnings.warn(\n",
            "c:\\Users\\Admin\\AppData\\Local\\Programs\\Python\\Python311\\Lib\\site-packages\\sklearn\\linear_model\\_sag.py:349: ConvergenceWarning: The max_iter was reached which means the coef_ did not converge\n",
            "  warnings.warn(\n",
            "c:\\Users\\Admin\\AppData\\Local\\Programs\\Python\\Python311\\Lib\\site-packages\\sklearn\\linear_model\\_sag.py:349: ConvergenceWarning: The max_iter was reached which means the coef_ did not converge\n",
            "  warnings.warn(\n",
            "c:\\Users\\Admin\\AppData\\Local\\Programs\\Python\\Python311\\Lib\\site-packages\\sklearn\\linear_model\\_sag.py:349: ConvergenceWarning: The max_iter was reached which means the coef_ did not converge\n",
            "  warnings.warn(\n",
            "c:\\Users\\Admin\\AppData\\Local\\Programs\\Python\\Python311\\Lib\\site-packages\\sklearn\\linear_model\\_sag.py:349: ConvergenceWarning: The max_iter was reached which means the coef_ did not converge\n",
            "  warnings.warn(\n",
            "c:\\Users\\Admin\\AppData\\Local\\Programs\\Python\\Python311\\Lib\\site-packages\\sklearn\\linear_model\\_sag.py:349: ConvergenceWarning: The max_iter was reached which means the coef_ did not converge\n",
            "  warnings.warn(\n",
            "c:\\Users\\Admin\\AppData\\Local\\Programs\\Python\\Python311\\Lib\\site-packages\\sklearn\\linear_model\\_sag.py:349: ConvergenceWarning: The max_iter was reached which means the coef_ did not converge\n",
            "  warnings.warn(\n",
            "c:\\Users\\Admin\\AppData\\Local\\Programs\\Python\\Python311\\Lib\\site-packages\\sklearn\\linear_model\\_sag.py:349: ConvergenceWarning: The max_iter was reached which means the coef_ did not converge\n",
            "  warnings.warn(\n",
            "c:\\Users\\Admin\\AppData\\Local\\Programs\\Python\\Python311\\Lib\\site-packages\\sklearn\\linear_model\\_sag.py:349: ConvergenceWarning: The max_iter was reached which means the coef_ did not converge\n",
            "  warnings.warn(\n",
            "c:\\Users\\Admin\\AppData\\Local\\Programs\\Python\\Python311\\Lib\\site-packages\\sklearn\\linear_model\\_sag.py:349: ConvergenceWarning: The max_iter was reached which means the coef_ did not converge\n",
            "  warnings.warn(\n",
            "c:\\Users\\Admin\\AppData\\Local\\Programs\\Python\\Python311\\Lib\\site-packages\\sklearn\\linear_model\\_sag.py:349: ConvergenceWarning: The max_iter was reached which means the coef_ did not converge\n",
            "  warnings.warn(\n",
            "c:\\Users\\Admin\\AppData\\Local\\Programs\\Python\\Python311\\Lib\\site-packages\\sklearn\\linear_model\\_sag.py:349: ConvergenceWarning: The max_iter was reached which means the coef_ did not converge\n",
            "  warnings.warn(\n",
            "c:\\Users\\Admin\\AppData\\Local\\Programs\\Python\\Python311\\Lib\\site-packages\\sklearn\\linear_model\\_sag.py:349: ConvergenceWarning: The max_iter was reached which means the coef_ did not converge\n",
            "  warnings.warn(\n",
            "c:\\Users\\Admin\\AppData\\Local\\Programs\\Python\\Python311\\Lib\\site-packages\\sklearn\\linear_model\\_sag.py:349: ConvergenceWarning: The max_iter was reached which means the coef_ did not converge\n",
            "  warnings.warn(\n",
            "c:\\Users\\Admin\\AppData\\Local\\Programs\\Python\\Python311\\Lib\\site-packages\\sklearn\\linear_model\\_sag.py:349: ConvergenceWarning: The max_iter was reached which means the coef_ did not converge\n",
            "  warnings.warn(\n"
          ]
        },
        {
          "name": "stdout",
          "output_type": "stream",
          "text": [
            "Best: 0.810000 using {'C': 1e-06, 'penalty': 'l2', 'solver': 'liblinear'}\n",
            "nan (nan) with: {'C': 1e-06, 'penalty': 'none', 'solver': 'newton-cg'}\n",
            "nan (nan) with: {'C': 1e-06, 'penalty': 'none', 'solver': 'lbfgs'}\n",
            "nan (nan) with: {'C': 1e-06, 'penalty': 'none', 'solver': 'liblinear'}\n",
            "nan (nan) with: {'C': 1e-06, 'penalty': 'none', 'solver': 'sag'}\n",
            "nan (nan) with: {'C': 1e-06, 'penalty': 'none', 'solver': 'saga'}\n",
            "nan (nan) with: {'C': 1e-06, 'penalty': 'elasticnet', 'solver': 'newton-cg'}\n",
            "nan (nan) with: {'C': 1e-06, 'penalty': 'elasticnet', 'solver': 'lbfgs'}\n",
            "nan (nan) with: {'C': 1e-06, 'penalty': 'elasticnet', 'solver': 'liblinear'}\n",
            "nan (nan) with: {'C': 1e-06, 'penalty': 'elasticnet', 'solver': 'sag'}\n",
            "nan (nan) with: {'C': 1e-06, 'penalty': 'elasticnet', 'solver': 'saga'}\n",
            "nan (nan) with: {'C': 1e-06, 'penalty': 'l1', 'solver': 'newton-cg'}\n",
            "nan (nan) with: {'C': 1e-06, 'penalty': 'l1', 'solver': 'lbfgs'}\n",
            "0.116667 (0.093128) with: {'C': 1e-06, 'penalty': 'l1', 'solver': 'liblinear'}\n",
            "nan (nan) with: {'C': 1e-06, 'penalty': 'l1', 'solver': 'sag'}\n",
            "0.443333 (0.090465) with: {'C': 1e-06, 'penalty': 'l1', 'solver': 'saga'}\n",
            "0.491111 (0.186508) with: {'C': 1e-06, 'penalty': 'l2', 'solver': 'newton-cg'}\n",
            "0.491111 (0.186508) with: {'C': 1e-06, 'penalty': 'l2', 'solver': 'lbfgs'}\n",
            "0.810000 (0.140145) with: {'C': 1e-06, 'penalty': 'l2', 'solver': 'liblinear'}\n",
            "0.451111 (0.111687) with: {'C': 1e-06, 'penalty': 'l2', 'solver': 'sag'}\n",
            "0.461111 (0.111139) with: {'C': 1e-06, 'penalty': 'l2', 'solver': 'saga'}\n",
            "nan (nan) with: {'C': 1e-05, 'penalty': 'none', 'solver': 'newton-cg'}\n",
            "nan (nan) with: {'C': 1e-05, 'penalty': 'none', 'solver': 'lbfgs'}\n",
            "nan (nan) with: {'C': 1e-05, 'penalty': 'none', 'solver': 'liblinear'}\n",
            "nan (nan) with: {'C': 1e-05, 'penalty': 'none', 'solver': 'sag'}\n",
            "nan (nan) with: {'C': 1e-05, 'penalty': 'none', 'solver': 'saga'}\n",
            "nan (nan) with: {'C': 1e-05, 'penalty': 'elasticnet', 'solver': 'newton-cg'}\n",
            "nan (nan) with: {'C': 1e-05, 'penalty': 'elasticnet', 'solver': 'lbfgs'}\n",
            "nan (nan) with: {'C': 1e-05, 'penalty': 'elasticnet', 'solver': 'liblinear'}\n",
            "nan (nan) with: {'C': 1e-05, 'penalty': 'elasticnet', 'solver': 'sag'}\n",
            "nan (nan) with: {'C': 1e-05, 'penalty': 'elasticnet', 'solver': 'saga'}\n",
            "nan (nan) with: {'C': 1e-05, 'penalty': 'l1', 'solver': 'newton-cg'}\n",
            "nan (nan) with: {'C': 1e-05, 'penalty': 'l1', 'solver': 'lbfgs'}\n",
            "0.116667 (0.093128) with: {'C': 1e-05, 'penalty': 'l1', 'solver': 'liblinear'}\n",
            "nan (nan) with: {'C': 1e-05, 'penalty': 'l1', 'solver': 'sag'}\n",
            "0.473333 (0.108092) with: {'C': 1e-05, 'penalty': 'l1', 'solver': 'saga'}\n",
            "0.491111 (0.186508) with: {'C': 1e-05, 'penalty': 'l2', 'solver': 'newton-cg'}\n",
            "0.491111 (0.186508) with: {'C': 1e-05, 'penalty': 'l2', 'solver': 'lbfgs'}\n",
            "0.810000 (0.140145) with: {'C': 1e-05, 'penalty': 'l2', 'solver': 'liblinear'}\n",
            "0.481111 (0.159710) with: {'C': 1e-05, 'penalty': 'l2', 'solver': 'sag'}\n",
            "0.471111 (0.134274) with: {'C': 1e-05, 'penalty': 'l2', 'solver': 'saga'}\n",
            "nan (nan) with: {'C': 0.0001, 'penalty': 'none', 'solver': 'newton-cg'}\n",
            "nan (nan) with: {'C': 0.0001, 'penalty': 'none', 'solver': 'lbfgs'}\n",
            "nan (nan) with: {'C': 0.0001, 'penalty': 'none', 'solver': 'liblinear'}\n",
            "nan (nan) with: {'C': 0.0001, 'penalty': 'none', 'solver': 'sag'}\n",
            "nan (nan) with: {'C': 0.0001, 'penalty': 'none', 'solver': 'saga'}\n",
            "nan (nan) with: {'C': 0.0001, 'penalty': 'elasticnet', 'solver': 'newton-cg'}\n",
            "nan (nan) with: {'C': 0.0001, 'penalty': 'elasticnet', 'solver': 'lbfgs'}\n",
            "nan (nan) with: {'C': 0.0001, 'penalty': 'elasticnet', 'solver': 'liblinear'}\n",
            "nan (nan) with: {'C': 0.0001, 'penalty': 'elasticnet', 'solver': 'sag'}\n",
            "nan (nan) with: {'C': 0.0001, 'penalty': 'elasticnet', 'solver': 'saga'}\n",
            "nan (nan) with: {'C': 0.0001, 'penalty': 'l1', 'solver': 'newton-cg'}\n",
            "nan (nan) with: {'C': 0.0001, 'penalty': 'l1', 'solver': 'lbfgs'}\n",
            "0.116667 (0.093128) with: {'C': 0.0001, 'penalty': 'l1', 'solver': 'liblinear'}\n",
            "nan (nan) with: {'C': 0.0001, 'penalty': 'l1', 'solver': 'sag'}\n",
            "0.431111 (0.090103) with: {'C': 0.0001, 'penalty': 'l1', 'solver': 'saga'}\n",
            "0.491111 (0.186508) with: {'C': 0.0001, 'penalty': 'l2', 'solver': 'newton-cg'}\n",
            "0.491111 (0.186508) with: {'C': 0.0001, 'penalty': 'l2', 'solver': 'lbfgs'}\n",
            "0.810000 (0.140145) with: {'C': 0.0001, 'penalty': 'l2', 'solver': 'liblinear'}\n",
            "0.491111 (0.186508) with: {'C': 0.0001, 'penalty': 'l2', 'solver': 'sag'}\n",
            "0.491111 (0.186508) with: {'C': 0.0001, 'penalty': 'l2', 'solver': 'saga'}\n",
            "nan (nan) with: {'C': 0.001, 'penalty': 'none', 'solver': 'newton-cg'}\n",
            "nan (nan) with: {'C': 0.001, 'penalty': 'none', 'solver': 'lbfgs'}\n",
            "nan (nan) with: {'C': 0.001, 'penalty': 'none', 'solver': 'liblinear'}\n",
            "nan (nan) with: {'C': 0.001, 'penalty': 'none', 'solver': 'sag'}\n",
            "nan (nan) with: {'C': 0.001, 'penalty': 'none', 'solver': 'saga'}\n",
            "nan (nan) with: {'C': 0.001, 'penalty': 'elasticnet', 'solver': 'newton-cg'}\n",
            "nan (nan) with: {'C': 0.001, 'penalty': 'elasticnet', 'solver': 'lbfgs'}\n",
            "nan (nan) with: {'C': 0.001, 'penalty': 'elasticnet', 'solver': 'liblinear'}\n",
            "nan (nan) with: {'C': 0.001, 'penalty': 'elasticnet', 'solver': 'sag'}\n",
            "nan (nan) with: {'C': 0.001, 'penalty': 'elasticnet', 'solver': 'saga'}\n",
            "nan (nan) with: {'C': 0.001, 'penalty': 'l1', 'solver': 'newton-cg'}\n",
            "nan (nan) with: {'C': 0.001, 'penalty': 'l1', 'solver': 'lbfgs'}\n",
            "0.116667 (0.093128) with: {'C': 0.001, 'penalty': 'l1', 'solver': 'liblinear'}\n",
            "nan (nan) with: {'C': 0.001, 'penalty': 'l1', 'solver': 'sag'}\n",
            "0.390000 (0.078951) with: {'C': 0.001, 'penalty': 'l1', 'solver': 'saga'}\n",
            "0.678889 (0.125948) with: {'C': 0.001, 'penalty': 'l2', 'solver': 'newton-cg'}\n",
            "0.678889 (0.125948) with: {'C': 0.001, 'penalty': 'l2', 'solver': 'lbfgs'}\n",
            "0.810000 (0.140145) with: {'C': 0.001, 'penalty': 'l2', 'solver': 'liblinear'}\n",
            "0.678889 (0.125948) with: {'C': 0.001, 'penalty': 'l2', 'solver': 'sag'}\n",
            "0.678889 (0.125948) with: {'C': 0.001, 'penalty': 'l2', 'solver': 'saga'}\n",
            "nan (nan) with: {'C': 0.01, 'penalty': 'none', 'solver': 'newton-cg'}\n",
            "nan (nan) with: {'C': 0.01, 'penalty': 'none', 'solver': 'lbfgs'}\n",
            "nan (nan) with: {'C': 0.01, 'penalty': 'none', 'solver': 'liblinear'}\n",
            "nan (nan) with: {'C': 0.01, 'penalty': 'none', 'solver': 'sag'}\n",
            "nan (nan) with: {'C': 0.01, 'penalty': 'none', 'solver': 'saga'}\n",
            "nan (nan) with: {'C': 0.01, 'penalty': 'elasticnet', 'solver': 'newton-cg'}\n",
            "nan (nan) with: {'C': 0.01, 'penalty': 'elasticnet', 'solver': 'lbfgs'}\n",
            "nan (nan) with: {'C': 0.01, 'penalty': 'elasticnet', 'solver': 'liblinear'}\n",
            "nan (nan) with: {'C': 0.01, 'penalty': 'elasticnet', 'solver': 'sag'}\n",
            "nan (nan) with: {'C': 0.01, 'penalty': 'elasticnet', 'solver': 'saga'}\n",
            "nan (nan) with: {'C': 0.01, 'penalty': 'l1', 'solver': 'newton-cg'}\n",
            "nan (nan) with: {'C': 0.01, 'penalty': 'l1', 'solver': 'lbfgs'}\n",
            "0.116667 (0.093128) with: {'C': 0.01, 'penalty': 'l1', 'solver': 'liblinear'}\n",
            "nan (nan) with: {'C': 0.01, 'penalty': 'l1', 'solver': 'sag'}\n",
            "0.380000 (0.070238) with: {'C': 0.01, 'penalty': 'l1', 'solver': 'saga'}\n",
            "0.810000 (0.140145) with: {'C': 0.01, 'penalty': 'l2', 'solver': 'newton-cg'}\n",
            "0.810000 (0.140145) with: {'C': 0.01, 'penalty': 'l2', 'solver': 'lbfgs'}\n",
            "0.810000 (0.140145) with: {'C': 0.01, 'penalty': 'l2', 'solver': 'liblinear'}\n",
            "0.810000 (0.140145) with: {'C': 0.01, 'penalty': 'l2', 'solver': 'sag'}\n",
            "0.810000 (0.140145) with: {'C': 0.01, 'penalty': 'l2', 'solver': 'saga'}\n",
            "nan (nan) with: {'C': 0.1, 'penalty': 'none', 'solver': 'newton-cg'}\n",
            "nan (nan) with: {'C': 0.1, 'penalty': 'none', 'solver': 'lbfgs'}\n",
            "nan (nan) with: {'C': 0.1, 'penalty': 'none', 'solver': 'liblinear'}\n",
            "nan (nan) with: {'C': 0.1, 'penalty': 'none', 'solver': 'sag'}\n",
            "nan (nan) with: {'C': 0.1, 'penalty': 'none', 'solver': 'saga'}\n",
            "nan (nan) with: {'C': 0.1, 'penalty': 'elasticnet', 'solver': 'newton-cg'}\n",
            "nan (nan) with: {'C': 0.1, 'penalty': 'elasticnet', 'solver': 'lbfgs'}\n",
            "nan (nan) with: {'C': 0.1, 'penalty': 'elasticnet', 'solver': 'liblinear'}\n",
            "nan (nan) with: {'C': 0.1, 'penalty': 'elasticnet', 'solver': 'sag'}\n",
            "nan (nan) with: {'C': 0.1, 'penalty': 'elasticnet', 'solver': 'saga'}\n",
            "nan (nan) with: {'C': 0.1, 'penalty': 'l1', 'solver': 'newton-cg'}\n",
            "nan (nan) with: {'C': 0.1, 'penalty': 'l1', 'solver': 'lbfgs'}\n",
            "0.780000 (0.106782) with: {'C': 0.1, 'penalty': 'l1', 'solver': 'liblinear'}\n",
            "nan (nan) with: {'C': 0.1, 'penalty': 'l1', 'solver': 'sag'}\n",
            "0.781111 (0.114832) with: {'C': 0.1, 'penalty': 'l1', 'solver': 'saga'}\n",
            "0.790000 (0.125063) with: {'C': 0.1, 'penalty': 'l2', 'solver': 'newton-cg'}\n",
            "0.790000 (0.125063) with: {'C': 0.1, 'penalty': 'l2', 'solver': 'lbfgs'}\n",
            "0.790000 (0.125063) with: {'C': 0.1, 'penalty': 'l2', 'solver': 'liblinear'}\n",
            "0.790000 (0.125063) with: {'C': 0.1, 'penalty': 'l2', 'solver': 'sag'}\n",
            "0.790000 (0.125063) with: {'C': 0.1, 'penalty': 'l2', 'solver': 'saga'}\n",
            "nan (nan) with: {'C': 1, 'penalty': 'none', 'solver': 'newton-cg'}\n",
            "nan (nan) with: {'C': 1, 'penalty': 'none', 'solver': 'lbfgs'}\n",
            "nan (nan) with: {'C': 1, 'penalty': 'none', 'solver': 'liblinear'}\n",
            "nan (nan) with: {'C': 1, 'penalty': 'none', 'solver': 'sag'}\n",
            "nan (nan) with: {'C': 1, 'penalty': 'none', 'solver': 'saga'}\n",
            "nan (nan) with: {'C': 1, 'penalty': 'elasticnet', 'solver': 'newton-cg'}\n",
            "nan (nan) with: {'C': 1, 'penalty': 'elasticnet', 'solver': 'lbfgs'}\n",
            "nan (nan) with: {'C': 1, 'penalty': 'elasticnet', 'solver': 'liblinear'}\n",
            "nan (nan) with: {'C': 1, 'penalty': 'elasticnet', 'solver': 'sag'}\n",
            "nan (nan) with: {'C': 1, 'penalty': 'elasticnet', 'solver': 'saga'}\n",
            "nan (nan) with: {'C': 1, 'penalty': 'l1', 'solver': 'newton-cg'}\n",
            "nan (nan) with: {'C': 1, 'penalty': 'l1', 'solver': 'lbfgs'}\n",
            "0.771111 (0.108206) with: {'C': 1, 'penalty': 'l1', 'solver': 'liblinear'}\n",
            "nan (nan) with: {'C': 1, 'penalty': 'l1', 'solver': 'sag'}\n",
            "0.791111 (0.111643) with: {'C': 1, 'penalty': 'l1', 'solver': 'saga'}\n",
            "0.780000 (0.119753) with: {'C': 1, 'penalty': 'l2', 'solver': 'newton-cg'}\n",
            "0.780000 (0.119753) with: {'C': 1, 'penalty': 'l2', 'solver': 'lbfgs'}\n",
            "0.771111 (0.108206) with: {'C': 1, 'penalty': 'l2', 'solver': 'liblinear'}\n",
            "0.780000 (0.119753) with: {'C': 1, 'penalty': 'l2', 'solver': 'sag'}\n",
            "0.780000 (0.119753) with: {'C': 1, 'penalty': 'l2', 'solver': 'saga'}\n",
            "nan (nan) with: {'C': 10, 'penalty': 'none', 'solver': 'newton-cg'}\n",
            "nan (nan) with: {'C': 10, 'penalty': 'none', 'solver': 'lbfgs'}\n",
            "nan (nan) with: {'C': 10, 'penalty': 'none', 'solver': 'liblinear'}\n",
            "nan (nan) with: {'C': 10, 'penalty': 'none', 'solver': 'sag'}\n",
            "nan (nan) with: {'C': 10, 'penalty': 'none', 'solver': 'saga'}\n",
            "nan (nan) with: {'C': 10, 'penalty': 'elasticnet', 'solver': 'newton-cg'}\n",
            "nan (nan) with: {'C': 10, 'penalty': 'elasticnet', 'solver': 'lbfgs'}\n",
            "nan (nan) with: {'C': 10, 'penalty': 'elasticnet', 'solver': 'liblinear'}\n",
            "nan (nan) with: {'C': 10, 'penalty': 'elasticnet', 'solver': 'sag'}\n",
            "nan (nan) with: {'C': 10, 'penalty': 'elasticnet', 'solver': 'saga'}\n",
            "nan (nan) with: {'C': 10, 'penalty': 'l1', 'solver': 'newton-cg'}\n",
            "nan (nan) with: {'C': 10, 'penalty': 'l1', 'solver': 'lbfgs'}\n",
            "0.771111 (0.108206) with: {'C': 10, 'penalty': 'l1', 'solver': 'liblinear'}\n",
            "nan (nan) with: {'C': 10, 'penalty': 'l1', 'solver': 'sag'}\n",
            "0.770000 (0.121823) with: {'C': 10, 'penalty': 'l1', 'solver': 'saga'}\n",
            "0.770000 (0.121823) with: {'C': 10, 'penalty': 'l2', 'solver': 'newton-cg'}\n",
            "0.770000 (0.121823) with: {'C': 10, 'penalty': 'l2', 'solver': 'lbfgs'}\n",
            "0.771111 (0.108206) with: {'C': 10, 'penalty': 'l2', 'solver': 'liblinear'}\n",
            "0.770000 (0.121823) with: {'C': 10, 'penalty': 'l2', 'solver': 'sag'}\n",
            "0.770000 (0.121823) with: {'C': 10, 'penalty': 'l2', 'solver': 'saga'}\n",
            "nan (nan) with: {'C': 100, 'penalty': 'none', 'solver': 'newton-cg'}\n",
            "nan (nan) with: {'C': 100, 'penalty': 'none', 'solver': 'lbfgs'}\n",
            "nan (nan) with: {'C': 100, 'penalty': 'none', 'solver': 'liblinear'}\n",
            "nan (nan) with: {'C': 100, 'penalty': 'none', 'solver': 'sag'}\n",
            "nan (nan) with: {'C': 100, 'penalty': 'none', 'solver': 'saga'}\n",
            "nan (nan) with: {'C': 100, 'penalty': 'elasticnet', 'solver': 'newton-cg'}\n",
            "nan (nan) with: {'C': 100, 'penalty': 'elasticnet', 'solver': 'lbfgs'}\n",
            "nan (nan) with: {'C': 100, 'penalty': 'elasticnet', 'solver': 'liblinear'}\n",
            "nan (nan) with: {'C': 100, 'penalty': 'elasticnet', 'solver': 'sag'}\n",
            "nan (nan) with: {'C': 100, 'penalty': 'elasticnet', 'solver': 'saga'}\n",
            "nan (nan) with: {'C': 100, 'penalty': 'l1', 'solver': 'newton-cg'}\n",
            "nan (nan) with: {'C': 100, 'penalty': 'l1', 'solver': 'lbfgs'}\n",
            "0.771111 (0.108206) with: {'C': 100, 'penalty': 'l1', 'solver': 'liblinear'}\n",
            "nan (nan) with: {'C': 100, 'penalty': 'l1', 'solver': 'sag'}\n",
            "0.770000 (0.121823) with: {'C': 100, 'penalty': 'l1', 'solver': 'saga'}\n",
            "0.760000 (0.114633) with: {'C': 100, 'penalty': 'l2', 'solver': 'newton-cg'}\n",
            "0.760000 (0.114633) with: {'C': 100, 'penalty': 'l2', 'solver': 'lbfgs'}\n",
            "0.771111 (0.108206) with: {'C': 100, 'penalty': 'l2', 'solver': 'liblinear'}\n",
            "0.770000 (0.121823) with: {'C': 100, 'penalty': 'l2', 'solver': 'sag'}\n",
            "0.770000 (0.121823) with: {'C': 100, 'penalty': 'l2', 'solver': 'saga'}\n"
          ]
        },
        {
          "name": "stderr",
          "output_type": "stream",
          "text": [
            "c:\\Users\\Admin\\AppData\\Local\\Programs\\Python\\Python311\\Lib\\site-packages\\sklearn\\linear_model\\_sag.py:349: ConvergenceWarning: The max_iter was reached which means the coef_ did not converge\n",
            "  warnings.warn(\n",
            "c:\\Users\\Admin\\AppData\\Local\\Programs\\Python\\Python311\\Lib\\site-packages\\sklearn\\linear_model\\_sag.py:349: ConvergenceWarning: The max_iter was reached which means the coef_ did not converge\n",
            "  warnings.warn(\n",
            "c:\\Users\\Admin\\AppData\\Local\\Programs\\Python\\Python311\\Lib\\site-packages\\sklearn\\linear_model\\_sag.py:349: ConvergenceWarning: The max_iter was reached which means the coef_ did not converge\n",
            "  warnings.warn(\n",
            "c:\\Users\\Admin\\AppData\\Local\\Programs\\Python\\Python311\\Lib\\site-packages\\sklearn\\linear_model\\_sag.py:349: ConvergenceWarning: The max_iter was reached which means the coef_ did not converge\n",
            "  warnings.warn(\n",
            "c:\\Users\\Admin\\AppData\\Local\\Programs\\Python\\Python311\\Lib\\site-packages\\sklearn\\linear_model\\_sag.py:349: ConvergenceWarning: The max_iter was reached which means the coef_ did not converge\n",
            "  warnings.warn(\n",
            "c:\\Users\\Admin\\AppData\\Local\\Programs\\Python\\Python311\\Lib\\site-packages\\sklearn\\linear_model\\_sag.py:349: ConvergenceWarning: The max_iter was reached which means the coef_ did not converge\n",
            "  warnings.warn(\n",
            "c:\\Users\\Admin\\AppData\\Local\\Programs\\Python\\Python311\\Lib\\site-packages\\sklearn\\linear_model\\_sag.py:349: ConvergenceWarning: The max_iter was reached which means the coef_ did not converge\n",
            "  warnings.warn(\n",
            "c:\\Users\\Admin\\AppData\\Local\\Programs\\Python\\Python311\\Lib\\site-packages\\sklearn\\linear_model\\_sag.py:349: ConvergenceWarning: The max_iter was reached which means the coef_ did not converge\n",
            "  warnings.warn(\n",
            "c:\\Users\\Admin\\AppData\\Local\\Programs\\Python\\Python311\\Lib\\site-packages\\sklearn\\linear_model\\_sag.py:349: ConvergenceWarning: The max_iter was reached which means the coef_ did not converge\n",
            "  warnings.warn(\n",
            "c:\\Users\\Admin\\AppData\\Local\\Programs\\Python\\Python311\\Lib\\site-packages\\sklearn\\linear_model\\_sag.py:349: ConvergenceWarning: The max_iter was reached which means the coef_ did not converge\n",
            "  warnings.warn(\n",
            "c:\\Users\\Admin\\AppData\\Local\\Programs\\Python\\Python311\\Lib\\site-packages\\sklearn\\linear_model\\_sag.py:349: ConvergenceWarning: The max_iter was reached which means the coef_ did not converge\n",
            "  warnings.warn(\n",
            "c:\\Users\\Admin\\AppData\\Local\\Programs\\Python\\Python311\\Lib\\site-packages\\sklearn\\linear_model\\_sag.py:349: ConvergenceWarning: The max_iter was reached which means the coef_ did not converge\n",
            "  warnings.warn(\n",
            "c:\\Users\\Admin\\AppData\\Local\\Programs\\Python\\Python311\\Lib\\site-packages\\sklearn\\linear_model\\_sag.py:349: ConvergenceWarning: The max_iter was reached which means the coef_ did not converge\n",
            "  warnings.warn(\n",
            "c:\\Users\\Admin\\AppData\\Local\\Programs\\Python\\Python311\\Lib\\site-packages\\sklearn\\linear_model\\_sag.py:349: ConvergenceWarning: The max_iter was reached which means the coef_ did not converge\n",
            "  warnings.warn(\n",
            "c:\\Users\\Admin\\AppData\\Local\\Programs\\Python\\Python311\\Lib\\site-packages\\sklearn\\linear_model\\_sag.py:349: ConvergenceWarning: The max_iter was reached which means the coef_ did not converge\n",
            "  warnings.warn(\n",
            "c:\\Users\\Admin\\AppData\\Local\\Programs\\Python\\Python311\\Lib\\site-packages\\sklearn\\linear_model\\_sag.py:349: ConvergenceWarning: The max_iter was reached which means the coef_ did not converge\n",
            "  warnings.warn(\n",
            "c:\\Users\\Admin\\AppData\\Local\\Programs\\Python\\Python311\\Lib\\site-packages\\sklearn\\linear_model\\_sag.py:349: ConvergenceWarning: The max_iter was reached which means the coef_ did not converge\n",
            "  warnings.warn(\n",
            "c:\\Users\\Admin\\AppData\\Local\\Programs\\Python\\Python311\\Lib\\site-packages\\sklearn\\linear_model\\_sag.py:349: ConvergenceWarning: The max_iter was reached which means the coef_ did not converge\n",
            "  warnings.warn(\n",
            "c:\\Users\\Admin\\AppData\\Local\\Programs\\Python\\Python311\\Lib\\site-packages\\sklearn\\linear_model\\_sag.py:349: ConvergenceWarning: The max_iter was reached which means the coef_ did not converge\n",
            "  warnings.warn(\n",
            "c:\\Users\\Admin\\AppData\\Local\\Programs\\Python\\Python311\\Lib\\site-packages\\sklearn\\linear_model\\_sag.py:349: ConvergenceWarning: The max_iter was reached which means the coef_ did not converge\n",
            "  warnings.warn(\n",
            "c:\\Users\\Admin\\AppData\\Local\\Programs\\Python\\Python311\\Lib\\site-packages\\sklearn\\model_selection\\_validation.py:540: FitFailedWarning: \n",
            "1170 fits failed out of a total of 1800.\n",
            "The score on these train-test partitions for these parameters will be set to nan.\n",
            "If these failures are not expected, you can try to debug them by setting error_score='raise'.\n",
            "\n",
            "Below are more details about the failures:\n",
            "--------------------------------------------------------------------------------\n",
            "450 fits failed with the following error:\n",
            "Traceback (most recent call last):\n",
            "  File \"c:\\Users\\Admin\\AppData\\Local\\Programs\\Python\\Python311\\Lib\\site-packages\\sklearn\\model_selection\\_validation.py\", line 888, in _fit_and_score\n",
            "    estimator.fit(X_train, y_train, **fit_params)\n",
            "  File \"c:\\Users\\Admin\\AppData\\Local\\Programs\\Python\\Python311\\Lib\\site-packages\\sklearn\\base.py\", line 1466, in wrapper\n",
            "    estimator._validate_params()\n",
            "  File \"c:\\Users\\Admin\\AppData\\Local\\Programs\\Python\\Python311\\Lib\\site-packages\\sklearn\\base.py\", line 666, in _validate_params\n",
            "    validate_parameter_constraints(\n",
            "  File \"c:\\Users\\Admin\\AppData\\Local\\Programs\\Python\\Python311\\Lib\\site-packages\\sklearn\\utils\\_param_validation.py\", line 95, in validate_parameter_constraints\n",
            "    raise InvalidParameterError(\n",
            "sklearn.utils._param_validation.InvalidParameterError: The 'penalty' parameter of LogisticRegression must be a str among {'l1', 'l2', 'elasticnet'} or None. Got 'none' instead.\n",
            "\n",
            "--------------------------------------------------------------------------------\n",
            "90 fits failed with the following error:\n",
            "Traceback (most recent call last):\n",
            "  File \"c:\\Users\\Admin\\AppData\\Local\\Programs\\Python\\Python311\\Lib\\site-packages\\sklearn\\model_selection\\_validation.py\", line 888, in _fit_and_score\n",
            "    estimator.fit(X_train, y_train, **fit_params)\n",
            "  File \"c:\\Users\\Admin\\AppData\\Local\\Programs\\Python\\Python311\\Lib\\site-packages\\sklearn\\base.py\", line 1473, in wrapper\n",
            "    return fit_method(estimator, *args, **kwargs)\n",
            "           ^^^^^^^^^^^^^^^^^^^^^^^^^^^^^^^^^^^^^^\n",
            "  File \"c:\\Users\\Admin\\AppData\\Local\\Programs\\Python\\Python311\\Lib\\site-packages\\sklearn\\linear_model\\_logistic.py\", line 1194, in fit\n",
            "    solver = _check_solver(self.solver, self.penalty, self.dual)\n",
            "             ^^^^^^^^^^^^^^^^^^^^^^^^^^^^^^^^^^^^^^^^^^^^^^^^^^^\n",
            "  File \"c:\\Users\\Admin\\AppData\\Local\\Programs\\Python\\Python311\\Lib\\site-packages\\sklearn\\linear_model\\_logistic.py\", line 67, in _check_solver\n",
            "    raise ValueError(\n",
            "ValueError: Solver newton-cg supports only 'l2' or None penalties, got elasticnet penalty.\n",
            "\n",
            "--------------------------------------------------------------------------------\n",
            "90 fits failed with the following error:\n",
            "Traceback (most recent call last):\n",
            "  File \"c:\\Users\\Admin\\AppData\\Local\\Programs\\Python\\Python311\\Lib\\site-packages\\sklearn\\model_selection\\_validation.py\", line 888, in _fit_and_score\n",
            "    estimator.fit(X_train, y_train, **fit_params)\n",
            "  File \"c:\\Users\\Admin\\AppData\\Local\\Programs\\Python\\Python311\\Lib\\site-packages\\sklearn\\base.py\", line 1473, in wrapper\n",
            "    return fit_method(estimator, *args, **kwargs)\n",
            "           ^^^^^^^^^^^^^^^^^^^^^^^^^^^^^^^^^^^^^^\n",
            "  File \"c:\\Users\\Admin\\AppData\\Local\\Programs\\Python\\Python311\\Lib\\site-packages\\sklearn\\linear_model\\_logistic.py\", line 1194, in fit\n",
            "    solver = _check_solver(self.solver, self.penalty, self.dual)\n",
            "             ^^^^^^^^^^^^^^^^^^^^^^^^^^^^^^^^^^^^^^^^^^^^^^^^^^^\n",
            "  File \"c:\\Users\\Admin\\AppData\\Local\\Programs\\Python\\Python311\\Lib\\site-packages\\sklearn\\linear_model\\_logistic.py\", line 67, in _check_solver\n",
            "    raise ValueError(\n",
            "ValueError: Solver lbfgs supports only 'l2' or None penalties, got elasticnet penalty.\n",
            "\n",
            "--------------------------------------------------------------------------------\n",
            "90 fits failed with the following error:\n",
            "Traceback (most recent call last):\n",
            "  File \"c:\\Users\\Admin\\AppData\\Local\\Programs\\Python\\Python311\\Lib\\site-packages\\sklearn\\model_selection\\_validation.py\", line 888, in _fit_and_score\n",
            "    estimator.fit(X_train, y_train, **fit_params)\n",
            "  File \"c:\\Users\\Admin\\AppData\\Local\\Programs\\Python\\Python311\\Lib\\site-packages\\sklearn\\base.py\", line 1473, in wrapper\n",
            "    return fit_method(estimator, *args, **kwargs)\n",
            "           ^^^^^^^^^^^^^^^^^^^^^^^^^^^^^^^^^^^^^^\n",
            "  File \"c:\\Users\\Admin\\AppData\\Local\\Programs\\Python\\Python311\\Lib\\site-packages\\sklearn\\linear_model\\_logistic.py\", line 1194, in fit\n",
            "    solver = _check_solver(self.solver, self.penalty, self.dual)\n",
            "             ^^^^^^^^^^^^^^^^^^^^^^^^^^^^^^^^^^^^^^^^^^^^^^^^^^^\n",
            "  File \"c:\\Users\\Admin\\AppData\\Local\\Programs\\Python\\Python311\\Lib\\site-packages\\sklearn\\linear_model\\_logistic.py\", line 75, in _check_solver\n",
            "    raise ValueError(\n",
            "ValueError: Only 'saga' solver supports elasticnet penalty, got solver=liblinear.\n",
            "\n",
            "--------------------------------------------------------------------------------\n",
            "90 fits failed with the following error:\n",
            "Traceback (most recent call last):\n",
            "  File \"c:\\Users\\Admin\\AppData\\Local\\Programs\\Python\\Python311\\Lib\\site-packages\\sklearn\\model_selection\\_validation.py\", line 888, in _fit_and_score\n",
            "    estimator.fit(X_train, y_train, **fit_params)\n",
            "  File \"c:\\Users\\Admin\\AppData\\Local\\Programs\\Python\\Python311\\Lib\\site-packages\\sklearn\\base.py\", line 1473, in wrapper\n",
            "    return fit_method(estimator, *args, **kwargs)\n",
            "           ^^^^^^^^^^^^^^^^^^^^^^^^^^^^^^^^^^^^^^\n",
            "  File \"c:\\Users\\Admin\\AppData\\Local\\Programs\\Python\\Python311\\Lib\\site-packages\\sklearn\\linear_model\\_logistic.py\", line 1194, in fit\n",
            "    solver = _check_solver(self.solver, self.penalty, self.dual)\n",
            "             ^^^^^^^^^^^^^^^^^^^^^^^^^^^^^^^^^^^^^^^^^^^^^^^^^^^\n",
            "  File \"c:\\Users\\Admin\\AppData\\Local\\Programs\\Python\\Python311\\Lib\\site-packages\\sklearn\\linear_model\\_logistic.py\", line 67, in _check_solver\n",
            "    raise ValueError(\n",
            "ValueError: Solver sag supports only 'l2' or None penalties, got elasticnet penalty.\n",
            "\n",
            "--------------------------------------------------------------------------------\n",
            "90 fits failed with the following error:\n",
            "Traceback (most recent call last):\n",
            "  File \"c:\\Users\\Admin\\AppData\\Local\\Programs\\Python\\Python311\\Lib\\site-packages\\sklearn\\model_selection\\_validation.py\", line 888, in _fit_and_score\n",
            "    estimator.fit(X_train, y_train, **fit_params)\n",
            "  File \"c:\\Users\\Admin\\AppData\\Local\\Programs\\Python\\Python311\\Lib\\site-packages\\sklearn\\base.py\", line 1473, in wrapper\n",
            "    return fit_method(estimator, *args, **kwargs)\n",
            "           ^^^^^^^^^^^^^^^^^^^^^^^^^^^^^^^^^^^^^^\n",
            "  File \"c:\\Users\\Admin\\AppData\\Local\\Programs\\Python\\Python311\\Lib\\site-packages\\sklearn\\linear_model\\_logistic.py\", line 1204, in fit\n",
            "    raise ValueError(\"l1_ratio must be specified when penalty is elasticnet.\")\n",
            "ValueError: l1_ratio must be specified when penalty is elasticnet.\n",
            "\n",
            "--------------------------------------------------------------------------------\n",
            "90 fits failed with the following error:\n",
            "Traceback (most recent call last):\n",
            "  File \"c:\\Users\\Admin\\AppData\\Local\\Programs\\Python\\Python311\\Lib\\site-packages\\sklearn\\model_selection\\_validation.py\", line 888, in _fit_and_score\n",
            "    estimator.fit(X_train, y_train, **fit_params)\n",
            "  File \"c:\\Users\\Admin\\AppData\\Local\\Programs\\Python\\Python311\\Lib\\site-packages\\sklearn\\base.py\", line 1473, in wrapper\n",
            "    return fit_method(estimator, *args, **kwargs)\n",
            "           ^^^^^^^^^^^^^^^^^^^^^^^^^^^^^^^^^^^^^^\n",
            "  File \"c:\\Users\\Admin\\AppData\\Local\\Programs\\Python\\Python311\\Lib\\site-packages\\sklearn\\linear_model\\_logistic.py\", line 1194, in fit\n",
            "    solver = _check_solver(self.solver, self.penalty, self.dual)\n",
            "             ^^^^^^^^^^^^^^^^^^^^^^^^^^^^^^^^^^^^^^^^^^^^^^^^^^^\n",
            "  File \"c:\\Users\\Admin\\AppData\\Local\\Programs\\Python\\Python311\\Lib\\site-packages\\sklearn\\linear_model\\_logistic.py\", line 67, in _check_solver\n",
            "    raise ValueError(\n",
            "ValueError: Solver newton-cg supports only 'l2' or None penalties, got l1 penalty.\n",
            "\n",
            "--------------------------------------------------------------------------------\n",
            "90 fits failed with the following error:\n",
            "Traceback (most recent call last):\n",
            "  File \"c:\\Users\\Admin\\AppData\\Local\\Programs\\Python\\Python311\\Lib\\site-packages\\sklearn\\model_selection\\_validation.py\", line 888, in _fit_and_score\n",
            "    estimator.fit(X_train, y_train, **fit_params)\n",
            "  File \"c:\\Users\\Admin\\AppData\\Local\\Programs\\Python\\Python311\\Lib\\site-packages\\sklearn\\base.py\", line 1473, in wrapper\n",
            "    return fit_method(estimator, *args, **kwargs)\n",
            "           ^^^^^^^^^^^^^^^^^^^^^^^^^^^^^^^^^^^^^^\n",
            "  File \"c:\\Users\\Admin\\AppData\\Local\\Programs\\Python\\Python311\\Lib\\site-packages\\sklearn\\linear_model\\_logistic.py\", line 1194, in fit\n",
            "    solver = _check_solver(self.solver, self.penalty, self.dual)\n",
            "             ^^^^^^^^^^^^^^^^^^^^^^^^^^^^^^^^^^^^^^^^^^^^^^^^^^^\n",
            "  File \"c:\\Users\\Admin\\AppData\\Local\\Programs\\Python\\Python311\\Lib\\site-packages\\sklearn\\linear_model\\_logistic.py\", line 67, in _check_solver\n",
            "    raise ValueError(\n",
            "ValueError: Solver lbfgs supports only 'l2' or None penalties, got l1 penalty.\n",
            "\n",
            "--------------------------------------------------------------------------------\n",
            "90 fits failed with the following error:\n",
            "Traceback (most recent call last):\n",
            "  File \"c:\\Users\\Admin\\AppData\\Local\\Programs\\Python\\Python311\\Lib\\site-packages\\sklearn\\model_selection\\_validation.py\", line 888, in _fit_and_score\n",
            "    estimator.fit(X_train, y_train, **fit_params)\n",
            "  File \"c:\\Users\\Admin\\AppData\\Local\\Programs\\Python\\Python311\\Lib\\site-packages\\sklearn\\base.py\", line 1473, in wrapper\n",
            "    return fit_method(estimator, *args, **kwargs)\n",
            "           ^^^^^^^^^^^^^^^^^^^^^^^^^^^^^^^^^^^^^^\n",
            "  File \"c:\\Users\\Admin\\AppData\\Local\\Programs\\Python\\Python311\\Lib\\site-packages\\sklearn\\linear_model\\_logistic.py\", line 1194, in fit\n",
            "    solver = _check_solver(self.solver, self.penalty, self.dual)\n",
            "             ^^^^^^^^^^^^^^^^^^^^^^^^^^^^^^^^^^^^^^^^^^^^^^^^^^^\n",
            "  File \"c:\\Users\\Admin\\AppData\\Local\\Programs\\Python\\Python311\\Lib\\site-packages\\sklearn\\linear_model\\_logistic.py\", line 67, in _check_solver\n",
            "    raise ValueError(\n",
            "ValueError: Solver sag supports only 'l2' or None penalties, got l1 penalty.\n",
            "\n",
            "  warnings.warn(some_fits_failed_message, FitFailedWarning)\n",
            "c:\\Users\\Admin\\AppData\\Local\\Programs\\Python\\Python311\\Lib\\site-packages\\sklearn\\model_selection\\_search.py:1102: UserWarning: One or more of the test scores are non-finite: [       nan        nan        nan        nan        nan        nan\n",
            "        nan        nan        nan        nan        nan        nan\n",
            " 0.11666667        nan 0.44333333 0.49111111 0.49111111 0.81\n",
            " 0.45111111 0.46111111        nan        nan        nan        nan\n",
            "        nan        nan        nan        nan        nan        nan\n",
            "        nan        nan 0.11666667        nan 0.47333333 0.49111111\n",
            " 0.49111111 0.81       0.48111111 0.47111111        nan        nan\n",
            "        nan        nan        nan        nan        nan        nan\n",
            "        nan        nan        nan        nan 0.11666667        nan\n",
            " 0.43111111 0.49111111 0.49111111 0.81       0.49111111 0.49111111\n",
            "        nan        nan        nan        nan        nan        nan\n",
            "        nan        nan        nan        nan        nan        nan\n",
            " 0.11666667        nan 0.39       0.67888889 0.67888889 0.81\n",
            " 0.67888889 0.67888889        nan        nan        nan        nan\n",
            "        nan        nan        nan        nan        nan        nan\n",
            "        nan        nan 0.11666667        nan 0.38       0.81\n",
            " 0.81       0.81       0.81       0.81              nan        nan\n",
            "        nan        nan        nan        nan        nan        nan\n",
            "        nan        nan        nan        nan 0.78              nan\n",
            " 0.78111111 0.79       0.79       0.79       0.79       0.79\n",
            "        nan        nan        nan        nan        nan        nan\n",
            "        nan        nan        nan        nan        nan        nan\n",
            " 0.77111111        nan 0.79111111 0.78       0.78       0.77111111\n",
            " 0.78       0.78              nan        nan        nan        nan\n",
            "        nan        nan        nan        nan        nan        nan\n",
            "        nan        nan 0.77111111        nan 0.77       0.77\n",
            " 0.77       0.77111111 0.77       0.77              nan        nan\n",
            "        nan        nan        nan        nan        nan        nan\n",
            "        nan        nan        nan        nan 0.77111111        nan\n",
            " 0.77       0.76       0.76       0.77111111 0.77       0.77      ]\n",
            "  warnings.warn(\n"
          ]
        }
      ],
      "source": [
        "# LR\n",
        "solver = [\"newton-cg\", \"lbfgs\", \"liblinear\", \"sag\", \"saga\"]\n",
        "penalty = [\"none\", \"elasticnet\", \"l1\", \"l2\"]\n",
        "C = [0.000001, 0.00001, 0.0001, 0.001, 0.01, 0.1, 1, 10, 100]\n",
        "param_grid = dict(solver=solver, penalty=penalty, C=C)\n",
        "model = LogisticRegression()\n",
        "kfold = KFold(n_splits=num_folds, random_state=None)\n",
        "grid = GridSearchCV(estimator=model, param_grid=param_grid, scoring=scoring, cv=kfold)\n",
        "grid_result = grid.fit(rescaledX, Y_train_iqit)\n",
        "print(\"Best: %f using %s\" % (grid_result.best_score_, grid_result.best_params_))\n",
        "means = grid_result.cv_results_[\"mean_test_score\"]\n",
        "stds = grid_result.cv_results_[\"std_test_score\"]\n",
        "params = grid_result.cv_results_[\"params\"]\n",
        "for mean, stdev, param in zip(means, stds, params):\n",
        "    print(\"%f (%f) with: %r\" % (mean, stdev, param))"
      ]
    },
    {
      "cell_type": "code",
      "execution_count": 32,
      "metadata": {},
      "outputs": [
        {
          "name": "stdout",
          "output_type": "stream",
          "text": [
            "Best: 0.800000 using {'C': 1, 'gamma': 1, 'kernel': 'rbf'}\n",
            "0.761111 (0.109685) with: {'C': 0.1, 'gamma': 1, 'kernel': 'rbf'}\n",
            "0.781111 (0.105766) with: {'C': 0.1, 'gamma': 0.1, 'kernel': 'rbf'}\n",
            "0.471111 (0.134274) with: {'C': 0.1, 'gamma': 0.01, 'kernel': 'rbf'}\n",
            "0.471111 (0.134274) with: {'C': 0.1, 'gamma': 0.001, 'kernel': 'rbf'}\n",
            "0.471111 (0.134274) with: {'C': 0.1, 'gamma': 0.0001, 'kernel': 'rbf'}\n",
            "0.800000 (0.136897) with: {'C': 1, 'gamma': 1, 'kernel': 'rbf'}\n",
            "0.780000 (0.119753) with: {'C': 1, 'gamma': 0.1, 'kernel': 'rbf'}\n",
            "0.771111 (0.108206) with: {'C': 1, 'gamma': 0.01, 'kernel': 'rbf'}\n",
            "0.471111 (0.134274) with: {'C': 1, 'gamma': 0.001, 'kernel': 'rbf'}\n",
            "0.471111 (0.134274) with: {'C': 1, 'gamma': 0.0001, 'kernel': 'rbf'}\n",
            "0.780000 (0.135428) with: {'C': 10, 'gamma': 1, 'kernel': 'rbf'}\n",
            "0.781111 (0.123233) with: {'C': 10, 'gamma': 0.1, 'kernel': 'rbf'}\n",
            "0.780000 (0.119753) with: {'C': 10, 'gamma': 0.01, 'kernel': 'rbf'}\n",
            "0.771111 (0.108206) with: {'C': 10, 'gamma': 0.001, 'kernel': 'rbf'}\n",
            "0.471111 (0.134274) with: {'C': 10, 'gamma': 0.0001, 'kernel': 'rbf'}\n",
            "0.751111 (0.134733) with: {'C': 100, 'gamma': 1, 'kernel': 'rbf'}\n",
            "0.790000 (0.147108) with: {'C': 100, 'gamma': 0.1, 'kernel': 'rbf'}\n",
            "0.780000 (0.127831) with: {'C': 100, 'gamma': 0.01, 'kernel': 'rbf'}\n",
            "0.780000 (0.119753) with: {'C': 100, 'gamma': 0.001, 'kernel': 'rbf'}\n",
            "0.771111 (0.108206) with: {'C': 100, 'gamma': 0.0001, 'kernel': 'rbf'}\n",
            "0.703333 (0.168145) with: {'C': 1000, 'gamma': 1, 'kernel': 'rbf'}\n",
            "0.781111 (0.138515) with: {'C': 1000, 'gamma': 0.1, 'kernel': 'rbf'}\n",
            "0.780000 (0.127831) with: {'C': 1000, 'gamma': 0.01, 'kernel': 'rbf'}\n",
            "0.790000 (0.125063) with: {'C': 1000, 'gamma': 0.001, 'kernel': 'rbf'}\n",
            "0.780000 (0.119753) with: {'C': 1000, 'gamma': 0.0001, 'kernel': 'rbf'}\n",
            "0.683333 (0.154939) with: {'C': 10000, 'gamma': 1, 'kernel': 'rbf'}\n",
            "0.742222 (0.114050) with: {'C': 10000, 'gamma': 0.1, 'kernel': 'rbf'}\n",
            "0.770000 (0.129772) with: {'C': 10000, 'gamma': 0.01, 'kernel': 'rbf'}\n",
            "0.790000 (0.125063) with: {'C': 10000, 'gamma': 0.001, 'kernel': 'rbf'}\n",
            "0.790000 (0.125063) with: {'C': 10000, 'gamma': 0.0001, 'kernel': 'rbf'}\n",
            "0.663333 (0.135906) with: {'C': 100000, 'gamma': 1, 'kernel': 'rbf'}\n",
            "0.710000 (0.140145) with: {'C': 100000, 'gamma': 0.1, 'kernel': 'rbf'}\n",
            "0.761111 (0.118452) with: {'C': 100000, 'gamma': 0.01, 'kernel': 'rbf'}\n",
            "0.770000 (0.121823) with: {'C': 100000, 'gamma': 0.001, 'kernel': 'rbf'}\n",
            "0.780000 (0.119753) with: {'C': 100000, 'gamma': 0.0001, 'kernel': 'rbf'}\n",
            "0.642222 (0.151601) with: {'C': 1000000, 'gamma': 1, 'kernel': 'rbf'}\n",
            "0.692222 (0.125418) with: {'C': 1000000, 'gamma': 0.1, 'kernel': 'rbf'}\n",
            "0.771111 (0.133074) with: {'C': 1000000, 'gamma': 0.01, 'kernel': 'rbf'}\n",
            "0.740000 (0.130923) with: {'C': 1000000, 'gamma': 0.001, 'kernel': 'rbf'}\n",
            "0.770000 (0.113317) with: {'C': 1000000, 'gamma': 0.0001, 'kernel': 'rbf'}\n"
          ]
        }
      ],
      "source": [
        "# SVM\n",
        "param_grid = {\n",
        "    \"C\": [0.1, 1, 10, 100, 1000, 10000, 100000, 1000000],\n",
        "    \"gamma\": [1, 0.1, 0.01, 0.001, 0.0001],\n",
        "    \"kernel\": [\"rbf\"],\n",
        "}\n",
        "model = SVC()\n",
        "kfold = KFold(n_splits=num_folds, random_state=None)\n",
        "grid = GridSearchCV(estimator=model, param_grid=param_grid, scoring=scoring, cv=kfold)\n",
        "grid_result = grid.fit(rescaledX, Y_train_iqit)\n",
        "print(\"Best: %f using %s\" % (grid_result.best_score_, grid_result.best_params_))\n",
        "means = grid_result.cv_results_[\"mean_test_score\"]\n",
        "stds = grid_result.cv_results_[\"std_test_score\"]\n",
        "params = grid_result.cv_results_[\"params\"]\n",
        "for mean, stdev, param in zip(means, stds, params):\n",
        "    print(\"%f (%f) with: %r\" % (mean, stdev, param))"
      ]
    },
    {
      "cell_type": "code",
      "execution_count": 33,
      "metadata": {},
      "outputs": [
        {
          "name": "stdout",
          "output_type": "stream",
          "text": [
            "Best: 0.774444 using {'n_estimators': np.int64(245)}\n",
            "0.764444 (0.087319) with: {'n_estimators': np.int64(230)}\n",
            "0.764444 (0.087319) with: {'n_estimators': np.int64(235)}\n",
            "0.764444 (0.087319) with: {'n_estimators': np.int64(240)}\n",
            "0.774444 (0.096103) with: {'n_estimators': np.int64(245)}\n",
            "0.774444 (0.096103) with: {'n_estimators': np.int64(250)}\n",
            "0.774444 (0.096103) with: {'n_estimators': np.int64(255)}\n",
            "0.774444 (0.096103) with: {'n_estimators': np.int64(260)}\n",
            "0.774444 (0.096103) with: {'n_estimators': np.int64(265)}\n",
            "0.774444 (0.096103) with: {'n_estimators': np.int64(270)}\n",
            "0.774444 (0.096103) with: {'n_estimators': np.int64(275)}\n",
            "0.774444 (0.096103) with: {'n_estimators': np.int64(280)}\n"
          ]
        }
      ],
      "source": [
        "# ET\n",
        "param_grid = dict(\n",
        "    n_estimators=np.array([230, 235, 240, 245, 250, 255, 260, 265, 270, 275, 280])\n",
        ")\n",
        "model = ExtraTreesClassifier(random_state=seed)\n",
        "kfold = KFold(n_splits=num_folds, random_state=seed, shuffle=True)\n",
        "grid = GridSearchCV(estimator=model, param_grid=param_grid, scoring=scoring, cv=kfold)\n",
        "grid_result = grid.fit(rescaledX, Y_train_iqit)\n",
        "\n",
        "print(\"Best: %f using %s\" % (grid_result.best_score_, grid_result.best_params_))\n",
        "means = grid_result.cv_results_[\"mean_test_score\"]\n",
        "stds = grid_result.cv_results_[\"std_test_score\"]\n",
        "params = grid_result.cv_results_[\"params\"]\n",
        "for mean, stdev, param in zip(means, stds, params):\n",
        "    print(\"%f (%f) with: %r\" % (mean, stdev, param))"
      ]
    },
    {
      "cell_type": "code",
      "execution_count": 34,
      "metadata": {},
      "outputs": [
        {
          "name": "stdout",
          "output_type": "stream",
          "text": [
            "Best: 0.783333 using {'n_estimators': np.int64(40)}\n",
            "0.773333 (0.115384) with: {'n_estimators': np.int64(35)}\n",
            "0.783333 (0.121437) with: {'n_estimators': np.int64(40)}\n",
            "0.752222 (0.128337) with: {'n_estimators': np.int64(45)}\n",
            "0.752222 (0.128337) with: {'n_estimators': np.int64(55)}\n",
            "0.762222 (0.127773) with: {'n_estimators': np.int64(60)}\n",
            "0.762222 (0.127773) with: {'n_estimators': np.int64(65)}\n",
            "0.752222 (0.128337) with: {'n_estimators': np.int64(50)}\n",
            "0.752222 (0.128337) with: {'n_estimators': np.int64(48)}\n",
            "0.752222 (0.128337) with: {'n_estimators': np.int64(49)}\n",
            "0.752222 (0.128337) with: {'n_estimators': np.int64(51)}\n",
            "0.752222 (0.128337) with: {'n_estimators': np.int64(52)}\n"
          ]
        }
      ],
      "source": [
        "# RF\n",
        "param_grid = dict(n_estimators=np.array([35, 40, 45, 55, 60, 65, 50, 48, 49, 51, 52]))\n",
        "model = RandomForestClassifier(random_state=seed)\n",
        "kfold = KFold(n_splits=num_folds, random_state=None)\n",
        "grid = GridSearchCV(estimator=model, param_grid=param_grid, scoring=scoring, cv=kfold)\n",
        "grid_result = grid.fit(rescaledX, Y_train_iqit)\n",
        "\n",
        "print(\"Best: %f using %s\" % (grid_result.best_score_, grid_result.best_params_))\n",
        "means = grid_result.cv_results_[\"mean_test_score\"]\n",
        "stds = grid_result.cv_results_[\"std_test_score\"]\n",
        "params = grid_result.cv_results_[\"params\"]\n",
        "for mean, stdev, param in zip(means, stds, params):\n",
        "    print(\"%f (%f) with: %r\" % (mean, stdev, param))"
      ]
    },
    {
      "cell_type": "markdown",
      "metadata": {},
      "source": [
        "## Results\n",
        "- **LDA: Best: 0.029210 using {'shrinkage': 0.1, 'solver': 'lsqr'}**\n",
        "- **LR: Best: 0.031707 using {'C': 0.1, 'penalty': 'l2', 'solver': 'saga'}**\n",
        "- **SVM: Best: 0.034088 using {'C': 10, 'gamma': 0.1, 'kernel': 'rbf'}**\n",
        "- **ET: Best: 0.021893 using {'n_estimators': np.int64(230)}**\n",
        "- **RF: Best: 0.026771 using {'n_estimators': np.int64(35)}**"
      ]
    },
    {
      "cell_type": "markdown",
      "metadata": {},
      "source": [
        "# 6. Data Fitting"
      ]
    },
    {
      "cell_type": "markdown",
      "metadata": {},
      "source": [
        "## 6.1. LDA"
      ]
    },
    {
      "cell_type": "code",
      "execution_count": 35,
      "metadata": {},
      "outputs": [
        {
          "name": "stdout",
          "output_type": "stream",
          "text": [
            "0.711340206185567\n",
            "0.36363636363636365\n",
            "[[0 3 0]\n",
            " [0 4 0]\n",
            " [0 4 0]]\n",
            "              precision    recall  f1-score   support\n",
            "\n",
            "           1       0.00      0.00      0.00         3\n",
            "           2       0.36      1.00      0.53         4\n",
            "           3       0.00      0.00      0.00         4\n",
            "\n",
            "    accuracy                           0.36        11\n",
            "   macro avg       0.12      0.33      0.18        11\n",
            "weighted avg       0.13      0.36      0.19        11\n",
            "\n"
          ]
        },
        {
          "name": "stderr",
          "output_type": "stream",
          "text": [
            "c:\\Users\\Admin\\AppData\\Local\\Programs\\Python\\Python311\\Lib\\site-packages\\sklearn\\metrics\\_classification.py:1531: UndefinedMetricWarning: Precision is ill-defined and being set to 0.0 in labels with no predicted samples. Use `zero_division` parameter to control this behavior.\n",
            "  _warn_prf(average, modifier, f\"{metric.capitalize()} is\", len(result))\n",
            "c:\\Users\\Admin\\AppData\\Local\\Programs\\Python\\Python311\\Lib\\site-packages\\sklearn\\metrics\\_classification.py:1531: UndefinedMetricWarning: Precision is ill-defined and being set to 0.0 in labels with no predicted samples. Use `zero_division` parameter to control this behavior.\n",
            "  _warn_prf(average, modifier, f\"{metric.capitalize()} is\", len(result))\n",
            "c:\\Users\\Admin\\AppData\\Local\\Programs\\Python\\Python311\\Lib\\site-packages\\sklearn\\metrics\\_classification.py:1531: UndefinedMetricWarning: Precision is ill-defined and being set to 0.0 in labels with no predicted samples. Use `zero_division` parameter to control this behavior.\n",
            "  _warn_prf(average, modifier, f\"{metric.capitalize()} is\", len(result))\n"
          ]
        }
      ],
      "source": [
        "# LDA  'shrinkage': 0.1, 'solver': 'lsqr'\n",
        "modelLDA = LinearDiscriminantAnalysis(shrinkage=0.5, solver=\"lsqr\")\n",
        "modelLDA.fit(X_train_iqit, Y_train_iqit)\n",
        "predictions = modelLDA.predict(X_test_iqit)\n",
        "\n",
        "print(accuracy_score(Y_train_iqit, modelLDA.predict(X_train_iqit)))\n",
        "print(accuracy_score(Y_test_iqit, predictions))\n",
        "print(confusion_matrix(Y_test_iqit, predictions))\n",
        "print(classification_report(Y_test_iqit, predictions))"
      ]
    },
    {
      "cell_type": "markdown",
      "metadata": {},
      "source": [
        "## 6.2. LR"
      ]
    },
    {
      "cell_type": "code",
      "execution_count": 36,
      "metadata": {},
      "outputs": [
        {
          "name": "stdout",
          "output_type": "stream",
          "text": [
            "0.7938144329896907\n",
            "0.5454545454545454\n",
            "[[1 2 0]\n",
            " [0 4 0]\n",
            " [0 3 1]]\n",
            "              precision    recall  f1-score   support\n",
            "\n",
            "           1       1.00      0.33      0.50         3\n",
            "           2       0.44      1.00      0.62         4\n",
            "           3       1.00      0.25      0.40         4\n",
            "\n",
            "    accuracy                           0.55        11\n",
            "   macro avg       0.81      0.53      0.51        11\n",
            "weighted avg       0.80      0.55      0.51        11\n",
            "\n"
          ]
        }
      ],
      "source": [
        "# LR 'C': 0.1, 'penalty': 'l2', 'solver': 'saga'\n",
        "modelLG = LogisticRegression(C=10, penalty=\"l2\", solver=\"liblinear\")\n",
        "modelLG.fit(X_train_iqit, Y_train_iqit)\n",
        "predictions = modelLG.predict(X_test_iqit)\n",
        "\n",
        "print(accuracy_score(Y_train_iqit, modelLG.predict(X_train_iqit)))\n",
        "print(accuracy_score(Y_test_iqit, predictions))\n",
        "print(confusion_matrix(Y_test_iqit, predictions))\n",
        "print(classification_report(Y_test_iqit, predictions))"
      ]
    },
    {
      "cell_type": "markdown",
      "metadata": {},
      "source": [
        "## 6.3. SVM"
      ]
    },
    {
      "cell_type": "code",
      "execution_count": 37,
      "metadata": {},
      "outputs": [
        {
          "name": "stdout",
          "output_type": "stream",
          "text": [
            "1.0\n",
            "0.5454545454545454\n",
            "[[2 1 0]\n",
            " [0 4 0]\n",
            " [0 4 0]]\n",
            "              precision    recall  f1-score   support\n",
            "\n",
            "           1       1.00      0.67      0.80         3\n",
            "           2       0.44      1.00      0.62         4\n",
            "           3       0.00      0.00      0.00         4\n",
            "\n",
            "    accuracy                           0.55        11\n",
            "   macro avg       0.48      0.56      0.47        11\n",
            "weighted avg       0.43      0.55      0.44        11\n",
            "\n"
          ]
        },
        {
          "name": "stderr",
          "output_type": "stream",
          "text": [
            "c:\\Users\\Admin\\AppData\\Local\\Programs\\Python\\Python311\\Lib\\site-packages\\sklearn\\metrics\\_classification.py:1531: UndefinedMetricWarning: Precision is ill-defined and being set to 0.0 in labels with no predicted samples. Use `zero_division` parameter to control this behavior.\n",
            "  _warn_prf(average, modifier, f\"{metric.capitalize()} is\", len(result))\n",
            "c:\\Users\\Admin\\AppData\\Local\\Programs\\Python\\Python311\\Lib\\site-packages\\sklearn\\metrics\\_classification.py:1531: UndefinedMetricWarning: Precision is ill-defined and being set to 0.0 in labels with no predicted samples. Use `zero_division` parameter to control this behavior.\n",
            "  _warn_prf(average, modifier, f\"{metric.capitalize()} is\", len(result))\n",
            "c:\\Users\\Admin\\AppData\\Local\\Programs\\Python\\Python311\\Lib\\site-packages\\sklearn\\metrics\\_classification.py:1531: UndefinedMetricWarning: Precision is ill-defined and being set to 0.0 in labels with no predicted samples. Use `zero_division` parameter to control this behavior.\n",
            "  _warn_prf(average, modifier, f\"{metric.capitalize()} is\", len(result))\n"
          ]
        }
      ],
      "source": [
        "# SVM 'C': 10, 'gamma': 0.1, 'kernel': 'rbf'\n",
        "modelSVM = SVC(C=1000000, gamma=0.001, kernel=\"rbf\")\n",
        "modelSVM.fit(X_train_iqit, Y_train_iqit)\n",
        "predictions = modelSVM.predict(X_test_iqit)\n",
        "\n",
        "print(accuracy_score(Y_train_iqit, modelSVM.predict(X_train_iqit)))\n",
        "print(accuracy_score(Y_test_iqit, predictions))\n",
        "print(confusion_matrix(Y_test_iqit, predictions))\n",
        "print(classification_report(Y_test_iqit, predictions))"
      ]
    },
    {
      "cell_type": "markdown",
      "metadata": {},
      "source": [
        "## 6.4. ET"
      ]
    },
    {
      "cell_type": "code",
      "execution_count": 38,
      "metadata": {},
      "outputs": [
        {
          "name": "stdout",
          "output_type": "stream",
          "text": [
            "1.0\n",
            "0.6363636363636364\n",
            "[[1 2 0]\n",
            " [0 4 0]\n",
            " [0 2 2]]\n",
            "              precision    recall  f1-score   support\n",
            "\n",
            "           1       1.00      0.33      0.50         3\n",
            "           2       0.50      1.00      0.67         4\n",
            "           3       1.00      0.50      0.67         4\n",
            "\n",
            "    accuracy                           0.64        11\n",
            "   macro avg       0.83      0.61      0.61        11\n",
            "weighted avg       0.82      0.64      0.62        11\n",
            "\n"
          ]
        }
      ],
      "source": [
        "# ET 'n_estimators': 230\n",
        "modelET = ExtraTreesClassifier(n_estimators=250)\n",
        "modelET.fit(X_train_iqit, Y_train_iqit)\n",
        "predictions = modelET.predict(X_test_iqit)\n",
        "\n",
        "print(accuracy_score(Y_train_iqit, modelET.predict(X_train_iqit)))\n",
        "print(accuracy_score(Y_test_iqit, predictions))\n",
        "print(confusion_matrix(Y_test_iqit, predictions))\n",
        "print(classification_report(Y_test_iqit, predictions))"
      ]
    },
    {
      "cell_type": "markdown",
      "metadata": {},
      "source": [
        "## 6.5. RF"
      ]
    },
    {
      "cell_type": "code",
      "execution_count": 39,
      "metadata": {},
      "outputs": [
        {
          "name": "stdout",
          "output_type": "stream",
          "text": [
            "1.0\n",
            "0.8181818181818182\n",
            "[[2 1 0]\n",
            " [0 4 0]\n",
            " [0 1 3]]\n",
            "              precision    recall  f1-score   support\n",
            "\n",
            "           1       1.00      0.67      0.80         3\n",
            "           2       0.67      1.00      0.80         4\n",
            "           3       1.00      0.75      0.86         4\n",
            "\n",
            "    accuracy                           0.82        11\n",
            "   macro avg       0.89      0.81      0.82        11\n",
            "weighted avg       0.88      0.82      0.82        11\n",
            "\n"
          ]
        }
      ],
      "source": [
        "# RF 'n_estimators': 35'\n",
        "modelRF = RandomForestClassifier(n_estimators=51)\n",
        "modelRF.fit(X_train_iqit, Y_train_iqit)\n",
        "predictions = modelRF.predict(X_test_iqit)\n",
        "\n",
        "print(accuracy_score(Y_train_iqit, modelRF.predict(X_train_iqit)))\n",
        "print(accuracy_score(Y_test_iqit, predictions))\n",
        "print(confusion_matrix(Y_test_iqit, predictions))\n",
        "print(classification_report(Y_test_iqit, predictions))"
      ]
    },
    {
      "cell_type": "markdown",
      "metadata": {},
      "source": [
        "# 7. Apply Model"
      ]
    },
    {
      "cell_type": "code",
      "execution_count": 40,
      "metadata": {},
      "outputs": [],
      "source": [
        "iqit_test = pd.read_csv(\"../src/clone_data/IqIt_test.csv\")\n"
      ]
    },
    {
      "cell_type": "code",
      "execution_count": 41,
      "metadata": {},
      "outputs": [],
      "source": [
        "from sklearn.metrics import confusion_matrix, ConfusionMatrixDisplay\n",
        "\n",
        "X_iqit_test = iqit_test[\n",
        "    [\n",
        "        \"education_expenditure\",\n",
        "        \"avg_income\",\n",
        "        \"avg_temp\"\n",
        "    ]\n",
        "]\n",
        "Y_iqit_test = iqit_test[\"IQ_Level\"]"
      ]
    },
    {
      "cell_type": "code",
      "execution_count": 42,
      "metadata": {},
      "outputs": [
        {
          "name": "stdout",
          "output_type": "stream",
          "text": [
            "Accuracy Score: 0.7870370370370371\n",
            "Confusion Matrix:\n",
            " [[ 0 14  0]\n",
            " [ 0 46  3]\n",
            " [ 0  6 39]]\n",
            "Classification Report:\n",
            "               precision    recall  f1-score   support\n",
            "\n",
            "           1       0.00      0.00      0.00        14\n",
            "           2       0.70      0.94      0.80        49\n",
            "           3       0.93      0.87      0.90        45\n",
            "\n",
            "    accuracy                           0.79       108\n",
            "   macro avg       0.54      0.60      0.57       108\n",
            "weighted avg       0.70      0.79      0.74       108\n",
            "\n"
          ]
        },
        {
          "name": "stderr",
          "output_type": "stream",
          "text": [
            "c:\\Users\\Admin\\AppData\\Local\\Programs\\Python\\Python311\\Lib\\site-packages\\sklearn\\metrics\\_classification.py:1531: UndefinedMetricWarning: Precision is ill-defined and being set to 0.0 in labels with no predicted samples. Use `zero_division` parameter to control this behavior.\n",
            "  _warn_prf(average, modifier, f\"{metric.capitalize()} is\", len(result))\n",
            "c:\\Users\\Admin\\AppData\\Local\\Programs\\Python\\Python311\\Lib\\site-packages\\sklearn\\metrics\\_classification.py:1531: UndefinedMetricWarning: Precision is ill-defined and being set to 0.0 in labels with no predicted samples. Use `zero_division` parameter to control this behavior.\n",
            "  _warn_prf(average, modifier, f\"{metric.capitalize()} is\", len(result))\n",
            "c:\\Users\\Admin\\AppData\\Local\\Programs\\Python\\Python311\\Lib\\site-packages\\sklearn\\metrics\\_classification.py:1531: UndefinedMetricWarning: Precision is ill-defined and being set to 0.0 in labels with no predicted samples. Use `zero_division` parameter to control this behavior.\n",
            "  _warn_prf(average, modifier, f\"{metric.capitalize()} is\", len(result))\n"
          ]
        },
        {
          "data": {
            "image/png": "[encoded data removed]",
            "text/plain": [
              "<Figure size 640x480 with 2 Axes>"
            ]
          },
          "metadata": {},
          "output_type": "display_data"
        }
      ],
      "source": [
        "from sklearn.discriminant_analysis import LinearDiscriminantAnalysis\n",
        "from sklearn.metrics import accuracy_score, confusion_matrix, classification_report, ConfusionMatrixDisplay\n",
        "import matplotlib.pyplot as plt\n",
        "\n",
        "# Create and fit the LDA model\n",
        "modelLDA = LinearDiscriminantAnalysis(solver=\"lsqr\")\n",
        "modelLDA.fit(X_train_iqit, Y_train_iqit)\n",
        "\n",
        "# Make predictions\n",
        "predictions = modelLDA.predict(X_iqit_test)\n",
        "\n",
        "# Print evaluation metrics\n",
        "print(\"Accuracy Score:\", accuracy_score(Y_iqit_test, predictions))\n",
        "print(\"Confusion Matrix:\\n\", confusion_matrix(Y_iqit_test, predictions))\n",
        "print(\"Classification Report:\\n\", classification_report(Y_iqit_test, predictions))\n",
        "\n",
        "# Display confusion matrix\n",
        "disp = ConfusionMatrixDisplay(\n",
        "    confusion_matrix=confusion_matrix(Y_iqit_test, predictions),\n",
        "    display_labels=modelLDA.classes_,\n",
        ")\n",
        "disp.plot()\n",
        "plt.show()\n"
      ]
    },
    {
      "cell_type": "code",
      "execution_count": 43,
      "metadata": {},
      "outputs": [
        {
          "name": "stdout",
          "output_type": "stream",
          "text": [
            "0.7685185185185185\n",
            "[[ 1 13  0]\n",
            " [ 0 47  2]\n",
            " [ 0 10 35]]\n",
            "              precision    recall  f1-score   support\n",
            "\n",
            "           1       1.00      0.07      0.13        14\n",
            "           2       0.67      0.96      0.79        49\n",
            "           3       0.95      0.78      0.85        45\n",
            "\n",
            "    accuracy                           0.77       108\n",
            "   macro avg       0.87      0.60      0.59       108\n",
            "weighted avg       0.83      0.77      0.73       108\n",
            "\n"
          ]
        },
        {
          "data": {
            "image/png": "[encoded data removed]",
            "text/plain": [
              "<Figure size 640x480 with 2 Axes>"
            ]
          },
          "metadata": {},
          "output_type": "display_data"
        }
      ],
      "source": [
        "# LG 'C': 1e-06, 'penalty': 'none', 'solver': 'newton-cg'\n",
        "modelLG = LogisticRegression(C=10, penalty=\"l2\", solver=\"liblinear\")\n",
        "modelLG.fit(X_train_iqit, Y_train_iqit)\n",
        "predictions = modelLG.predict(X_iqit_test)\n",
        "\n",
        "print(accuracy_score(Y_iqit_test, predictions))\n",
        "print(confusion_matrix(Y_iqit_test, predictions))\n",
        "print(classification_report(Y_iqit_test, predictions))\n",
        "\n",
        "disp = ConfusionMatrixDisplay(\n",
        "    confusion_matrix=confusion_matrix(Y_iqit_test, predictions),\n",
        "    display_labels=modelLG.classes_,\n",
        ")\n",
        "t = disp.plot()\n",
        "plt.show()"
      ]
    },
    {
      "cell_type": "code",
      "execution_count": 44,
      "metadata": {},
      "outputs": [
        {
          "name": "stdout",
          "output_type": "stream",
          "text": [
            "0.9537037037037037\n",
            "[[13  1  0]\n",
            " [ 0 49  0]\n",
            " [ 0  4 41]]\n",
            "              precision    recall  f1-score   support\n",
            "\n",
            "           1       1.00      0.93      0.96        14\n",
            "           2       0.91      1.00      0.95        49\n",
            "           3       1.00      0.91      0.95        45\n",
            "\n",
            "    accuracy                           0.95       108\n",
            "   macro avg       0.97      0.95      0.96       108\n",
            "weighted avg       0.96      0.95      0.95       108\n",
            "\n"
          ]
        },
        {
          "data": {
            "image/png": "[encoded data removed]",
            "text/plain": [
              "<Figure size 640x480 with 2 Axes>"
            ]
          },
          "metadata": {},
          "output_type": "display_data"
        }
      ],
      "source": [
        "# SVM 'C': 100000, 'gamma': 0.001, 'kernel': 'rbf'\n",
        "modelSVM = SVC(C=1000000, gamma=0.001, kernel=\"rbf\")\n",
        "modelSVM.fit(X_train_iqit, Y_train_iqit)\n",
        "predictions = modelSVM.predict(X_iqit_test)\n",
        "\n",
        "print(accuracy_score(Y_iqit_test, predictions))\n",
        "print(confusion_matrix(Y_iqit_test, predictions))\n",
        "print(classification_report(Y_iqit_test, predictions))\n",
        "\n",
        "disp = ConfusionMatrixDisplay(\n",
        "    confusion_matrix=confusion_matrix(Y_iqit_test, predictions),\n",
        "    display_labels=modelSVM.classes_,\n",
        ")\n",
        "t = disp.plot()\n",
        "plt.show()"
      ]
    },
    {
      "cell_type": "code",
      "execution_count": 45,
      "metadata": {},
      "outputs": [
        {
          "name": "stdout",
          "output_type": "stream",
          "text": [
            "0.9629629629629629\n",
            "[[12  2  0]\n",
            " [ 0 49  0]\n",
            " [ 0  2 43]]\n",
            "              precision    recall  f1-score   support\n",
            "\n",
            "           1       1.00      0.86      0.92        14\n",
            "           2       0.92      1.00      0.96        49\n",
            "           3       1.00      0.96      0.98        45\n",
            "\n",
            "    accuracy                           0.96       108\n",
            "   macro avg       0.97      0.94      0.95       108\n",
            "weighted avg       0.97      0.96      0.96       108\n",
            "\n"
          ]
        },
        {
          "data": {
            "image/png": "[encoded data removed]",
            "text/plain": [
              "<Figure size 640x480 with 2 Axes>"
            ]
          },
          "metadata": {},
          "output_type": "display_data"
        }
      ],
      "source": [
        "# ET 'n_estimators': 260\n",
        "modelET = ExtraTreesClassifier(n_estimators=250)\n",
        "modelET.fit(X_train_iqit, Y_train_iqit)\n",
        "predictions = modelET.predict(X_iqit_test)\n",
        "\n",
        "print(accuracy_score(Y_iqit_test, predictions))\n",
        "print(confusion_matrix(Y_iqit_test, predictions))\n",
        "print(classification_report(Y_iqit_test, predictions))\n",
        "\n",
        "disp = ConfusionMatrixDisplay(\n",
        "    confusion_matrix=confusion_matrix(Y_iqit_test, predictions),\n",
        "    display_labels=modelET.classes_,\n",
        ")\n",
        "t = disp.plot()\n",
        "plt.show()"
      ]
    },
    {
      "cell_type": "code",
      "execution_count": 46,
      "metadata": {},
      "outputs": [
        {
          "name": "stdout",
          "output_type": "stream",
          "text": [
            "0.9814814814814815\n",
            "[[13  1  0]\n",
            " [ 0 49  0]\n",
            " [ 0  1 44]]\n",
            "              precision    recall  f1-score   support\n",
            "\n",
            "           1       1.00      0.93      0.96        14\n",
            "           2       0.96      1.00      0.98        49\n",
            "           3       1.00      0.98      0.99        45\n",
            "\n",
            "    accuracy                           0.98       108\n",
            "   macro avg       0.99      0.97      0.98       108\n",
            "weighted avg       0.98      0.98      0.98       108\n",
            "\n"
          ]
        },
        {
          "data": {
            "image/png": "[encoded data removed]",
            "text/plain": [
              "<Figure size 640x480 with 2 Axes>"
            ]
          },
          "metadata": {},
          "output_type": "display_data"
        }
      ],
      "source": [
        "# RF 'n_estimators': 55'\n",
        "modelRF = RandomForestClassifier(n_estimators=51)\n",
        "modelRF.fit(X_train_iqit, Y_train_iqit)\n",
        "predictions = modelRF.predict(X_iqit_test)\n",
        "\n",
        "print(accuracy_score(Y_iqit_test, predictions))\n",
        "print(confusion_matrix(Y_iqit_test, predictions))\n",
        "print(classification_report(Y_iqit_test, predictions))\n",
        "\n",
        "disp = ConfusionMatrixDisplay(\n",
        "    confusion_matrix=confusion_matrix(Y_iqit_test, predictions),\n",
        "    display_labels=modelRF.classes_,\n",
        ")\n",
        "t = disp.plot()\n",
        "plt.show()"
      ]
    }
  ],
  "metadata": {
    "colab": {
      "provenance": []
    },
    "kernelspec": {
      "display_name": "Python 3",
      "name": "python3"
    },
    "language_info": {
      "codemirror_mode": {
        "name": "ipython",
        "version": 3
      },
      "file_extension": ".py",
      "mimetype": "text/x-python",
      "name": "python",
      "nbconvert_exporter": "python",
      "pygments_lexer": "ipython3",
      "version": "3.11.6"
    }
  },
  "nbformat": 4,
  "nbformat_minor": 0
}
