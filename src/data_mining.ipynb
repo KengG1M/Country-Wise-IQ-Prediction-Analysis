{
  "cells": [
    {
      "cell_type": "markdown",
      "metadata": {
        "id": "CwqfyN-cpu7y"
      },
      "source": [
        "# Note :    Riêng **Colab** phải **Ctrl+S** hoặc **Save** thì mới update được nha mọi người."
      ]
    },
    {
      "cell_type": "code",
      "execution_count": 70,
      "metadata": {
        "id": "tO27aFHUZN4n"
      },
      "outputs": [],
      "source": [
        "import pandas as pd\n",
        "import numpy as np\n",
        "import matplotlib.pyplot as plt\n",
        "import seaborn as sns\n",
        "from matplotlib import pyplot\n",
        "# from sklearn.model_selection import train_test_split\n"
      ]
    },
    {
      "cell_type": "markdown",
      "metadata": {
        "id": "ZjPp3HxfZPFs"
      },
      "source": [
        "# 1.Data Preparation"
      ]
    },
    {
      "cell_type": "markdown",
      "metadata": {
        "id": "emZYd8UiZa6o"
      },
      "source": [
        "## 1.1. Data Shuffling"
      ]
    },
    {
      "cell_type": "code",
      "execution_count": null,
      "metadata": {
        "id": "UNAdR7ZbTUTJ"
      },
      "outputs": [],
      "source": []
    },
    {
      "cell_type": "markdown",
      "metadata": {
        "id": "0haNsTFoIAT0"
      },
      "source": [
        "### 1.1.1 Daily Activity\n"
      ]
    },
    {
      "cell_type": "code",
      "execution_count": 71,
      "metadata": {
        "colab": {
          "base_uri": "https://localhost:8080/",
          "height": 226
        },
        "id": "Hm_nTJ9XTXGF",
        "outputId": "2afe9376-0434-4758-8c45-81d6ed0b82cf"
      },
      "outputs": [
        {
          "data": {
            "text/html": [
              "<div>\n",
              "<style scoped>\n",
              "    .dataframe tbody tr th:only-of-type {\n",
              "        vertical-align: middle;\n",
              "    }\n",
              "\n",
              "    .dataframe tbody tr th {\n",
              "        vertical-align: top;\n",
              "    }\n",
              "\n",
              "    .dataframe thead th {\n",
              "        text-align: right;\n",
              "    }\n",
              "</style>\n",
              "<table border=\"1\" class=\"dataframe\">\n",
              "  <thead>\n",
              "    <tr style=\"text-align: right;\">\n",
              "      <th></th>\n",
              "      <th>Id</th>\n",
              "      <th>ActivityDate</th>\n",
              "      <th>TotalSteps</th>\n",
              "      <th>TotalDistance</th>\n",
              "      <th>TrackerDistance</th>\n",
              "      <th>LoggedActivitiesDistance</th>\n",
              "      <th>VeryActiveDistance</th>\n",
              "      <th>ModeratelyActiveDistance</th>\n",
              "      <th>LightActiveDistance</th>\n",
              "      <th>SedentaryActiveDistance</th>\n",
              "      <th>VeryActiveMinutes</th>\n",
              "      <th>FairlyActiveMinutes</th>\n",
              "      <th>LightlyActiveMinutes</th>\n",
              "      <th>SedentaryMinutes</th>\n",
              "      <th>Calories</th>\n",
              "    </tr>\n",
              "  </thead>\n",
              "  <tbody>\n",
              "    <tr>\n",
              "      <th>0</th>\n",
              "      <td>1503960366</td>\n",
              "      <td>3/25/2016</td>\n",
              "      <td>11004</td>\n",
              "      <td>7.11</td>\n",
              "      <td>7.11</td>\n",
              "      <td>0.0</td>\n",
              "      <td>2.57</td>\n",
              "      <td>0.46</td>\n",
              "      <td>4.07</td>\n",
              "      <td>0.0</td>\n",
              "      <td>33</td>\n",
              "      <td>12</td>\n",
              "      <td>205</td>\n",
              "      <td>804</td>\n",
              "      <td>1819</td>\n",
              "    </tr>\n",
              "    <tr>\n",
              "      <th>1</th>\n",
              "      <td>1503960366</td>\n",
              "      <td>3/26/2016</td>\n",
              "      <td>17609</td>\n",
              "      <td>11.55</td>\n",
              "      <td>11.55</td>\n",
              "      <td>0.0</td>\n",
              "      <td>6.92</td>\n",
              "      <td>0.73</td>\n",
              "      <td>3.91</td>\n",
              "      <td>0.0</td>\n",
              "      <td>89</td>\n",
              "      <td>17</td>\n",
              "      <td>274</td>\n",
              "      <td>588</td>\n",
              "      <td>2154</td>\n",
              "    </tr>\n",
              "    <tr>\n",
              "      <th>2</th>\n",
              "      <td>1503960366</td>\n",
              "      <td>3/27/2016</td>\n",
              "      <td>12736</td>\n",
              "      <td>8.53</td>\n",
              "      <td>8.53</td>\n",
              "      <td>0.0</td>\n",
              "      <td>4.66</td>\n",
              "      <td>0.16</td>\n",
              "      <td>3.71</td>\n",
              "      <td>0.0</td>\n",
              "      <td>56</td>\n",
              "      <td>5</td>\n",
              "      <td>268</td>\n",
              "      <td>605</td>\n",
              "      <td>1944</td>\n",
              "    </tr>\n",
              "    <tr>\n",
              "      <th>3</th>\n",
              "      <td>1503960366</td>\n",
              "      <td>3/28/2016</td>\n",
              "      <td>13231</td>\n",
              "      <td>8.93</td>\n",
              "      <td>8.93</td>\n",
              "      <td>0.0</td>\n",
              "      <td>3.19</td>\n",
              "      <td>0.79</td>\n",
              "      <td>4.95</td>\n",
              "      <td>0.0</td>\n",
              "      <td>39</td>\n",
              "      <td>20</td>\n",
              "      <td>224</td>\n",
              "      <td>1080</td>\n",
              "      <td>1932</td>\n",
              "    </tr>\n",
              "    <tr>\n",
              "      <th>4</th>\n",
              "      <td>1503960366</td>\n",
              "      <td>3/29/2016</td>\n",
              "      <td>12041</td>\n",
              "      <td>7.85</td>\n",
              "      <td>7.85</td>\n",
              "      <td>0.0</td>\n",
              "      <td>2.16</td>\n",
              "      <td>1.09</td>\n",
              "      <td>4.61</td>\n",
              "      <td>0.0</td>\n",
              "      <td>28</td>\n",
              "      <td>28</td>\n",
              "      <td>243</td>\n",
              "      <td>763</td>\n",
              "      <td>1886</td>\n",
              "    </tr>\n",
              "  </tbody>\n",
              "</table>\n",
              "</div>"
            ],
            "text/plain": [
              "           Id ActivityDate  TotalSteps  TotalDistance  TrackerDistance  \\\n",
              "0  1503960366    3/25/2016       11004           7.11             7.11   \n",
              "1  1503960366    3/26/2016       17609          11.55            11.55   \n",
              "2  1503960366    3/27/2016       12736           8.53             8.53   \n",
              "3  1503960366    3/28/2016       13231           8.93             8.93   \n",
              "4  1503960366    3/29/2016       12041           7.85             7.85   \n",
              "\n",
              "   LoggedActivitiesDistance  VeryActiveDistance  ModeratelyActiveDistance  \\\n",
              "0                       0.0                2.57                      0.46   \n",
              "1                       0.0                6.92                      0.73   \n",
              "2                       0.0                4.66                      0.16   \n",
              "3                       0.0                3.19                      0.79   \n",
              "4                       0.0                2.16                      1.09   \n",
              "\n",
              "   LightActiveDistance  SedentaryActiveDistance  VeryActiveMinutes  \\\n",
              "0                 4.07                      0.0                 33   \n",
              "1                 3.91                      0.0                 89   \n",
              "2                 3.71                      0.0                 56   \n",
              "3                 4.95                      0.0                 39   \n",
              "4                 4.61                      0.0                 28   \n",
              "\n",
              "   FairlyActiveMinutes  LightlyActiveMinutes  SedentaryMinutes  Calories  \n",
              "0                   12                   205               804      1819  \n",
              "1                   17                   274               588      2154  \n",
              "2                    5                   268               605      1944  \n",
              "3                   20                   224              1080      1932  \n",
              "4                   28                   243               763      1886  "
            ]
          },
          "execution_count": 71,
          "metadata": {},
          "output_type": "execute_result"
        }
      ],
      "source": [
        "# Correct URL to the raw CSV file on GitHub\n",
        "dailyActivity = pd.read_csv('../data/dailyActivity_merged.csv')\n",
        "dailyActivity.head()"
      ]
    },
    {
      "cell_type": "code",
      "execution_count": 72,
      "metadata": {
        "colab": {
          "base_uri": "https://localhost:8080/"
        },
        "id": "Vf7TYtyJZdz0",
        "outputId": "41b09c32-4b57-4eb6-c7ed-11612b3efa48"
      },
      "outputs": [
        {
          "name": "stdout",
          "output_type": "stream",
          "text": [
            "<class 'pandas.core.frame.DataFrame'>\n",
            "RangeIndex: 457 entries, 0 to 456\n",
            "Data columns (total 15 columns):\n",
            " #   Column                    Non-Null Count  Dtype  \n",
            "---  ------                    --------------  -----  \n",
            " 0   Id                        457 non-null    int64  \n",
            " 1   ActivityDate              457 non-null    object \n",
            " 2   TotalSteps                457 non-null    int64  \n",
            " 3   TotalDistance             457 non-null    float64\n",
            " 4   TrackerDistance           457 non-null    float64\n",
            " 5   LoggedActivitiesDistance  457 non-null    float64\n",
            " 6   VeryActiveDistance        457 non-null    float64\n",
            " 7   ModeratelyActiveDistance  457 non-null    float64\n",
            " 8   LightActiveDistance       457 non-null    float64\n",
            " 9   SedentaryActiveDistance   457 non-null    float64\n",
            " 10  VeryActiveMinutes         457 non-null    int64  \n",
            " 11  FairlyActiveMinutes       457 non-null    int64  \n",
            " 12  LightlyActiveMinutes      457 non-null    int64  \n",
            " 13  SedentaryMinutes          457 non-null    int64  \n",
            " 14  Calories                  457 non-null    int64  \n",
            "dtypes: float64(7), int64(7), object(1)\n",
            "memory usage: 53.7+ KB\n"
          ]
        }
      ],
      "source": [
        "dailyActivity.info()"
      ]
    },
    {
      "cell_type": "code",
      "execution_count": 73,
      "metadata": {
        "colab": {
          "base_uri": "https://localhost:8080/",
          "height": 226
        },
        "id": "MwpkzCkeZdxC",
        "outputId": "87a229e1-b192-4197-8ea8-b13cf80a704e"
      },
      "outputs": [
        {
          "data": {
            "text/html": [
              "<div>\n",
              "<style scoped>\n",
              "    .dataframe tbody tr th:only-of-type {\n",
              "        vertical-align: middle;\n",
              "    }\n",
              "\n",
              "    .dataframe tbody tr th {\n",
              "        vertical-align: top;\n",
              "    }\n",
              "\n",
              "    .dataframe thead th {\n",
              "        text-align: right;\n",
              "    }\n",
              "</style>\n",
              "<table border=\"1\" class=\"dataframe\">\n",
              "  <thead>\n",
              "    <tr style=\"text-align: right;\">\n",
              "      <th></th>\n",
              "      <th>Id</th>\n",
              "      <th>ActivityDate</th>\n",
              "      <th>TotalSteps</th>\n",
              "      <th>TotalDistance</th>\n",
              "      <th>TrackerDistance</th>\n",
              "      <th>LoggedActivitiesDistance</th>\n",
              "      <th>VeryActiveDistance</th>\n",
              "      <th>ModeratelyActiveDistance</th>\n",
              "      <th>LightActiveDistance</th>\n",
              "      <th>SedentaryActiveDistance</th>\n",
              "      <th>VeryActiveMinutes</th>\n",
              "      <th>FairlyActiveMinutes</th>\n",
              "      <th>LightlyActiveMinutes</th>\n",
              "      <th>SedentaryMinutes</th>\n",
              "      <th>Calories</th>\n",
              "    </tr>\n",
              "  </thead>\n",
              "  <tbody>\n",
              "    <tr>\n",
              "      <th>71</th>\n",
              "      <td>1927972279</td>\n",
              "      <td>4/12/2016</td>\n",
              "      <td>24</td>\n",
              "      <td>0.02</td>\n",
              "      <td>0.02</td>\n",
              "      <td>0.000000</td>\n",
              "      <td>0.00</td>\n",
              "      <td>0.00</td>\n",
              "      <td>0.02</td>\n",
              "      <td>0.00</td>\n",
              "      <td>0</td>\n",
              "      <td>0</td>\n",
              "      <td>3</td>\n",
              "      <td>161</td>\n",
              "      <td>942</td>\n",
              "    </tr>\n",
              "    <tr>\n",
              "      <th>284</th>\n",
              "      <td>4702921684</td>\n",
              "      <td>4/6/2016</td>\n",
              "      <td>7605</td>\n",
              "      <td>6.18</td>\n",
              "      <td>6.18</td>\n",
              "      <td>0.000000</td>\n",
              "      <td>0.33</td>\n",
              "      <td>0.21</td>\n",
              "      <td>5.63</td>\n",
              "      <td>0.00</td>\n",
              "      <td>4</td>\n",
              "      <td>4</td>\n",
              "      <td>248</td>\n",
              "      <td>708</td>\n",
              "      <td>2943</td>\n",
              "    </tr>\n",
              "    <tr>\n",
              "      <th>215</th>\n",
              "      <td>4057192912</td>\n",
              "      <td>3/30/2016</td>\n",
              "      <td>5419</td>\n",
              "      <td>4.00</td>\n",
              "      <td>4.57</td>\n",
              "      <td>0.055843</td>\n",
              "      <td>0.00</td>\n",
              "      <td>0.00</td>\n",
              "      <td>3.91</td>\n",
              "      <td>0.06</td>\n",
              "      <td>0</td>\n",
              "      <td>0</td>\n",
              "      <td>145</td>\n",
              "      <td>1295</td>\n",
              "      <td>2259</td>\n",
              "    </tr>\n",
              "    <tr>\n",
              "      <th>52</th>\n",
              "      <td>1844505072</td>\n",
              "      <td>4/5/2016</td>\n",
              "      <td>0</td>\n",
              "      <td>0.00</td>\n",
              "      <td>0.00</td>\n",
              "      <td>0.000000</td>\n",
              "      <td>0.00</td>\n",
              "      <td>0.00</td>\n",
              "      <td>0.00</td>\n",
              "      <td>0.00</td>\n",
              "      <td>0</td>\n",
              "      <td>0</td>\n",
              "      <td>0</td>\n",
              "      <td>1440</td>\n",
              "      <td>1347</td>\n",
              "    </tr>\n",
              "    <tr>\n",
              "      <th>240</th>\n",
              "      <td>4319703577</td>\n",
              "      <td>4/9/2016</td>\n",
              "      <td>0</td>\n",
              "      <td>0.00</td>\n",
              "      <td>0.00</td>\n",
              "      <td>0.000000</td>\n",
              "      <td>0.00</td>\n",
              "      <td>0.00</td>\n",
              "      <td>0.00</td>\n",
              "      <td>0.00</td>\n",
              "      <td>0</td>\n",
              "      <td>0</td>\n",
              "      <td>0</td>\n",
              "      <td>1440</td>\n",
              "      <td>0</td>\n",
              "    </tr>\n",
              "  </tbody>\n",
              "</table>\n",
              "</div>"
            ],
            "text/plain": [
              "             Id ActivityDate  TotalSteps  TotalDistance  TrackerDistance  \\\n",
              "71   1927972279    4/12/2016          24           0.02             0.02   \n",
              "284  4702921684     4/6/2016        7605           6.18             6.18   \n",
              "215  4057192912    3/30/2016        5419           4.00             4.57   \n",
              "52   1844505072     4/5/2016           0           0.00             0.00   \n",
              "240  4319703577     4/9/2016           0           0.00             0.00   \n",
              "\n",
              "     LoggedActivitiesDistance  VeryActiveDistance  ModeratelyActiveDistance  \\\n",
              "71                   0.000000                0.00                      0.00   \n",
              "284                  0.000000                0.33                      0.21   \n",
              "215                  0.055843                0.00                      0.00   \n",
              "52                   0.000000                0.00                      0.00   \n",
              "240                  0.000000                0.00                      0.00   \n",
              "\n",
              "     LightActiveDistance  SedentaryActiveDistance  VeryActiveMinutes  \\\n",
              "71                  0.02                     0.00                  0   \n",
              "284                 5.63                     0.00                  4   \n",
              "215                 3.91                     0.06                  0   \n",
              "52                  0.00                     0.00                  0   \n",
              "240                 0.00                     0.00                  0   \n",
              "\n",
              "     FairlyActiveMinutes  LightlyActiveMinutes  SedentaryMinutes  Calories  \n",
              "71                     0                     3               161       942  \n",
              "284                    4                   248               708      2943  \n",
              "215                    0                   145              1295      2259  \n",
              "52                     0                     0              1440      1347  \n",
              "240                    0                     0              1440         0  "
            ]
          },
          "execution_count": 73,
          "metadata": {},
          "output_type": "execute_result"
        }
      ],
      "source": [
        "from sklearn.utils import shuffle\n",
        "\n",
        "dailyActivity = shuffle(dailyActivity)\n",
        "dailyActivity.head()"
      ]
    },
    {
      "cell_type": "markdown",
      "metadata": {
        "id": "7B2z6h7JX7wL"
      },
      "source": [
        "### 1.1.2. Heart Rate Second"
      ]
    },
    {
      "cell_type": "code",
      "execution_count": 74,
      "metadata": {
        "colab": {
          "base_uri": "https://localhost:8080/",
          "height": 206
        },
        "id": "C9As_H1rchOu",
        "outputId": "49e6e206-6921-47df-dee9-cc08f1064954"
      },
      "outputs": [
        {
          "data": {
            "text/html": [
              "<div>\n",
              "<style scoped>\n",
              "    .dataframe tbody tr th:only-of-type {\n",
              "        vertical-align: middle;\n",
              "    }\n",
              "\n",
              "    .dataframe tbody tr th {\n",
              "        vertical-align: top;\n",
              "    }\n",
              "\n",
              "    .dataframe thead th {\n",
              "        text-align: right;\n",
              "    }\n",
              "</style>\n",
              "<table border=\"1\" class=\"dataframe\">\n",
              "  <thead>\n",
              "    <tr style=\"text-align: right;\">\n",
              "      <th></th>\n",
              "      <th>Id</th>\n",
              "      <th>Time</th>\n",
              "      <th>Value</th>\n",
              "    </tr>\n",
              "  </thead>\n",
              "  <tbody>\n",
              "    <tr>\n",
              "      <th>0</th>\n",
              "      <td>2022484408</td>\n",
              "      <td>4/12/2016 7:21:00 AM</td>\n",
              "      <td>97</td>\n",
              "    </tr>\n",
              "    <tr>\n",
              "      <th>1</th>\n",
              "      <td>2022484408</td>\n",
              "      <td>4/12/2016 7:21:05 AM</td>\n",
              "      <td>102</td>\n",
              "    </tr>\n",
              "    <tr>\n",
              "      <th>2</th>\n",
              "      <td>2022484408</td>\n",
              "      <td>4/12/2016 7:21:10 AM</td>\n",
              "      <td>105</td>\n",
              "    </tr>\n",
              "    <tr>\n",
              "      <th>3</th>\n",
              "      <td>2022484408</td>\n",
              "      <td>4/12/2016 7:21:20 AM</td>\n",
              "      <td>103</td>\n",
              "    </tr>\n",
              "    <tr>\n",
              "      <th>4</th>\n",
              "      <td>2022484408</td>\n",
              "      <td>4/12/2016 7:21:25 AM</td>\n",
              "      <td>101</td>\n",
              "    </tr>\n",
              "  </tbody>\n",
              "</table>\n",
              "</div>"
            ],
            "text/plain": [
              "           Id                  Time  Value\n",
              "0  2022484408  4/12/2016 7:21:00 AM     97\n",
              "1  2022484408  4/12/2016 7:21:05 AM    102\n",
              "2  2022484408  4/12/2016 7:21:10 AM    105\n",
              "3  2022484408  4/12/2016 7:21:20 AM    103\n",
              "4  2022484408  4/12/2016 7:21:25 AM    101"
            ]
          },
          "execution_count": 74,
          "metadata": {},
          "output_type": "execute_result"
        }
      ],
      "source": [
        "# Correct URL to the raw CSV file on GitHub\n",
        "heartRate = pd.read_csv('../data/heartrate_seconds_merged.csv')\n",
        "heartRate.head()"
      ]
    },
    {
      "cell_type": "code",
      "execution_count": 75,
      "metadata": {
        "colab": {
          "base_uri": "https://localhost:8080/"
        },
        "id": "HJcisJZLchJo",
        "outputId": "c354448f-5384-46af-c0cc-ffc43bc9e96d"
      },
      "outputs": [
        {
          "name": "stdout",
          "output_type": "stream",
          "text": [
            "<class 'pandas.core.frame.DataFrame'>\n",
            "RangeIndex: 2483658 entries, 0 to 2483657\n",
            "Data columns (total 3 columns):\n",
            " #   Column  Dtype \n",
            "---  ------  ----- \n",
            " 0   Id      int64 \n",
            " 1   Time    object\n",
            " 2   Value   int64 \n",
            "dtypes: int64(2), object(1)\n",
            "memory usage: 56.8+ MB\n"
          ]
        }
      ],
      "source": [
        "heartRate.info()"
      ]
    },
    {
      "cell_type": "code",
      "execution_count": 76,
      "metadata": {
        "colab": {
          "base_uri": "https://localhost:8080/",
          "height": 206
        },
        "id": "YkZE9jXfchEc",
        "outputId": "4fe91655-48a8-4399-e292-8fb4d45d601b"
      },
      "outputs": [
        {
          "data": {
            "text/html": [
              "<div>\n",
              "<style scoped>\n",
              "    .dataframe tbody tr th:only-of-type {\n",
              "        vertical-align: middle;\n",
              "    }\n",
              "\n",
              "    .dataframe tbody tr th {\n",
              "        vertical-align: top;\n",
              "    }\n",
              "\n",
              "    .dataframe thead th {\n",
              "        text-align: right;\n",
              "    }\n",
              "</style>\n",
              "<table border=\"1\" class=\"dataframe\">\n",
              "  <thead>\n",
              "    <tr style=\"text-align: right;\">\n",
              "      <th></th>\n",
              "      <th>Id</th>\n",
              "      <th>Time</th>\n",
              "      <th>Value</th>\n",
              "    </tr>\n",
              "  </thead>\n",
              "  <tbody>\n",
              "    <tr>\n",
              "      <th>1475420</th>\n",
              "      <td>5577150313</td>\n",
              "      <td>4/30/2016 7:54:35 AM</td>\n",
              "      <td>54</td>\n",
              "    </tr>\n",
              "    <tr>\n",
              "      <th>537480</th>\n",
              "      <td>4020332650</td>\n",
              "      <td>5/8/2016 9:03:53 PM</td>\n",
              "      <td>75</td>\n",
              "    </tr>\n",
              "    <tr>\n",
              "      <th>990010</th>\n",
              "      <td>4558609924</td>\n",
              "      <td>5/4/2016 8:49:35 PM</td>\n",
              "      <td>70</td>\n",
              "    </tr>\n",
              "    <tr>\n",
              "      <th>1659630</th>\n",
              "      <td>6117666160</td>\n",
              "      <td>5/2/2016 6:18:45 AM</td>\n",
              "      <td>95</td>\n",
              "    </tr>\n",
              "    <tr>\n",
              "      <th>1038935</th>\n",
              "      <td>5553957443</td>\n",
              "      <td>4/12/2016 7:56:35 AM</td>\n",
              "      <td>86</td>\n",
              "    </tr>\n",
              "  </tbody>\n",
              "</table>\n",
              "</div>"
            ],
            "text/plain": [
              "                 Id                  Time  Value\n",
              "1475420  5577150313  4/30/2016 7:54:35 AM     54\n",
              "537480   4020332650   5/8/2016 9:03:53 PM     75\n",
              "990010   4558609924   5/4/2016 8:49:35 PM     70\n",
              "1659630  6117666160   5/2/2016 6:18:45 AM     95\n",
              "1038935  5553957443  4/12/2016 7:56:35 AM     86"
            ]
          },
          "execution_count": 76,
          "metadata": {},
          "output_type": "execute_result"
        }
      ],
      "source": [
        "from sklearn.utils import shuffle\n",
        "\n",
        "heartRate = shuffle(heartRate)\n",
        "heartRate.head()"
      ]
    },
    {
      "cell_type": "code",
      "execution_count": null,
      "metadata": {
        "id": "vrUl7JTxcg7e"
      },
      "outputs": [],
      "source": []
    },
    {
      "cell_type": "markdown",
      "metadata": {
        "id": "Ym70WPqwYCTS"
      },
      "source": [
        "### 1.1.3. Hourly Calories"
      ]
    },
    {
      "cell_type": "code",
      "execution_count": 77,
      "metadata": {
        "colab": {
          "base_uri": "https://localhost:8080/",
          "height": 206
        },
        "id": "MN0pmFfmeK4p",
        "outputId": "d71a65c0-cda3-4554-cc82-332b7fdb9cc1"
      },
      "outputs": [
        {
          "data": {
            "text/html": [
              "<div>\n",
              "<style scoped>\n",
              "    .dataframe tbody tr th:only-of-type {\n",
              "        vertical-align: middle;\n",
              "    }\n",
              "\n",
              "    .dataframe tbody tr th {\n",
              "        vertical-align: top;\n",
              "    }\n",
              "\n",
              "    .dataframe thead th {\n",
              "        text-align: right;\n",
              "    }\n",
              "</style>\n",
              "<table border=\"1\" class=\"dataframe\">\n",
              "  <thead>\n",
              "    <tr style=\"text-align: right;\">\n",
              "      <th></th>\n",
              "      <th>Id</th>\n",
              "      <th>ActivityHour</th>\n",
              "      <th>Calories</th>\n",
              "    </tr>\n",
              "  </thead>\n",
              "  <tbody>\n",
              "    <tr>\n",
              "      <th>0</th>\n",
              "      <td>1503960366</td>\n",
              "      <td>3/12/2016 12:00:00 AM</td>\n",
              "      <td>48</td>\n",
              "    </tr>\n",
              "    <tr>\n",
              "      <th>1</th>\n",
              "      <td>1503960366</td>\n",
              "      <td>3/12/2016 1:00:00 AM</td>\n",
              "      <td>48</td>\n",
              "    </tr>\n",
              "    <tr>\n",
              "      <th>2</th>\n",
              "      <td>1503960366</td>\n",
              "      <td>3/12/2016 2:00:00 AM</td>\n",
              "      <td>48</td>\n",
              "    </tr>\n",
              "    <tr>\n",
              "      <th>3</th>\n",
              "      <td>1503960366</td>\n",
              "      <td>3/12/2016 3:00:00 AM</td>\n",
              "      <td>48</td>\n",
              "    </tr>\n",
              "    <tr>\n",
              "      <th>4</th>\n",
              "      <td>1503960366</td>\n",
              "      <td>3/12/2016 4:00:00 AM</td>\n",
              "      <td>48</td>\n",
              "    </tr>\n",
              "  </tbody>\n",
              "</table>\n",
              "</div>"
            ],
            "text/plain": [
              "           Id           ActivityHour  Calories\n",
              "0  1503960366  3/12/2016 12:00:00 AM        48\n",
              "1  1503960366   3/12/2016 1:00:00 AM        48\n",
              "2  1503960366   3/12/2016 2:00:00 AM        48\n",
              "3  1503960366   3/12/2016 3:00:00 AM        48\n",
              "4  1503960366   3/12/2016 4:00:00 AM        48"
            ]
          },
          "execution_count": 77,
          "metadata": {},
          "output_type": "execute_result"
        }
      ],
      "source": [
        "# Correct URL to the raw CSV file on GitHub\n",
        "hourlyCalories = pd.read_csv('../data/hourlyCalories_merged.csv')\n",
        "hourlyCalories.head()"
      ]
    },
    {
      "cell_type": "code",
      "execution_count": 78,
      "metadata": {
        "colab": {
          "base_uri": "https://localhost:8080/"
        },
        "id": "n844RqFyeK0T",
        "outputId": "0549f118-f419-4db4-c153-e1826d3b4c69"
      },
      "outputs": [
        {
          "name": "stdout",
          "output_type": "stream",
          "text": [
            "<class 'pandas.core.frame.DataFrame'>\n",
            "RangeIndex: 24084 entries, 0 to 24083\n",
            "Data columns (total 3 columns):\n",
            " #   Column        Non-Null Count  Dtype \n",
            "---  ------        --------------  ----- \n",
            " 0   Id            24084 non-null  int64 \n",
            " 1   ActivityHour  24084 non-null  object\n",
            " 2   Calories      24084 non-null  int64 \n",
            "dtypes: int64(2), object(1)\n",
            "memory usage: 564.6+ KB\n"
          ]
        }
      ],
      "source": [
        "hourlyCalories.info()"
      ]
    },
    {
      "cell_type": "code",
      "execution_count": 79,
      "metadata": {
        "colab": {
          "base_uri": "https://localhost:8080/",
          "height": 206
        },
        "id": "h2cV6JWfeKuG",
        "outputId": "e75575d0-634e-4f18-f7d8-d79e075af2e7"
      },
      "outputs": [
        {
          "data": {
            "text/html": [
              "<div>\n",
              "<style scoped>\n",
              "    .dataframe tbody tr th:only-of-type {\n",
              "        vertical-align: middle;\n",
              "    }\n",
              "\n",
              "    .dataframe tbody tr th {\n",
              "        vertical-align: top;\n",
              "    }\n",
              "\n",
              "    .dataframe thead th {\n",
              "        text-align: right;\n",
              "    }\n",
              "</style>\n",
              "<table border=\"1\" class=\"dataframe\">\n",
              "  <thead>\n",
              "    <tr style=\"text-align: right;\">\n",
              "      <th></th>\n",
              "      <th>Id</th>\n",
              "      <th>ActivityHour</th>\n",
              "      <th>Calories</th>\n",
              "    </tr>\n",
              "  </thead>\n",
              "  <tbody>\n",
              "    <tr>\n",
              "      <th>7962</th>\n",
              "      <td>3372868164</td>\n",
              "      <td>4/1/2016 10:00:00 AM</td>\n",
              "      <td>101</td>\n",
              "    </tr>\n",
              "    <tr>\n",
              "      <th>5316</th>\n",
              "      <td>2320127002</td>\n",
              "      <td>3/16/2016 6:00:00 AM</td>\n",
              "      <td>55</td>\n",
              "    </tr>\n",
              "    <tr>\n",
              "      <th>5120</th>\n",
              "      <td>2026352035</td>\n",
              "      <td>4/8/2016 12:00:00 PM</td>\n",
              "      <td>58</td>\n",
              "    </tr>\n",
              "    <tr>\n",
              "      <th>10487</th>\n",
              "      <td>4319703577</td>\n",
              "      <td>3/14/2016 10:00:00 AM</td>\n",
              "      <td>125</td>\n",
              "    </tr>\n",
              "    <tr>\n",
              "      <th>2250</th>\n",
              "      <td>1844505072</td>\n",
              "      <td>3/14/2016 3:00:00 AM</td>\n",
              "      <td>56</td>\n",
              "    </tr>\n",
              "  </tbody>\n",
              "</table>\n",
              "</div>"
            ],
            "text/plain": [
              "               Id           ActivityHour  Calories\n",
              "7962   3372868164   4/1/2016 10:00:00 AM       101\n",
              "5316   2320127002   3/16/2016 6:00:00 AM        55\n",
              "5120   2026352035   4/8/2016 12:00:00 PM        58\n",
              "10487  4319703577  3/14/2016 10:00:00 AM       125\n",
              "2250   1844505072   3/14/2016 3:00:00 AM        56"
            ]
          },
          "execution_count": 79,
          "metadata": {},
          "output_type": "execute_result"
        }
      ],
      "source": [
        "from sklearn.utils import shuffle\n",
        "\n",
        "hourlyCalories = shuffle(hourlyCalories)\n",
        "hourlyCalories.head()"
      ]
    },
    {
      "cell_type": "markdown",
      "metadata": {
        "id": "lymtP8-MYDw7"
      },
      "source": [
        "### 1.1.4. Hourly Intensities"
      ]
    },
    {
      "cell_type": "code",
      "execution_count": 80,
      "metadata": {
        "colab": {
          "base_uri": "https://localhost:8080/",
          "height": 206
        },
        "id": "JKNO4CwnesjX",
        "outputId": "77ca0b2e-e46a-46f8-8e65-c127b87fcb0f"
      },
      "outputs": [
        {
          "data": {
            "text/html": [
              "<div>\n",
              "<style scoped>\n",
              "    .dataframe tbody tr th:only-of-type {\n",
              "        vertical-align: middle;\n",
              "    }\n",
              "\n",
              "    .dataframe tbody tr th {\n",
              "        vertical-align: top;\n",
              "    }\n",
              "\n",
              "    .dataframe thead th {\n",
              "        text-align: right;\n",
              "    }\n",
              "</style>\n",
              "<table border=\"1\" class=\"dataframe\">\n",
              "  <thead>\n",
              "    <tr style=\"text-align: right;\">\n",
              "      <th></th>\n",
              "      <th>Id</th>\n",
              "      <th>ActivityHour</th>\n",
              "      <th>Calories</th>\n",
              "    </tr>\n",
              "  </thead>\n",
              "  <tbody>\n",
              "    <tr>\n",
              "      <th>0</th>\n",
              "      <td>1503960366</td>\n",
              "      <td>3/12/2016 12:00:00 AM</td>\n",
              "      <td>48</td>\n",
              "    </tr>\n",
              "    <tr>\n",
              "      <th>1</th>\n",
              "      <td>1503960366</td>\n",
              "      <td>3/12/2016 1:00:00 AM</td>\n",
              "      <td>48</td>\n",
              "    </tr>\n",
              "    <tr>\n",
              "      <th>2</th>\n",
              "      <td>1503960366</td>\n",
              "      <td>3/12/2016 2:00:00 AM</td>\n",
              "      <td>48</td>\n",
              "    </tr>\n",
              "    <tr>\n",
              "      <th>3</th>\n",
              "      <td>1503960366</td>\n",
              "      <td>3/12/2016 3:00:00 AM</td>\n",
              "      <td>48</td>\n",
              "    </tr>\n",
              "    <tr>\n",
              "      <th>4</th>\n",
              "      <td>1503960366</td>\n",
              "      <td>3/12/2016 4:00:00 AM</td>\n",
              "      <td>48</td>\n",
              "    </tr>\n",
              "  </tbody>\n",
              "</table>\n",
              "</div>"
            ],
            "text/plain": [
              "           Id           ActivityHour  Calories\n",
              "0  1503960366  3/12/2016 12:00:00 AM        48\n",
              "1  1503960366   3/12/2016 1:00:00 AM        48\n",
              "2  1503960366   3/12/2016 2:00:00 AM        48\n",
              "3  1503960366   3/12/2016 3:00:00 AM        48\n",
              "4  1503960366   3/12/2016 4:00:00 AM        48"
            ]
          },
          "execution_count": 80,
          "metadata": {},
          "output_type": "execute_result"
        }
      ],
      "source": [
        "# Correct URL to the raw CSV file on GitHub\n",
        "hourlyIntensities = pd.read_csv('../data/hourlyCalories_merged.csv')\n",
        "hourlyIntensities.head()"
      ]
    },
    {
      "cell_type": "code",
      "execution_count": 81,
      "metadata": {
        "colab": {
          "base_uri": "https://localhost:8080/"
        },
        "id": "DJUkWiTAeseS",
        "outputId": "8cd7c1e2-0e47-4781-ef46-a83ca54c6c27"
      },
      "outputs": [
        {
          "name": "stdout",
          "output_type": "stream",
          "text": [
            "<class 'pandas.core.frame.DataFrame'>\n",
            "RangeIndex: 24084 entries, 0 to 24083\n",
            "Data columns (total 3 columns):\n",
            " #   Column        Non-Null Count  Dtype \n",
            "---  ------        --------------  ----- \n",
            " 0   Id            24084 non-null  int64 \n",
            " 1   ActivityHour  24084 non-null  object\n",
            " 2   Calories      24084 non-null  int64 \n",
            "dtypes: int64(2), object(1)\n",
            "memory usage: 564.6+ KB\n"
          ]
        }
      ],
      "source": [
        "hourlyIntensities.info()"
      ]
    },
    {
      "cell_type": "code",
      "execution_count": 82,
      "metadata": {
        "colab": {
          "base_uri": "https://localhost:8080/",
          "height": 206
        },
        "id": "o-TZXMA6esZI",
        "outputId": "a9c9b03d-a338-4fee-94f8-ee9c9a05924b"
      },
      "outputs": [
        {
          "data": {
            "text/html": [
              "<div>\n",
              "<style scoped>\n",
              "    .dataframe tbody tr th:only-of-type {\n",
              "        vertical-align: middle;\n",
              "    }\n",
              "\n",
              "    .dataframe tbody tr th {\n",
              "        vertical-align: top;\n",
              "    }\n",
              "\n",
              "    .dataframe thead th {\n",
              "        text-align: right;\n",
              "    }\n",
              "</style>\n",
              "<table border=\"1\" class=\"dataframe\">\n",
              "  <thead>\n",
              "    <tr style=\"text-align: right;\">\n",
              "      <th></th>\n",
              "      <th>Id</th>\n",
              "      <th>ActivityHour</th>\n",
              "      <th>Calories</th>\n",
              "    </tr>\n",
              "  </thead>\n",
              "  <tbody>\n",
              "    <tr>\n",
              "      <th>8230</th>\n",
              "      <td>3977333714</td>\n",
              "      <td>3/13/2016 11:00:00 PM</td>\n",
              "      <td>49</td>\n",
              "    </tr>\n",
              "    <tr>\n",
              "      <th>21970</th>\n",
              "      <td>8583815059</td>\n",
              "      <td>3/14/2016 11:00:00 AM</td>\n",
              "      <td>111</td>\n",
              "    </tr>\n",
              "    <tr>\n",
              "      <th>11074</th>\n",
              "      <td>4319703577</td>\n",
              "      <td>4/7/2016 9:00:00 PM</td>\n",
              "      <td>75</td>\n",
              "    </tr>\n",
              "    <tr>\n",
              "      <th>7253</th>\n",
              "      <td>2873212765</td>\n",
              "      <td>4/3/2016 5:00:00 AM</td>\n",
              "      <td>52</td>\n",
              "    </tr>\n",
              "    <tr>\n",
              "      <th>19961</th>\n",
              "      <td>8053475328</td>\n",
              "      <td>3/24/2016 10:00:00 AM</td>\n",
              "      <td>73</td>\n",
              "    </tr>\n",
              "  </tbody>\n",
              "</table>\n",
              "</div>"
            ],
            "text/plain": [
              "               Id           ActivityHour  Calories\n",
              "8230   3977333714  3/13/2016 11:00:00 PM        49\n",
              "21970  8583815059  3/14/2016 11:00:00 AM       111\n",
              "11074  4319703577    4/7/2016 9:00:00 PM        75\n",
              "7253   2873212765    4/3/2016 5:00:00 AM        52\n",
              "19961  8053475328  3/24/2016 10:00:00 AM        73"
            ]
          },
          "execution_count": 82,
          "metadata": {},
          "output_type": "execute_result"
        }
      ],
      "source": [
        "from sklearn.utils import shuffle\n",
        "\n",
        "hourlyIntensities = shuffle(hourlyIntensities)\n",
        "hourlyIntensities.head()"
      ]
    },
    {
      "cell_type": "markdown",
      "metadata": {
        "id": "TQWHRQEhYEJN"
      },
      "source": [
        "### 1.1.5. Sleep Day"
      ]
    },
    {
      "cell_type": "code",
      "execution_count": 83,
      "metadata": {
        "colab": {
          "base_uri": "https://localhost:8080/",
          "height": 206
        },
        "id": "7-R2_A_Efhml",
        "outputId": "383284a6-6b44-49fe-f155-82ab452a6218"
      },
      "outputs": [
        {
          "data": {
            "text/html": [
              "<div>\n",
              "<style scoped>\n",
              "    .dataframe tbody tr th:only-of-type {\n",
              "        vertical-align: middle;\n",
              "    }\n",
              "\n",
              "    .dataframe tbody tr th {\n",
              "        vertical-align: top;\n",
              "    }\n",
              "\n",
              "    .dataframe thead th {\n",
              "        text-align: right;\n",
              "    }\n",
              "</style>\n",
              "<table border=\"1\" class=\"dataframe\">\n",
              "  <thead>\n",
              "    <tr style=\"text-align: right;\">\n",
              "      <th></th>\n",
              "      <th>Id</th>\n",
              "      <th>SleepDay</th>\n",
              "      <th>TotalSleepRecords</th>\n",
              "      <th>TotalMinutesAsleep</th>\n",
              "      <th>TotalTimeInBed</th>\n",
              "    </tr>\n",
              "  </thead>\n",
              "  <tbody>\n",
              "    <tr>\n",
              "      <th>0</th>\n",
              "      <td>1503960366</td>\n",
              "      <td>4/12/2016 12:00:00 AM</td>\n",
              "      <td>1</td>\n",
              "      <td>327</td>\n",
              "      <td>346</td>\n",
              "    </tr>\n",
              "    <tr>\n",
              "      <th>1</th>\n",
              "      <td>1503960366</td>\n",
              "      <td>4/13/2016 12:00:00 AM</td>\n",
              "      <td>2</td>\n",
              "      <td>384</td>\n",
              "      <td>407</td>\n",
              "    </tr>\n",
              "    <tr>\n",
              "      <th>2</th>\n",
              "      <td>1503960366</td>\n",
              "      <td>4/15/2016 12:00:00 AM</td>\n",
              "      <td>1</td>\n",
              "      <td>412</td>\n",
              "      <td>442</td>\n",
              "    </tr>\n",
              "    <tr>\n",
              "      <th>3</th>\n",
              "      <td>1503960366</td>\n",
              "      <td>4/16/2016 12:00:00 AM</td>\n",
              "      <td>2</td>\n",
              "      <td>340</td>\n",
              "      <td>367</td>\n",
              "    </tr>\n",
              "    <tr>\n",
              "      <th>4</th>\n",
              "      <td>1503960366</td>\n",
              "      <td>4/17/2016 12:00:00 AM</td>\n",
              "      <td>1</td>\n",
              "      <td>700</td>\n",
              "      <td>712</td>\n",
              "    </tr>\n",
              "  </tbody>\n",
              "</table>\n",
              "</div>"
            ],
            "text/plain": [
              "           Id               SleepDay  TotalSleepRecords  TotalMinutesAsleep  \\\n",
              "0  1503960366  4/12/2016 12:00:00 AM                  1                 327   \n",
              "1  1503960366  4/13/2016 12:00:00 AM                  2                 384   \n",
              "2  1503960366  4/15/2016 12:00:00 AM                  1                 412   \n",
              "3  1503960366  4/16/2016 12:00:00 AM                  2                 340   \n",
              "4  1503960366  4/17/2016 12:00:00 AM                  1                 700   \n",
              "\n",
              "   TotalTimeInBed  \n",
              "0             346  \n",
              "1             407  \n",
              "2             442  \n",
              "3             367  \n",
              "4             712  "
            ]
          },
          "execution_count": 83,
          "metadata": {},
          "output_type": "execute_result"
        }
      ],
      "source": [
        "# Correct URL to the raw CSV file on GitHub\n",
        "sleepDay = pd.read_csv('../data/sleepDay_merged.csv')\n",
        "sleepDay.head()"
      ]
    },
    {
      "cell_type": "code",
      "execution_count": 84,
      "metadata": {
        "colab": {
          "base_uri": "https://localhost:8080/"
        },
        "id": "gn7bBx1Evdzx",
        "outputId": "c454d1e5-ab5d-4eb1-8da6-124ab456ade2"
      },
      "outputs": [
        {
          "name": "stdout",
          "output_type": "stream",
          "text": [
            "<class 'pandas.core.frame.DataFrame'>\n",
            "RangeIndex: 413 entries, 0 to 412\n",
            "Data columns (total 5 columns):\n",
            " #   Column              Non-Null Count  Dtype \n",
            "---  ------              --------------  ----- \n",
            " 0   Id                  413 non-null    int64 \n",
            " 1   SleepDay            413 non-null    object\n",
            " 2   TotalSleepRecords   413 non-null    int64 \n",
            " 3   TotalMinutesAsleep  413 non-null    int64 \n",
            " 4   TotalTimeInBed      413 non-null    int64 \n",
            "dtypes: int64(4), object(1)\n",
            "memory usage: 16.3+ KB\n"
          ]
        }
      ],
      "source": [
        "sleepDay.info()"
      ]
    },
    {
      "cell_type": "code",
      "execution_count": 85,
      "metadata": {
        "colab": {
          "base_uri": "https://localhost:8080/",
          "height": 206
        },
        "id": "_mYlYUWHf37A",
        "outputId": "841d4d20-85a5-457f-c589-c9a09dab2730"
      },
      "outputs": [
        {
          "data": {
            "text/html": [
              "<div>\n",
              "<style scoped>\n",
              "    .dataframe tbody tr th:only-of-type {\n",
              "        vertical-align: middle;\n",
              "    }\n",
              "\n",
              "    .dataframe tbody tr th {\n",
              "        vertical-align: top;\n",
              "    }\n",
              "\n",
              "    .dataframe thead th {\n",
              "        text-align: right;\n",
              "    }\n",
              "</style>\n",
              "<table border=\"1\" class=\"dataframe\">\n",
              "  <thead>\n",
              "    <tr style=\"text-align: right;\">\n",
              "      <th></th>\n",
              "      <th>Id</th>\n",
              "      <th>SleepDay</th>\n",
              "      <th>TotalSleepRecords</th>\n",
              "      <th>TotalMinutesAsleep</th>\n",
              "      <th>TotalTimeInBed</th>\n",
              "    </tr>\n",
              "  </thead>\n",
              "  <tbody>\n",
              "    <tr>\n",
              "      <th>411</th>\n",
              "      <td>8792009665</td>\n",
              "      <td>5/3/2016 12:00:00 AM</td>\n",
              "      <td>1</td>\n",
              "      <td>516</td>\n",
              "      <td>545</td>\n",
              "    </tr>\n",
              "    <tr>\n",
              "      <th>136</th>\n",
              "      <td>4319703577</td>\n",
              "      <td>5/6/2016 12:00:00 AM</td>\n",
              "      <td>1</td>\n",
              "      <td>450</td>\n",
              "      <td>491</td>\n",
              "    </tr>\n",
              "    <tr>\n",
              "      <th>39</th>\n",
              "      <td>2026352035</td>\n",
              "      <td>4/14/2016 12:00:00 AM</td>\n",
              "      <td>1</td>\n",
              "      <td>545</td>\n",
              "      <td>568</td>\n",
              "    </tr>\n",
              "    <tr>\n",
              "      <th>143</th>\n",
              "      <td>4388161847</td>\n",
              "      <td>4/15/2016 12:00:00 AM</td>\n",
              "      <td>1</td>\n",
              "      <td>499</td>\n",
              "      <td>526</td>\n",
              "    </tr>\n",
              "    <tr>\n",
              "      <th>304</th>\n",
              "      <td>6775888955</td>\n",
              "      <td>4/14/2016 12:00:00 AM</td>\n",
              "      <td>1</td>\n",
              "      <td>423</td>\n",
              "      <td>441</td>\n",
              "    </tr>\n",
              "  </tbody>\n",
              "</table>\n",
              "</div>"
            ],
            "text/plain": [
              "             Id               SleepDay  TotalSleepRecords  TotalMinutesAsleep  \\\n",
              "411  8792009665   5/3/2016 12:00:00 AM                  1                 516   \n",
              "136  4319703577   5/6/2016 12:00:00 AM                  1                 450   \n",
              "39   2026352035  4/14/2016 12:00:00 AM                  1                 545   \n",
              "143  4388161847  4/15/2016 12:00:00 AM                  1                 499   \n",
              "304  6775888955  4/14/2016 12:00:00 AM                  1                 423   \n",
              "\n",
              "     TotalTimeInBed  \n",
              "411             545  \n",
              "136             491  \n",
              "39              568  \n",
              "143             526  \n",
              "304             441  "
            ]
          },
          "execution_count": 85,
          "metadata": {},
          "output_type": "execute_result"
        }
      ],
      "source": [
        "from sklearn.utils import shuffle\n",
        "\n",
        "sleepDay = shuffle(sleepDay)\n",
        "sleepDay.head()"
      ]
    },
    {
      "cell_type": "markdown",
      "metadata": {
        "id": "GTWHkf8BYCyl"
      },
      "source": [
        "### 1.1.6. Weight Info"
      ]
    },
    {
      "cell_type": "code",
      "execution_count": 86,
      "metadata": {
        "colab": {
          "base_uri": "https://localhost:8080/",
          "height": 206
        },
        "id": "Xc5i4htQgM6s",
        "outputId": "30d878dc-c473-4d4b-e07f-87b57cdbb7cc"
      },
      "outputs": [
        {
          "data": {
            "text/html": [
              "<div>\n",
              "<style scoped>\n",
              "    .dataframe tbody tr th:only-of-type {\n",
              "        vertical-align: middle;\n",
              "    }\n",
              "\n",
              "    .dataframe tbody tr th {\n",
              "        vertical-align: top;\n",
              "    }\n",
              "\n",
              "    .dataframe thead th {\n",
              "        text-align: right;\n",
              "    }\n",
              "</style>\n",
              "<table border=\"1\" class=\"dataframe\">\n",
              "  <thead>\n",
              "    <tr style=\"text-align: right;\">\n",
              "      <th></th>\n",
              "      <th>Id</th>\n",
              "      <th>Date</th>\n",
              "      <th>WeightKg</th>\n",
              "      <th>WeightPounds</th>\n",
              "      <th>Fat</th>\n",
              "      <th>BMI</th>\n",
              "      <th>IsManualReport</th>\n",
              "      <th>LogId</th>\n",
              "    </tr>\n",
              "  </thead>\n",
              "  <tbody>\n",
              "    <tr>\n",
              "      <th>0</th>\n",
              "      <td>1503960366</td>\n",
              "      <td>5/2/2016 11:59:59 PM</td>\n",
              "      <td>52.599998</td>\n",
              "      <td>115.963147</td>\n",
              "      <td>22.0</td>\n",
              "      <td>22.650000</td>\n",
              "      <td>True</td>\n",
              "      <td>1462233599000</td>\n",
              "    </tr>\n",
              "    <tr>\n",
              "      <th>1</th>\n",
              "      <td>1503960366</td>\n",
              "      <td>5/3/2016 11:59:59 PM</td>\n",
              "      <td>52.599998</td>\n",
              "      <td>115.963147</td>\n",
              "      <td>NaN</td>\n",
              "      <td>22.650000</td>\n",
              "      <td>True</td>\n",
              "      <td>1462319999000</td>\n",
              "    </tr>\n",
              "    <tr>\n",
              "      <th>2</th>\n",
              "      <td>1927972279</td>\n",
              "      <td>4/13/2016 1:08:52 AM</td>\n",
              "      <td>133.500000</td>\n",
              "      <td>294.317120</td>\n",
              "      <td>NaN</td>\n",
              "      <td>47.540001</td>\n",
              "      <td>False</td>\n",
              "      <td>1460509732000</td>\n",
              "    </tr>\n",
              "    <tr>\n",
              "      <th>3</th>\n",
              "      <td>2873212765</td>\n",
              "      <td>4/21/2016 11:59:59 PM</td>\n",
              "      <td>56.700001</td>\n",
              "      <td>125.002104</td>\n",
              "      <td>NaN</td>\n",
              "      <td>21.450001</td>\n",
              "      <td>True</td>\n",
              "      <td>1461283199000</td>\n",
              "    </tr>\n",
              "    <tr>\n",
              "      <th>4</th>\n",
              "      <td>2873212765</td>\n",
              "      <td>5/12/2016 11:59:59 PM</td>\n",
              "      <td>57.299999</td>\n",
              "      <td>126.324875</td>\n",
              "      <td>NaN</td>\n",
              "      <td>21.690001</td>\n",
              "      <td>True</td>\n",
              "      <td>1463097599000</td>\n",
              "    </tr>\n",
              "  </tbody>\n",
              "</table>\n",
              "</div>"
            ],
            "text/plain": [
              "           Id                   Date    WeightKg  WeightPounds   Fat  \\\n",
              "0  1503960366   5/2/2016 11:59:59 PM   52.599998    115.963147  22.0   \n",
              "1  1503960366   5/3/2016 11:59:59 PM   52.599998    115.963147   NaN   \n",
              "2  1927972279   4/13/2016 1:08:52 AM  133.500000    294.317120   NaN   \n",
              "3  2873212765  4/21/2016 11:59:59 PM   56.700001    125.002104   NaN   \n",
              "4  2873212765  5/12/2016 11:59:59 PM   57.299999    126.324875   NaN   \n",
              "\n",
              "         BMI  IsManualReport          LogId  \n",
              "0  22.650000            True  1462233599000  \n",
              "1  22.650000            True  1462319999000  \n",
              "2  47.540001           False  1460509732000  \n",
              "3  21.450001            True  1461283199000  \n",
              "4  21.690001            True  1463097599000  "
            ]
          },
          "execution_count": 86,
          "metadata": {},
          "output_type": "execute_result"
        }
      ],
      "source": [
        "# Correct URL to the raw CSV file on GitHub\n",
        "weightLogInfo = pd.read_csv('../data/weightLogInfo_merged.csv')\n",
        "weightLogInfo.head()"
      ]
    },
    {
      "cell_type": "code",
      "execution_count": 87,
      "metadata": {
        "colab": {
          "base_uri": "https://localhost:8080/"
        },
        "id": "Zo9gSPbqwGBh",
        "outputId": "ec6c9c3e-a93c-44af-8125-195682630dea"
      },
      "outputs": [
        {
          "name": "stdout",
          "output_type": "stream",
          "text": [
            "<class 'pandas.core.frame.DataFrame'>\n",
            "RangeIndex: 67 entries, 0 to 66\n",
            "Data columns (total 8 columns):\n",
            " #   Column          Non-Null Count  Dtype  \n",
            "---  ------          --------------  -----  \n",
            " 0   Id              67 non-null     int64  \n",
            " 1   Date            67 non-null     object \n",
            " 2   WeightKg        67 non-null     float64\n",
            " 3   WeightPounds    67 non-null     float64\n",
            " 4   Fat             2 non-null      float64\n",
            " 5   BMI             67 non-null     float64\n",
            " 6   IsManualReport  67 non-null     bool   \n",
            " 7   LogId           67 non-null     int64  \n",
            "dtypes: bool(1), float64(4), int64(2), object(1)\n",
            "memory usage: 3.9+ KB\n"
          ]
        }
      ],
      "source": [
        "weightLogInfo.info()"
      ]
    },
    {
      "cell_type": "code",
      "execution_count": 88,
      "metadata": {
        "colab": {
          "base_uri": "https://localhost:8080/",
          "height": 206
        },
        "id": "upfxF_-agxsZ",
        "outputId": "a237f605-5046-46ce-b113-f4433e6b1fa7"
      },
      "outputs": [
        {
          "data": {
            "text/html": [
              "<div>\n",
              "<style scoped>\n",
              "    .dataframe tbody tr th:only-of-type {\n",
              "        vertical-align: middle;\n",
              "    }\n",
              "\n",
              "    .dataframe tbody tr th {\n",
              "        vertical-align: top;\n",
              "    }\n",
              "\n",
              "    .dataframe thead th {\n",
              "        text-align: right;\n",
              "    }\n",
              "</style>\n",
              "<table border=\"1\" class=\"dataframe\">\n",
              "  <thead>\n",
              "    <tr style=\"text-align: right;\">\n",
              "      <th></th>\n",
              "      <th>Id</th>\n",
              "      <th>Date</th>\n",
              "      <th>WeightKg</th>\n",
              "      <th>WeightPounds</th>\n",
              "      <th>Fat</th>\n",
              "      <th>BMI</th>\n",
              "      <th>IsManualReport</th>\n",
              "      <th>LogId</th>\n",
              "    </tr>\n",
              "  </thead>\n",
              "  <tbody>\n",
              "    <tr>\n",
              "      <th>30</th>\n",
              "      <td>6962181067</td>\n",
              "      <td>4/30/2016 11:59:59 PM</td>\n",
              "      <td>61.000000</td>\n",
              "      <td>134.481980</td>\n",
              "      <td>NaN</td>\n",
              "      <td>23.820000</td>\n",
              "      <td>True</td>\n",
              "      <td>1462060799000</td>\n",
              "    </tr>\n",
              "    <tr>\n",
              "      <th>26</th>\n",
              "      <td>6962181067</td>\n",
              "      <td>4/25/2016 11:59:59 PM</td>\n",
              "      <td>61.700001</td>\n",
              "      <td>136.025217</td>\n",
              "      <td>NaN</td>\n",
              "      <td>24.100000</td>\n",
              "      <td>True</td>\n",
              "      <td>1461628799000</td>\n",
              "    </tr>\n",
              "    <tr>\n",
              "      <th>65</th>\n",
              "      <td>8877689391</td>\n",
              "      <td>5/11/2016 6:51:47 AM</td>\n",
              "      <td>85.400002</td>\n",
              "      <td>188.274775</td>\n",
              "      <td>NaN</td>\n",
              "      <td>25.559999</td>\n",
              "      <td>False</td>\n",
              "      <td>1462949507000</td>\n",
              "    </tr>\n",
              "    <tr>\n",
              "      <th>63</th>\n",
              "      <td>8877689391</td>\n",
              "      <td>5/8/2016 7:35:53 AM</td>\n",
              "      <td>85.400002</td>\n",
              "      <td>188.274775</td>\n",
              "      <td>NaN</td>\n",
              "      <td>25.559999</td>\n",
              "      <td>False</td>\n",
              "      <td>1462692953000</td>\n",
              "    </tr>\n",
              "    <tr>\n",
              "      <th>57</th>\n",
              "      <td>8877689391</td>\n",
              "      <td>4/29/2016 6:49:55 AM</td>\n",
              "      <td>84.900002</td>\n",
              "      <td>187.172464</td>\n",
              "      <td>NaN</td>\n",
              "      <td>25.410000</td>\n",
              "      <td>False</td>\n",
              "      <td>1461912595000</td>\n",
              "    </tr>\n",
              "  </tbody>\n",
              "</table>\n",
              "</div>"
            ],
            "text/plain": [
              "            Id                   Date   WeightKg  WeightPounds  Fat  \\\n",
              "30  6962181067  4/30/2016 11:59:59 PM  61.000000    134.481980  NaN   \n",
              "26  6962181067  4/25/2016 11:59:59 PM  61.700001    136.025217  NaN   \n",
              "65  8877689391   5/11/2016 6:51:47 AM  85.400002    188.274775  NaN   \n",
              "63  8877689391    5/8/2016 7:35:53 AM  85.400002    188.274775  NaN   \n",
              "57  8877689391   4/29/2016 6:49:55 AM  84.900002    187.172464  NaN   \n",
              "\n",
              "          BMI  IsManualReport          LogId  \n",
              "30  23.820000            True  1462060799000  \n",
              "26  24.100000            True  1461628799000  \n",
              "65  25.559999           False  1462949507000  \n",
              "63  25.559999           False  1462692953000  \n",
              "57  25.410000           False  1461912595000  "
            ]
          },
          "execution_count": 88,
          "metadata": {},
          "output_type": "execute_result"
        }
      ],
      "source": [
        "from sklearn.utils import shuffle\n",
        "\n",
        "weightLogInfo = shuffle(weightLogInfo)\n",
        "weightLogInfo.head()"
      ]
    },
    {
      "cell_type": "markdown",
      "metadata": {
        "id": "GqhSiLhygxRI"
      },
      "source": []
    },
    {
      "cell_type": "markdown",
      "metadata": {
        "id": "UURLcvjwZbWv"
      },
      "source": [
        "## 1.2. Data Preprocessing"
      ]
    },
    {
      "cell_type": "markdown",
      "metadata": {
        "id": "PlJiX_K-ZbZM"
      },
      "source": [
        "### 1.2.1. Cleaning the datasets"
      ]
    },
    {
      "cell_type": "markdown",
      "metadata": {},
      "source": [
        "#### 1.2.1.a. Convert all the date columns into datetime object and rename it as ActivityDate"
      ]
    },
    {
      "cell_type": "code",
      "execution_count": 89,
      "metadata": {},
      "outputs": [],
      "source": [
        "dailyActivity['ActivityDate'] = pd.to_datetime(dailyActivity['ActivityDate'])"
      ]
    },
    {
      "cell_type": "code",
      "execution_count": 90,
      "metadata": {},
      "outputs": [
        {
          "name": "stderr",
          "output_type": "stream",
          "text": [
            "C:\\Users\\Admin\\AppData\\Local\\Temp\\ipykernel_7244\\416243218.py:4: UserWarning: Could not infer format, so each element will be parsed individually, falling back to `dateutil`. To ensure parsing is consistent and as-expected, please specify a format.\n",
            "  df[date_col] = pd.to_datetime(df[date_col])\n",
            "C:\\Users\\Admin\\AppData\\Local\\Temp\\ipykernel_7244\\416243218.py:4: UserWarning: Could not infer format, so each element will be parsed individually, falling back to `dateutil`. To ensure parsing is consistent and as-expected, please specify a format.\n",
            "  df[date_col] = pd.to_datetime(df[date_col])\n"
          ]
        },
        {
          "name": "stdout",
          "output_type": "stream",
          "text": [
            "DataFrame 1:\n",
            "              Id  TotalSleepRecords  TotalMinutesAsleep  TotalTimeInBed  \\\n",
            "411  8792009665                  1                 516             545   \n",
            "136  4319703577                  1                 450             491   \n",
            "39   2026352035                  1                 545             568   \n",
            "143  4388161847                  1                 499             526   \n",
            "304  6775888955                  1                 423             441   \n",
            "\n",
            "    ActivityDate ActivityTime  \n",
            "411   2016-05-03  12:00:00 AM  \n",
            "136   2016-05-06  12:00:00 AM  \n",
            "39    2016-04-14  12:00:00 AM  \n",
            "143   2016-04-15  12:00:00 AM  \n",
            "304   2016-04-14  12:00:00 AM  \n",
            "datetime64[ns]\n",
            "DataFrame 2:\n",
            "                Id  Calories ActivityDate ActivityTime\n",
            "7962   3372868164       101   2016-04-01  10:00:00 AM\n",
            "5316   2320127002        55   2016-03-16  06:00:00 AM\n",
            "5120   2026352035        58   2016-04-08  12:00:00 PM\n",
            "10487  4319703577       125   2016-03-14  10:00:00 AM\n",
            "2250   1844505072        56   2016-03-14  03:00:00 AM\n",
            "datetime64[ns]\n",
            "DataFrame 3:\n",
            "                Id  Calories ActivityDate ActivityTime\n",
            "8230   3977333714        49   2016-03-13  11:00:00 PM\n",
            "21970  8583815059       111   2016-03-14  11:00:00 AM\n",
            "11074  4319703577        75   2016-04-07  09:00:00 PM\n",
            "7253   2873212765        52   2016-04-03  05:00:00 AM\n",
            "19961  8053475328        73   2016-03-24  10:00:00 AM\n",
            "datetime64[ns]\n",
            "DataFrame 4:\n",
            "                  Id  Value ActivityDate ActivityTime\n",
            "1475420  5577150313     54   2016-04-30  07:54:35 AM\n",
            "537480   4020332650     75   2016-05-08  09:03:53 PM\n",
            "990010   4558609924     70   2016-05-04  08:49:35 PM\n",
            "1659630  6117666160     95   2016-05-02  06:18:45 AM\n",
            "1038935  5553957443     86   2016-04-12  07:56:35 AM\n",
            "datetime64[ns]\n",
            "DataFrame 5:\n",
            "             Id   WeightKg  WeightPounds  Fat        BMI  IsManualReport  \\\n",
            "30  6962181067  61.000000    134.481980  NaN  23.820000            True   \n",
            "26  6962181067  61.700001    136.025217  NaN  24.100000            True   \n",
            "65  8877689391  85.400002    188.274775  NaN  25.559999           False   \n",
            "63  8877689391  85.400002    188.274775  NaN  25.559999           False   \n",
            "57  8877689391  84.900002    187.172464  NaN  25.410000           False   \n",
            "\n",
            "            LogId ActivityDate ActivityTime  \n",
            "30  1462060799000   2016-04-30  11:59:59 PM  \n",
            "26  1461628799000   2016-04-25  11:59:59 PM  \n",
            "65  1462949507000   2016-05-11  06:51:47 AM  \n",
            "63  1462692953000   2016-05-08  07:35:53 AM  \n",
            "57  1461912595000   2016-04-29  06:49:55 AM  \n",
            "datetime64[ns]\n"
          ]
        },
        {
          "name": "stderr",
          "output_type": "stream",
          "text": [
            "C:\\Users\\Admin\\AppData\\Local\\Temp\\ipykernel_7244\\416243218.py:4: UserWarning: Could not infer format, so each element will be parsed individually, falling back to `dateutil`. To ensure parsing is consistent and as-expected, please specify a format.\n",
            "  df[date_col] = pd.to_datetime(df[date_col])\n"
          ]
        }
      ],
      "source": [
        "def process_dataframe(df):\n",
        "    # converting date column to datetime\n",
        "    date_col = df.columns[1]\n",
        "    df[date_col] = pd.to_datetime(df[date_col])\n",
        "\n",
        "    # Creating separate 'date' and 'time' columns\n",
        "    df['ActivityDate'] = df[date_col].dt.date\n",
        "    df['ActivityTime'] = df[date_col].dt.strftime('%I:%M:%S %p')\n",
        "    df['ActivityDate'] = pd.to_datetime(df['ActivityDate'])\n",
        "    df.drop(columns=[date_col],inplace=True)\n",
        "\n",
        "    return df\n",
        "\n",
        "dataframes = [sleepDay, hourlyCalories, hourlyIntensities, heartRate, weightLogInfo]\n",
        "\n",
        "for i, df in enumerate(dataframes):\n",
        "    dataframes[i] = process_dataframe(df)\n",
        "\n",
        "for i, df in enumerate(dataframes, 1):\n",
        "    print(f\"DataFrame {i}:\\n\", df.head())\n",
        "    print(df['ActivityDate'].dtypes)"
      ]
    },
    {
      "cell_type": "markdown",
      "metadata": {},
      "source": [
        "#### 1.2.1.b.  Check if there are any duplicate records"
      ]
    },
    {
      "cell_type": "code",
      "execution_count": 91,
      "metadata": {},
      "outputs": [
        {
          "name": "stdout",
          "output_type": "stream",
          "text": [
            "\n",
            " Duplicates in activity record:\n",
            "Empty DataFrame\n",
            "Columns: [Id, ActivityDate, Count]\n",
            "Index: []\n",
            "\n",
            "Duplicates in sleep record:\n",
            "             Id ActivityDate ActivityTime  TotalSleepRecords  Count\n",
            "160  4388161847   2016-05-05  12:00:00 AM                  1      2\n",
            "221  4702921684   2016-05-07  12:00:00 AM                  1      2\n",
            "377  8378563200   2016-04-25  12:00:00 AM                  1      2\n",
            "\n",
            "Duplicates in hourly calories record:\n",
            "Empty DataFrame\n",
            "Columns: [Id, ActivityDate, ActivityTime, Count]\n",
            "Index: []\n",
            "\n",
            "Duplicates in hourly intensities record:\n",
            "Empty DataFrame\n",
            "Columns: [Id, ActivityDate, ActivityTime, Count]\n",
            "Index: []\n",
            "\n",
            "Duplicates in heartrate seconds record:\n",
            "Empty DataFrame\n",
            "Columns: [Id, ActivityDate, ActivityTime, Count]\n",
            "Index: []\n"
          ]
        }
      ],
      "source": [
        "grouped = dailyActivity.groupby(['Id', 'ActivityDate']).size().reset_index(name='Count')\n",
        "duplicates = grouped[grouped['Count'] > 1]\n",
        "print(\"\\n Duplicates in activity record:\")\n",
        "print(duplicates)\n",
        "\n",
        "grouped1 = sleepDay.groupby(['Id', 'ActivityDate','ActivityTime','TotalSleepRecords']).size().reset_index(name='Count')\n",
        "duplicates1 = grouped1[grouped1['Count'] > 1]\n",
        "print(\"\\nDuplicates in sleep record:\")\n",
        "print(duplicates1)\n",
        "\n",
        "grouped2 = hourlyCalories.groupby(['Id', 'ActivityDate','ActivityTime']).size().reset_index(name='Count')\n",
        "duplicates2 = grouped2[grouped2['Count'] > 1]\n",
        "print(\"\\nDuplicates in hourly calories record:\")\n",
        "print(duplicates2)\n",
        "\n",
        "\n",
        "grouped3 = hourlyIntensities.groupby(['Id', 'ActivityDate','ActivityTime']).size().reset_index(name='Count')\n",
        "duplicates3 = grouped3[grouped3['Count'] > 1]\n",
        "print(\"\\nDuplicates in hourly intensities record:\")\n",
        "print(duplicates3)\n",
        "\n",
        "grouped4 = heartRate.groupby(['Id', 'ActivityDate','ActivityTime']).size().reset_index(name='Count')\n",
        "duplicates4 = grouped4[grouped4['Count'] > 1]\n",
        "print(\"\\nDuplicates in heartrate seconds record:\")\n",
        "print(duplicates4)"
      ]
    },
    {
      "cell_type": "code",
      "execution_count": 92,
      "metadata": {},
      "outputs": [
        {
          "name": "stdout",
          "output_type": "stream",
          "text": [
            "\n",
            "Duplicate records in the original DataFrame:\n",
            "             Id  TotalSleepRecords  TotalMinutesAsleep  TotalTimeInBed  \\\n",
            "380  8378563200                  1                 388             402   \n",
            "379  8378563200                  1                 388             402   \n",
            "161  4388161847                  1                 471             495   \n",
            "160  4388161847                  1                 471             495   \n",
            "222  4702921684                  1                 520             543   \n",
            "223  4702921684                  1                 520             543   \n",
            "\n",
            "    ActivityDate ActivityTime  \n",
            "380   2016-04-25  12:00:00 AM  \n",
            "379   2016-04-25  12:00:00 AM  \n",
            "161   2016-05-05  12:00:00 AM  \n",
            "160   2016-05-05  12:00:00 AM  \n",
            "222   2016-05-07  12:00:00 AM  \n",
            "223   2016-05-07  12:00:00 AM  \n"
          ]
        }
      ],
      "source": [
        "duplicate_records = sleepDay[sleepDay.set_index(['Id', 'ActivityDate', 'ActivityTime', 'TotalSleepRecords']).index.isin(duplicates1.set_index(['Id', 'ActivityDate', 'ActivityTime', 'TotalSleepRecords']).index)]\n",
        "print(\"\\nDuplicate records in the original DataFrame:\")\n",
        "print(duplicate_records)\n",
        "\n",
        "# Removing the duplicate records from the original DataFrame\n",
        "sleepDay.drop_duplicates(subset=['Id', 'ActivityDate', 'ActivityTime', 'TotalSleepRecords'], inplace=True)"
      ]
    },
    {
      "cell_type": "markdown",
      "metadata": {},
      "source": [
        "##### Only the SleepDay dataset has duplicates."
      ]
    },
    {
      "cell_type": "markdown",
      "metadata": {
        "id": "S5qQTDQRLKO-"
      },
      "source": []
    },
    {
      "cell_type": "code",
      "execution_count": 93,
      "metadata": {},
      "outputs": [
        {
          "name": "stdout",
          "output_type": "stream",
          "text": [
            "Missing values in dailyActivity:\n",
            "{'null_values': np.int64(0), 'empty_strings': np.int64(0), 'na_values': np.int64(0)}\n",
            "\n",
            "Missing values in sleepDay:\n",
            "{'null_values': np.int64(0), 'empty_strings': np.int64(0), 'na_values': np.int64(0)}\n",
            "\n",
            "Missing values in hourlyCalories:\n",
            "{'null_values': np.int64(0), 'empty_strings': np.int64(0), 'na_values': np.int64(0)}\n",
            "\n",
            "Missing values in hourlyIntensities:\n",
            "{'null_values': np.int64(0), 'empty_strings': np.int64(0), 'na_values': np.int64(0)}\n",
            "\n",
            "Missing values in heartRate:\n",
            "{'null_values': np.int64(0), 'empty_strings': np.int64(0), 'na_values': np.int64(0)}\n"
          ]
        }
      ],
      "source": [
        "import pandas as pd\n",
        "import numpy as np\n",
        "\n",
        "# Function to check for missing values including NaN, None, and empty strings\n",
        "def check_missing_values(df):\n",
        "    return {\n",
        "        'null_values': df.isnull().values.sum(),\n",
        "        'empty_strings': (df == '').values.sum(),\n",
        "        'na_values': df.isna().values.sum()\n",
        "    }\n",
        "\n",
        "# Check for missing values in each DataFrame\n",
        "print(\"Missing values in dailyActivity:\")\n",
        "print(check_missing_values(dailyActivity))\n",
        "\n",
        "print(\"\\nMissing values in sleepDay:\")\n",
        "print(check_missing_values(sleepDay))\n",
        "\n",
        "print(\"\\nMissing values in hourlyCalories:\")\n",
        "print(check_missing_values(hourlyCalories))\n",
        "\n",
        "print(\"\\nMissing values in hourlyIntensities:\")\n",
        "print(check_missing_values(hourlyIntensities))\n",
        "\n",
        "print(\"\\nMissing values in heartRate:\")\n",
        "print(check_missing_values(heartRate))"
      ]
    },
    {
      "cell_type": "markdown",
      "metadata": {},
      "source": [
        "#### 1.2.1.c. Clone into train file"
      ]
    },
    {
      "cell_type": "code",
      "execution_count": 97,
      "metadata": {},
      "outputs": [],
      "source": [
        "import os\n",
        "\n",
        "clone_directory = 'clone_data'\n",
        "train_file_path1 = os.path.join(clone_directory, 'train_dailyActivity.csv')\n",
        "train_file_path2 = os.path.join(clone_directory, 'train_heartRate.csv')\n",
        "train_file_path3 = os.path.join(clone_directory, 'train_hourlyCalories.csv')\n",
        "train_file_path4 = os.path.join(clone_directory, 'train_hourlyIntensities.csv')\n",
        "train_file_path5 = os.path.join(clone_directory, 'train_sleepDay.csv')\n",
        "train_file_path6 = os.path.join(clone_directory, 'train_weighInfo.csv')\n",
        "\n",
        "test_file_path1 = os.path.join(clone_directory, 'test_dailyActivity.csv')\n",
        "test_file_path2 = os.path.join(clone_directory, 'test_heartRate.csv')\n",
        "test_file_path3 = os.path.join(clone_directory, 'test_hourlyCalories.csv')\n",
        "test_file_path4 = os.path.join(clone_directory, 'test_hourlyIntensities.csv')\n",
        "test_file_path5 = os.path.join(clone_directory, 'test_sleepDay.csv')\n",
        "test_file_path6 = os.path.join(clone_directory, 'test_weighInfo.csv')\n",
        "\n",
        "if not os.path.exists(clone_directory):\n",
        "    os.makedirs(clone_directory)\n",
        "\n",
        "dailyActivity.to_csv(train_file_path1)\n",
        "heartRate.to_csv(train_file_path2)\n",
        "hourlyCalories.to_csv(train_file_path3)\n",
        "hourlyIntensities.to_csv(train_file_path4)\n",
        "sleepDay.to_csv(train_file_path5)\n",
        "weightLogInfo.to_csv(train_file_path6)\n",
        "\n",
        "dailyActivity.to_csv(test_file_path1)\n",
        "heartRate.to_csv(test_file_path2)\n",
        "hourlyCalories.to_csv(test_file_path3)\n",
        "hourlyIntensities.to_csv(test_file_path4)\n",
        "sleepDay.to_csv(test_file_path5)\n",
        "weightLogInfo.to_csv(test_file_path6)\n"
      ]
    },
    {
      "cell_type": "markdown",
      "metadata": {
        "id": "rR1Pbq_AZbbg"
      },
      "source": [
        "### 1.2.2. Test"
      ]
    },
    {
      "cell_type": "markdown",
      "metadata": {},
      "source": [
        "#### 1.2.2.a. "
      ]
    },
    {
      "cell_type": "code",
      "execution_count": null,
      "metadata": {},
      "outputs": [],
      "source": []
    },
    {
      "cell_type": "code",
      "execution_count": null,
      "metadata": {},
      "outputs": [],
      "source": []
    },
    {
      "cell_type": "code",
      "execution_count": null,
      "metadata": {},
      "outputs": [],
      "source": []
    },
    {
      "cell_type": "code",
      "execution_count": null,
      "metadata": {},
      "outputs": [],
      "source": []
    },
    {
      "cell_type": "markdown",
      "metadata": {},
      "source": [
        "#### 1.2.2.b."
      ]
    },
    {
      "cell_type": "markdown",
      "metadata": {},
      "source": [
        "#### 1.2.2.c."
      ]
    },
    {
      "cell_type": "markdown",
      "metadata": {},
      "source": []
    },
    {
      "cell_type": "markdown",
      "metadata": {
        "id": "iW3BHRYgk9rB"
      },
      "source": [
        "# 2. Selection"
      ]
    },
    {
      "cell_type": "markdown",
      "metadata": {
        "id": "tAqgXbYUk9tu"
      },
      "source": [
        "## 2.1. Information Gain"
      ]
    },
    {
      "cell_type": "code",
      "execution_count": null,
      "metadata": {},
      "outputs": [],
      "source": []
    },
    {
      "cell_type": "code",
      "execution_count": null,
      "metadata": {},
      "outputs": [],
      "source": []
    },
    {
      "cell_type": "code",
      "execution_count": null,
      "metadata": {},
      "outputs": [],
      "source": []
    },
    {
      "cell_type": "code",
      "execution_count": null,
      "metadata": {},
      "outputs": [],
      "source": []
    },
    {
      "cell_type": "markdown",
      "metadata": {
        "id": "f9TIYqosk9wd"
      },
      "source": [
        "## 2.2. Forward Selection"
      ]
    },
    {
      "cell_type": "markdown",
      "metadata": {
        "id": "KVmy8FRpk9yV"
      },
      "source": [
        "## 2.3. Chi_Square"
      ]
    },
    {
      "cell_type": "markdown",
      "metadata": {
        "id": "aqQJbOKMZbdl"
      },
      "source": [
        "# 3. Split and Prepare Data"
      ]
    },
    {
      "cell_type": "markdown",
      "metadata": {
        "id": "sTtE1-nVYDOT"
      },
      "source": [
        "# 4. Model\n",
        "#### Decision Tree, Logistic Regression, Random Forest, KNN, Naive Bayes, SVM"
      ]
    },
    {
      "cell_type": "markdown",
      "metadata": {},
      "source": [
        "# 5. Apply Model"
      ]
    }
  ],
  "metadata": {
    "colab": {
      "provenance": []
    },
    "kernelspec": {
      "display_name": "Python 3",
      "name": "python3"
    },
    "language_info": {
      "codemirror_mode": {
        "name": "ipython",
        "version": 3
      },
      "file_extension": ".py",
      "mimetype": "text/x-python",
      "name": "python",
      "nbconvert_exporter": "python",
      "pygments_lexer": "ipython3",
      "version": "3.11.6"
    }
  },
  "nbformat": 4,
  "nbformat_minor": 0
}
