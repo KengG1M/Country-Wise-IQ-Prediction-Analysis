{
  "cells": [
    {
      "cell_type": "code",
      "execution_count": 1,
      "metadata": {
        "id": "tO27aFHUZN4n"
      },
      "outputs": [],
      "source": [
        "import pandas as pd\n",
        "import numpy as np\n",
        "import matplotlib.pyplot as plt\n",
        "import seaborn as sns\n",
        "from matplotlib import pyplot\n",
        "from sklearn.model_selection import train_test_split"
      ]
    },
    {
      "cell_type": "markdown",
      "metadata": {
        "id": "ZjPp3HxfZPFs"
      },
      "source": [
        "# 1.Data Preparation"
      ]
    },
    {
      "cell_type": "markdown",
      "metadata": {},
      "source": [
        "## 1.1. Data Integration"
      ]
    },
    {
      "cell_type": "code",
      "execution_count": 2,
      "metadata": {},
      "outputs": [
        {
          "data": {
            "text/html": [
              "<div>\n",
              "<style scoped>\n",
              "    .dataframe tbody tr th:only-of-type {\n",
              "        vertical-align: middle;\n",
              "    }\n",
              "\n",
              "    .dataframe tbody tr th {\n",
              "        vertical-align: top;\n",
              "    }\n",
              "\n",
              "    .dataframe thead th {\n",
              "        text-align: right;\n",
              "    }\n",
              "</style>\n",
              "<table border=\"1\" class=\"dataframe\">\n",
              "  <thead>\n",
              "    <tr style=\"text-align: right;\">\n",
              "      <th></th>\n",
              "      <th>Id</th>\n",
              "      <th>country</th>\n",
              "      <th>IQ</th>\n",
              "      <th>education_expenditure</th>\n",
              "      <th>avg_income</th>\n",
              "      <th>avg_temp</th>\n",
              "    </tr>\n",
              "  </thead>\n",
              "  <tbody>\n",
              "    <tr>\n",
              "      <th>0</th>\n",
              "      <td>1</td>\n",
              "      <td>Hong Kong</td>\n",
              "      <td>106</td>\n",
              "      <td>1283.0</td>\n",
              "      <td>35304.0</td>\n",
              "      <td>26.2</td>\n",
              "    </tr>\n",
              "    <tr>\n",
              "      <th>1</th>\n",
              "      <td>2</td>\n",
              "      <td>Japan</td>\n",
              "      <td>106</td>\n",
              "      <td>1340.0</td>\n",
              "      <td>40964.0</td>\n",
              "      <td>19.2</td>\n",
              "    </tr>\n",
              "    <tr>\n",
              "      <th>2</th>\n",
              "      <td>3</td>\n",
              "      <td>Singapore</td>\n",
              "      <td>106</td>\n",
              "      <td>1428.0</td>\n",
              "      <td>41100.0</td>\n",
              "      <td>31.5</td>\n",
              "    </tr>\n",
              "    <tr>\n",
              "      <th>3</th>\n",
              "      <td>4</td>\n",
              "      <td>Taiwan</td>\n",
              "      <td>106</td>\n",
              "      <td>NaN</td>\n",
              "      <td>NaN</td>\n",
              "      <td>26.9</td>\n",
              "    </tr>\n",
              "    <tr>\n",
              "      <th>4</th>\n",
              "      <td>5</td>\n",
              "      <td>China</td>\n",
              "      <td>104</td>\n",
              "      <td>183.0</td>\n",
              "      <td>4654.0</td>\n",
              "      <td>19.1</td>\n",
              "    </tr>\n",
              "  </tbody>\n",
              "</table>\n",
              "</div>"
            ],
            "text/plain": [
              "   Id     country   IQ  education_expenditure  avg_income  avg_temp\n",
              "0   1  Hong Kong   106                 1283.0     35304.0      26.2\n",
              "1   2       Japan  106                 1340.0     40964.0      19.2\n",
              "2   3   Singapore  106                 1428.0     41100.0      31.5\n",
              "3   4     Taiwan   106                    NaN         NaN      26.9\n",
              "4   5       China  104                  183.0      4654.0      19.1"
            ]
          },
          "execution_count": 2,
          "metadata": {},
          "output_type": "execute_result"
        }
      ],
      "source": [
        "# Read dataset into data frame\n",
        "Iq = pd.read_csv('../data/IQ.csv')\n",
        "It = pd.read_csv('../data/IncTmp.csv')\n",
        "\n",
        "# Merge two original dataframe into the new one\n",
        "Iq_It = pd.merge(Iq, It, on=['Id', 'country'])\n",
        "Iq_It.head()"
      ]
    },
    {
      "cell_type": "code",
      "execution_count": 3,
      "metadata": {},
      "outputs": [
        {
          "data": {
            "text/html": [
              "<div>\n",
              "<style scoped>\n",
              "    .dataframe tbody tr th:only-of-type {\n",
              "        vertical-align: middle;\n",
              "    }\n",
              "\n",
              "    .dataframe tbody tr th {\n",
              "        vertical-align: top;\n",
              "    }\n",
              "\n",
              "    .dataframe thead th {\n",
              "        text-align: right;\n",
              "    }\n",
              "</style>\n",
              "<table border=\"1\" class=\"dataframe\">\n",
              "  <thead>\n",
              "    <tr style=\"text-align: right;\">\n",
              "      <th></th>\n",
              "      <th>Id</th>\n",
              "      <th>country</th>\n",
              "      <th>IQ</th>\n",
              "      <th>education_expenditure</th>\n",
              "      <th>avg_income</th>\n",
              "      <th>avg_temp</th>\n",
              "    </tr>\n",
              "  </thead>\n",
              "  <tbody>\n",
              "    <tr>\n",
              "      <th>0</th>\n",
              "      <td>1</td>\n",
              "      <td>Hong Kong</td>\n",
              "      <td>106</td>\n",
              "      <td>1283.0</td>\n",
              "      <td>35304.0</td>\n",
              "      <td>26.2</td>\n",
              "    </tr>\n",
              "    <tr>\n",
              "      <th>1</th>\n",
              "      <td>2</td>\n",
              "      <td>Japan</td>\n",
              "      <td>106</td>\n",
              "      <td>1340.0</td>\n",
              "      <td>40964.0</td>\n",
              "      <td>19.2</td>\n",
              "    </tr>\n",
              "    <tr>\n",
              "      <th>2</th>\n",
              "      <td>3</td>\n",
              "      <td>Singapore</td>\n",
              "      <td>106</td>\n",
              "      <td>1428.0</td>\n",
              "      <td>41100.0</td>\n",
              "      <td>31.5</td>\n",
              "    </tr>\n",
              "    <tr>\n",
              "      <th>3</th>\n",
              "      <td>4</td>\n",
              "      <td>Taiwan</td>\n",
              "      <td>106</td>\n",
              "      <td>NaN</td>\n",
              "      <td>NaN</td>\n",
              "      <td>26.9</td>\n",
              "    </tr>\n",
              "    <tr>\n",
              "      <th>4</th>\n",
              "      <td>5</td>\n",
              "      <td>China</td>\n",
              "      <td>104</td>\n",
              "      <td>183.0</td>\n",
              "      <td>4654.0</td>\n",
              "      <td>19.1</td>\n",
              "    </tr>\n",
              "  </tbody>\n",
              "</table>\n",
              "</div>"
            ],
            "text/plain": [
              "   Id     country   IQ  education_expenditure  avg_income  avg_temp\n",
              "0   1  Hong Kong   106                 1283.0     35304.0      26.2\n",
              "1   2       Japan  106                 1340.0     40964.0      19.2\n",
              "2   3   Singapore  106                 1428.0     41100.0      31.5\n",
              "3   4     Taiwan   106                    NaN         NaN      26.9\n",
              "4   5       China  104                  183.0      4654.0      19.1"
            ]
          },
          "execution_count": 3,
          "metadata": {},
          "output_type": "execute_result"
        }
      ],
      "source": [
        "Iq_It = pd.merge(Iq, It, on=['Id', 'country'])\n",
        "Iq_It.head()"
      ]
    },
    {
      "cell_type": "markdown",
      "metadata": {
        "id": "emZYd8UiZa6o"
      },
      "source": [
        "## 1.2. Data Shuffling"
      ]
    },
    {
      "cell_type": "code",
      "execution_count": 4,
      "metadata": {},
      "outputs": [
        {
          "name": "stdout",
          "output_type": "stream",
          "text": [
            "<class 'pandas.core.frame.DataFrame'>\n",
            "RangeIndex: 108 entries, 0 to 107\n",
            "Data columns (total 6 columns):\n",
            " #   Column                 Non-Null Count  Dtype  \n",
            "---  ------                 --------------  -----  \n",
            " 0   Id                     108 non-null    int64  \n",
            " 1   country                108 non-null    object \n",
            " 2   IQ                     108 non-null    int64  \n",
            " 3   education_expenditure  103 non-null    float64\n",
            " 4   avg_income             106 non-null    float64\n",
            " 5   avg_temp               108 non-null    float64\n",
            "dtypes: float64(3), int64(2), object(1)\n",
            "memory usage: 5.2+ KB\n"
          ]
        }
      ],
      "source": [
        "Iq_It.info()"
      ]
    },
    {
      "cell_type": "code",
      "execution_count": 5,
      "metadata": {},
      "outputs": [
        {
          "data": {
            "text/html": [
              "<div>\n",
              "<style scoped>\n",
              "    .dataframe tbody tr th:only-of-type {\n",
              "        vertical-align: middle;\n",
              "    }\n",
              "\n",
              "    .dataframe tbody tr th {\n",
              "        vertical-align: top;\n",
              "    }\n",
              "\n",
              "    .dataframe thead th {\n",
              "        text-align: right;\n",
              "    }\n",
              "</style>\n",
              "<table border=\"1\" class=\"dataframe\">\n",
              "  <thead>\n",
              "    <tr style=\"text-align: right;\">\n",
              "      <th></th>\n",
              "      <th>Id</th>\n",
              "      <th>country</th>\n",
              "      <th>IQ</th>\n",
              "      <th>education_expenditure</th>\n",
              "      <th>avg_income</th>\n",
              "      <th>avg_temp</th>\n",
              "    </tr>\n",
              "  </thead>\n",
              "  <tbody>\n",
              "    <tr>\n",
              "      <th>31</th>\n",
              "      <td>32</td>\n",
              "      <td>Russia</td>\n",
              "      <td>96</td>\n",
              "      <td>338.0</td>\n",
              "      <td>8241.0</td>\n",
              "      <td>9.5</td>\n",
              "    </tr>\n",
              "    <tr>\n",
              "      <th>91</th>\n",
              "      <td>92</td>\n",
              "      <td>Zimbabwe</td>\n",
              "      <td>74</td>\n",
              "      <td>50.0</td>\n",
              "      <td>843.0</td>\n",
              "      <td>27.1</td>\n",
              "    </tr>\n",
              "    <tr>\n",
              "      <th>103</th>\n",
              "      <td>104</td>\n",
              "      <td>Equatorial Guinea</td>\n",
              "      <td>56</td>\n",
              "      <td>NaN</td>\n",
              "      <td>7625.0</td>\n",
              "      <td>29.9</td>\n",
              "    </tr>\n",
              "    <tr>\n",
              "      <th>98</th>\n",
              "      <td>99</td>\n",
              "      <td>Ethiopia</td>\n",
              "      <td>67</td>\n",
              "      <td>21.0</td>\n",
              "      <td>379.0</td>\n",
              "      <td>27.2</td>\n",
              "    </tr>\n",
              "    <tr>\n",
              "      <th>45</th>\n",
              "      <td>46</td>\n",
              "      <td>Kazakhstan</td>\n",
              "      <td>89</td>\n",
              "      <td>225.0</td>\n",
              "      <td>6380.0</td>\n",
              "      <td>13.5</td>\n",
              "    </tr>\n",
              "  </tbody>\n",
              "</table>\n",
              "</div>"
            ],
            "text/plain": [
              "      Id            country  IQ  education_expenditure  avg_income  avg_temp\n",
              "31    32             Russia  96                  338.0      8241.0       9.5\n",
              "91    92           Zimbabwe  74                   50.0       843.0      27.1\n",
              "103  104  Equatorial Guinea  56                    NaN      7625.0      29.9\n",
              "98    99           Ethiopia  67                   21.0       379.0      27.2\n",
              "45    46         Kazakhstan  89                  225.0      6380.0      13.5"
            ]
          },
          "execution_count": 5,
          "metadata": {},
          "output_type": "execute_result"
        }
      ],
      "source": [
        "from sklearn.utils import shuffle\n",
        "\n",
        "Iq_It = shuffle(Iq_It)\n",
        "Iq_It.head()"
      ]
    },
    {
      "cell_type": "markdown",
      "metadata": {
        "id": "UURLcvjwZbWv"
      },
      "source": [
        "## 1.3. Data Preprocessing"
      ]
    },
    {
      "cell_type": "markdown",
      "metadata": {},
      "source": [
        "### Handle Duplicate"
      ]
    },
    {
      "cell_type": "code",
      "execution_count": 6,
      "metadata": {},
      "outputs": [
        {
          "name": "stdout",
          "output_type": "stream",
          "text": [
            "      Id            country   IQ  education_expenditure  avg_income  avg_temp\n",
            "31    32             Russia   96                  338.0      8241.0       9.5\n",
            "91    92           Zimbabwe   74                   50.0       843.0      27.1\n",
            "103  104  Equatorial Guinea   56                    NaN      7625.0      29.9\n",
            "98    99           Ethiopia   67                   21.0       379.0      27.2\n",
            "45    46         Kazakhstan   89                  225.0      6380.0      13.5\n",
            "..   ...                ...  ...                    ...         ...       ...\n",
            "19    20            Austria   99                 2341.0     42635.0      13.2\n",
            "85    86              Sudan   77                   25.0      1168.0      36.5\n",
            "7      8            Finland  101                 2725.0     42706.0       8.2\n",
            "42    43             Greece   91                  781.0     21101.0      22.3\n",
            "88    89               Chad   75                   16.0       630.0      35.6\n",
            "\n",
            "[108 rows x 6 columns]\n"
          ]
        }
      ],
      "source": [
        "print(Iq_It)"
      ]
    },
    {
      "cell_type": "code",
      "execution_count": 7,
      "metadata": {},
      "outputs": [
        {
          "name": "stdout",
          "output_type": "stream",
          "text": [
            "\n",
            "Duplicate Row:\n",
            "Empty DataFrame\n",
            "Columns: [Id, country, IQ, education_expenditure, avg_income, avg_temp]\n",
            "Index: []\n"
          ]
        }
      ],
      "source": [
        "duplicates = Iq_It.duplicated()\n",
        "print(\"\\nDuplicate Row:\")\n",
        "print(Iq_It[duplicates])"
      ]
    },
    {
      "cell_type": "markdown",
      "metadata": {},
      "source": [
        "There are no duplicate in our data"
      ]
    },
    {
      "cell_type": "markdown",
      "metadata": {},
      "source": [
        "### Handle Missing Values"
      ]
    },
    {
      "cell_type": "code",
      "execution_count": 8,
      "metadata": {},
      "outputs": [
        {
          "name": "stdout",
          "output_type": "stream",
          "text": [
            "Original DataFrame:\n",
            "      Id            country   IQ  education_expenditure  avg_income  avg_temp\n",
            "31    32             Russia   96                  338.0      8241.0       9.5\n",
            "91    92           Zimbabwe   74                   50.0       843.0      27.1\n",
            "103  104  Equatorial Guinea   56                    NaN      7625.0      29.9\n",
            "98    99           Ethiopia   67                   21.0       379.0      27.2\n",
            "45    46         Kazakhstan   89                  225.0      6380.0      13.5\n",
            "..   ...                ...  ...                    ...         ...       ...\n",
            "19    20            Austria   99                 2341.0     42635.0      13.2\n",
            "85    86              Sudan   77                   25.0      1168.0      36.5\n",
            "7      8            Finland  101                 2725.0     42706.0       8.2\n",
            "42    43             Greece   91                  781.0     21101.0      22.3\n",
            "88    89               Chad   75                   16.0       630.0      35.6\n",
            "\n",
            "[108 rows x 6 columns]\n"
          ]
        }
      ],
      "source": [
        "# Display the DataFrame to inspect it\n",
        "print(\"Original DataFrame:\")\n",
        "print(Iq_It)"
      ]
    },
    {
      "cell_type": "code",
      "execution_count": 9,
      "metadata": {},
      "outputs": [
        {
          "name": "stdout",
          "output_type": "stream",
          "text": [
            "\n",
            "Missing values in each column:\n",
            "Id                       0\n",
            "country                  0\n",
            "IQ                       0\n",
            "education_expenditure    5\n",
            "avg_income               2\n",
            "avg_temp                 0\n",
            "dtype: int64\n"
          ]
        }
      ],
      "source": [
        "# Check for missing values\n",
        "print(\"\\nMissing values in each column:\")\n",
        "print(Iq_It.isnull().sum())"
      ]
    },
    {
      "cell_type": "code",
      "execution_count": 10,
      "metadata": {},
      "outputs": [
        {
          "name": "stdout",
          "output_type": "stream",
          "text": [
            "\n",
            "DataFrame after handling missing values:\n",
            "      Id            country   IQ  education_expenditure  avg_income  avg_temp\n",
            "31    32             Russia   96             338.000000      8241.0       9.5\n",
            "91    92           Zimbabwe   74              50.000000       843.0      27.1\n",
            "103  104  Equatorial Guinea   56             903.058252      7625.0      29.9\n",
            "98    99           Ethiopia   67              21.000000       379.0      27.2\n",
            "45    46         Kazakhstan   89             225.000000      6380.0      13.5\n",
            "..   ...                ...  ...                    ...         ...       ...\n",
            "19    20            Austria   99            2341.000000     42635.0      13.2\n",
            "85    86              Sudan   77              25.000000      1168.0      36.5\n",
            "7      8            Finland  101            2725.000000     42706.0       8.2\n",
            "42    43             Greece   91             781.000000     21101.0      22.3\n",
            "88    89               Chad   75              16.000000       630.0      35.6\n",
            "\n",
            "[108 rows x 6 columns]\n"
          ]
        }
      ],
      "source": [
        "# Handling missing values\n",
        "# Fill missing values with a specific value (mean of the column)\n",
        "Iq_It_f = Iq_It.fillna({\n",
        "    'education_expenditure': Iq_It['education_expenditure'].mean(),  \n",
        "    'avg_income': Iq_It['avg_income'].mean(), \n",
        "    'avg_temp': Iq_It['avg_temp'].mean() \n",
        "})\n",
        "\n",
        "# Display the DataFrame after handling missing values\n",
        "print(\"\\nDataFrame after handling missing values:\")\n",
        "print(Iq_It_f)"
      ]
    },
    {
      "cell_type": "markdown",
      "metadata": {},
      "source": [
        "Encode"
      ]
    },
    {
      "cell_type": "code",
      "execution_count": 11,
      "metadata": {},
      "outputs": [
        {
          "data": {
            "text/html": [
              "<div>\n",
              "<style scoped>\n",
              "    .dataframe tbody tr th:only-of-type {\n",
              "        vertical-align: middle;\n",
              "    }\n",
              "\n",
              "    .dataframe tbody tr th {\n",
              "        vertical-align: top;\n",
              "    }\n",
              "\n",
              "    .dataframe thead th {\n",
              "        text-align: right;\n",
              "    }\n",
              "</style>\n",
              "<table border=\"1\" class=\"dataframe\">\n",
              "  <thead>\n",
              "    <tr style=\"text-align: right;\">\n",
              "      <th></th>\n",
              "      <th>Id</th>\n",
              "      <th>country</th>\n",
              "      <th>IQ</th>\n",
              "      <th>education_expenditure</th>\n",
              "      <th>avg_income</th>\n",
              "      <th>avg_temp</th>\n",
              "      <th>IQ_Level</th>\n",
              "    </tr>\n",
              "  </thead>\n",
              "  <tbody>\n",
              "    <tr>\n",
              "      <th>31</th>\n",
              "      <td>32</td>\n",
              "      <td>Russia</td>\n",
              "      <td>96</td>\n",
              "      <td>338.000000</td>\n",
              "      <td>8241.0</td>\n",
              "      <td>9.5</td>\n",
              "      <td>3</td>\n",
              "    </tr>\n",
              "    <tr>\n",
              "      <th>91</th>\n",
              "      <td>92</td>\n",
              "      <td>Zimbabwe</td>\n",
              "      <td>74</td>\n",
              "      <td>50.000000</td>\n",
              "      <td>843.0</td>\n",
              "      <td>27.1</td>\n",
              "      <td>2</td>\n",
              "    </tr>\n",
              "    <tr>\n",
              "      <th>103</th>\n",
              "      <td>104</td>\n",
              "      <td>Equatorial Guinea</td>\n",
              "      <td>56</td>\n",
              "      <td>903.058252</td>\n",
              "      <td>7625.0</td>\n",
              "      <td>29.9</td>\n",
              "      <td>1</td>\n",
              "    </tr>\n",
              "    <tr>\n",
              "      <th>98</th>\n",
              "      <td>99</td>\n",
              "      <td>Ethiopia</td>\n",
              "      <td>67</td>\n",
              "      <td>21.000000</td>\n",
              "      <td>379.0</td>\n",
              "      <td>27.2</td>\n",
              "      <td>1</td>\n",
              "    </tr>\n",
              "    <tr>\n",
              "      <th>45</th>\n",
              "      <td>46</td>\n",
              "      <td>Kazakhstan</td>\n",
              "      <td>89</td>\n",
              "      <td>225.000000</td>\n",
              "      <td>6380.0</td>\n",
              "      <td>13.5</td>\n",
              "      <td>2</td>\n",
              "    </tr>\n",
              "  </tbody>\n",
              "</table>\n",
              "</div>"
            ],
            "text/plain": [
              "      Id            country  IQ  education_expenditure  avg_income  avg_temp  \\\n",
              "31    32             Russia  96             338.000000      8241.0       9.5   \n",
              "91    92           Zimbabwe  74              50.000000       843.0      27.1   \n",
              "103  104  Equatorial Guinea  56             903.058252      7625.0      29.9   \n",
              "98    99           Ethiopia  67              21.000000       379.0      27.2   \n",
              "45    46         Kazakhstan  89             225.000000      6380.0      13.5   \n",
              "\n",
              "     IQ_Level  \n",
              "31          3  \n",
              "91          2  \n",
              "103         1  \n",
              "98          1  \n",
              "45          2  "
            ]
          },
          "execution_count": 11,
          "metadata": {},
          "output_type": "execute_result"
        }
      ],
      "source": [
        "# Define a function to categorize IQ into intervals\n",
        "def categorize_iq(iq):\n",
        "    if iq < 70:\n",
        "        return 1\n",
        "    elif iq < 90:\n",
        "        return 2\n",
        "    elif iq < 107:\n",
        "        return 3\n",
        "\n",
        "# Apply the function to the IQ column\n",
        "Iq_It_f['IQ_Level'] = Iq_It_f['IQ'].apply(categorize_iq)\n",
        "\n",
        "Iq_It_f.head()\n"
      ]
    },
    {
      "cell_type": "code",
      "execution_count": 12,
      "metadata": {},
      "outputs": [
        {
          "data": {
            "image/png": "[encoded data removed]",
            "text/plain": [
              "<Figure size 2000x600 with 3 Axes>"
            ]
          },
          "metadata": {},
          "output_type": "display_data"
        }
      ],
      "source": [
        "# Plot histograms\n",
        "plt.figure(figsize=(20, 6))\n",
        "\n",
        "plt.subplot(1, 3, 1)\n",
        "Iq_It_f['IQ'].hist(bins=10, edgecolor='black')\n",
        "plt.title('Distribution of IQ')\n",
        "plt.xlabel('IQ')\n",
        "plt.ylabel('Frequency')\n",
        "\n",
        "plt.subplot(1, 3, 2)\n",
        "Iq_It_f['education_expenditure'].hist(bins=10, edgecolor='black')\n",
        "plt.title('Distribution of Education Expenditure')\n",
        "plt.xlabel('Education Expenditure')\n",
        "plt.ylabel('Frequency')\n",
        "\n",
        "plt.subplot(1, 3, 3)\n",
        "Iq_It_f['avg_income'].hist(bins=10, edgecolor='black')\n",
        "plt.title('Distribution of Average Income')\n",
        "plt.xlabel('Average Income')\n",
        "plt.ylabel('Frequency')\n",
        "\n",
        "plt.tight_layout()\n",
        "plt.show()"
      ]
    },
    {
      "cell_type": "code",
      "execution_count": 13,
      "metadata": {},
      "outputs": [
        {
          "data": {
            "image/png": "[encoded data removed]",
            "text/plain": [
              "<Figure size 2000x600 with 3 Axes>"
            ]
          },
          "metadata": {},
          "output_type": "display_data"
        }
      ],
      "source": [
        "plt.figure(figsize=(20, 6))\n",
        "\n",
        "plt.subplot(1, 3, 1)\n",
        "sns.boxplot(y=Iq_It_f['IQ'])\n",
        "plt.title('Box Plot of IQ')\n",
        "\n",
        "plt.subplot(1, 3, 2)\n",
        "sns.boxplot(y=Iq_It_f['education_expenditure'])\n",
        "plt.title('Box Plot of Education Expenditure')\n",
        "\n",
        "plt.subplot(1, 3, 3)\n",
        "sns.boxplot(y=Iq_It_f['avg_income'])\n",
        "plt.title('Box Plot of Average Income')\n",
        "\n",
        "plt.tight_layout()\n",
        "plt.show()\n"
      ]
    },
    {
      "cell_type": "code",
      "execution_count": 14,
      "metadata": {},
      "outputs": [
        {
          "data": {
            "image/png": "[encoded data removed]",
            "text/plain": [
              "<Figure size 2000x600 with 3 Axes>"
            ]
          },
          "metadata": {},
          "output_type": "display_data"
        }
      ],
      "source": [
        "plt.figure(figsize=(20, 6))\n",
        "\n",
        "plt.subplot(1, 3, 1)\n",
        "sns.kdeplot(Iq_It_f['IQ'], fill=True)\n",
        "plt.title('Density Plot of IQ')\n",
        "\n",
        "plt.subplot(1, 3, 2)\n",
        "sns.kdeplot(Iq_It_f['education_expenditure'], fill=True)\n",
        "plt.title('Density Plot of Education Expenditure')\n",
        "\n",
        "plt.subplot(1, 3, 3)\n",
        "sns.kdeplot(Iq_It_f['avg_income'], fill=True)\n",
        "plt.title('Density Plot of Average Income')\n",
        "\n",
        "plt.tight_layout()\n",
        "plt.show()\n"
      ]
    },
    {
      "cell_type": "markdown",
      "metadata": {},
      "source": [
        "### Clone into train&test file"
      ]
    },
    {
      "cell_type": "code",
      "execution_count": 15,
      "metadata": {},
      "outputs": [],
      "source": [
        "import os"
      ]
    },
    {
      "cell_type": "code",
      "execution_count": 16,
      "metadata": {},
      "outputs": [],
      "source": [
        "# Cloning into train and test set\n",
        "clone_directory = 'clone_data'\n",
        "\n",
        "train_filepath = os.path.join(clone_directory, 'IqIt_train.csv')\n",
        "test_filepath = os.path.join(clone_directory, 'IqIt_test.csv')\n",
        "\n",
        "if not os.path.exists(clone_directory):\n",
        "    os.makedirs(clone_directory)\n",
        "\n",
        "Iq_It_f.to_csv(train_filepath)\n",
        "Iq_It_f.to_csv(test_filepath)"
      ]
    },
    {
      "cell_type": "markdown",
      "metadata": {
        "id": "iW3BHRYgk9rB"
      },
      "source": [
        "# 2. Selection"
      ]
    },
    {
      "cell_type": "code",
      "execution_count": 17,
      "metadata": {},
      "outputs": [],
      "source": [
        "IqIt_train = pd.read_csv(\"../src/clone_data/IqIt_train.csv\")"
      ]
    },
    {
      "cell_type": "markdown",
      "metadata": {
        "id": "tAqgXbYUk9tu"
      },
      "source": [
        "## 2.1. Information Gain"
      ]
    },
    {
      "cell_type": "code",
      "execution_count": 18,
      "metadata": {},
      "outputs": [],
      "source": [
        "import numpy as np\n",
        "import matplotlib.pyplot as plt\n",
        "from sklearn.datasets import load_diabetes\n",
        "from sklearn.feature_selection import mutual_info_regression"
      ]
    },
    {
      "cell_type": "code",
      "execution_count": 19,
      "metadata": {},
      "outputs": [
        {
          "name": "stdout",
          "output_type": "stream",
          "text": [
            "Features: avg_income Score:  0.3423368582568509\n",
            "Features: education_expenditure Score:  0.28545223740725945\n",
            "Features: avg_temp Score:  0.2761023202523667\n"
          ]
        },
        {
          "data": {
            "image/png": "[encoded data removed]",
            "text/plain": [
              "<Figure size 640x480 with 1 Axes>"
            ]
          },
          "metadata": {},
          "output_type": "display_data"
        }
      ],
      "source": [
        "x = IqIt_train.drop(columns=[\"Unnamed: 0\",\"country\",\"Id\",\"IQ\",\"IQ_Level\"])\n",
        "y = IqIt_train[\"IQ_Level\"]\n",
        "\n",
        "#Apply Information Gain\n",
        "ig = mutual_info_regression(x,y)\n",
        "\n",
        "#Create a dictionary of feature importance scores\n",
        "feature_scores = {}\n",
        "for i in range(len(x.columns)):\n",
        "    feature_scores[x.columns[i]] = ig[i]\n",
        "\n",
        "# Sort the features by importance score in descending order\n",
        "sorted_features = sorted(feature_scores.items(), key=lambda x: x[1], reverse=True)\n",
        "\n",
        "#Sort the features by importance scores and the sorted features\n",
        "for feature, score in sorted_features:\n",
        "    print(\"Features:\", feature, \"Score: \", score)\n",
        "\n",
        "#Plot a horizontal bar chat of the feature importance scores\n",
        "fig, ax = plt.subplots()\n",
        "y_pos = np.arange(len(sorted_features))\n",
        "ax.barh(y_pos, [score for feature, score in sorted_features], align=\"center\")\n",
        "ax.set_yticks(y_pos)\n",
        "ax.set_yticklabels([feature for feature, score in sorted_features])\n",
        "ax.invert_yaxis()  # Labels read top-to-bottom\n",
        "ax.set_xlabel(\"Importance Score\")\n",
        "ax.set_title(\"Feature Importance Scores (Information Gain)\")\n",
        "\n",
        "# Add importance scores as labels on the horizontal bar chart\n",
        "for i, v in enumerate([score for feature, score in sorted_features]):\n",
        "    ax.text(v + 0.01, i, str(round(v, 3)), color=\"black\", fontweight=\"bold\")\n",
        "plt.show()"
      ]
    },
    {
      "cell_type": "markdown",
      "metadata": {
        "id": "KVmy8FRpk9yV"
      },
      "source": [
        "## 2.2. Chi_Square"
      ]
    },
    {
      "cell_type": "code",
      "execution_count": 20,
      "metadata": {},
      "outputs": [],
      "source": [
        "from sklearn.feature_selection import chi2\n",
        "import seaborn as sns\n",
        "from sklearn.preprocessing import LabelEncoder"
      ]
    },
    {
      "cell_type": "code",
      "execution_count": 21,
      "metadata": {},
      "outputs": [
        {
          "data": {
            "text/plain": [
              "<Axes: >"
            ]
          },
          "execution_count": 21,
          "metadata": {},
          "output_type": "execute_result"
        },
        {
          "data": {
            "image/png": "[encoded data removed]",
            "text/plain": [
              "<Figure size 640x480 with 1 Axes>"
            ]
          },
          "metadata": {},
          "output_type": "display_data"
        }
      ],
      "source": [
        "# Split the dataset into features and target\n",
        "X = IqIt_train.drop(columns=[\"Unnamed: 0\",\"country\",\"Id\",\"IQ\",\"IQ_Level\"])\n",
        "y = IqIt_train[\"IQ_Level\"]\n",
        "\n",
        "chi_scores = chi2(X, y)\n",
        "\n",
        "p_values = pd.Series(chi_scores[1], index=X.columns)\n",
        "p_values.sort_values(ascending=True, inplace=True)\n",
        "\n",
        "p_values.plot.barh()"
      ]
    },
    {
      "cell_type": "markdown",
      "metadata": {
        "id": "aqQJbOKMZbdl"
      },
      "source": [
        "# 3. Split and Prepare Data"
      ]
    },
    {
      "cell_type": "code",
      "execution_count": 22,
      "metadata": {},
      "outputs": [],
      "source": [
        "from sklearn.model_selection import train_test_split"
      ]
    },
    {
      "cell_type": "markdown",
      "metadata": {},
      "source": [
        "## IQ Country and Income&Temperature"
      ]
    },
    {
      "cell_type": "code",
      "execution_count": 23,
      "metadata": {},
      "outputs": [],
      "source": [
        "X_iqit = IqIt_train[\n",
        "    [\n",
        "        \"education_expenditure\",\n",
        "        \"avg_income\",\n",
        "    ]\n",
        "]\n",
        "\n",
        "Y_iqit = IqIt_train[\"IQ_Level\"]\n",
        "\n",
        "X_train_iqit, X_test_iqit, Y_train_iqit, Y_test_iqit = train_test_split(\n",
        "    X_iqit, Y_iqit, test_size = 0.1, random_state=42\n",
        ")"
      ]
    },
    {
      "cell_type": "markdown",
      "metadata": {
        "id": "sTtE1-nVYDOT"
      },
      "source": [
        "# 4. Modeling\n",
        "#### Decision Tree, Logistic Regression, Random Forest, KNN, Naive Bayes, SVM"
      ]
    },
    {
      "cell_type": "code",
      "execution_count": 24,
      "metadata": {},
      "outputs": [],
      "source": [
        "from sklearn.metrics import accuracy_score\n",
        "from sklearn.pipeline import Pipeline\n",
        "from sklearn.ensemble import RandomForestClassifier\n",
        "from sklearn.ensemble import GradientBoostingClassifier\n",
        "from sklearn.ensemble import ExtraTreesClassifier\n",
        "from sklearn.ensemble import AdaBoostClassifier\n",
        "from sklearn.preprocessing import StandardScaler\n",
        "from sklearn.model_selection import KFold\n",
        "from sklearn.model_selection import cross_val_score\n",
        "from sklearn.model_selection import GridSearchCV\n",
        "from sklearn.linear_model import LogisticRegression\n",
        "from sklearn.tree import DecisionTreeClassifier\n",
        "from sklearn.neighbors import KNeighborsClassifier\n",
        "from sklearn.svm import SVC\n",
        "from pandas import read_csv\n",
        "from pandas import set_option\n",
        "from sklearn.preprocessing import StandardScaler\n",
        "from sklearn.metrics import classification_report\n",
        "from sklearn.metrics import confusion_matrix\n",
        "from sklearn.discriminant_analysis import LinearDiscriminantAnalysis\n",
        "from sklearn.naive_bayes import GaussianNB\n",
        "\n",
        "num_folds = 10\n",
        "seed = 7\n",
        "scoring = \"accuracy\"\n",
        "\n",
        "models = []\n",
        "models.append((\"LR\", LogisticRegression()))\n",
        "models.append((\"LDA\", LinearDiscriminantAnalysis()))\n",
        "models.append((\"KNN\", KNeighborsClassifier()))\n",
        "models.append((\"CART\", DecisionTreeClassifier()))\n",
        "models.append((\"NB\", GaussianNB()))\n",
        "models.append((\"SVM\", SVC()))"
      ]
    },
    {
      "cell_type": "code",
      "execution_count": 25,
      "metadata": {},
      "outputs": [
        {
          "name": "stderr",
          "output_type": "stream",
          "text": [
            "c:\\Users\\Admin\\AppData\\Local\\Programs\\Python\\Python311\\Lib\\site-packages\\sklearn\\linear_model\\_logistic.py:469: ConvergenceWarning: lbfgs failed to converge (status=1):\n",
            "STOP: TOTAL NO. of ITERATIONS REACHED LIMIT.\n",
            "\n",
            "Increase the number of iterations (max_iter) or scale the data as shown in:\n",
            "    https://scikit-learn.org/stable/modules/preprocessing.html\n",
            "Please also refer to the documentation for alternative solver options:\n",
            "    https://scikit-learn.org/stable/modules/linear_model.html#logistic-regression\n",
            "  n_iter_i = _check_optimize_result(\n",
            "c:\\Users\\Admin\\AppData\\Local\\Programs\\Python\\Python311\\Lib\\site-packages\\sklearn\\linear_model\\_logistic.py:469: ConvergenceWarning: lbfgs failed to converge (status=1):\n",
            "STOP: TOTAL NO. of ITERATIONS REACHED LIMIT.\n",
            "\n",
            "Increase the number of iterations (max_iter) or scale the data as shown in:\n",
            "    https://scikit-learn.org/stable/modules/preprocessing.html\n",
            "Please also refer to the documentation for alternative solver options:\n",
            "    https://scikit-learn.org/stable/modules/linear_model.html#logistic-regression\n",
            "  n_iter_i = _check_optimize_result(\n",
            "c:\\Users\\Admin\\AppData\\Local\\Programs\\Python\\Python311\\Lib\\site-packages\\sklearn\\linear_model\\_logistic.py:469: ConvergenceWarning: lbfgs failed to converge (status=1):\n",
            "STOP: TOTAL NO. of ITERATIONS REACHED LIMIT.\n",
            "\n",
            "Increase the number of iterations (max_iter) or scale the data as shown in:\n",
            "    https://scikit-learn.org/stable/modules/preprocessing.html\n",
            "Please also refer to the documentation for alternative solver options:\n",
            "    https://scikit-learn.org/stable/modules/linear_model.html#logistic-regression\n",
            "  n_iter_i = _check_optimize_result(\n",
            "c:\\Users\\Admin\\AppData\\Local\\Programs\\Python\\Python311\\Lib\\site-packages\\sklearn\\linear_model\\_logistic.py:469: ConvergenceWarning: lbfgs failed to converge (status=1):\n",
            "STOP: TOTAL NO. of ITERATIONS REACHED LIMIT.\n",
            "\n",
            "Increase the number of iterations (max_iter) or scale the data as shown in:\n",
            "    https://scikit-learn.org/stable/modules/preprocessing.html\n",
            "Please also refer to the documentation for alternative solver options:\n",
            "    https://scikit-learn.org/stable/modules/linear_model.html#logistic-regression\n",
            "  n_iter_i = _check_optimize_result(\n",
            "c:\\Users\\Admin\\AppData\\Local\\Programs\\Python\\Python311\\Lib\\site-packages\\sklearn\\linear_model\\_logistic.py:469: ConvergenceWarning: lbfgs failed to converge (status=1):\n",
            "STOP: TOTAL NO. of ITERATIONS REACHED LIMIT.\n",
            "\n",
            "Increase the number of iterations (max_iter) or scale the data as shown in:\n",
            "    https://scikit-learn.org/stable/modules/preprocessing.html\n",
            "Please also refer to the documentation for alternative solver options:\n",
            "    https://scikit-learn.org/stable/modules/linear_model.html#logistic-regression\n",
            "  n_iter_i = _check_optimize_result(\n",
            "c:\\Users\\Admin\\AppData\\Local\\Programs\\Python\\Python311\\Lib\\site-packages\\sklearn\\linear_model\\_logistic.py:469: ConvergenceWarning: lbfgs failed to converge (status=1):\n",
            "STOP: TOTAL NO. of ITERATIONS REACHED LIMIT.\n",
            "\n",
            "Increase the number of iterations (max_iter) or scale the data as shown in:\n",
            "    https://scikit-learn.org/stable/modules/preprocessing.html\n",
            "Please also refer to the documentation for alternative solver options:\n",
            "    https://scikit-learn.org/stable/modules/linear_model.html#logistic-regression\n",
            "  n_iter_i = _check_optimize_result(\n",
            "c:\\Users\\Admin\\AppData\\Local\\Programs\\Python\\Python311\\Lib\\site-packages\\sklearn\\linear_model\\_logistic.py:469: ConvergenceWarning: lbfgs failed to converge (status=1):\n",
            "STOP: TOTAL NO. of ITERATIONS REACHED LIMIT.\n",
            "\n",
            "Increase the number of iterations (max_iter) or scale the data as shown in:\n",
            "    https://scikit-learn.org/stable/modules/preprocessing.html\n",
            "Please also refer to the documentation for alternative solver options:\n",
            "    https://scikit-learn.org/stable/modules/linear_model.html#logistic-regression\n",
            "  n_iter_i = _check_optimize_result(\n",
            "c:\\Users\\Admin\\AppData\\Local\\Programs\\Python\\Python311\\Lib\\site-packages\\sklearn\\linear_model\\_logistic.py:469: ConvergenceWarning: lbfgs failed to converge (status=1):\n",
            "STOP: TOTAL NO. of ITERATIONS REACHED LIMIT.\n",
            "\n",
            "Increase the number of iterations (max_iter) or scale the data as shown in:\n",
            "    https://scikit-learn.org/stable/modules/preprocessing.html\n",
            "Please also refer to the documentation for alternative solver options:\n",
            "    https://scikit-learn.org/stable/modules/linear_model.html#logistic-regression\n",
            "  n_iter_i = _check_optimize_result(\n",
            "c:\\Users\\Admin\\AppData\\Local\\Programs\\Python\\Python311\\Lib\\site-packages\\sklearn\\linear_model\\_logistic.py:469: ConvergenceWarning: lbfgs failed to converge (status=1):\n",
            "STOP: TOTAL NO. of ITERATIONS REACHED LIMIT.\n",
            "\n",
            "Increase the number of iterations (max_iter) or scale the data as shown in:\n",
            "    https://scikit-learn.org/stable/modules/preprocessing.html\n",
            "Please also refer to the documentation for alternative solver options:\n",
            "    https://scikit-learn.org/stable/modules/linear_model.html#logistic-regression\n",
            "  n_iter_i = _check_optimize_result(\n",
            "c:\\Users\\Admin\\AppData\\Local\\Programs\\Python\\Python311\\Lib\\site-packages\\sklearn\\linear_model\\_logistic.py:469: ConvergenceWarning: lbfgs failed to converge (status=1):\n",
            "STOP: TOTAL NO. of ITERATIONS REACHED LIMIT.\n",
            "\n",
            "Increase the number of iterations (max_iter) or scale the data as shown in:\n",
            "    https://scikit-learn.org/stable/modules/preprocessing.html\n",
            "Please also refer to the documentation for alternative solver options:\n",
            "    https://scikit-learn.org/stable/modules/linear_model.html#logistic-regression\n",
            "  n_iter_i = _check_optimize_result(\n"
          ]
        },
        {
          "name": "stdout",
          "output_type": "stream",
          "text": [
            "LR: 0.687778 (0.138104)\n",
            "LDA: 0.687778 (0.130663)\n",
            "KNN: 0.784444 (0.097904)\n",
            "CART: 0.647778 (0.149571)\n",
            "NB: 0.530000 (0.187909)\n",
            "SVM: 0.718889 (0.102083)\n"
          ]
        }
      ],
      "source": [
        "results = []\n",
        "names = []\n",
        "for name, model in models:\n",
        "    kfold = KFold(n_splits = num_folds, random_state = None)\n",
        "    cv_results = cross_val_score(\n",
        "        model, X_train_iqit, Y_train_iqit, cv = kfold, scoring = scoring\n",
        "    )\n",
        "    results.append(cv_results)\n",
        "    names.append(name)\n",
        "    msg = \"%s: %f (%f)\" % (name, cv_results.mean(), cv_results.std())\n",
        "    print(msg)\n",
        "    "
      ]
    },
    {
      "cell_type": "code",
      "execution_count": 26,
      "metadata": {},
      "outputs": [
        {
          "data": {
            "image/png": "[encoded data removed]",
            "text/plain": [
              "<Figure size 1000x1000 with 1 Axes>"
            ]
          },
          "metadata": {},
          "output_type": "display_data"
        }
      ],
      "source": [
        "                                                                                                                                                                                                                                                                                                                                                                                                                                                                                                                                                  import matplotlib.pyplot as plt\n",
        "fig = plt.figure(figsize=(10, 10))\n",
        "fig.suptitle(\"Algorithm Comparison\")\n",
        "ax = fig.add_subplot(111)\n",
        "pyplot.boxplot(results)\n",
        "ax.set_xticklabels(names)\n",
        "pyplot.show()"
      ]
    },
    {
      "cell_type": "code",
      "execution_count": 27,
      "metadata": {},
      "outputs": [
        {
          "name": "stdout",
          "output_type": "stream",
          "text": [
            "ScaledLR: 0.708889 (0.087743)\n",
            "ScaledLDA: 0.687778 (0.130663)\n",
            "ScaledKNN: 0.742222 (0.094907)\n",
            "ScaledCART: 0.670000 (0.123733)\n",
            "ScaledNB: 0.530000 (0.187909)\n",
            "ScaledSVM: 0.718889 (0.102083)\n"
          ]
        }
      ],
      "source": [
        "pipelines = []\n",
        "pipelines.append(\n",
        "    (\"ScaledLR\", Pipeline([(\"Scaler\", StandardScaler()), (\"LR\", LogisticRegression())]))\n",
        ")\n",
        "pipelines.append(\n",
        "    (\n",
        "        \"ScaledLDA\",\n",
        "        Pipeline([(\"Scaler\", StandardScaler()), (\"LDA\", LinearDiscriminantAnalysis())]),\n",
        "    )\n",
        ")\n",
        "pipelines.append(\n",
        "    (\n",
        "        \"ScaledKNN\",\n",
        "        Pipeline([(\"Scaler\", StandardScaler()), (\"KNN\", KNeighborsClassifier())]),\n",
        "    )\n",
        ")\n",
        "pipelines.append(\n",
        "    (\n",
        "        \"ScaledCART\",\n",
        "        Pipeline([(\"Scaler\", StandardScaler()), (\"CART\", DecisionTreeClassifier())]),\n",
        "    )\n",
        ")\n",
        "pipelines.append(\n",
        "    (\"ScaledNB\", Pipeline([(\"Scaler\", StandardScaler()), (\"NB\", GaussianNB())]))\n",
        ")\n",
        "pipelines.append(\n",
        "    (\"ScaledSVM\", Pipeline([(\"Scaler\", StandardScaler()), (\"SVM\", SVC())]))\n",
        ")\n",
        "results = []\n",
        "names = []\n",
        "for name, model in pipelines:\n",
        "    kfold = KFold(n_splits=num_folds, random_state=None)\n",
        "    cv_results = cross_val_score(\n",
        "        model, X_train_iqit, Y_train_iqit, cv=kfold, scoring=scoring\n",
        "    )\n",
        "    results.append(cv_results)\n",
        "    names.append(name)\n",
        "    msg = \"%s: %f (%f)\" % (name, cv_results.mean(), cv_results.std())\n",
        "    print(msg)"
      ]
    },
    {
      "cell_type": "markdown",
      "metadata": {},
      "source": [
        "LDA - LR - SVM"
      ]
    },
    {
      "cell_type": "code",
      "execution_count": 28,
      "metadata": {},
      "outputs": [
        {
          "name": "stderr",
          "output_type": "stream",
          "text": [
            "c:\\Users\\Admin\\AppData\\Local\\Programs\\Python\\Python311\\Lib\\site-packages\\sklearn\\ensemble\\_weight_boosting.py:527: FutureWarning: The SAMME.R algorithm (the default) is deprecated and will be removed in 1.6. Use the SAMME algorithm to circumvent this warning.\n",
            "  warnings.warn(\n",
            "c:\\Users\\Admin\\AppData\\Local\\Programs\\Python\\Python311\\Lib\\site-packages\\sklearn\\ensemble\\_weight_boosting.py:527: FutureWarning: The SAMME.R algorithm (the default) is deprecated and will be removed in 1.6. Use the SAMME algorithm to circumvent this warning.\n",
            "  warnings.warn(\n",
            "c:\\Users\\Admin\\AppData\\Local\\Programs\\Python\\Python311\\Lib\\site-packages\\sklearn\\ensemble\\_weight_boosting.py:527: FutureWarning: The SAMME.R algorithm (the default) is deprecated and will be removed in 1.6. Use the SAMME algorithm to circumvent this warning.\n",
            "  warnings.warn(\n",
            "c:\\Users\\Admin\\AppData\\Local\\Programs\\Python\\Python311\\Lib\\site-packages\\sklearn\\ensemble\\_weight_boosting.py:527: FutureWarning: The SAMME.R algorithm (the default) is deprecated and will be removed in 1.6. Use the SAMME algorithm to circumvent this warning.\n",
            "  warnings.warn(\n",
            "c:\\Users\\Admin\\AppData\\Local\\Programs\\Python\\Python311\\Lib\\site-packages\\sklearn\\ensemble\\_weight_boosting.py:527: FutureWarning: The SAMME.R algorithm (the default) is deprecated and will be removed in 1.6. Use the SAMME algorithm to circumvent this warning.\n",
            "  warnings.warn(\n",
            "c:\\Users\\Admin\\AppData\\Local\\Programs\\Python\\Python311\\Lib\\site-packages\\sklearn\\ensemble\\_weight_boosting.py:527: FutureWarning: The SAMME.R algorithm (the default) is deprecated and will be removed in 1.6. Use the SAMME algorithm to circumvent this warning.\n",
            "  warnings.warn(\n",
            "c:\\Users\\Admin\\AppData\\Local\\Programs\\Python\\Python311\\Lib\\site-packages\\sklearn\\ensemble\\_weight_boosting.py:527: FutureWarning: The SAMME.R algorithm (the default) is deprecated and will be removed in 1.6. Use the SAMME algorithm to circumvent this warning.\n",
            "  warnings.warn(\n",
            "c:\\Users\\Admin\\AppData\\Local\\Programs\\Python\\Python311\\Lib\\site-packages\\sklearn\\ensemble\\_weight_boosting.py:527: FutureWarning: The SAMME.R algorithm (the default) is deprecated and will be removed in 1.6. Use the SAMME algorithm to circumvent this warning.\n",
            "  warnings.warn(\n",
            "c:\\Users\\Admin\\AppData\\Local\\Programs\\Python\\Python311\\Lib\\site-packages\\sklearn\\ensemble\\_weight_boosting.py:527: FutureWarning: The SAMME.R algorithm (the default) is deprecated and will be removed in 1.6. Use the SAMME algorithm to circumvent this warning.\n",
            "  warnings.warn(\n",
            "c:\\Users\\Admin\\AppData\\Local\\Programs\\Python\\Python311\\Lib\\site-packages\\sklearn\\ensemble\\_weight_boosting.py:527: FutureWarning: The SAMME.R algorithm (the default) is deprecated and will be removed in 1.6. Use the SAMME algorithm to circumvent this warning.\n",
            "  warnings.warn(\n"
          ]
        },
        {
          "name": "stdout",
          "output_type": "stream",
          "text": [
            "AB: 0.400000 (0.157292)\n",
            "GBM: 0.637778 (0.152607)\n",
            "RF: 0.731111 (0.140264)\n",
            "ET: 0.698889 (0.106046)\n"
          ]
        }
      ],
      "source": [
        "ensembles = []\n",
        "ensembles.append((\"AB\", AdaBoostClassifier()))\n",
        "ensembles.append((\"GBM\", GradientBoostingClassifier()))\n",
        "ensembles.append((\"RF\", RandomForestClassifier()))\n",
        "ensembles.append((\"ET\", ExtraTreesClassifier()))\n",
        "results = []\n",
        "names = []\n",
        "for name, model in ensembles:\n",
        "    kfold = KFold(n_splits=num_folds, random_state=None)\n",
        "    cv_results = cross_val_score(\n",
        "        model, X_train_iqit, Y_train_iqit, cv=kfold, scoring=scoring\n",
        "    )\n",
        "    results.append(cv_results)\n",
        "    names.append(name)\n",
        "    msg = \"%s: %f (%f)\" % (name, cv_results.mean(), cv_results.std())\n",
        "    print(msg)"
      ]
    },
    {
      "cell_type": "code",
      "execution_count": 29,
      "metadata": {},
      "outputs": [
        {
          "data": {
            "image/png": "[encoded data removed]",
            "text/plain": [
              "<Figure size 1000x1000 with 1 Axes>"
            ]
          },
          "metadata": {},
          "output_type": "display_data"
        }
      ],
      "source": [
        "fig = pyplot.figure(figsize=(10, 10))\n",
        "fig.suptitle(\"Scaled Ensemble Algorithm Comparison\")\n",
        "ax = fig.add_subplot(111)\n",
        "pyplot.boxplot(results)\n",
        "ax.set_xticklabels(names)\n",
        "pyplot.show()"
      ]
    },
    {
      "cell_type": "markdown",
      "metadata": {},
      "source": [
        "# 5. Tuning Data"
      ]
    },
    {
      "cell_type": "code",
      "execution_count": 30,
      "metadata": {},
      "outputs": [],
      "source": [
        "# Data standardization\n",
        "scaler = StandardScaler().fit(X_train_iqit)\n",
        "rescaledX = scaler.transform(X_train_iqit)"
      ]
    },
    {
      "cell_type": "code",
      "execution_count": 31,
      "metadata": {},
      "outputs": [
        {
          "name": "stdout",
          "output_type": "stream",
          "text": [
            "Best: 0.687778 using {'shrinkage': 0.1, 'solver': 'lsqr'}\n",
            "0.687778 (0.130663) with: {'shrinkage': 0.1, 'solver': 'lsqr'}\n",
            "0.687778 (0.130663) with: {'shrinkage': 0.1, 'solver': 'eigen'}\n",
            "0.687778 (0.130663) with: {'shrinkage': 0.2, 'solver': 'lsqr'}\n",
            "0.687778 (0.130663) with: {'shrinkage': 0.2, 'solver': 'eigen'}\n",
            "0.677778 (0.117168) with: {'shrinkage': 0.3, 'solver': 'lsqr'}\n",
            "0.677778 (0.117168) with: {'shrinkage': 0.3, 'solver': 'eigen'}\n",
            "0.677778 (0.117168) with: {'shrinkage': 0.4, 'solver': 'lsqr'}\n",
            "0.677778 (0.117168) with: {'shrinkage': 0.4, 'solver': 'eigen'}\n",
            "0.677778 (0.117168) with: {'shrinkage': 0.5, 'solver': 'lsqr'}\n",
            "0.677778 (0.117168) with: {'shrinkage': 0.5, 'solver': 'eigen'}\n",
            "0.677778 (0.117168) with: {'shrinkage': 0.6, 'solver': 'lsqr'}\n",
            "0.677778 (0.117168) with: {'shrinkage': 0.6, 'solver': 'eigen'}\n",
            "0.677778 (0.117168) with: {'shrinkage': 0.7, 'solver': 'lsqr'}\n",
            "0.677778 (0.117168) with: {'shrinkage': 0.7, 'solver': 'eigen'}\n",
            "0.677778 (0.117168) with: {'shrinkage': 0.8, 'solver': 'lsqr'}\n",
            "0.677778 (0.117168) with: {'shrinkage': 0.8, 'solver': 'eigen'}\n",
            "0.677778 (0.117168) with: {'shrinkage': 0.9, 'solver': 'lsqr'}\n",
            "0.677778 (0.117168) with: {'shrinkage': 0.9, 'solver': 'eigen'}\n",
            "0.687778 (0.130663) with: {'shrinkage': 0.05, 'solver': 'lsqr'}\n",
            "0.687778 (0.130663) with: {'shrinkage': 0.05, 'solver': 'eigen'}\n",
            "0.677778 (0.117168) with: {'shrinkage': 0.25, 'solver': 'lsqr'}\n",
            "0.677778 (0.117168) with: {'shrinkage': 0.25, 'solver': 'eigen'}\n",
            "0.687778 (0.130663) with: {'shrinkage': 0.15, 'solver': 'lsqr'}\n",
            "0.687778 (0.130663) with: {'shrinkage': 0.15, 'solver': 'eigen'}\n",
            "0.677778 (0.117168) with: {'shrinkage': 0.35, 'solver': 'lsqr'}\n",
            "0.677778 (0.117168) with: {'shrinkage': 0.35, 'solver': 'eigen'}\n",
            "0.677778 (0.117168) with: {'shrinkage': 0.45, 'solver': 'lsqr'}\n",
            "0.677778 (0.117168) with: {'shrinkage': 0.45, 'solver': 'eigen'}\n",
            "0.677778 (0.117168) with: {'shrinkage': 0.55, 'solver': 'lsqr'}\n",
            "0.677778 (0.117168) with: {'shrinkage': 0.55, 'solver': 'eigen'}\n",
            "0.677778 (0.117168) with: {'shrinkage': 0.65, 'solver': 'lsqr'}\n",
            "0.677778 (0.117168) with: {'shrinkage': 0.65, 'solver': 'eigen'}\n",
            "0.677778 (0.117168) with: {'shrinkage': 0.75, 'solver': 'lsqr'}\n",
            "0.677778 (0.117168) with: {'shrinkage': 0.75, 'solver': 'eigen'}\n",
            "0.677778 (0.117168) with: {'shrinkage': 0.85, 'solver': 'lsqr'}\n",
            "0.677778 (0.117168) with: {'shrinkage': 0.85, 'solver': 'eigen'}\n",
            "0.677778 (0.117168) with: {'shrinkage': 0.95, 'solver': 'lsqr'}\n",
            "0.677778 (0.117168) with: {'shrinkage': 0.95, 'solver': 'eigen'}\n"
          ]
        }
      ],
      "source": [
        "# LDA\n",
        "# Implementing Grid Search and Linear Discriminant Analysis\n",
        "# -> Finfing best parameters \n",
        "scaler = StandardScaler().fit(X_train_iqit)\n",
        "rescaledX = scaler.transform(X_train_iqit)\n",
        "\n",
        "shrinkage_values = [0.1, 0.2, 0.3, 0.4, 0.5, 0.6, 0.7, 0.8, 0.9, 0.05, \n",
        "0.25, 0.15, 0.35, 0.45, 0.55, 0.65, 0.75, 0.85, 0.95]\n",
        "solver_values = [\"lsqr\", \"eigen\"]  # Loại bỏ 'svd' khỏi solver_values\n",
        "\n",
        "param_grid = dict(shrinkage=shrinkage_values, solver=solver_values)\n",
        "\n",
        "model = LinearDiscriminantAnalysis()\n",
        "kfold = KFold(n_splits=num_folds, random_state=None)\n",
        "grid = GridSearchCV(estimator=model, param_grid=param_grid, scoring=scoring, cv=kfold)\n",
        "grid_result = grid.fit(rescaledX, Y_train_iqit)\n",
        "print(\"Best: %f using %s\" % (grid_result.best_score_, grid_result.best_params_))\n",
        "means = grid_result.cv_results_[\"mean_test_score\"]\n",
        "stds = grid_result.cv_results_[\"std_test_score\"]\n",
        "params = grid_result.cv_results_[\"params\"]\n",
        "for mean, stdev, param in zip(means, stds, params):\n",
        "    print(\"%f (%f) with: %r\" % (mean, stdev, param))\n",
        "    \n",
        "\n",
        "## -> Here, we can get the best result. It provides the best hyperparameter for LDA model -> Helping improve and deploy the model with best performance\n",
        "### These values use for several steps: evaluation on test set, model deployment, result analysis and report"
      ]
    },
    {
      "cell_type": "code",
      "execution_count": 32,
      "metadata": {},
      "outputs": [
        {
          "name": "stderr",
          "output_type": "stream",
          "text": [
            "c:\\Users\\Admin\\AppData\\Local\\Programs\\Python\\Python311\\Lib\\site-packages\\sklearn\\linear_model\\_sag.py:349: ConvergenceWarning: The max_iter was reached which means the coef_ did not converge\n",
            "  warnings.warn(\n",
            "c:\\Users\\Admin\\AppData\\Local\\Programs\\Python\\Python311\\Lib\\site-packages\\sklearn\\linear_model\\_sag.py:349: ConvergenceWarning: The max_iter was reached which means the coef_ did not converge\n",
            "  warnings.warn(\n",
            "c:\\Users\\Admin\\AppData\\Local\\Programs\\Python\\Python311\\Lib\\site-packages\\sklearn\\linear_model\\_sag.py:349: ConvergenceWarning: The max_iter was reached which means the coef_ did not converge\n",
            "  warnings.warn(\n",
            "c:\\Users\\Admin\\AppData\\Local\\Programs\\Python\\Python311\\Lib\\site-packages\\sklearn\\linear_model\\_sag.py:349: ConvergenceWarning: The max_iter was reached which means the coef_ did not converge\n",
            "  warnings.warn(\n",
            "c:\\Users\\Admin\\AppData\\Local\\Programs\\Python\\Python311\\Lib\\site-packages\\sklearn\\linear_model\\_sag.py:349: ConvergenceWarning: The max_iter was reached which means the coef_ did not converge\n",
            "  warnings.warn(\n",
            "c:\\Users\\Admin\\AppData\\Local\\Programs\\Python\\Python311\\Lib\\site-packages\\sklearn\\linear_model\\_sag.py:349: ConvergenceWarning: The max_iter was reached which means the coef_ did not converge\n",
            "  warnings.warn(\n",
            "c:\\Users\\Admin\\AppData\\Local\\Programs\\Python\\Python311\\Lib\\site-packages\\sklearn\\linear_model\\_sag.py:349: ConvergenceWarning: The max_iter was reached which means the coef_ did not converge\n",
            "  warnings.warn(\n",
            "c:\\Users\\Admin\\AppData\\Local\\Programs\\Python\\Python311\\Lib\\site-packages\\sklearn\\linear_model\\_sag.py:349: ConvergenceWarning: The max_iter was reached which means the coef_ did not converge\n",
            "  warnings.warn(\n",
            "c:\\Users\\Admin\\AppData\\Local\\Programs\\Python\\Python311\\Lib\\site-packages\\sklearn\\linear_model\\_sag.py:349: ConvergenceWarning: The max_iter was reached which means the coef_ did not converge\n",
            "  warnings.warn(\n",
            "c:\\Users\\Admin\\AppData\\Local\\Programs\\Python\\Python311\\Lib\\site-packages\\sklearn\\linear_model\\_sag.py:349: ConvergenceWarning: The max_iter was reached which means the coef_ did not converge\n",
            "  warnings.warn(\n",
            "c:\\Users\\Admin\\AppData\\Local\\Programs\\Python\\Python311\\Lib\\site-packages\\sklearn\\linear_model\\_sag.py:349: ConvergenceWarning: The max_iter was reached which means the coef_ did not converge\n",
            "  warnings.warn(\n",
            "c:\\Users\\Admin\\AppData\\Local\\Programs\\Python\\Python311\\Lib\\site-packages\\sklearn\\linear_model\\_sag.py:349: ConvergenceWarning: The max_iter was reached which means the coef_ did not converge\n",
            "  warnings.warn(\n",
            "c:\\Users\\Admin\\AppData\\Local\\Programs\\Python\\Python311\\Lib\\site-packages\\sklearn\\linear_model\\_sag.py:349: ConvergenceWarning: The max_iter was reached which means the coef_ did not converge\n",
            "  warnings.warn(\n",
            "c:\\Users\\Admin\\AppData\\Local\\Programs\\Python\\Python311\\Lib\\site-packages\\sklearn\\linear_model\\_sag.py:349: ConvergenceWarning: The max_iter was reached which means the coef_ did not converge\n",
            "  warnings.warn(\n",
            "c:\\Users\\Admin\\AppData\\Local\\Programs\\Python\\Python311\\Lib\\site-packages\\sklearn\\linear_model\\_sag.py:349: ConvergenceWarning: The max_iter was reached which means the coef_ did not converge\n",
            "  warnings.warn(\n",
            "c:\\Users\\Admin\\AppData\\Local\\Programs\\Python\\Python311\\Lib\\site-packages\\sklearn\\linear_model\\_sag.py:349: ConvergenceWarning: The max_iter was reached which means the coef_ did not converge\n",
            "  warnings.warn(\n",
            "c:\\Users\\Admin\\AppData\\Local\\Programs\\Python\\Python311\\Lib\\site-packages\\sklearn\\linear_model\\_sag.py:349: ConvergenceWarning: The max_iter was reached which means the coef_ did not converge\n",
            "  warnings.warn(\n",
            "c:\\Users\\Admin\\AppData\\Local\\Programs\\Python\\Python311\\Lib\\site-packages\\sklearn\\linear_model\\_sag.py:349: ConvergenceWarning: The max_iter was reached which means the coef_ did not converge\n",
            "  warnings.warn(\n",
            "c:\\Users\\Admin\\AppData\\Local\\Programs\\Python\\Python311\\Lib\\site-packages\\sklearn\\linear_model\\_sag.py:349: ConvergenceWarning: The max_iter was reached which means the coef_ did not converge\n",
            "  warnings.warn(\n",
            "c:\\Users\\Admin\\AppData\\Local\\Programs\\Python\\Python311\\Lib\\site-packages\\sklearn\\linear_model\\_sag.py:349: ConvergenceWarning: The max_iter was reached which means the coef_ did not converge\n",
            "  warnings.warn(\n",
            "c:\\Users\\Admin\\AppData\\Local\\Programs\\Python\\Python311\\Lib\\site-packages\\sklearn\\linear_model\\_sag.py:349: ConvergenceWarning: The max_iter was reached which means the coef_ did not converge\n",
            "  warnings.warn(\n",
            "c:\\Users\\Admin\\AppData\\Local\\Programs\\Python\\Python311\\Lib\\site-packages\\sklearn\\linear_model\\_sag.py:349: ConvergenceWarning: The max_iter was reached which means the coef_ did not converge\n",
            "  warnings.warn(\n",
            "c:\\Users\\Admin\\AppData\\Local\\Programs\\Python\\Python311\\Lib\\site-packages\\sklearn\\linear_model\\_sag.py:349: ConvergenceWarning: The max_iter was reached which means the coef_ did not converge\n",
            "  warnings.warn(\n",
            "c:\\Users\\Admin\\AppData\\Local\\Programs\\Python\\Python311\\Lib\\site-packages\\sklearn\\linear_model\\_sag.py:349: ConvergenceWarning: The max_iter was reached which means the coef_ did not converge\n",
            "  warnings.warn(\n",
            "c:\\Users\\Admin\\AppData\\Local\\Programs\\Python\\Python311\\Lib\\site-packages\\sklearn\\linear_model\\_sag.py:349: ConvergenceWarning: The max_iter was reached which means the coef_ did not converge\n",
            "  warnings.warn(\n",
            "c:\\Users\\Admin\\AppData\\Local\\Programs\\Python\\Python311\\Lib\\site-packages\\sklearn\\linear_model\\_sag.py:349: ConvergenceWarning: The max_iter was reached which means the coef_ did not converge\n",
            "  warnings.warn(\n",
            "c:\\Users\\Admin\\AppData\\Local\\Programs\\Python\\Python311\\Lib\\site-packages\\sklearn\\linear_model\\_sag.py:349: ConvergenceWarning: The max_iter was reached which means the coef_ did not converge\n",
            "  warnings.warn(\n",
            "c:\\Users\\Admin\\AppData\\Local\\Programs\\Python\\Python311\\Lib\\site-packages\\sklearn\\linear_model\\_sag.py:349: ConvergenceWarning: The max_iter was reached which means the coef_ did not converge\n",
            "  warnings.warn(\n",
            "c:\\Users\\Admin\\AppData\\Local\\Programs\\Python\\Python311\\Lib\\site-packages\\sklearn\\linear_model\\_sag.py:349: ConvergenceWarning: The max_iter was reached which means the coef_ did not converge\n",
            "  warnings.warn(\n",
            "c:\\Users\\Admin\\AppData\\Local\\Programs\\Python\\Python311\\Lib\\site-packages\\sklearn\\linear_model\\_sag.py:349: ConvergenceWarning: The max_iter was reached which means the coef_ did not converge\n",
            "  warnings.warn(\n",
            "c:\\Users\\Admin\\AppData\\Local\\Programs\\Python\\Python311\\Lib\\site-packages\\sklearn\\linear_model\\_sag.py:349: ConvergenceWarning: The max_iter was reached which means the coef_ did not converge\n",
            "  warnings.warn(\n",
            "c:\\Users\\Admin\\AppData\\Local\\Programs\\Python\\Python311\\Lib\\site-packages\\sklearn\\linear_model\\_sag.py:349: ConvergenceWarning: The max_iter was reached which means the coef_ did not converge\n",
            "  warnings.warn(\n",
            "c:\\Users\\Admin\\AppData\\Local\\Programs\\Python\\Python311\\Lib\\site-packages\\sklearn\\linear_model\\_sag.py:349: ConvergenceWarning: The max_iter was reached which means the coef_ did not converge\n",
            "  warnings.warn(\n",
            "c:\\Users\\Admin\\AppData\\Local\\Programs\\Python\\Python311\\Lib\\site-packages\\sklearn\\linear_model\\_sag.py:349: ConvergenceWarning: The max_iter was reached which means the coef_ did not converge\n",
            "  warnings.warn(\n",
            "c:\\Users\\Admin\\AppData\\Local\\Programs\\Python\\Python311\\Lib\\site-packages\\sklearn\\linear_model\\_sag.py:349: ConvergenceWarning: The max_iter was reached which means the coef_ did not converge\n",
            "  warnings.warn(\n",
            "c:\\Users\\Admin\\AppData\\Local\\Programs\\Python\\Python311\\Lib\\site-packages\\sklearn\\linear_model\\_sag.py:349: ConvergenceWarning: The max_iter was reached which means the coef_ did not converge\n",
            "  warnings.warn(\n",
            "c:\\Users\\Admin\\AppData\\Local\\Programs\\Python\\Python311\\Lib\\site-packages\\sklearn\\linear_model\\_sag.py:349: ConvergenceWarning: The max_iter was reached which means the coef_ did not converge\n",
            "  warnings.warn(\n",
            "c:\\Users\\Admin\\AppData\\Local\\Programs\\Python\\Python311\\Lib\\site-packages\\sklearn\\linear_model\\_sag.py:349: ConvergenceWarning: The max_iter was reached which means the coef_ did not converge\n",
            "  warnings.warn(\n",
            "c:\\Users\\Admin\\AppData\\Local\\Programs\\Python\\Python311\\Lib\\site-packages\\sklearn\\linear_model\\_sag.py:349: ConvergenceWarning: The max_iter was reached which means the coef_ did not converge\n",
            "  warnings.warn(\n",
            "c:\\Users\\Admin\\AppData\\Local\\Programs\\Python\\Python311\\Lib\\site-packages\\sklearn\\linear_model\\_sag.py:349: ConvergenceWarning: The max_iter was reached which means the coef_ did not converge\n",
            "  warnings.warn(\n",
            "c:\\Users\\Admin\\AppData\\Local\\Programs\\Python\\Python311\\Lib\\site-packages\\sklearn\\linear_model\\_sag.py:349: ConvergenceWarning: The max_iter was reached which means the coef_ did not converge\n",
            "  warnings.warn(\n",
            "c:\\Users\\Admin\\AppData\\Local\\Programs\\Python\\Python311\\Lib\\site-packages\\sklearn\\linear_model\\_sag.py:349: ConvergenceWarning: The max_iter was reached which means the coef_ did not converge\n",
            "  warnings.warn(\n",
            "c:\\Users\\Admin\\AppData\\Local\\Programs\\Python\\Python311\\Lib\\site-packages\\sklearn\\linear_model\\_sag.py:349: ConvergenceWarning: The max_iter was reached which means the coef_ did not converge\n",
            "  warnings.warn(\n",
            "c:\\Users\\Admin\\AppData\\Local\\Programs\\Python\\Python311\\Lib\\site-packages\\sklearn\\linear_model\\_sag.py:349: ConvergenceWarning: The max_iter was reached which means the coef_ did not converge\n",
            "  warnings.warn(\n",
            "c:\\Users\\Admin\\AppData\\Local\\Programs\\Python\\Python311\\Lib\\site-packages\\sklearn\\linear_model\\_sag.py:349: ConvergenceWarning: The max_iter was reached which means the coef_ did not converge\n",
            "  warnings.warn(\n",
            "c:\\Users\\Admin\\AppData\\Local\\Programs\\Python\\Python311\\Lib\\site-packages\\sklearn\\linear_model\\_sag.py:349: ConvergenceWarning: The max_iter was reached which means the coef_ did not converge\n",
            "  warnings.warn(\n",
            "c:\\Users\\Admin\\AppData\\Local\\Programs\\Python\\Python311\\Lib\\site-packages\\sklearn\\linear_model\\_sag.py:349: ConvergenceWarning: The max_iter was reached which means the coef_ did not converge\n",
            "  warnings.warn(\n",
            "c:\\Users\\Admin\\AppData\\Local\\Programs\\Python\\Python311\\Lib\\site-packages\\sklearn\\linear_model\\_sag.py:349: ConvergenceWarning: The max_iter was reached which means the coef_ did not converge\n",
            "  warnings.warn(\n",
            "c:\\Users\\Admin\\AppData\\Local\\Programs\\Python\\Python311\\Lib\\site-packages\\sklearn\\linear_model\\_sag.py:349: ConvergenceWarning: The max_iter was reached which means the coef_ did not converge\n",
            "  warnings.warn(\n",
            "c:\\Users\\Admin\\AppData\\Local\\Programs\\Python\\Python311\\Lib\\site-packages\\sklearn\\linear_model\\_sag.py:349: ConvergenceWarning: The max_iter was reached which means the coef_ did not converge\n",
            "  warnings.warn(\n",
            "c:\\Users\\Admin\\AppData\\Local\\Programs\\Python\\Python311\\Lib\\site-packages\\sklearn\\linear_model\\_sag.py:349: ConvergenceWarning: The max_iter was reached which means the coef_ did not converge\n",
            "  warnings.warn(\n",
            "c:\\Users\\Admin\\AppData\\Local\\Programs\\Python\\Python311\\Lib\\site-packages\\sklearn\\linear_model\\_sag.py:349: ConvergenceWarning: The max_iter was reached which means the coef_ did not converge\n",
            "  warnings.warn(\n",
            "c:\\Users\\Admin\\AppData\\Local\\Programs\\Python\\Python311\\Lib\\site-packages\\sklearn\\linear_model\\_sag.py:349: ConvergenceWarning: The max_iter was reached which means the coef_ did not converge\n",
            "  warnings.warn(\n",
            "c:\\Users\\Admin\\AppData\\Local\\Programs\\Python\\Python311\\Lib\\site-packages\\sklearn\\linear_model\\_sag.py:349: ConvergenceWarning: The max_iter was reached which means the coef_ did not converge\n",
            "  warnings.warn(\n",
            "c:\\Users\\Admin\\AppData\\Local\\Programs\\Python\\Python311\\Lib\\site-packages\\sklearn\\linear_model\\_sag.py:349: ConvergenceWarning: The max_iter was reached which means the coef_ did not converge\n",
            "  warnings.warn(\n",
            "c:\\Users\\Admin\\AppData\\Local\\Programs\\Python\\Python311\\Lib\\site-packages\\sklearn\\linear_model\\_sag.py:349: ConvergenceWarning: The max_iter was reached which means the coef_ did not converge\n",
            "  warnings.warn(\n",
            "c:\\Users\\Admin\\AppData\\Local\\Programs\\Python\\Python311\\Lib\\site-packages\\sklearn\\linear_model\\_sag.py:349: ConvergenceWarning: The max_iter was reached which means the coef_ did not converge\n",
            "  warnings.warn(\n",
            "c:\\Users\\Admin\\AppData\\Local\\Programs\\Python\\Python311\\Lib\\site-packages\\sklearn\\linear_model\\_sag.py:349: ConvergenceWarning: The max_iter was reached which means the coef_ did not converge\n",
            "  warnings.warn(\n",
            "c:\\Users\\Admin\\AppData\\Local\\Programs\\Python\\Python311\\Lib\\site-packages\\sklearn\\linear_model\\_sag.py:349: ConvergenceWarning: The max_iter was reached which means the coef_ did not converge\n",
            "  warnings.warn(\n",
            "c:\\Users\\Admin\\AppData\\Local\\Programs\\Python\\Python311\\Lib\\site-packages\\sklearn\\linear_model\\_sag.py:349: ConvergenceWarning: The max_iter was reached which means the coef_ did not converge\n",
            "  warnings.warn(\n"
          ]
        },
        {
          "name": "stdout",
          "output_type": "stream",
          "text": [
            "Best: 0.728889 using {'C': 10, 'penalty': 'l1', 'solver': 'liblinear'}\n",
            "nan (nan) with: {'C': 1e-06, 'penalty': 'none', 'solver': 'newton-cg'}\n",
            "nan (nan) with: {'C': 1e-06, 'penalty': 'none', 'solver': 'lbfgs'}\n",
            "nan (nan) with: {'C': 1e-06, 'penalty': 'none', 'solver': 'liblinear'}\n",
            "nan (nan) with: {'C': 1e-06, 'penalty': 'none', 'solver': 'sag'}\n",
            "nan (nan) with: {'C': 1e-06, 'penalty': 'none', 'solver': 'saga'}\n",
            "nan (nan) with: {'C': 1e-06, 'penalty': 'elasticnet', 'solver': 'newton-cg'}\n",
            "nan (nan) with: {'C': 1e-06, 'penalty': 'elasticnet', 'solver': 'lbfgs'}\n",
            "nan (nan) with: {'C': 1e-06, 'penalty': 'elasticnet', 'solver': 'liblinear'}\n",
            "nan (nan) with: {'C': 1e-06, 'penalty': 'elasticnet', 'solver': 'sag'}\n",
            "nan (nan) with: {'C': 1e-06, 'penalty': 'elasticnet', 'solver': 'saga'}\n",
            "nan (nan) with: {'C': 1e-06, 'penalty': 'l1', 'solver': 'newton-cg'}\n",
            "nan (nan) with: {'C': 1e-06, 'penalty': 'l1', 'solver': 'lbfgs'}\n",
            "0.126667 (0.096122) with: {'C': 1e-06, 'penalty': 'l1', 'solver': 'liblinear'}\n",
            "nan (nan) with: {'C': 1e-06, 'penalty': 'l1', 'solver': 'sag'}\n",
            "0.420000 (0.161918) with: {'C': 1e-06, 'penalty': 'l1', 'solver': 'saga'}\n",
            "0.364444 (0.196437) with: {'C': 1e-06, 'penalty': 'l2', 'solver': 'newton-cg'}\n",
            "0.364444 (0.196437) with: {'C': 1e-06, 'penalty': 'l2', 'solver': 'lbfgs'}\n",
            "0.688889 (0.098256) with: {'C': 1e-06, 'penalty': 'l2', 'solver': 'liblinear'}\n",
            "0.324444 (0.134697) with: {'C': 1e-06, 'penalty': 'l2', 'solver': 'sag'}\n",
            "0.364444 (0.196437) with: {'C': 1e-06, 'penalty': 'l2', 'solver': 'saga'}\n",
            "nan (nan) with: {'C': 1e-05, 'penalty': 'none', 'solver': 'newton-cg'}\n",
            "nan (nan) with: {'C': 1e-05, 'penalty': 'none', 'solver': 'lbfgs'}\n",
            "nan (nan) with: {'C': 1e-05, 'penalty': 'none', 'solver': 'liblinear'}\n",
            "nan (nan) with: {'C': 1e-05, 'penalty': 'none', 'solver': 'sag'}\n",
            "nan (nan) with: {'C': 1e-05, 'penalty': 'none', 'solver': 'saga'}\n",
            "nan (nan) with: {'C': 1e-05, 'penalty': 'elasticnet', 'solver': 'newton-cg'}\n",
            "nan (nan) with: {'C': 1e-05, 'penalty': 'elasticnet', 'solver': 'lbfgs'}\n",
            "nan (nan) with: {'C': 1e-05, 'penalty': 'elasticnet', 'solver': 'liblinear'}\n",
            "nan (nan) with: {'C': 1e-05, 'penalty': 'elasticnet', 'solver': 'sag'}\n",
            "nan (nan) with: {'C': 1e-05, 'penalty': 'elasticnet', 'solver': 'saga'}\n",
            "nan (nan) with: {'C': 1e-05, 'penalty': 'l1', 'solver': 'newton-cg'}\n",
            "nan (nan) with: {'C': 1e-05, 'penalty': 'l1', 'solver': 'lbfgs'}\n",
            "0.126667 (0.096122) with: {'C': 1e-05, 'penalty': 'l1', 'solver': 'liblinear'}\n",
            "nan (nan) with: {'C': 1e-05, 'penalty': 'l1', 'solver': 'sag'}\n",
            "0.364444 (0.163057) with: {'C': 1e-05, 'penalty': 'l1', 'solver': 'saga'}\n",
            "0.364444 (0.196437) with: {'C': 1e-05, 'penalty': 'l2', 'solver': 'newton-cg'}\n",
            "0.364444 (0.196437) with: {'C': 1e-05, 'penalty': 'l2', 'solver': 'lbfgs'}\n",
            "0.688889 (0.098256) with: {'C': 1e-05, 'penalty': 'l2', 'solver': 'liblinear'}\n",
            "0.324444 (0.134697) with: {'C': 1e-05, 'penalty': 'l2', 'solver': 'sag'}\n",
            "0.384444 (0.227178) with: {'C': 1e-05, 'penalty': 'l2', 'solver': 'saga'}\n",
            "nan (nan) with: {'C': 0.0001, 'penalty': 'none', 'solver': 'newton-cg'}\n",
            "nan (nan) with: {'C': 0.0001, 'penalty': 'none', 'solver': 'lbfgs'}\n",
            "nan (nan) with: {'C': 0.0001, 'penalty': 'none', 'solver': 'liblinear'}\n",
            "nan (nan) with: {'C': 0.0001, 'penalty': 'none', 'solver': 'sag'}\n",
            "nan (nan) with: {'C': 0.0001, 'penalty': 'none', 'solver': 'saga'}\n",
            "nan (nan) with: {'C': 0.0001, 'penalty': 'elasticnet', 'solver': 'newton-cg'}\n",
            "nan (nan) with: {'C': 0.0001, 'penalty': 'elasticnet', 'solver': 'lbfgs'}\n",
            "nan (nan) with: {'C': 0.0001, 'penalty': 'elasticnet', 'solver': 'liblinear'}\n",
            "nan (nan) with: {'C': 0.0001, 'penalty': 'elasticnet', 'solver': 'sag'}\n",
            "nan (nan) with: {'C': 0.0001, 'penalty': 'elasticnet', 'solver': 'saga'}\n",
            "nan (nan) with: {'C': 0.0001, 'penalty': 'l1', 'solver': 'newton-cg'}\n",
            "nan (nan) with: {'C': 0.0001, 'penalty': 'l1', 'solver': 'lbfgs'}\n",
            "0.126667 (0.096122) with: {'C': 0.0001, 'penalty': 'l1', 'solver': 'liblinear'}\n",
            "nan (nan) with: {'C': 0.0001, 'penalty': 'l1', 'solver': 'sag'}\n",
            "0.400000 (0.156899) with: {'C': 0.0001, 'penalty': 'l1', 'solver': 'saga'}\n",
            "0.364444 (0.196437) with: {'C': 0.0001, 'penalty': 'l2', 'solver': 'newton-cg'}\n",
            "0.364444 (0.196437) with: {'C': 0.0001, 'penalty': 'l2', 'solver': 'lbfgs'}\n",
            "0.688889 (0.098256) with: {'C': 0.0001, 'penalty': 'l2', 'solver': 'liblinear'}\n",
            "0.364444 (0.196437) with: {'C': 0.0001, 'penalty': 'l2', 'solver': 'sag'}\n",
            "0.364444 (0.196437) with: {'C': 0.0001, 'penalty': 'l2', 'solver': 'saga'}\n",
            "nan (nan) with: {'C': 0.001, 'penalty': 'none', 'solver': 'newton-cg'}\n",
            "nan (nan) with: {'C': 0.001, 'penalty': 'none', 'solver': 'lbfgs'}\n",
            "nan (nan) with: {'C': 0.001, 'penalty': 'none', 'solver': 'liblinear'}\n",
            "nan (nan) with: {'C': 0.001, 'penalty': 'none', 'solver': 'sag'}\n",
            "nan (nan) with: {'C': 0.001, 'penalty': 'none', 'solver': 'saga'}\n",
            "nan (nan) with: {'C': 0.001, 'penalty': 'elasticnet', 'solver': 'newton-cg'}\n",
            "nan (nan) with: {'C': 0.001, 'penalty': 'elasticnet', 'solver': 'lbfgs'}\n",
            "nan (nan) with: {'C': 0.001, 'penalty': 'elasticnet', 'solver': 'liblinear'}\n",
            "nan (nan) with: {'C': 0.001, 'penalty': 'elasticnet', 'solver': 'sag'}\n",
            "nan (nan) with: {'C': 0.001, 'penalty': 'elasticnet', 'solver': 'saga'}\n",
            "nan (nan) with: {'C': 0.001, 'penalty': 'l1', 'solver': 'newton-cg'}\n",
            "nan (nan) with: {'C': 0.001, 'penalty': 'l1', 'solver': 'lbfgs'}\n",
            "0.126667 (0.096122) with: {'C': 0.001, 'penalty': 'l1', 'solver': 'liblinear'}\n",
            "nan (nan) with: {'C': 0.001, 'penalty': 'l1', 'solver': 'sag'}\n",
            "0.443333 (0.167144) with: {'C': 0.001, 'penalty': 'l1', 'solver': 'saga'}\n",
            "0.560000 (0.230255) with: {'C': 0.001, 'penalty': 'l2', 'solver': 'newton-cg'}\n",
            "0.560000 (0.230255) with: {'C': 0.001, 'penalty': 'l2', 'solver': 'lbfgs'}\n",
            "0.688889 (0.098256) with: {'C': 0.001, 'penalty': 'l2', 'solver': 'liblinear'}\n",
            "0.560000 (0.230255) with: {'C': 0.001, 'penalty': 'l2', 'solver': 'sag'}\n",
            "0.560000 (0.230255) with: {'C': 0.001, 'penalty': 'l2', 'solver': 'saga'}\n",
            "nan (nan) with: {'C': 0.01, 'penalty': 'none', 'solver': 'newton-cg'}\n",
            "nan (nan) with: {'C': 0.01, 'penalty': 'none', 'solver': 'lbfgs'}\n",
            "nan (nan) with: {'C': 0.01, 'penalty': 'none', 'solver': 'liblinear'}\n",
            "nan (nan) with: {'C': 0.01, 'penalty': 'none', 'solver': 'sag'}\n",
            "nan (nan) with: {'C': 0.01, 'penalty': 'none', 'solver': 'saga'}\n",
            "nan (nan) with: {'C': 0.01, 'penalty': 'elasticnet', 'solver': 'newton-cg'}\n",
            "nan (nan) with: {'C': 0.01, 'penalty': 'elasticnet', 'solver': 'lbfgs'}\n",
            "nan (nan) with: {'C': 0.01, 'penalty': 'elasticnet', 'solver': 'liblinear'}\n",
            "nan (nan) with: {'C': 0.01, 'penalty': 'elasticnet', 'solver': 'sag'}\n",
            "nan (nan) with: {'C': 0.01, 'penalty': 'elasticnet', 'solver': 'saga'}\n",
            "nan (nan) with: {'C': 0.01, 'penalty': 'l1', 'solver': 'newton-cg'}\n",
            "nan (nan) with: {'C': 0.01, 'penalty': 'l1', 'solver': 'lbfgs'}\n",
            "0.126667 (0.096122) with: {'C': 0.01, 'penalty': 'l1', 'solver': 'liblinear'}\n",
            "nan (nan) with: {'C': 0.01, 'penalty': 'l1', 'solver': 'sag'}\n",
            "0.364444 (0.163057) with: {'C': 0.01, 'penalty': 'l1', 'solver': 'saga'}\n",
            "0.688889 (0.098256) with: {'C': 0.01, 'penalty': 'l2', 'solver': 'newton-cg'}\n",
            "0.688889 (0.098256) with: {'C': 0.01, 'penalty': 'l2', 'solver': 'lbfgs'}\n",
            "0.677778 (0.117168) with: {'C': 0.01, 'penalty': 'l2', 'solver': 'liblinear'}\n",
            "0.688889 (0.098256) with: {'C': 0.01, 'penalty': 'l2', 'solver': 'sag'}\n",
            "0.688889 (0.098256) with: {'C': 0.01, 'penalty': 'l2', 'solver': 'saga'}\n",
            "nan (nan) with: {'C': 0.1, 'penalty': 'none', 'solver': 'newton-cg'}\n",
            "nan (nan) with: {'C': 0.1, 'penalty': 'none', 'solver': 'lbfgs'}\n",
            "nan (nan) with: {'C': 0.1, 'penalty': 'none', 'solver': 'liblinear'}\n",
            "nan (nan) with: {'C': 0.1, 'penalty': 'none', 'solver': 'sag'}\n",
            "nan (nan) with: {'C': 0.1, 'penalty': 'none', 'solver': 'saga'}\n",
            "nan (nan) with: {'C': 0.1, 'penalty': 'elasticnet', 'solver': 'newton-cg'}\n",
            "nan (nan) with: {'C': 0.1, 'penalty': 'elasticnet', 'solver': 'lbfgs'}\n",
            "nan (nan) with: {'C': 0.1, 'penalty': 'elasticnet', 'solver': 'liblinear'}\n",
            "nan (nan) with: {'C': 0.1, 'penalty': 'elasticnet', 'solver': 'sag'}\n",
            "nan (nan) with: {'C': 0.1, 'penalty': 'elasticnet', 'solver': 'saga'}\n",
            "nan (nan) with: {'C': 0.1, 'penalty': 'l1', 'solver': 'newton-cg'}\n",
            "nan (nan) with: {'C': 0.1, 'penalty': 'l1', 'solver': 'lbfgs'}\n",
            "0.687778 (0.114337) with: {'C': 0.1, 'penalty': 'l1', 'solver': 'liblinear'}\n",
            "nan (nan) with: {'C': 0.1, 'penalty': 'l1', 'solver': 'sag'}\n",
            "0.698889 (0.093683) with: {'C': 0.1, 'penalty': 'l1', 'solver': 'saga'}\n",
            "0.688889 (0.098256) with: {'C': 0.1, 'penalty': 'l2', 'solver': 'newton-cg'}\n",
            "0.688889 (0.098256) with: {'C': 0.1, 'penalty': 'l2', 'solver': 'lbfgs'}\n",
            "0.708889 (0.087743) with: {'C': 0.1, 'penalty': 'l2', 'solver': 'liblinear'}\n",
            "0.688889 (0.098256) with: {'C': 0.1, 'penalty': 'l2', 'solver': 'sag'}\n",
            "0.688889 (0.098256) with: {'C': 0.1, 'penalty': 'l2', 'solver': 'saga'}\n",
            "nan (nan) with: {'C': 1, 'penalty': 'none', 'solver': 'newton-cg'}\n",
            "nan (nan) with: {'C': 1, 'penalty': 'none', 'solver': 'lbfgs'}\n",
            "nan (nan) with: {'C': 1, 'penalty': 'none', 'solver': 'liblinear'}\n",
            "nan (nan) with: {'C': 1, 'penalty': 'none', 'solver': 'sag'}\n",
            "nan (nan) with: {'C': 1, 'penalty': 'none', 'solver': 'saga'}\n",
            "nan (nan) with: {'C': 1, 'penalty': 'elasticnet', 'solver': 'newton-cg'}\n",
            "nan (nan) with: {'C': 1, 'penalty': 'elasticnet', 'solver': 'lbfgs'}\n",
            "nan (nan) with: {'C': 1, 'penalty': 'elasticnet', 'solver': 'liblinear'}\n",
            "nan (nan) with: {'C': 1, 'penalty': 'elasticnet', 'solver': 'sag'}\n",
            "nan (nan) with: {'C': 1, 'penalty': 'elasticnet', 'solver': 'saga'}\n",
            "nan (nan) with: {'C': 1, 'penalty': 'l1', 'solver': 'newton-cg'}\n",
            "nan (nan) with: {'C': 1, 'penalty': 'l1', 'solver': 'lbfgs'}\n",
            "0.708889 (0.087743) with: {'C': 1, 'penalty': 'l1', 'solver': 'liblinear'}\n",
            "nan (nan) with: {'C': 1, 'penalty': 'l1', 'solver': 'sag'}\n",
            "0.698889 (0.093683) with: {'C': 1, 'penalty': 'l1', 'solver': 'saga'}\n",
            "0.708889 (0.087743) with: {'C': 1, 'penalty': 'l2', 'solver': 'newton-cg'}\n",
            "0.708889 (0.087743) with: {'C': 1, 'penalty': 'l2', 'solver': 'lbfgs'}\n",
            "0.708889 (0.087743) with: {'C': 1, 'penalty': 'l2', 'solver': 'liblinear'}\n",
            "0.708889 (0.087743) with: {'C': 1, 'penalty': 'l2', 'solver': 'sag'}\n",
            "0.708889 (0.087743) with: {'C': 1, 'penalty': 'l2', 'solver': 'saga'}\n",
            "nan (nan) with: {'C': 10, 'penalty': 'none', 'solver': 'newton-cg'}\n",
            "nan (nan) with: {'C': 10, 'penalty': 'none', 'solver': 'lbfgs'}\n",
            "nan (nan) with: {'C': 10, 'penalty': 'none', 'solver': 'liblinear'}\n",
            "nan (nan) with: {'C': 10, 'penalty': 'none', 'solver': 'sag'}\n",
            "nan (nan) with: {'C': 10, 'penalty': 'none', 'solver': 'saga'}\n",
            "nan (nan) with: {'C': 10, 'penalty': 'elasticnet', 'solver': 'newton-cg'}\n",
            "nan (nan) with: {'C': 10, 'penalty': 'elasticnet', 'solver': 'lbfgs'}\n",
            "nan (nan) with: {'C': 10, 'penalty': 'elasticnet', 'solver': 'liblinear'}\n",
            "nan (nan) with: {'C': 10, 'penalty': 'elasticnet', 'solver': 'sag'}\n",
            "nan (nan) with: {'C': 10, 'penalty': 'elasticnet', 'solver': 'saga'}\n",
            "nan (nan) with: {'C': 10, 'penalty': 'l1', 'solver': 'newton-cg'}\n",
            "nan (nan) with: {'C': 10, 'penalty': 'l1', 'solver': 'lbfgs'}\n",
            "0.728889 (0.113768) with: {'C': 10, 'penalty': 'l1', 'solver': 'liblinear'}\n",
            "nan (nan) with: {'C': 10, 'penalty': 'l1', 'solver': 'sag'}\n",
            "0.708889 (0.087743) with: {'C': 10, 'penalty': 'l1', 'solver': 'saga'}\n",
            "0.708889 (0.108161) with: {'C': 10, 'penalty': 'l2', 'solver': 'newton-cg'}\n",
            "0.708889 (0.108161) with: {'C': 10, 'penalty': 'l2', 'solver': 'lbfgs'}\n",
            "0.718889 (0.102083) with: {'C': 10, 'penalty': 'l2', 'solver': 'liblinear'}\n",
            "0.698889 (0.093683) with: {'C': 10, 'penalty': 'l2', 'solver': 'sag'}\n",
            "0.698889 (0.093683) with: {'C': 10, 'penalty': 'l2', 'solver': 'saga'}\n",
            "nan (nan) with: {'C': 100, 'penalty': 'none', 'solver': 'newton-cg'}\n",
            "nan (nan) with: {'C': 100, 'penalty': 'none', 'solver': 'lbfgs'}\n",
            "nan (nan) with: {'C': 100, 'penalty': 'none', 'solver': 'liblinear'}\n",
            "nan (nan) with: {'C': 100, 'penalty': 'none', 'solver': 'sag'}\n",
            "nan (nan) with: {'C': 100, 'penalty': 'none', 'solver': 'saga'}\n",
            "nan (nan) with: {'C': 100, 'penalty': 'elasticnet', 'solver': 'newton-cg'}\n",
            "nan (nan) with: {'C': 100, 'penalty': 'elasticnet', 'solver': 'lbfgs'}\n",
            "nan (nan) with: {'C': 100, 'penalty': 'elasticnet', 'solver': 'liblinear'}\n",
            "nan (nan) with: {'C': 100, 'penalty': 'elasticnet', 'solver': 'sag'}\n",
            "nan (nan) with: {'C': 100, 'penalty': 'elasticnet', 'solver': 'saga'}\n",
            "nan (nan) with: {'C': 100, 'penalty': 'l1', 'solver': 'newton-cg'}\n",
            "nan (nan) with: {'C': 100, 'penalty': 'l1', 'solver': 'lbfgs'}\n",
            "0.718889 (0.120087) with: {'C': 100, 'penalty': 'l1', 'solver': 'liblinear'}\n",
            "nan (nan) with: {'C': 100, 'penalty': 'l1', 'solver': 'sag'}\n",
            "0.698889 (0.093683) with: {'C': 100, 'penalty': 'l1', 'solver': 'saga'}\n",
            "0.698889 (0.121559) with: {'C': 100, 'penalty': 'l2', 'solver': 'newton-cg'}\n",
            "0.698889 (0.121559) with: {'C': 100, 'penalty': 'l2', 'solver': 'lbfgs'}\n",
            "0.718889 (0.120087) with: {'C': 100, 'penalty': 'l2', 'solver': 'liblinear'}\n",
            "0.708889 (0.108161) with: {'C': 100, 'penalty': 'l2', 'solver': 'sag'}\n",
            "0.698889 (0.093683) with: {'C': 100, 'penalty': 'l2', 'solver': 'saga'}\n"
          ]
        },
        {
          "name": "stderr",
          "output_type": "stream",
          "text": [
            "c:\\Users\\Admin\\AppData\\Local\\Programs\\Python\\Python311\\Lib\\site-packages\\sklearn\\linear_model\\_sag.py:349: ConvergenceWarning: The max_iter was reached which means the coef_ did not converge\n",
            "  warnings.warn(\n",
            "c:\\Users\\Admin\\AppData\\Local\\Programs\\Python\\Python311\\Lib\\site-packages\\sklearn\\linear_model\\_sag.py:349: ConvergenceWarning: The max_iter was reached which means the coef_ did not converge\n",
            "  warnings.warn(\n",
            "c:\\Users\\Admin\\AppData\\Local\\Programs\\Python\\Python311\\Lib\\site-packages\\sklearn\\linear_model\\_sag.py:349: ConvergenceWarning: The max_iter was reached which means the coef_ did not converge\n",
            "  warnings.warn(\n",
            "c:\\Users\\Admin\\AppData\\Local\\Programs\\Python\\Python311\\Lib\\site-packages\\sklearn\\linear_model\\_sag.py:349: ConvergenceWarning: The max_iter was reached which means the coef_ did not converge\n",
            "  warnings.warn(\n",
            "c:\\Users\\Admin\\AppData\\Local\\Programs\\Python\\Python311\\Lib\\site-packages\\sklearn\\linear_model\\_sag.py:349: ConvergenceWarning: The max_iter was reached which means the coef_ did not converge\n",
            "  warnings.warn(\n",
            "c:\\Users\\Admin\\AppData\\Local\\Programs\\Python\\Python311\\Lib\\site-packages\\sklearn\\linear_model\\_sag.py:349: ConvergenceWarning: The max_iter was reached which means the coef_ did not converge\n",
            "  warnings.warn(\n",
            "c:\\Users\\Admin\\AppData\\Local\\Programs\\Python\\Python311\\Lib\\site-packages\\sklearn\\linear_model\\_sag.py:349: ConvergenceWarning: The max_iter was reached which means the coef_ did not converge\n",
            "  warnings.warn(\n",
            "c:\\Users\\Admin\\AppData\\Local\\Programs\\Python\\Python311\\Lib\\site-packages\\sklearn\\linear_model\\_sag.py:349: ConvergenceWarning: The max_iter was reached which means the coef_ did not converge\n",
            "  warnings.warn(\n",
            "c:\\Users\\Admin\\AppData\\Local\\Programs\\Python\\Python311\\Lib\\site-packages\\sklearn\\linear_model\\_sag.py:349: ConvergenceWarning: The max_iter was reached which means the coef_ did not converge\n",
            "  warnings.warn(\n",
            "c:\\Users\\Admin\\AppData\\Local\\Programs\\Python\\Python311\\Lib\\site-packages\\sklearn\\linear_model\\_sag.py:349: ConvergenceWarning: The max_iter was reached which means the coef_ did not converge\n",
            "  warnings.warn(\n",
            "c:\\Users\\Admin\\AppData\\Local\\Programs\\Python\\Python311\\Lib\\site-packages\\sklearn\\linear_model\\_sag.py:349: ConvergenceWarning: The max_iter was reached which means the coef_ did not converge\n",
            "  warnings.warn(\n",
            "c:\\Users\\Admin\\AppData\\Local\\Programs\\Python\\Python311\\Lib\\site-packages\\sklearn\\linear_model\\_sag.py:349: ConvergenceWarning: The max_iter was reached which means the coef_ did not converge\n",
            "  warnings.warn(\n",
            "c:\\Users\\Admin\\AppData\\Local\\Programs\\Python\\Python311\\Lib\\site-packages\\sklearn\\linear_model\\_sag.py:349: ConvergenceWarning: The max_iter was reached which means the coef_ did not converge\n",
            "  warnings.warn(\n",
            "c:\\Users\\Admin\\AppData\\Local\\Programs\\Python\\Python311\\Lib\\site-packages\\sklearn\\linear_model\\_sag.py:349: ConvergenceWarning: The max_iter was reached which means the coef_ did not converge\n",
            "  warnings.warn(\n",
            "c:\\Users\\Admin\\AppData\\Local\\Programs\\Python\\Python311\\Lib\\site-packages\\sklearn\\model_selection\\_validation.py:540: FitFailedWarning: \n",
            "1170 fits failed out of a total of 1800.\n",
            "The score on these train-test partitions for these parameters will be set to nan.\n",
            "If these failures are not expected, you can try to debug them by setting error_score='raise'.\n",
            "\n",
            "Below are more details about the failures:\n",
            "--------------------------------------------------------------------------------\n",
            "450 fits failed with the following error:\n",
            "Traceback (most recent call last):\n",
            "  File \"c:\\Users\\Admin\\AppData\\Local\\Programs\\Python\\Python311\\Lib\\site-packages\\sklearn\\model_selection\\_validation.py\", line 888, in _fit_and_score\n",
            "    estimator.fit(X_train, y_train, **fit_params)\n",
            "  File \"c:\\Users\\Admin\\AppData\\Local\\Programs\\Python\\Python311\\Lib\\site-packages\\sklearn\\base.py\", line 1466, in wrapper\n",
            "    estimator._validate_params()\n",
            "  File \"c:\\Users\\Admin\\AppData\\Local\\Programs\\Python\\Python311\\Lib\\site-packages\\sklearn\\base.py\", line 666, in _validate_params\n",
            "    validate_parameter_constraints(\n",
            "  File \"c:\\Users\\Admin\\AppData\\Local\\Programs\\Python\\Python311\\Lib\\site-packages\\sklearn\\utils\\_param_validation.py\", line 95, in validate_parameter_constraints\n",
            "    raise InvalidParameterError(\n",
            "sklearn.utils._param_validation.InvalidParameterError: The 'penalty' parameter of LogisticRegression must be a str among {'l1', 'elasticnet', 'l2'} or None. Got 'none' instead.\n",
            "\n",
            "--------------------------------------------------------------------------------\n",
            "90 fits failed with the following error:\n",
            "Traceback (most recent call last):\n",
            "  File \"c:\\Users\\Admin\\AppData\\Local\\Programs\\Python\\Python311\\Lib\\site-packages\\sklearn\\model_selection\\_validation.py\", line 888, in _fit_and_score\n",
            "    estimator.fit(X_train, y_train, **fit_params)\n",
            "  File \"c:\\Users\\Admin\\AppData\\Local\\Programs\\Python\\Python311\\Lib\\site-packages\\sklearn\\base.py\", line 1473, in wrapper\n",
            "    return fit_method(estimator, *args, **kwargs)\n",
            "           ^^^^^^^^^^^^^^^^^^^^^^^^^^^^^^^^^^^^^^\n",
            "  File \"c:\\Users\\Admin\\AppData\\Local\\Programs\\Python\\Python311\\Lib\\site-packages\\sklearn\\linear_model\\_logistic.py\", line 1194, in fit\n",
            "    solver = _check_solver(self.solver, self.penalty, self.dual)\n",
            "             ^^^^^^^^^^^^^^^^^^^^^^^^^^^^^^^^^^^^^^^^^^^^^^^^^^^\n",
            "  File \"c:\\Users\\Admin\\AppData\\Local\\Programs\\Python\\Python311\\Lib\\site-packages\\sklearn\\linear_model\\_logistic.py\", line 67, in _check_solver\n",
            "    raise ValueError(\n",
            "ValueError: Solver newton-cg supports only 'l2' or None penalties, got elasticnet penalty.\n",
            "\n",
            "--------------------------------------------------------------------------------\n",
            "90 fits failed with the following error:\n",
            "Traceback (most recent call last):\n",
            "  File \"c:\\Users\\Admin\\AppData\\Local\\Programs\\Python\\Python311\\Lib\\site-packages\\sklearn\\model_selection\\_validation.py\", line 888, in _fit_and_score\n",
            "    estimator.fit(X_train, y_train, **fit_params)\n",
            "  File \"c:\\Users\\Admin\\AppData\\Local\\Programs\\Python\\Python311\\Lib\\site-packages\\sklearn\\base.py\", line 1473, in wrapper\n",
            "    return fit_method(estimator, *args, **kwargs)\n",
            "           ^^^^^^^^^^^^^^^^^^^^^^^^^^^^^^^^^^^^^^\n",
            "  File \"c:\\Users\\Admin\\AppData\\Local\\Programs\\Python\\Python311\\Lib\\site-packages\\sklearn\\linear_model\\_logistic.py\", line 1194, in fit\n",
            "    solver = _check_solver(self.solver, self.penalty, self.dual)\n",
            "             ^^^^^^^^^^^^^^^^^^^^^^^^^^^^^^^^^^^^^^^^^^^^^^^^^^^\n",
            "  File \"c:\\Users\\Admin\\AppData\\Local\\Programs\\Python\\Python311\\Lib\\site-packages\\sklearn\\linear_model\\_logistic.py\", line 67, in _check_solver\n",
            "    raise ValueError(\n",
            "ValueError: Solver lbfgs supports only 'l2' or None penalties, got elasticnet penalty.\n",
            "\n",
            "--------------------------------------------------------------------------------\n",
            "90 fits failed with the following error:\n",
            "Traceback (most recent call last):\n",
            "  File \"c:\\Users\\Admin\\AppData\\Local\\Programs\\Python\\Python311\\Lib\\site-packages\\sklearn\\model_selection\\_validation.py\", line 888, in _fit_and_score\n",
            "    estimator.fit(X_train, y_train, **fit_params)\n",
            "  File \"c:\\Users\\Admin\\AppData\\Local\\Programs\\Python\\Python311\\Lib\\site-packages\\sklearn\\base.py\", line 1473, in wrapper\n",
            "    return fit_method(estimator, *args, **kwargs)\n",
            "           ^^^^^^^^^^^^^^^^^^^^^^^^^^^^^^^^^^^^^^\n",
            "  File \"c:\\Users\\Admin\\AppData\\Local\\Programs\\Python\\Python311\\Lib\\site-packages\\sklearn\\linear_model\\_logistic.py\", line 1194, in fit\n",
            "    solver = _check_solver(self.solver, self.penalty, self.dual)\n",
            "             ^^^^^^^^^^^^^^^^^^^^^^^^^^^^^^^^^^^^^^^^^^^^^^^^^^^\n",
            "  File \"c:\\Users\\Admin\\AppData\\Local\\Programs\\Python\\Python311\\Lib\\site-packages\\sklearn\\linear_model\\_logistic.py\", line 75, in _check_solver\n",
            "    raise ValueError(\n",
            "ValueError: Only 'saga' solver supports elasticnet penalty, got solver=liblinear.\n",
            "\n",
            "--------------------------------------------------------------------------------\n",
            "90 fits failed with the following error:\n",
            "Traceback (most recent call last):\n",
            "  File \"c:\\Users\\Admin\\AppData\\Local\\Programs\\Python\\Python311\\Lib\\site-packages\\sklearn\\model_selection\\_validation.py\", line 888, in _fit_and_score\n",
            "    estimator.fit(X_train, y_train, **fit_params)\n",
            "  File \"c:\\Users\\Admin\\AppData\\Local\\Programs\\Python\\Python311\\Lib\\site-packages\\sklearn\\base.py\", line 1473, in wrapper\n",
            "    return fit_method(estimator, *args, **kwargs)\n",
            "           ^^^^^^^^^^^^^^^^^^^^^^^^^^^^^^^^^^^^^^\n",
            "  File \"c:\\Users\\Admin\\AppData\\Local\\Programs\\Python\\Python311\\Lib\\site-packages\\sklearn\\linear_model\\_logistic.py\", line 1194, in fit\n",
            "    solver = _check_solver(self.solver, self.penalty, self.dual)\n",
            "             ^^^^^^^^^^^^^^^^^^^^^^^^^^^^^^^^^^^^^^^^^^^^^^^^^^^\n",
            "  File \"c:\\Users\\Admin\\AppData\\Local\\Programs\\Python\\Python311\\Lib\\site-packages\\sklearn\\linear_model\\_logistic.py\", line 67, in _check_solver\n",
            "    raise ValueError(\n",
            "ValueError: Solver sag supports only 'l2' or None penalties, got elasticnet penalty.\n",
            "\n",
            "--------------------------------------------------------------------------------\n",
            "90 fits failed with the following error:\n",
            "Traceback (most recent call last):\n",
            "  File \"c:\\Users\\Admin\\AppData\\Local\\Programs\\Python\\Python311\\Lib\\site-packages\\sklearn\\model_selection\\_validation.py\", line 888, in _fit_and_score\n",
            "    estimator.fit(X_train, y_train, **fit_params)\n",
            "  File \"c:\\Users\\Admin\\AppData\\Local\\Programs\\Python\\Python311\\Lib\\site-packages\\sklearn\\base.py\", line 1473, in wrapper\n",
            "    return fit_method(estimator, *args, **kwargs)\n",
            "           ^^^^^^^^^^^^^^^^^^^^^^^^^^^^^^^^^^^^^^\n",
            "  File \"c:\\Users\\Admin\\AppData\\Local\\Programs\\Python\\Python311\\Lib\\site-packages\\sklearn\\linear_model\\_logistic.py\", line 1204, in fit\n",
            "    raise ValueError(\"l1_ratio must be specified when penalty is elasticnet.\")\n",
            "ValueError: l1_ratio must be specified when penalty is elasticnet.\n",
            "\n",
            "--------------------------------------------------------------------------------\n",
            "90 fits failed with the following error:\n",
            "Traceback (most recent call last):\n",
            "  File \"c:\\Users\\Admin\\AppData\\Local\\Programs\\Python\\Python311\\Lib\\site-packages\\sklearn\\model_selection\\_validation.py\", line 888, in _fit_and_score\n",
            "    estimator.fit(X_train, y_train, **fit_params)\n",
            "  File \"c:\\Users\\Admin\\AppData\\Local\\Programs\\Python\\Python311\\Lib\\site-packages\\sklearn\\base.py\", line 1473, in wrapper\n",
            "    return fit_method(estimator, *args, **kwargs)\n",
            "           ^^^^^^^^^^^^^^^^^^^^^^^^^^^^^^^^^^^^^^\n",
            "  File \"c:\\Users\\Admin\\AppData\\Local\\Programs\\Python\\Python311\\Lib\\site-packages\\sklearn\\linear_model\\_logistic.py\", line 1194, in fit\n",
            "    solver = _check_solver(self.solver, self.penalty, self.dual)\n",
            "             ^^^^^^^^^^^^^^^^^^^^^^^^^^^^^^^^^^^^^^^^^^^^^^^^^^^\n",
            "  File \"c:\\Users\\Admin\\AppData\\Local\\Programs\\Python\\Python311\\Lib\\site-packages\\sklearn\\linear_model\\_logistic.py\", line 67, in _check_solver\n",
            "    raise ValueError(\n",
            "ValueError: Solver newton-cg supports only 'l2' or None penalties, got l1 penalty.\n",
            "\n",
            "--------------------------------------------------------------------------------\n",
            "90 fits failed with the following error:\n",
            "Traceback (most recent call last):\n",
            "  File \"c:\\Users\\Admin\\AppData\\Local\\Programs\\Python\\Python311\\Lib\\site-packages\\sklearn\\model_selection\\_validation.py\", line 888, in _fit_and_score\n",
            "    estimator.fit(X_train, y_train, **fit_params)\n",
            "  File \"c:\\Users\\Admin\\AppData\\Local\\Programs\\Python\\Python311\\Lib\\site-packages\\sklearn\\base.py\", line 1473, in wrapper\n",
            "    return fit_method(estimator, *args, **kwargs)\n",
            "           ^^^^^^^^^^^^^^^^^^^^^^^^^^^^^^^^^^^^^^\n",
            "  File \"c:\\Users\\Admin\\AppData\\Local\\Programs\\Python\\Python311\\Lib\\site-packages\\sklearn\\linear_model\\_logistic.py\", line 1194, in fit\n",
            "    solver = _check_solver(self.solver, self.penalty, self.dual)\n",
            "             ^^^^^^^^^^^^^^^^^^^^^^^^^^^^^^^^^^^^^^^^^^^^^^^^^^^\n",
            "  File \"c:\\Users\\Admin\\AppData\\Local\\Programs\\Python\\Python311\\Lib\\site-packages\\sklearn\\linear_model\\_logistic.py\", line 67, in _check_solver\n",
            "    raise ValueError(\n",
            "ValueError: Solver lbfgs supports only 'l2' or None penalties, got l1 penalty.\n",
            "\n",
            "--------------------------------------------------------------------------------\n",
            "90 fits failed with the following error:\n",
            "Traceback (most recent call last):\n",
            "  File \"c:\\Users\\Admin\\AppData\\Local\\Programs\\Python\\Python311\\Lib\\site-packages\\sklearn\\model_selection\\_validation.py\", line 888, in _fit_and_score\n",
            "    estimator.fit(X_train, y_train, **fit_params)\n",
            "  File \"c:\\Users\\Admin\\AppData\\Local\\Programs\\Python\\Python311\\Lib\\site-packages\\sklearn\\base.py\", line 1473, in wrapper\n",
            "    return fit_method(estimator, *args, **kwargs)\n",
            "           ^^^^^^^^^^^^^^^^^^^^^^^^^^^^^^^^^^^^^^\n",
            "  File \"c:\\Users\\Admin\\AppData\\Local\\Programs\\Python\\Python311\\Lib\\site-packages\\sklearn\\linear_model\\_logistic.py\", line 1194, in fit\n",
            "    solver = _check_solver(self.solver, self.penalty, self.dual)\n",
            "             ^^^^^^^^^^^^^^^^^^^^^^^^^^^^^^^^^^^^^^^^^^^^^^^^^^^\n",
            "  File \"c:\\Users\\Admin\\AppData\\Local\\Programs\\Python\\Python311\\Lib\\site-packages\\sklearn\\linear_model\\_logistic.py\", line 67, in _check_solver\n",
            "    raise ValueError(\n",
            "ValueError: Solver sag supports only 'l2' or None penalties, got l1 penalty.\n",
            "\n",
            "  warnings.warn(some_fits_failed_message, FitFailedWarning)\n",
            "c:\\Users\\Admin\\AppData\\Local\\Programs\\Python\\Python311\\Lib\\site-packages\\sklearn\\model_selection\\_search.py:1102: UserWarning: One or more of the test scores are non-finite: [       nan        nan        nan        nan        nan        nan\n",
            "        nan        nan        nan        nan        nan        nan\n",
            " 0.12666667        nan 0.42       0.36444444 0.36444444 0.68888889\n",
            " 0.32444444 0.36444444        nan        nan        nan        nan\n",
            "        nan        nan        nan        nan        nan        nan\n",
            "        nan        nan 0.12666667        nan 0.36444444 0.36444444\n",
            " 0.36444444 0.68888889 0.32444444 0.38444444        nan        nan\n",
            "        nan        nan        nan        nan        nan        nan\n",
            "        nan        nan        nan        nan 0.12666667        nan\n",
            " 0.4        0.36444444 0.36444444 0.68888889 0.36444444 0.36444444\n",
            "        nan        nan        nan        nan        nan        nan\n",
            "        nan        nan        nan        nan        nan        nan\n",
            " 0.12666667        nan 0.44333333 0.56       0.56       0.68888889\n",
            " 0.56       0.56              nan        nan        nan        nan\n",
            "        nan        nan        nan        nan        nan        nan\n",
            "        nan        nan 0.12666667        nan 0.36444444 0.68888889\n",
            " 0.68888889 0.67777778 0.68888889 0.68888889        nan        nan\n",
            "        nan        nan        nan        nan        nan        nan\n",
            "        nan        nan        nan        nan 0.68777778        nan\n",
            " 0.69888889 0.68888889 0.68888889 0.70888889 0.68888889 0.68888889\n",
            "        nan        nan        nan        nan        nan        nan\n",
            "        nan        nan        nan        nan        nan        nan\n",
            " 0.70888889        nan 0.69888889 0.70888889 0.70888889 0.70888889\n",
            " 0.70888889 0.70888889        nan        nan        nan        nan\n",
            "        nan        nan        nan        nan        nan        nan\n",
            "        nan        nan 0.72888889        nan 0.70888889 0.70888889\n",
            " 0.70888889 0.71888889 0.69888889 0.69888889        nan        nan\n",
            "        nan        nan        nan        nan        nan        nan\n",
            "        nan        nan        nan        nan 0.71888889        nan\n",
            " 0.69888889 0.69888889 0.69888889 0.71888889 0.70888889 0.69888889]\n",
            "  warnings.warn(\n"
          ]
        }
      ],
      "source": [
        "# LR\n",
        "solver = [\"newton-cg\", \"lbfgs\", \"liblinear\", \"sag\", \"saga\"]\n",
        "penalty = [\"none\", \"elasticnet\", \"l1\", \"l2\"]\n",
        "C = [0.000001, 0.00001, 0.0001, 0.001, 0.01, 0.1, 1, 10, 100]\n",
        "\n",
        "param_grid = dict(solver=solver, penalty=penalty, C=C)\n",
        "model = LogisticRegression()\n",
        "kfold = KFold(n_splits=num_folds, random_state=None)\n",
        "\n",
        "grid = GridSearchCV(estimator=model, param_grid=param_grid, scoring=scoring, cv=kfold)\n",
        "grid_result = grid.fit(rescaledX, Y_train_iqit)\n",
        "print(\"Best: %f using %s\" % (grid_result.best_score_, grid_result.best_params_))\n",
        "\n",
        "means = grid_result.cv_results_[\"mean_test_score\"]\n",
        "stds = grid_result.cv_results_[\"std_test_score\"]\n",
        "params = grid_result.cv_results_[\"params\"]\n",
        "\n",
        "for mean, stdev, param in zip(means, stds, params):\n",
        "    print(\"%f (%f) with: %r\" % (mean, stdev, param))\n"
      ]
    },
    {
      "cell_type": "code",
      "execution_count": 33,
      "metadata": {},
      "outputs": [
        {
          "name": "stdout",
          "output_type": "stream",
          "text": [
            "Best: 0.730000 using {'C': 1, 'gamma': 1, 'kernel': 'rbf'}\n",
            "0.708889 (0.087743) with: {'C': 0.1, 'gamma': 1, 'kernel': 'rbf'}\n",
            "0.656667 (0.113361) with: {'C': 0.1, 'gamma': 0.1, 'kernel': 'rbf'}\n",
            "0.344444 (0.157370) with: {'C': 0.1, 'gamma': 0.01, 'kernel': 'rbf'}\n",
            "0.344444 (0.157370) with: {'C': 0.1, 'gamma': 0.001, 'kernel': 'rbf'}\n",
            "0.344444 (0.157370) with: {'C': 0.1, 'gamma': 0.0001, 'kernel': 'rbf'}\n",
            "0.730000 (0.088896) with: {'C': 1, 'gamma': 1, 'kernel': 'rbf'}\n",
            "0.677778 (0.117168) with: {'C': 1, 'gamma': 0.1, 'kernel': 'rbf'}\n",
            "0.656667 (0.113361) with: {'C': 1, 'gamma': 0.01, 'kernel': 'rbf'}\n",
            "0.344444 (0.157370) with: {'C': 1, 'gamma': 0.001, 'kernel': 'rbf'}\n",
            "0.344444 (0.157370) with: {'C': 1, 'gamma': 0.0001, 'kernel': 'rbf'}\n",
            "0.718889 (0.102083) with: {'C': 10, 'gamma': 1, 'kernel': 'rbf'}\n",
            "0.708889 (0.098482) with: {'C': 10, 'gamma': 0.1, 'kernel': 'rbf'}\n",
            "0.677778 (0.117168) with: {'C': 10, 'gamma': 0.01, 'kernel': 'rbf'}\n",
            "0.656667 (0.113361) with: {'C': 10, 'gamma': 0.001, 'kernel': 'rbf'}\n",
            "0.344444 (0.157370) with: {'C': 10, 'gamma': 0.0001, 'kernel': 'rbf'}\n",
            "0.688889 (0.098256) with: {'C': 100, 'gamma': 1, 'kernel': 'rbf'}\n",
            "0.687778 (0.122771) with: {'C': 100, 'gamma': 0.1, 'kernel': 'rbf'}\n",
            "0.708889 (0.087743) with: {'C': 100, 'gamma': 0.01, 'kernel': 'rbf'}\n",
            "0.677778 (0.117168) with: {'C': 100, 'gamma': 0.001, 'kernel': 'rbf'}\n",
            "0.656667 (0.113361) with: {'C': 100, 'gamma': 0.0001, 'kernel': 'rbf'}\n",
            "0.650000 (0.106022) with: {'C': 1000, 'gamma': 1, 'kernel': 'rbf'}\n",
            "0.687778 (0.122771) with: {'C': 1000, 'gamma': 0.1, 'kernel': 'rbf'}\n",
            "0.677778 (0.125413) with: {'C': 1000, 'gamma': 0.01, 'kernel': 'rbf'}\n",
            "0.677778 (0.117168) with: {'C': 1000, 'gamma': 0.001, 'kernel': 'rbf'}\n",
            "0.687778 (0.130663) with: {'C': 1000, 'gamma': 0.0001, 'kernel': 'rbf'}\n",
            "0.637778 (0.073569) with: {'C': 10000, 'gamma': 1, 'kernel': 'rbf'}\n",
            "0.698889 (0.103810) with: {'C': 10000, 'gamma': 0.1, 'kernel': 'rbf'}\n",
            "0.698889 (0.103810) with: {'C': 10000, 'gamma': 0.01, 'kernel': 'rbf'}\n",
            "0.687778 (0.114337) with: {'C': 10000, 'gamma': 0.001, 'kernel': 'rbf'}\n",
            "0.677778 (0.117168) with: {'C': 10000, 'gamma': 0.0001, 'kernel': 'rbf'}\n",
            "0.690000 (0.093287) with: {'C': 100000, 'gamma': 1, 'kernel': 'rbf'}\n",
            "0.667778 (0.096154) with: {'C': 100000, 'gamma': 0.1, 'kernel': 'rbf'}\n",
            "0.687778 (0.149934) with: {'C': 100000, 'gamma': 0.01, 'kernel': 'rbf'}\n",
            "0.677778 (0.125413) with: {'C': 100000, 'gamma': 0.001, 'kernel': 'rbf'}\n",
            "0.666667 (0.141509) with: {'C': 100000, 'gamma': 0.0001, 'kernel': 'rbf'}\n",
            "0.658889 (0.084188) with: {'C': 1000000, 'gamma': 1, 'kernel': 'rbf'}\n",
            "0.628889 (0.081982) with: {'C': 1000000, 'gamma': 0.1, 'kernel': 'rbf'}\n",
            "0.676667 (0.138283) with: {'C': 1000000, 'gamma': 0.01, 'kernel': 'rbf'}\n",
            "0.697778 (0.134971) with: {'C': 1000000, 'gamma': 0.001, 'kernel': 'rbf'}\n",
            "0.687778 (0.114337) with: {'C': 1000000, 'gamma': 0.0001, 'kernel': 'rbf'}\n"
          ]
        }
      ],
      "source": [
        "# SVM\n",
        "param_grid = {\n",
        "    \"C\": [0.1, 1, 10, 100, 1000, 10000, 100000, 1000000],\n",
        "    \"gamma\": [1, 0.1, 0.01, 0.001, 0.0001],\n",
        "    \"kernel\": [\"rbf\"],\n",
        "}\n",
        "model = SVC()\n",
        "kfold = KFold(n_splits=num_folds, random_state=None)\n",
        "grid = GridSearchCV(estimator=model, param_grid=param_grid, scoring=scoring, cv=kfold)\n",
        "grid_result = grid.fit(rescaledX, Y_train_iqit)\n",
        "\n",
        "print(\"Best: %f using %s\" % (grid_result.best_score_, grid_result.best_params_))\n",
        "\n",
        "means = grid_result.cv_results_[\"mean_test_score\"]\n",
        "stds = grid_result.cv_results_[\"std_test_score\"]\n",
        "params = grid_result.cv_results_[\"params\"]\n",
        "\n",
        "for mean, stdev, param in zip(means, stds, params):\n",
        "    print(\"%f (%f) with: %r\" % (mean, stdev, param))\n",
        "    "
      ]
    },
    {
      "cell_type": "code",
      "execution_count": 34,
      "metadata": {},
      "outputs": [
        {
          "name": "stdout",
          "output_type": "stream",
          "text": [
            "Best: 0.730000 using {'n_estimators': np.int64(230)}\n",
            "0.730000 (0.109098) with: {'n_estimators': np.int64(230)}\n",
            "0.730000 (0.109098) with: {'n_estimators': np.int64(235)}\n",
            "0.730000 (0.109098) with: {'n_estimators': np.int64(240)}\n",
            "0.730000 (0.109098) with: {'n_estimators': np.int64(245)}\n",
            "0.730000 (0.109098) with: {'n_estimators': np.int64(250)}\n",
            "0.730000 (0.109098) with: {'n_estimators': np.int64(255)}\n",
            "0.730000 (0.109098) with: {'n_estimators': np.int64(260)}\n",
            "0.730000 (0.109098) with: {'n_estimators': np.int64(265)}\n",
            "0.730000 (0.109098) with: {'n_estimators': np.int64(270)}\n",
            "0.730000 (0.109098) with: {'n_estimators': np.int64(275)}\n",
            "0.730000 (0.109098) with: {'n_estimators': np.int64(280)}\n"
          ]
        }
      ],
      "source": [
        "# ET\n",
        "param_grid = dict(\n",
        "    n_estimators=np.array([230, 235, 240, 245, 250, 255, 260, 265, 270, 275, 280])\n",
        ")\n",
        "model = ExtraTreesClassifier(random_state=seed)\n",
        "kfold = KFold(n_splits=num_folds, random_state=seed, shuffle=True)\n",
        "grid = GridSearchCV(estimator=model, param_grid=param_grid, scoring=scoring, cv=kfold)\n",
        "grid_result = grid.fit(rescaledX, Y_train_iqit)\n",
        "\n",
        "print(\"Best: %f using %s\" % (grid_result.best_score_, grid_result.best_params_))\n",
        "\n",
        "means = grid_result.cv_results_[\"mean_test_score\"]\n",
        "stds = grid_result.cv_results_[\"std_test_score\"]\n",
        "params = grid_result.cv_results_[\"params\"]\n",
        "\n",
        "for mean, stdev, param in zip(means, stds, params):\n",
        "    print(\"%f (%f) with: %r\" % (mean, stdev, param))\n",
        "    "
      ]
    },
    {
      "cell_type": "code",
      "execution_count": 35,
      "metadata": {},
      "outputs": [
        {
          "name": "stdout",
          "output_type": "stream",
          "text": [
            "Best: 0.742222 using {'n_estimators': np.int64(65)}\n",
            "0.732222 (0.127119) with: {'n_estimators': np.int64(35)}\n",
            "0.732222 (0.127119) with: {'n_estimators': np.int64(40)}\n",
            "0.732222 (0.127119) with: {'n_estimators': np.int64(45)}\n",
            "0.721111 (0.106394) with: {'n_estimators': np.int64(55)}\n",
            "0.731111 (0.098982) with: {'n_estimators': np.int64(60)}\n",
            "0.742222 (0.120062) with: {'n_estimators': np.int64(65)}\n",
            "0.731111 (0.098982) with: {'n_estimators': np.int64(50)}\n",
            "0.721111 (0.106394) with: {'n_estimators': np.int64(48)}\n",
            "0.731111 (0.098982) with: {'n_estimators': np.int64(49)}\n",
            "0.742222 (0.120062) with: {'n_estimators': np.int64(51)}\n",
            "0.731111 (0.098982) with: {'n_estimators': np.int64(52)}\n"
          ]
        }
      ],
      "source": [
        "# RF\n",
        "param_grid = dict(n_estimators=np.array([35, 40, 45, 55, 60, 65, 50, 48, 49, 51, 52]))\n",
        "model = RandomForestClassifier(random_state=seed)\n",
        "kfold = KFold(n_splits=num_folds, random_state=None)\n",
        "\n",
        "grid = GridSearchCV(estimator=model, param_grid=param_grid, scoring=scoring, cv=kfold)\n",
        "grid_result = grid.fit(rescaledX, Y_train_iqit)\n",
        "\n",
        "print(\"Best: %f using %s\" % (grid_result.best_score_, grid_result.best_params_))\n",
        "\n",
        "means = grid_result.cv_results_[\"mean_test_score\"]\n",
        "stds = grid_result.cv_results_[\"std_test_score\"]\n",
        "params = grid_result.cv_results_[\"params\"]\n",
        "\n",
        "for mean, stdev, param in zip(means, stds, params):\n",
        "    print(\"%f (%f) with: %r\" % (mean, stdev, param))"
      ]
    },
    {
      "cell_type": "markdown",
      "metadata": {},
      "source": [
        "## Results\n",
        "- **LDA: Best: 0.029210 using {'shrinkage': 0.1, 'solver': 'lsqr'}**\n",
        "- **LR: Best: 0.031707 using {'C': 0.1, 'penalty': 'l2', 'solver': 'saga'}**\n",
        "- **SVM: Best: 0.034088 using {'C': 10, 'gamma': 0.1, 'kernel': 'rbf'}**\n",
        "- **ET: Best: 0.021893 using {'n_estimators': np.int64(230)}**\n",
        "- **RF: Best: 0.026771 using {'n_estimators': np.int64(35)}**"
      ]
    },
    {
      "cell_type": "markdown",
      "metadata": {},
      "source": [
        "# 6. Data Fitting"
      ]
    },
    {
      "cell_type": "markdown",
      "metadata": {},
      "source": [
        "## 6.1. LDA"
      ]
    },
    {
      "cell_type": "code",
      "execution_count": 36,
      "metadata": {},
      "outputs": [
        {
          "name": "stdout",
          "output_type": "stream",
          "text": [
            "0.6907216494845361\n",
            "0.6363636363636364\n",
            "[[0 2 0]\n",
            " [0 5 1]\n",
            " [0 1 2]]\n",
            "              precision    recall  f1-score   support\n",
            "\n",
            "           1       0.00      0.00      0.00         2\n",
            "           2       0.62      0.83      0.71         6\n",
            "           3       0.67      0.67      0.67         3\n",
            "\n",
            "    accuracy                           0.64        11\n",
            "   macro avg       0.43      0.50      0.46        11\n",
            "weighted avg       0.52      0.64      0.57        11\n",
            "\n"
          ]
        },
        {
          "name": "stderr",
          "output_type": "stream",
          "text": [
            "c:\\Users\\Admin\\AppData\\Local\\Programs\\Python\\Python311\\Lib\\site-packages\\sklearn\\metrics\\_classification.py:1531: UndefinedMetricWarning: Precision is ill-defined and being set to 0.0 in labels with no predicted samples. Use `zero_division` parameter to control this behavior.\n",
            "  _warn_prf(average, modifier, f\"{metric.capitalize()} is\", len(result))\n",
            "c:\\Users\\Admin\\AppData\\Local\\Programs\\Python\\Python311\\Lib\\site-packages\\sklearn\\metrics\\_classification.py:1531: UndefinedMetricWarning: Precision is ill-defined and being set to 0.0 in labels with no predicted samples. Use `zero_division` parameter to control this behavior.\n",
            "  _warn_prf(average, modifier, f\"{metric.capitalize()} is\", len(result))\n",
            "c:\\Users\\Admin\\AppData\\Local\\Programs\\Python\\Python311\\Lib\\site-packages\\sklearn\\metrics\\_classification.py:1531: UndefinedMetricWarning: Precision is ill-defined and being set to 0.0 in labels with no predicted samples. Use `zero_division` parameter to control this behavior.\n",
            "  _warn_prf(average, modifier, f\"{metric.capitalize()} is\", len(result))\n"
          ]
        }
      ],
      "source": [
        "# LDA  'shrinkage': 0.1, 'solver': 'lsqr'\n",
        "modelLDA = LinearDiscriminantAnalysis(shrinkage=0.3, solver=\"lsqr\")\n",
        "modelLDA.fit(X_train_iqit, Y_train_iqit)\n",
        "predictions = modelLDA.predict(X_test_iqit)\n",
        "\n",
        "print(accuracy_score(Y_train_iqit, modelLDA.predict(X_train_iqit)))\n",
        "print(accuracy_score(Y_test_iqit, predictions))\n",
        "print(confusion_matrix(Y_test_iqit, predictions))\n",
        "print(classification_report(Y_test_iqit, predictions))"
      ]
    },
    {
      "cell_type": "markdown",
      "metadata": {},
      "source": [
        "## 6.2. LR"
      ]
    },
    {
      "cell_type": "code",
      "execution_count": 37,
      "metadata": {},
      "outputs": [
        {
          "name": "stdout",
          "output_type": "stream",
          "text": [
            "0.6494845360824743\n",
            "0.45454545454545453\n",
            "[[0 2 0]\n",
            " [0 2 4]\n",
            " [0 0 3]]\n",
            "              precision    recall  f1-score   support\n",
            "\n",
            "           1       0.00      0.00      0.00         2\n",
            "           2       0.50      0.33      0.40         6\n",
            "           3       0.43      1.00      0.60         3\n",
            "\n",
            "    accuracy                           0.45        11\n",
            "   macro avg       0.31      0.44      0.33        11\n",
            "weighted avg       0.39      0.45      0.38        11\n",
            "\n"
          ]
        },
        {
          "name": "stderr",
          "output_type": "stream",
          "text": [
            "c:\\Users\\Admin\\AppData\\Local\\Programs\\Python\\Python311\\Lib\\site-packages\\sklearn\\metrics\\_classification.py:1531: UndefinedMetricWarning: Precision is ill-defined and being set to 0.0 in labels with no predicted samples. Use `zero_division` parameter to control this behavior.\n",
            "  _warn_prf(average, modifier, f\"{metric.capitalize()} is\", len(result))\n",
            "c:\\Users\\Admin\\AppData\\Local\\Programs\\Python\\Python311\\Lib\\site-packages\\sklearn\\metrics\\_classification.py:1531: UndefinedMetricWarning: Precision is ill-defined and being set to 0.0 in labels with no predicted samples. Use `zero_division` parameter to control this behavior.\n",
            "  _warn_prf(average, modifier, f\"{metric.capitalize()} is\", len(result))\n",
            "c:\\Users\\Admin\\AppData\\Local\\Programs\\Python\\Python311\\Lib\\site-packages\\sklearn\\metrics\\_classification.py:1531: UndefinedMetricWarning: Precision is ill-defined and being set to 0.0 in labels with no predicted samples. Use `zero_division` parameter to control this behavior.\n",
            "  _warn_prf(average, modifier, f\"{metric.capitalize()} is\", len(result))\n"
          ]
        }
      ],
      "source": [
        "# LR 'C': 0.1, 'penalty': 'l2', 'solver': 'saga'\n",
        "modelLG = LogisticRegression(C=10, penalty=\"l2\", solver=\"liblinear\")\n",
        "modelLG.fit(X_train_iqit, Y_train_iqit)\n",
        "predictions = modelLG.predict(X_test_iqit)\n",
        "\n",
        "print(accuracy_score(Y_train_iqit, modelLG.predict(X_train_iqit)))\n",
        "print(accuracy_score(Y_test_iqit, predictions))\n",
        "print(confusion_matrix(Y_test_iqit, predictions))\n",
        "print(classification_report(Y_test_iqit, predictions))"
      ]
    },
    {
      "cell_type": "markdown",
      "metadata": {},
      "source": [
        "## 6.3. SVM"
      ]
    },
    {
      "cell_type": "code",
      "execution_count": 38,
      "metadata": {},
      "outputs": [
        {
          "name": "stdout",
          "output_type": "stream",
          "text": [
            "1.0\n",
            "0.45454545454545453\n",
            "[[1 0 1]\n",
            " [1 1 4]\n",
            " [0 0 3]]\n",
            "              precision    recall  f1-score   support\n",
            "\n",
            "           1       0.50      0.50      0.50         2\n",
            "           2       1.00      0.17      0.29         6\n",
            "           3       0.38      1.00      0.55         3\n",
            "\n",
            "    accuracy                           0.45        11\n",
            "   macro avg       0.62      0.56      0.44        11\n",
            "weighted avg       0.74      0.45      0.40        11\n",
            "\n"
          ]
        }
      ],
      "source": [
        "# SVM 'C': 10, 'gamma': 0.1, 'kernel': 'rbf'\n",
        "modelSVM = SVC(C=1000000, gamma=0.001, kernel=\"rbf\")\n",
        "modelSVM.fit(X_train_iqit, Y_train_iqit)\n",
        "predictions = modelSVM.predict(X_test_iqit)\n",
        "\n",
        "print(accuracy_score(Y_train_iqit, modelSVM.predict(X_train_iqit)))\n",
        "print(accuracy_score(Y_test_iqit, predictions))\n",
        "print(confusion_matrix(Y_test_iqit, predictions))\n",
        "print(classification_report(Y_test_iqit, predictions))"
      ]
    },
    {
      "cell_type": "markdown",
      "metadata": {},
      "source": [
        "## 6.4. ET"
      ]
    },
    {
      "cell_type": "code",
      "execution_count": 39,
      "metadata": {},
      "outputs": [
        {
          "name": "stdout",
          "output_type": "stream",
          "text": [
            "1.0\n",
            "0.45454545454545453\n",
            "[[1 1 0]\n",
            " [1 2 3]\n",
            " [0 1 2]]\n",
            "              precision    recall  f1-score   support\n",
            "\n",
            "           1       0.50      0.50      0.50         2\n",
            "           2       0.50      0.33      0.40         6\n",
            "           3       0.40      0.67      0.50         3\n",
            "\n",
            "    accuracy                           0.45        11\n",
            "   macro avg       0.47      0.50      0.47        11\n",
            "weighted avg       0.47      0.45      0.45        11\n",
            "\n"
          ]
        }
      ],
      "source": [
        "# ET 'n_estimators': 230\n",
        "modelET = ExtraTreesClassifier(n_estimators=250)\n",
        "modelET.fit(X_train_iqit, Y_train_iqit)\n",
        "predictions = modelET.predict(X_test_iqit)\n",
        "\n",
        "print(accuracy_score(Y_train_iqit, modelET.predict(X_train_iqit)))\n",
        "print(accuracy_score(Y_test_iqit, predictions))\n",
        "print(confusion_matrix(Y_test_iqit, predictions))\n",
        "print(classification_report(Y_test_iqit, predictions))"
      ]
    },
    {
      "cell_type": "markdown",
      "metadata": {},
      "source": [
        "## 6.5. RF"
      ]
    },
    {
      "cell_type": "code",
      "execution_count": 40,
      "metadata": {},
      "outputs": [
        {
          "name": "stdout",
          "output_type": "stream",
          "text": [
            "1.0\n",
            "0.45454545454545453\n",
            "[[1 1 0]\n",
            " [1 1 4]\n",
            " [0 0 3]]\n",
            "              precision    recall  f1-score   support\n",
            "\n",
            "           1       0.50      0.50      0.50         2\n",
            "           2       0.50      0.17      0.25         6\n",
            "           3       0.43      1.00      0.60         3\n",
            "\n",
            "    accuracy                           0.45        11\n",
            "   macro avg       0.48      0.56      0.45        11\n",
            "weighted avg       0.48      0.45      0.39        11\n",
            "\n"
          ]
        }
      ],
      "source": [
        "# RF 'n_estimators': 35'\n",
        "modelRF = RandomForestClassifier(n_estimators=51)\n",
        "modelRF.fit(X_train_iqit, Y_train_iqit)\n",
        "predictions = modelRF.predict(X_test_iqit)\n",
        "\n",
        "print(accuracy_score(Y_train_iqit, modelRF.predict(X_train_iqit)))\n",
        "print(accuracy_score(Y_test_iqit, predictions))\n",
        "print(confusion_matrix(Y_test_iqit, predictions))\n",
        "print(classification_report(Y_test_iqit, predictions))"
      ]
    },
    {
      "cell_type": "markdown",
      "metadata": {},
      "source": [
        "# 7. Apply Model"
      ]
    },
    {
      "cell_type": "code",
      "execution_count": 41,
      "metadata": {},
      "outputs": [],
      "source": [
        "from sklearn.metrics import confusion_matrix, ConfusionMatrixDisplay\n",
        "\n",
        "iqit_test = pd.read_csv(\"../src/clone_data/IqIt_test.csv\")\n",
        "\n",
        "X_iqit_test = iqit_test[\n",
        "    [\n",
        "        \"education_expenditure\",\n",
        "        \"avg_income\",\n",
        "    ]\n",
        "]\n",
        "Y_iqit_test = iqit_test[\"IQ_Level\"]"
      ]
    },
    {
      "cell_type": "code",
      "execution_count": 42,
      "metadata": {},
      "outputs": [
        {
          "name": "stdout",
          "output_type": "stream",
          "text": [
            "Accuracy Score: 0.6666666666666666\n",
            "Confusion Matrix:\n",
            " [[ 0 14  0]\n",
            " [ 0 44  5]\n",
            " [ 0 17 28]]\n",
            "Classification Report:\n",
            "               precision    recall  f1-score   support\n",
            "\n",
            "           1       0.00      0.00      0.00        14\n",
            "           2       0.59      0.90      0.71        49\n",
            "           3       0.85      0.62      0.72        45\n",
            "\n",
            "    accuracy                           0.67       108\n",
            "   macro avg       0.48      0.51      0.48       108\n",
            "weighted avg       0.62      0.67      0.62       108\n",
            "\n"
          ]
        },
        {
          "name": "stderr",
          "output_type": "stream",
          "text": [
            "c:\\Users\\Admin\\AppData\\Local\\Programs\\Python\\Python311\\Lib\\site-packages\\sklearn\\metrics\\_classification.py:1531: UndefinedMetricWarning: Precision is ill-defined and being set to 0.0 in labels with no predicted samples. Use `zero_division` parameter to control this behavior.\n",
            "  _warn_prf(average, modifier, f\"{metric.capitalize()} is\", len(result))\n",
            "c:\\Users\\Admin\\AppData\\Local\\Programs\\Python\\Python311\\Lib\\site-packages\\sklearn\\metrics\\_classification.py:1531: UndefinedMetricWarning: Precision is ill-defined and being set to 0.0 in labels with no predicted samples. Use `zero_division` parameter to control this behavior.\n",
            "  _warn_prf(average, modifier, f\"{metric.capitalize()} is\", len(result))\n",
            "c:\\Users\\Admin\\AppData\\Local\\Programs\\Python\\Python311\\Lib\\site-packages\\sklearn\\metrics\\_classification.py:1531: UndefinedMetricWarning: Precision is ill-defined and being set to 0.0 in labels with no predicted samples. Use `zero_division` parameter to control this behavior.\n",
            "  _warn_prf(average, modifier, f\"{metric.capitalize()} is\", len(result))\n"
          ]
        },
        {
          "data": {
            "image/png": "[encoded data removed]",
            "text/plain": [
              "<Figure size 640x480 with 2 Axes>"
            ]
          },
          "metadata": {},
          "output_type": "display_data"
        }
      ],
      "source": [
        "from sklearn.discriminant_analysis import LinearDiscriminantAnalysis\n",
        "from sklearn.metrics import accuracy_score, confusion_matrix, classification_report, ConfusionMatrixDisplay\n",
        "import matplotlib.pyplot as plt\n",
        "\n",
        "# Create and fit the LDA model\n",
        "modelLDA = LinearDiscriminantAnalysis(solver=\"lsqr\")\n",
        "modelLDA.fit(X_train_iqit, Y_train_iqit)\n",
        "\n",
        "# Make predictions\n",
        "predictions = modelLDA.predict(X_iqit_test)\n",
        "\n",
        "# Print evaluation metrics\n",
        "print(\"Accuracy Score:\", accuracy_score(Y_iqit_test, predictions))\n",
        "print(\"Confusion Matrix:\\n\", confusion_matrix(Y_iqit_test, predictions))\n",
        "print(\"Classification Report:\\n\", classification_report(Y_iqit_test, predictions))\n",
        "\n",
        "# Display confusion matrix\n",
        "disp = ConfusionMatrixDisplay(\n",
        "    confusion_matrix=confusion_matrix(Y_iqit_test, predictions),\n",
        "    display_labels=modelLDA.classes_,\n",
        ")\n",
        "disp.plot()\n",
        "plt.show()\n"
      ]
    },
    {
      "cell_type": "code",
      "execution_count": 43,
      "metadata": {},
      "outputs": [
        {
          "name": "stderr",
          "output_type": "stream",
          "text": [
            "c:\\Users\\Admin\\AppData\\Local\\Programs\\Python\\Python311\\Lib\\site-packages\\sklearn\\metrics\\_classification.py:1531: UndefinedMetricWarning: Precision is ill-defined and being set to 0.0 in labels with no predicted samples. Use `zero_division` parameter to control this behavior.\n",
            "  _warn_prf(average, modifier, f\"{metric.capitalize()} is\", len(result))\n",
            "c:\\Users\\Admin\\AppData\\Local\\Programs\\Python\\Python311\\Lib\\site-packages\\sklearn\\metrics\\_classification.py:1531: UndefinedMetricWarning: Precision is ill-defined and being set to 0.0 in labels with no predicted samples. Use `zero_division` parameter to control this behavior.\n",
            "  _warn_prf(average, modifier, f\"{metric.capitalize()} is\", len(result))\n",
            "c:\\Users\\Admin\\AppData\\Local\\Programs\\Python\\Python311\\Lib\\site-packages\\sklearn\\metrics\\_classification.py:1531: UndefinedMetricWarning: Precision is ill-defined and being set to 0.0 in labels with no predicted samples. Use `zero_division` parameter to control this behavior.\n",
            "  _warn_prf(average, modifier, f\"{metric.capitalize()} is\", len(result))\n"
          ]
        },
        {
          "name": "stdout",
          "output_type": "stream",
          "text": [
            "0.4166666666666667\n",
            "[[ 0  0 14]\n",
            " [ 0  0 49]\n",
            " [ 0  0 45]]\n",
            "              precision    recall  f1-score   support\n",
            "\n",
            "           1       0.00      0.00      0.00        14\n",
            "           2       0.00      0.00      0.00        49\n",
            "           3       0.42      1.00      0.59        45\n",
            "\n",
            "    accuracy                           0.42       108\n",
            "   macro avg       0.14      0.33      0.20       108\n",
            "weighted avg       0.17      0.42      0.25       108\n",
            "\n"
          ]
        },
        {
          "data": {
            "image/png": "[encoded data removed]",
            "text/plain": [
              "<Figure size 640x480 with 2 Axes>"
            ]
          },
          "metadata": {},
          "output_type": "display_data"
        }
      ],
      "source": [
        "modelLG = LogisticRegression(C=1e-06, penalty=\"l2\", solver=\"liblinear\")\n",
        "modelLG.fit(X_train_iqit, Y_train_iqit)\n",
        "predictions = modelLG.predict(X_iqit_test)\n",
        "\n",
        "print(accuracy_score(Y_iqit_test, predictions))\n",
        "print(confusion_matrix(Y_iqit_test, predictions))\n",
        "print(classification_report(Y_iqit_test, predictions))\n",
        "\n",
        "disp = ConfusionMatrixDisplay(\n",
        "    confusion_matrix=confusion_matrix(Y_iqit_test, predictions),\n",
        "    display_labels=modelLG.classes_,\n",
        ")\n",
        "t = disp.plot()\n",
        "plt.show()"
      ]
    },
    {
      "cell_type": "code",
      "execution_count": 44,
      "metadata": {},
      "outputs": [
        {
          "name": "stdout",
          "output_type": "stream",
          "text": [
            "0.9537037037037037\n",
            "[[12  2  0]\n",
            " [ 0 49  0]\n",
            " [ 0  3 42]]\n",
            "              precision    recall  f1-score   support\n",
            "\n",
            "           1       1.00      0.86      0.92        14\n",
            "           2       0.91      1.00      0.95        49\n",
            "           3       1.00      0.93      0.97        45\n",
            "\n",
            "    accuracy                           0.95       108\n",
            "   macro avg       0.97      0.93      0.95       108\n",
            "weighted avg       0.96      0.95      0.95       108\n",
            "\n"
          ]
        },
        {
          "data": {
            "image/png": "[encoded data removed]",
            "text/plain": [
              "<Figure size 640x480 with 2 Axes>"
            ]
          },
          "metadata": {},
          "output_type": "display_data"
        }
      ],
      "source": [
        "modelSVM = SVC(C=10000, gamma=1, kernel=\"rbf\")\n",
        "modelSVM.fit(X_train_iqit, Y_train_iqit)\n",
        "predictions = modelSVM.predict(X_iqit_test)\n",
        "\n",
        "print(accuracy_score(Y_iqit_test, predictions))\n",
        "print(confusion_matrix(Y_iqit_test, predictions))\n",
        "print(classification_report(Y_iqit_test, predictions))\n",
        "\n",
        "disp = ConfusionMatrixDisplay(\n",
        "    confusion_matrix=confusion_matrix(Y_iqit_test, predictions),\n",
        "    display_labels=modelSVM.classes_,\n",
        ")\n",
        "t = disp.plot()\n",
        "plt.show()"
      ]
    },
    {
      "cell_type": "code",
      "execution_count": 45,
      "metadata": {},
      "outputs": [
        {
          "name": "stdout",
          "output_type": "stream",
          "text": [
            "0.9444444444444444\n",
            "[[13  1  0]\n",
            " [ 1 45  3]\n",
            " [ 0  1 44]]\n",
            "              precision    recall  f1-score   support\n",
            "\n",
            "           1       0.93      0.93      0.93        14\n",
            "           2       0.96      0.92      0.94        49\n",
            "           3       0.94      0.98      0.96        45\n",
            "\n",
            "    accuracy                           0.94       108\n",
            "   macro avg       0.94      0.94      0.94       108\n",
            "weighted avg       0.94      0.94      0.94       108\n",
            "\n"
          ]
        },
        {
          "data": {
            "image/png": "[encoded data removed]",
            "text/plain": [
              "<Figure size 640x480 with 2 Axes>"
            ]
          },
          "metadata": {},
          "output_type": "display_data"
        }
      ],
      "source": [
        "modelET = ExtraTreesClassifier(n_estimators=240)\n",
        "modelET.fit(X_train_iqit, Y_train_iqit)\n",
        "predictions = modelET.predict(X_iqit_test)\n",
        "\n",
        "print(accuracy_score(Y_iqit_test, predictions))\n",
        "print(confusion_matrix(Y_iqit_test, predictions))\n",
        "print(classification_report(Y_iqit_test, predictions))\n",
        "\n",
        "disp = ConfusionMatrixDisplay(\n",
        "    confusion_matrix=confusion_matrix(Y_iqit_test, predictions),\n",
        "    display_labels=modelET.classes_,\n",
        ")\n",
        "t = disp.plot()\n",
        "plt.show()"
      ]
    },
    {
      "cell_type": "code",
      "execution_count": 46,
      "metadata": {},
      "outputs": [
        {
          "name": "stdout",
          "output_type": "stream",
          "text": [
            "0.9444444444444444\n",
            "[[13  1  0]\n",
            " [ 1 44  4]\n",
            " [ 0  0 45]]\n",
            "              precision    recall  f1-score   support\n",
            "\n",
            "           1       0.93      0.93      0.93        14\n",
            "           2       0.98      0.90      0.94        49\n",
            "           3       0.92      1.00      0.96        45\n",
            "\n",
            "    accuracy                           0.94       108\n",
            "   macro avg       0.94      0.94      0.94       108\n",
            "weighted avg       0.95      0.94      0.94       108\n",
            "\n"
          ]
        },
        {
          "data": {
            "image/png": "[encoded data removed]",
            "text/plain": [
              "<Figure size 640x480 with 2 Axes>"
            ]
          },
          "metadata": {},
          "output_type": "display_data"
        }
      ],
      "source": [
        "modelRF = RandomForestClassifier(n_estimators=60)\n",
        "modelRF.fit(X_train_iqit, Y_train_iqit)\n",
        "predictions = modelRF.predict(X_iqit_test)\n",
        "\n",
        "print(accuracy_score(Y_iqit_test, predictions))\n",
        "print(confusion_matrix(Y_iqit_test, predictions))\n",
        "print(classification_report(Y_iqit_test, predictions))\n",
        "\n",
        "disp = ConfusionMatrixDisplay(\n",
        "    confusion_matrix=confusion_matrix(Y_iqit_test, predictions),\n",
        "    display_labels=modelRF.classes_,\n",
        ")\n",
        "t = disp.plot()\n",
        "plt.show()"
      ]
    },
    {
      "cell_type": "markdown",
      "metadata": {},
      "source": [
        "# 8. Visualization"
      ]
    },
    {
      "cell_type": "code",
      "execution_count": 47,
      "metadata": {},
      "outputs": [],
      "source": [
        "import plotly.express as px\n",
        "import nbformat"
      ]
    },
    {
      "cell_type": "code",
      "execution_count": 48,
      "metadata": {},
      "outputs": [
        {
          "data": {
            "application/vnd.plotly.v1+json": {
              "config": {
                "plotlyServerURL": "https://plot.ly"
              },
              "data": [
                {
                  "hovertemplate": "education_expenditure=%{x}<br>IQ=%{y}<extra></extra>",
                  "legendgroup": "",
                  "marker": {
                    "color": "red",
                    "symbol": "circle"
                  },
                  "mode": "markers",
                  "name": "",
                  "orientation": "v",
                  "showlegend": false,
                  "type": "scatter",
                  "x": [
                    338,
                    50,
                    903.0582524271844,
                    21,
                    225,
                    54,
                    16,
                    1174,
                    118,
                    182,
                    16,
                    1265,
                    336,
                    482,
                    273,
                    1340,
                    450,
                    249,
                    1883,
                    32,
                    7,
                    1020,
                    176,
                    183,
                    1811,
                    253,
                    76,
                    437,
                    903.0582524271844,
                    1176,
                    36,
                    113,
                    1448,
                    1283,
                    1428,
                    252,
                    67,
                    395,
                    4133,
                    1005,
                    427,
                    2608,
                    92,
                    15,
                    1,
                    585,
                    62,
                    156,
                    208,
                    2076,
                    550,
                    76,
                    334,
                    3665,
                    903.0582524271844,
                    2052,
                    1380,
                    505,
                    487,
                    2343,
                    903.0582524271844,
                    143,
                    805,
                    3550,
                    5436,
                    1748,
                    2386,
                    3419,
                    712,
                    4518,
                    454,
                    69,
                    14,
                    2331,
                    22,
                    2507,
                    545,
                    14,
                    2500,
                    55,
                    144,
                    2042,
                    199,
                    47,
                    153,
                    224,
                    903.0582524271844,
                    310,
                    79,
                    92,
                    20,
                    3812,
                    231,
                    1024,
                    84,
                    798,
                    158,
                    2083,
                    193,
                    27,
                    1990,
                    15,
                    749,
                    2341,
                    25,
                    2725,
                    781,
                    16
                  ],
                  "xaxis": "x",
                  "y": [
                    96,
                    74,
                    56,
                    67,
                    89,
                    74,
                    97,
                    82,
                    82,
                    89,
                    52,
                    77,
                    69,
                    88,
                    83,
                    106,
                    89,
                    88,
                    100,
                    83,
                    64,
                    88,
                    81,
                    104,
                    93,
                    77,
                    91,
                    87,
                    68,
                    95,
                    67,
                    72,
                    100,
                    106,
                    106,
                    76,
                    83,
                    84,
                    98,
                    93,
                    83,
                    97,
                    78,
                    81,
                    69,
                    99,
                    74,
                    79,
                    89,
                    99,
                    95,
                    61,
                    87,
                    100,
                    100,
                    100,
                    95,
                    95,
                    88,
                    99,
                    85,
                    91,
                    82,
                    100,
                    98,
                    92,
                    101,
                    98,
                    96,
                    99,
                    87,
                    61,
                    55,
                    80,
                    51,
                    98,
                    96,
                    89,
                    95,
                    85,
                    71,
                    97,
                    79,
                    77,
                    93,
                    91,
                    106,
                    87,
                    80,
                    55,
                    75,
                    99,
                    83,
                    103,
                    86,
                    80,
                    82,
                    99,
                    88,
                    81,
                    80,
                    69,
                    100,
                    99,
                    77,
                    101,
                    91,
                    75
                  ],
                  "yaxis": "y"
                }
              ],
              "layout": {
                "legend": {
                  "tracegroupgap": 0
                },
                "template": {
                  "data": {
                    "bar": [
                      {
                        "error_x": {
                          "color": "#2a3f5f"
                        },
                        "error_y": {
                          "color": "#2a3f5f"
                        },
                        "marker": {
                          "line": {
                            "color": "#E5ECF6",
                            "width": 0.5
                          },
                          "pattern": {
                            "fillmode": "overlay",
                            "size": 10,
                            "solidity": 0.2
                          }
                        },
                        "type": "bar"
                      }
                    ],
                    "barpolar": [
                      {
                        "marker": {
                          "line": {
                            "color": "#E5ECF6",
                            "width": 0.5
                          },
                          "pattern": {
                            "fillmode": "overlay",
                            "size": 10,
                            "solidity": 0.2
                          }
                        },
                        "type": "barpolar"
                      }
                    ],
                    "carpet": [
                      {
                        "aaxis": {
                          "endlinecolor": "#2a3f5f",
                          "gridcolor": "white",
                          "linecolor": "white",
                          "minorgridcolor": "white",
                          "startlinecolor": "#2a3f5f"
                        },
                        "baxis": {
                          "endlinecolor": "#2a3f5f",
                          "gridcolor": "white",
                          "linecolor": "white",
                          "minorgridcolor": "white",
                          "startlinecolor": "#2a3f5f"
                        },
                        "type": "carpet"
                      }
                    ],
                    "choropleth": [
                      {
                        "colorbar": {
                          "outlinewidth": 0,
                          "ticks": ""
                        },
                        "type": "choropleth"
                      }
                    ],
                    "contour": [
                      {
                        "colorbar": {
                          "outlinewidth": 0,
                          "ticks": ""
                        },
                        "colorscale": [
                          [
                            0,
                            "#0d0887"
                          ],
                          [
                            0.1111111111111111,
                            "#46039f"
                          ],
                          [
                            0.2222222222222222,
                            "#7201a8"
                          ],
                          [
                            0.3333333333333333,
                            "#9c179e"
                          ],
                          [
                            0.4444444444444444,
                            "#bd3786"
                          ],
                          [
                            0.5555555555555556,
                            "#d8576b"
                          ],
                          [
                            0.6666666666666666,
                            "#ed7953"
                          ],
                          [
                            0.7777777777777778,
                            "#fb9f3a"
                          ],
                          [
                            0.8888888888888888,
                            "#fdca26"
                          ],
                          [
                            1,
                            "#f0f921"
                          ]
                        ],
                        "type": "contour"
                      }
                    ],
                    "contourcarpet": [
                      {
                        "colorbar": {
                          "outlinewidth": 0,
                          "ticks": ""
                        },
                        "type": "contourcarpet"
                      }
                    ],
                    "heatmap": [
                      {
                        "colorbar": {
                          "outlinewidth": 0,
                          "ticks": ""
                        },
                        "colorscale": [
                          [
                            0,
                            "#0d0887"
                          ],
                          [
                            0.1111111111111111,
                            "#46039f"
                          ],
                          [
                            0.2222222222222222,
                            "#7201a8"
                          ],
                          [
                            0.3333333333333333,
                            "#9c179e"
                          ],
                          [
                            0.4444444444444444,
                            "#bd3786"
                          ],
                          [
                            0.5555555555555556,
                            "#d8576b"
                          ],
                          [
                            0.6666666666666666,
                            "#ed7953"
                          ],
                          [
                            0.7777777777777778,
                            "#fb9f3a"
                          ],
                          [
                            0.8888888888888888,
                            "#fdca26"
                          ],
                          [
                            1,
                            "#f0f921"
                          ]
                        ],
                        "type": "heatmap"
                      }
                    ],
                    "heatmapgl": [
                      {
                        "colorbar": {
                          "outlinewidth": 0,
                          "ticks": ""
                        },
                        "colorscale": [
                          [
                            0,
                            "#0d0887"
                          ],
                          [
                            0.1111111111111111,
                            "#46039f"
                          ],
                          [
                            0.2222222222222222,
                            "#7201a8"
                          ],
                          [
                            0.3333333333333333,
                            "#9c179e"
                          ],
                          [
                            0.4444444444444444,
                            "#bd3786"
                          ],
                          [
                            0.5555555555555556,
                            "#d8576b"
                          ],
                          [
                            0.6666666666666666,
                            "#ed7953"
                          ],
                          [
                            0.7777777777777778,
                            "#fb9f3a"
                          ],
                          [
                            0.8888888888888888,
                            "#fdca26"
                          ],
                          [
                            1,
                            "#f0f921"
                          ]
                        ],
                        "type": "heatmapgl"
                      }
                    ],
                    "histogram": [
                      {
                        "marker": {
                          "pattern": {
                            "fillmode": "overlay",
                            "size": 10,
                            "solidity": 0.2
                          }
                        },
                        "type": "histogram"
                      }
                    ],
                    "histogram2d": [
                      {
                        "colorbar": {
                          "outlinewidth": 0,
                          "ticks": ""
                        },
                        "colorscale": [
                          [
                            0,
                            "#0d0887"
                          ],
                          [
                            0.1111111111111111,
                            "#46039f"
                          ],
                          [
                            0.2222222222222222,
                            "#7201a8"
                          ],
                          [
                            0.3333333333333333,
                            "#9c179e"
                          ],
                          [
                            0.4444444444444444,
                            "#bd3786"
                          ],
                          [
                            0.5555555555555556,
                            "#d8576b"
                          ],
                          [
                            0.6666666666666666,
                            "#ed7953"
                          ],
                          [
                            0.7777777777777778,
                            "#fb9f3a"
                          ],
                          [
                            0.8888888888888888,
                            "#fdca26"
                          ],
                          [
                            1,
                            "#f0f921"
                          ]
                        ],
                        "type": "histogram2d"
                      }
                    ],
                    "histogram2dcontour": [
                      {
                        "colorbar": {
                          "outlinewidth": 0,
                          "ticks": ""
                        },
                        "colorscale": [
                          [
                            0,
                            "#0d0887"
                          ],
                          [
                            0.1111111111111111,
                            "#46039f"
                          ],
                          [
                            0.2222222222222222,
                            "#7201a8"
                          ],
                          [
                            0.3333333333333333,
                            "#9c179e"
                          ],
                          [
                            0.4444444444444444,
                            "#bd3786"
                          ],
                          [
                            0.5555555555555556,
                            "#d8576b"
                          ],
                          [
                            0.6666666666666666,
                            "#ed7953"
                          ],
                          [
                            0.7777777777777778,
                            "#fb9f3a"
                          ],
                          [
                            0.8888888888888888,
                            "#fdca26"
                          ],
                          [
                            1,
                            "#f0f921"
                          ]
                        ],
                        "type": "histogram2dcontour"
                      }
                    ],
                    "mesh3d": [
                      {
                        "colorbar": {
                          "outlinewidth": 0,
                          "ticks": ""
                        },
                        "type": "mesh3d"
                      }
                    ],
                    "parcoords": [
                      {
                        "line": {
                          "colorbar": {
                            "outlinewidth": 0,
                            "ticks": ""
                          }
                        },
                        "type": "parcoords"
                      }
                    ],
                    "pie": [
                      {
                        "automargin": true,
                        "type": "pie"
                      }
                    ],
                    "scatter": [
                      {
                        "fillpattern": {
                          "fillmode": "overlay",
                          "size": 10,
                          "solidity": 0.2
                        },
                        "type": "scatter"
                      }
                    ],
                    "scatter3d": [
                      {
                        "line": {
                          "colorbar": {
                            "outlinewidth": 0,
                            "ticks": ""
                          }
                        },
                        "marker": {
                          "colorbar": {
                            "outlinewidth": 0,
                            "ticks": ""
                          }
                        },
                        "type": "scatter3d"
                      }
                    ],
                    "scattercarpet": [
                      {
                        "marker": {
                          "colorbar": {
                            "outlinewidth": 0,
                            "ticks": ""
                          }
                        },
                        "type": "scattercarpet"
                      }
                    ],
                    "scattergeo": [
                      {
                        "marker": {
                          "colorbar": {
                            "outlinewidth": 0,
                            "ticks": ""
                          }
                        },
                        "type": "scattergeo"
                      }
                    ],
                    "scattergl": [
                      {
                        "marker": {
                          "colorbar": {
                            "outlinewidth": 0,
                            "ticks": ""
                          }
                        },
                        "type": "scattergl"
                      }
                    ],
                    "scattermapbox": [
                      {
                        "marker": {
                          "colorbar": {
                            "outlinewidth": 0,
                            "ticks": ""
                          }
                        },
                        "type": "scattermapbox"
                      }
                    ],
                    "scatterpolar": [
                      {
                        "marker": {
                          "colorbar": {
                            "outlinewidth": 0,
                            "ticks": ""
                          }
                        },
                        "type": "scatterpolar"
                      }
                    ],
                    "scatterpolargl": [
                      {
                        "marker": {
                          "colorbar": {
                            "outlinewidth": 0,
                            "ticks": ""
                          }
                        },
                        "type": "scatterpolargl"
                      }
                    ],
                    "scatterternary": [
                      {
                        "marker": {
                          "colorbar": {
                            "outlinewidth": 0,
                            "ticks": ""
                          }
                        },
                        "type": "scatterternary"
                      }
                    ],
                    "surface": [
                      {
                        "colorbar": {
                          "outlinewidth": 0,
                          "ticks": ""
                        },
                        "colorscale": [
                          [
                            0,
                            "#0d0887"
                          ],
                          [
                            0.1111111111111111,
                            "#46039f"
                          ],
                          [
                            0.2222222222222222,
                            "#7201a8"
                          ],
                          [
                            0.3333333333333333,
                            "#9c179e"
                          ],
                          [
                            0.4444444444444444,
                            "#bd3786"
                          ],
                          [
                            0.5555555555555556,
                            "#d8576b"
                          ],
                          [
                            0.6666666666666666,
                            "#ed7953"
                          ],
                          [
                            0.7777777777777778,
                            "#fb9f3a"
                          ],
                          [
                            0.8888888888888888,
                            "#fdca26"
                          ],
                          [
                            1,
                            "#f0f921"
                          ]
                        ],
                        "type": "surface"
                      }
                    ],
                    "table": [
                      {
                        "cells": {
                          "fill": {
                            "color": "#EBF0F8"
                          },
                          "line": {
                            "color": "white"
                          }
                        },
                        "header": {
                          "fill": {
                            "color": "#C8D4E3"
                          },
                          "line": {
                            "color": "white"
                          }
                        },
                        "type": "table"
                      }
                    ]
                  },
                  "layout": {
                    "annotationdefaults": {
                      "arrowcolor": "#2a3f5f",
                      "arrowhead": 0,
                      "arrowwidth": 1
                    },
                    "autotypenumbers": "strict",
                    "coloraxis": {
                      "colorbar": {
                        "outlinewidth": 0,
                        "ticks": ""
                      }
                    },
                    "colorscale": {
                      "diverging": [
                        [
                          0,
                          "#8e0152"
                        ],
                        [
                          0.1,
                          "#c51b7d"
                        ],
                        [
                          0.2,
                          "#de77ae"
                        ],
                        [
                          0.3,
                          "#f1b6da"
                        ],
                        [
                          0.4,
                          "#fde0ef"
                        ],
                        [
                          0.5,
                          "#f7f7f7"
                        ],
                        [
                          0.6,
                          "#e6f5d0"
                        ],
                        [
                          0.7,
                          "#b8e186"
                        ],
                        [
                          0.8,
                          "#7fbc41"
                        ],
                        [
                          0.9,
                          "#4d9221"
                        ],
                        [
                          1,
                          "#276419"
                        ]
                      ],
                      "sequential": [
                        [
                          0,
                          "#0d0887"
                        ],
                        [
                          0.1111111111111111,
                          "#46039f"
                        ],
                        [
                          0.2222222222222222,
                          "#7201a8"
                        ],
                        [
                          0.3333333333333333,
                          "#9c179e"
                        ],
                        [
                          0.4444444444444444,
                          "#bd3786"
                        ],
                        [
                          0.5555555555555556,
                          "#d8576b"
                        ],
                        [
                          0.6666666666666666,
                          "#ed7953"
                        ],
                        [
                          0.7777777777777778,
                          "#fb9f3a"
                        ],
                        [
                          0.8888888888888888,
                          "#fdca26"
                        ],
                        [
                          1,
                          "#f0f921"
                        ]
                      ],
                      "sequentialminus": [
                        [
                          0,
                          "#0d0887"
                        ],
                        [
                          0.1111111111111111,
                          "#46039f"
                        ],
                        [
                          0.2222222222222222,
                          "#7201a8"
                        ],
                        [
                          0.3333333333333333,
                          "#9c179e"
                        ],
                        [
                          0.4444444444444444,
                          "#bd3786"
                        ],
                        [
                          0.5555555555555556,
                          "#d8576b"
                        ],
                        [
                          0.6666666666666666,
                          "#ed7953"
                        ],
                        [
                          0.7777777777777778,
                          "#fb9f3a"
                        ],
                        [
                          0.8888888888888888,
                          "#fdca26"
                        ],
                        [
                          1,
                          "#f0f921"
                        ]
                      ]
                    },
                    "colorway": [
                      "#636efa",
                      "#EF553B",
                      "#00cc96",
                      "#ab63fa",
                      "#FFA15A",
                      "#19d3f3",
                      "#FF6692",
                      "#B6E880",
                      "#FF97FF",
                      "#FECB52"
                    ],
                    "font": {
                      "color": "#2a3f5f"
                    },
                    "geo": {
                      "bgcolor": "white",
                      "lakecolor": "white",
                      "landcolor": "#E5ECF6",
                      "showlakes": true,
                      "showland": true,
                      "subunitcolor": "white"
                    },
                    "hoverlabel": {
                      "align": "left"
                    },
                    "hovermode": "closest",
                    "mapbox": {
                      "style": "light"
                    },
                    "paper_bgcolor": "white",
                    "plot_bgcolor": "#E5ECF6",
                    "polar": {
                      "angularaxis": {
                        "gridcolor": "white",
                        "linecolor": "white",
                        "ticks": ""
                      },
                      "bgcolor": "#E5ECF6",
                      "radialaxis": {
                        "gridcolor": "white",
                        "linecolor": "white",
                        "ticks": ""
                      }
                    },
                    "scene": {
                      "xaxis": {
                        "backgroundcolor": "#E5ECF6",
                        "gridcolor": "white",
                        "gridwidth": 2,
                        "linecolor": "white",
                        "showbackground": true,
                        "ticks": "",
                        "zerolinecolor": "white"
                      },
                      "yaxis": {
                        "backgroundcolor": "#E5ECF6",
                        "gridcolor": "white",
                        "gridwidth": 2,
                        "linecolor": "white",
                        "showbackground": true,
                        "ticks": "",
                        "zerolinecolor": "white"
                      },
                      "zaxis": {
                        "backgroundcolor": "#E5ECF6",
                        "gridcolor": "white",
                        "gridwidth": 2,
                        "linecolor": "white",
                        "showbackground": true,
                        "ticks": "",
                        "zerolinecolor": "white"
                      }
                    },
                    "shapedefaults": {
                      "line": {
                        "color": "#2a3f5f"
                      }
                    },
                    "ternary": {
                      "aaxis": {
                        "gridcolor": "white",
                        "linecolor": "white",
                        "ticks": ""
                      },
                      "baxis": {
                        "gridcolor": "white",
                        "linecolor": "white",
                        "ticks": ""
                      },
                      "bgcolor": "#E5ECF6",
                      "caxis": {
                        "gridcolor": "white",
                        "linecolor": "white",
                        "ticks": ""
                      }
                    },
                    "title": {
                      "x": 0.05
                    },
                    "xaxis": {
                      "automargin": true,
                      "gridcolor": "white",
                      "linecolor": "white",
                      "ticks": "",
                      "title": {
                        "standoff": 15
                      },
                      "zerolinecolor": "white",
                      "zerolinewidth": 2
                    },
                    "yaxis": {
                      "automargin": true,
                      "gridcolor": "white",
                      "linecolor": "white",
                      "ticks": "",
                      "title": {
                        "standoff": 15
                      },
                      "zerolinecolor": "white",
                      "zerolinewidth": 2
                    }
                  }
                },
                "title": {
                  "text": "Influence of Education Expenditure on IQ"
                },
                "xaxis": {
                  "anchor": "y",
                  "domain": [
                    0,
                    1
                  ],
                  "title": {
                    "text": "education_expenditure"
                  }
                },
                "yaxis": {
                  "anchor": "x",
                  "domain": [
                    0,
                    1
                  ],
                  "title": {
                    "text": "IQ"
                  }
                }
              }
            }
          },
          "metadata": {},
          "output_type": "display_data"
        }
      ],
      "source": [
        "fig = px.scatter(IqIt_train, x=\"education_expenditure\", y=\"IQ\", title=\"Influence of Education Expenditure on IQ\")\n",
        "fig.update_traces(marker=dict(color='red'))\n",
        "fig.show()"
      ]
    },
    {
      "cell_type": "code",
      "execution_count": 49,
      "metadata": {},
      "outputs": [
        {
          "data": {
            "application/vnd.plotly.v1+json": {
              "config": {
                "plotlyServerURL": "https://plot.ly"
              },
              "data": [
                {
                  "alignmentgroup": "True",
                  "hovertemplate": "Rank=%{x}<br>Education Expenditure=%{y}<extra></extra>",
                  "legendgroup": "",
                  "marker": {
                    "color": "purple",
                    "pattern": {
                      "shape": ""
                    }
                  },
                  "name": "",
                  "offsetgroup": "",
                  "orientation": "v",
                  "showlegend": false,
                  "textposition": "auto",
                  "type": "bar",
                  "x": [
                    32,
                    92,
                    104,
                    99,
                    46,
                    90,
                    27,
                    72,
                    69,
                    49,
                    107,
                    85,
                    95,
                    52,
                    68,
                    2,
                    47,
                    55,
                    13,
                    67,
                    101,
                    51,
                    74,
                    5,
                    38,
                    83,
                    45,
                    58,
                    98,
                    33,
                    100,
                    93,
                    12,
                    1,
                    3,
                    87,
                    65,
                    63,
                    26,
                    40,
                    64,
                    29,
                    82,
                    73,
                    97,
                    21,
                    91,
                    80,
                    50,
                    17,
                    37,
                    102,
                    59,
                    11,
                    10,
                    9,
                    35,
                    36,
                    53,
                    16,
                    62,
                    44,
                    70,
                    14,
                    24,
                    41,
                    7,
                    25,
                    31,
                    18,
                    56,
                    103,
                    105,
                    79,
                    108,
                    23,
                    30,
                    48,
                    34,
                    61,
                    94,
                    28,
                    81,
                    84,
                    39,
                    42,
                    4,
                    57,
                    76,
                    106,
                    88,
                    19,
                    66,
                    6,
                    60,
                    78,
                    71,
                    22,
                    54,
                    75,
                    77,
                    96,
                    15,
                    20,
                    86,
                    8,
                    43,
                    89
                  ],
                  "xaxis": "x",
                  "y": [
                    338,
                    50,
                    903.0582524271844,
                    21,
                    225,
                    54,
                    16,
                    1174,
                    118,
                    182,
                    16,
                    1265,
                    336,
                    482,
                    273,
                    1340,
                    450,
                    249,
                    1883,
                    32,
                    7,
                    1020,
                    176,
                    183,
                    1811,
                    253,
                    76,
                    437,
                    903.0582524271844,
                    1176,
                    36,
                    113,
                    1448,
                    1283,
                    1428,
                    252,
                    67,
                    395,
                    4133,
                    1005,
                    427,
                    2608,
                    92,
                    15,
                    1,
                    585,
                    62,
                    156,
                    208,
                    2076,
                    550,
                    76,
                    334,
                    3665,
                    903.0582524271844,
                    2052,
                    1380,
                    505,
                    487,
                    2343,
                    903.0582524271844,
                    143,
                    805,
                    3550,
                    5436,
                    1748,
                    2386,
                    3419,
                    712,
                    4518,
                    454,
                    69,
                    14,
                    2331,
                    22,
                    2507,
                    545,
                    14,
                    2500,
                    55,
                    144,
                    2042,
                    199,
                    47,
                    153,
                    224,
                    903.0582524271844,
                    310,
                    79,
                    92,
                    20,
                    3812,
                    231,
                    1024,
                    84,
                    798,
                    158,
                    2083,
                    193,
                    27,
                    1990,
                    15,
                    749,
                    2341,
                    25,
                    2725,
                    781,
                    16
                  ],
                  "yaxis": "y"
                }
              ],
              "layout": {
                "barmode": "relative",
                "legend": {
                  "tracegroupgap": 0
                },
                "template": {
                  "data": {
                    "bar": [
                      {
                        "error_x": {
                          "color": "#2a3f5f"
                        },
                        "error_y": {
                          "color": "#2a3f5f"
                        },
                        "marker": {
                          "line": {
                            "color": "#E5ECF6",
                            "width": 0.5
                          },
                          "pattern": {
                            "fillmode": "overlay",
                            "size": 10,
                            "solidity": 0.2
                          }
                        },
                        "type": "bar"
                      }
                    ],
                    "barpolar": [
                      {
                        "marker": {
                          "line": {
                            "color": "#E5ECF6",
                            "width": 0.5
                          },
                          "pattern": {
                            "fillmode": "overlay",
                            "size": 10,
                            "solidity": 0.2
                          }
                        },
                        "type": "barpolar"
                      }
                    ],
                    "carpet": [
                      {
                        "aaxis": {
                          "endlinecolor": "#2a3f5f",
                          "gridcolor": "white",
                          "linecolor": "white",
                          "minorgridcolor": "white",
                          "startlinecolor": "#2a3f5f"
                        },
                        "baxis": {
                          "endlinecolor": "#2a3f5f",
                          "gridcolor": "white",
                          "linecolor": "white",
                          "minorgridcolor": "white",
                          "startlinecolor": "#2a3f5f"
                        },
                        "type": "carpet"
                      }
                    ],
                    "choropleth": [
                      {
                        "colorbar": {
                          "outlinewidth": 0,
                          "ticks": ""
                        },
                        "type": "choropleth"
                      }
                    ],
                    "contour": [
                      {
                        "colorbar": {
                          "outlinewidth": 0,
                          "ticks": ""
                        },
                        "colorscale": [
                          [
                            0,
                            "#0d0887"
                          ],
                          [
                            0.1111111111111111,
                            "#46039f"
                          ],
                          [
                            0.2222222222222222,
                            "#7201a8"
                          ],
                          [
                            0.3333333333333333,
                            "#9c179e"
                          ],
                          [
                            0.4444444444444444,
                            "#bd3786"
                          ],
                          [
                            0.5555555555555556,
                            "#d8576b"
                          ],
                          [
                            0.6666666666666666,
                            "#ed7953"
                          ],
                          [
                            0.7777777777777778,
                            "#fb9f3a"
                          ],
                          [
                            0.8888888888888888,
                            "#fdca26"
                          ],
                          [
                            1,
                            "#f0f921"
                          ]
                        ],
                        "type": "contour"
                      }
                    ],
                    "contourcarpet": [
                      {
                        "colorbar": {
                          "outlinewidth": 0,
                          "ticks": ""
                        },
                        "type": "contourcarpet"
                      }
                    ],
                    "heatmap": [
                      {
                        "colorbar": {
                          "outlinewidth": 0,
                          "ticks": ""
                        },
                        "colorscale": [
                          [
                            0,
                            "#0d0887"
                          ],
                          [
                            0.1111111111111111,
                            "#46039f"
                          ],
                          [
                            0.2222222222222222,
                            "#7201a8"
                          ],
                          [
                            0.3333333333333333,
                            "#9c179e"
                          ],
                          [
                            0.4444444444444444,
                            "#bd3786"
                          ],
                          [
                            0.5555555555555556,
                            "#d8576b"
                          ],
                          [
                            0.6666666666666666,
                            "#ed7953"
                          ],
                          [
                            0.7777777777777778,
                            "#fb9f3a"
                          ],
                          [
                            0.8888888888888888,
                            "#fdca26"
                          ],
                          [
                            1,
                            "#f0f921"
                          ]
                        ],
                        "type": "heatmap"
                      }
                    ],
                    "heatmapgl": [
                      {
                        "colorbar": {
                          "outlinewidth": 0,
                          "ticks": ""
                        },
                        "colorscale": [
                          [
                            0,
                            "#0d0887"
                          ],
                          [
                            0.1111111111111111,
                            "#46039f"
                          ],
                          [
                            0.2222222222222222,
                            "#7201a8"
                          ],
                          [
                            0.3333333333333333,
                            "#9c179e"
                          ],
                          [
                            0.4444444444444444,
                            "#bd3786"
                          ],
                          [
                            0.5555555555555556,
                            "#d8576b"
                          ],
                          [
                            0.6666666666666666,
                            "#ed7953"
                          ],
                          [
                            0.7777777777777778,
                            "#fb9f3a"
                          ],
                          [
                            0.8888888888888888,
                            "#fdca26"
                          ],
                          [
                            1,
                            "#f0f921"
                          ]
                        ],
                        "type": "heatmapgl"
                      }
                    ],
                    "histogram": [
                      {
                        "marker": {
                          "pattern": {
                            "fillmode": "overlay",
                            "size": 10,
                            "solidity": 0.2
                          }
                        },
                        "type": "histogram"
                      }
                    ],
                    "histogram2d": [
                      {
                        "colorbar": {
                          "outlinewidth": 0,
                          "ticks": ""
                        },
                        "colorscale": [
                          [
                            0,
                            "#0d0887"
                          ],
                          [
                            0.1111111111111111,
                            "#46039f"
                          ],
                          [
                            0.2222222222222222,
                            "#7201a8"
                          ],
                          [
                            0.3333333333333333,
                            "#9c179e"
                          ],
                          [
                            0.4444444444444444,
                            "#bd3786"
                          ],
                          [
                            0.5555555555555556,
                            "#d8576b"
                          ],
                          [
                            0.6666666666666666,
                            "#ed7953"
                          ],
                          [
                            0.7777777777777778,
                            "#fb9f3a"
                          ],
                          [
                            0.8888888888888888,
                            "#fdca26"
                          ],
                          [
                            1,
                            "#f0f921"
                          ]
                        ],
                        "type": "histogram2d"
                      }
                    ],
                    "histogram2dcontour": [
                      {
                        "colorbar": {
                          "outlinewidth": 0,
                          "ticks": ""
                        },
                        "colorscale": [
                          [
                            0,
                            "#0d0887"
                          ],
                          [
                            0.1111111111111111,
                            "#46039f"
                          ],
                          [
                            0.2222222222222222,
                            "#7201a8"
                          ],
                          [
                            0.3333333333333333,
                            "#9c179e"
                          ],
                          [
                            0.4444444444444444,
                            "#bd3786"
                          ],
                          [
                            0.5555555555555556,
                            "#d8576b"
                          ],
                          [
                            0.6666666666666666,
                            "#ed7953"
                          ],
                          [
                            0.7777777777777778,
                            "#fb9f3a"
                          ],
                          [
                            0.8888888888888888,
                            "#fdca26"
                          ],
                          [
                            1,
                            "#f0f921"
                          ]
                        ],
                        "type": "histogram2dcontour"
                      }
                    ],
                    "mesh3d": [
                      {
                        "colorbar": {
                          "outlinewidth": 0,
                          "ticks": ""
                        },
                        "type": "mesh3d"
                      }
                    ],
                    "parcoords": [
                      {
                        "line": {
                          "colorbar": {
                            "outlinewidth": 0,
                            "ticks": ""
                          }
                        },
                        "type": "parcoords"
                      }
                    ],
                    "pie": [
                      {
                        "automargin": true,
                        "type": "pie"
                      }
                    ],
                    "scatter": [
                      {
                        "fillpattern": {
                          "fillmode": "overlay",
                          "size": 10,
                          "solidity": 0.2
                        },
                        "type": "scatter"
                      }
                    ],
                    "scatter3d": [
                      {
                        "line": {
                          "colorbar": {
                            "outlinewidth": 0,
                            "ticks": ""
                          }
                        },
                        "marker": {
                          "colorbar": {
                            "outlinewidth": 0,
                            "ticks": ""
                          }
                        },
                        "type": "scatter3d"
                      }
                    ],
                    "scattercarpet": [
                      {
                        "marker": {
                          "colorbar": {
                            "outlinewidth": 0,
                            "ticks": ""
                          }
                        },
                        "type": "scattercarpet"
                      }
                    ],
                    "scattergeo": [
                      {
                        "marker": {
                          "colorbar": {
                            "outlinewidth": 0,
                            "ticks": ""
                          }
                        },
                        "type": "scattergeo"
                      }
                    ],
                    "scattergl": [
                      {
                        "marker": {
                          "colorbar": {
                            "outlinewidth": 0,
                            "ticks": ""
                          }
                        },
                        "type": "scattergl"
                      }
                    ],
                    "scattermapbox": [
                      {
                        "marker": {
                          "colorbar": {
                            "outlinewidth": 0,
                            "ticks": ""
                          }
                        },
                        "type": "scattermapbox"
                      }
                    ],
                    "scatterpolar": [
                      {
                        "marker": {
                          "colorbar": {
                            "outlinewidth": 0,
                            "ticks": ""
                          }
                        },
                        "type": "scatterpolar"
                      }
                    ],
                    "scatterpolargl": [
                      {
                        "marker": {
                          "colorbar": {
                            "outlinewidth": 0,
                            "ticks": ""
                          }
                        },
                        "type": "scatterpolargl"
                      }
                    ],
                    "scatterternary": [
                      {
                        "marker": {
                          "colorbar": {
                            "outlinewidth": 0,
                            "ticks": ""
                          }
                        },
                        "type": "scatterternary"
                      }
                    ],
                    "surface": [
                      {
                        "colorbar": {
                          "outlinewidth": 0,
                          "ticks": ""
                        },
                        "colorscale": [
                          [
                            0,
                            "#0d0887"
                          ],
                          [
                            0.1111111111111111,
                            "#46039f"
                          ],
                          [
                            0.2222222222222222,
                            "#7201a8"
                          ],
                          [
                            0.3333333333333333,
                            "#9c179e"
                          ],
                          [
                            0.4444444444444444,
                            "#bd3786"
                          ],
                          [
                            0.5555555555555556,
                            "#d8576b"
                          ],
                          [
                            0.6666666666666666,
                            "#ed7953"
                          ],
                          [
                            0.7777777777777778,
                            "#fb9f3a"
                          ],
                          [
                            0.8888888888888888,
                            "#fdca26"
                          ],
                          [
                            1,
                            "#f0f921"
                          ]
                        ],
                        "type": "surface"
                      }
                    ],
                    "table": [
                      {
                        "cells": {
                          "fill": {
                            "color": "#EBF0F8"
                          },
                          "line": {
                            "color": "white"
                          }
                        },
                        "header": {
                          "fill": {
                            "color": "#C8D4E3"
                          },
                          "line": {
                            "color": "white"
                          }
                        },
                        "type": "table"
                      }
                    ]
                  },
                  "layout": {
                    "annotationdefaults": {
                      "arrowcolor": "#2a3f5f",
                      "arrowhead": 0,
                      "arrowwidth": 1
                    },
                    "autotypenumbers": "strict",
                    "coloraxis": {
                      "colorbar": {
                        "outlinewidth": 0,
                        "ticks": ""
                      }
                    },
                    "colorscale": {
                      "diverging": [
                        [
                          0,
                          "#8e0152"
                        ],
                        [
                          0.1,
                          "#c51b7d"
                        ],
                        [
                          0.2,
                          "#de77ae"
                        ],
                        [
                          0.3,
                          "#f1b6da"
                        ],
                        [
                          0.4,
                          "#fde0ef"
                        ],
                        [
                          0.5,
                          "#f7f7f7"
                        ],
                        [
                          0.6,
                          "#e6f5d0"
                        ],
                        [
                          0.7,
                          "#b8e186"
                        ],
                        [
                          0.8,
                          "#7fbc41"
                        ],
                        [
                          0.9,
                          "#4d9221"
                        ],
                        [
                          1,
                          "#276419"
                        ]
                      ],
                      "sequential": [
                        [
                          0,
                          "#0d0887"
                        ],
                        [
                          0.1111111111111111,
                          "#46039f"
                        ],
                        [
                          0.2222222222222222,
                          "#7201a8"
                        ],
                        [
                          0.3333333333333333,
                          "#9c179e"
                        ],
                        [
                          0.4444444444444444,
                          "#bd3786"
                        ],
                        [
                          0.5555555555555556,
                          "#d8576b"
                        ],
                        [
                          0.6666666666666666,
                          "#ed7953"
                        ],
                        [
                          0.7777777777777778,
                          "#fb9f3a"
                        ],
                        [
                          0.8888888888888888,
                          "#fdca26"
                        ],
                        [
                          1,
                          "#f0f921"
                        ]
                      ],
                      "sequentialminus": [
                        [
                          0,
                          "#0d0887"
                        ],
                        [
                          0.1111111111111111,
                          "#46039f"
                        ],
                        [
                          0.2222222222222222,
                          "#7201a8"
                        ],
                        [
                          0.3333333333333333,
                          "#9c179e"
                        ],
                        [
                          0.4444444444444444,
                          "#bd3786"
                        ],
                        [
                          0.5555555555555556,
                          "#d8576b"
                        ],
                        [
                          0.6666666666666666,
                          "#ed7953"
                        ],
                        [
                          0.7777777777777778,
                          "#fb9f3a"
                        ],
                        [
                          0.8888888888888888,
                          "#fdca26"
                        ],
                        [
                          1,
                          "#f0f921"
                        ]
                      ]
                    },
                    "colorway": [
                      "#636efa",
                      "#EF553B",
                      "#00cc96",
                      "#ab63fa",
                      "#FFA15A",
                      "#19d3f3",
                      "#FF6692",
                      "#B6E880",
                      "#FF97FF",
                      "#FECB52"
                    ],
                    "font": {
                      "color": "#2a3f5f"
                    },
                    "geo": {
                      "bgcolor": "white",
                      "lakecolor": "white",
                      "landcolor": "#E5ECF6",
                      "showlakes": true,
                      "showland": true,
                      "subunitcolor": "white"
                    },
                    "hoverlabel": {
                      "align": "left"
                    },
                    "hovermode": "closest",
                    "mapbox": {
                      "style": "light"
                    },
                    "paper_bgcolor": "white",
                    "plot_bgcolor": "#E5ECF6",
                    "polar": {
                      "angularaxis": {
                        "gridcolor": "white",
                        "linecolor": "white",
                        "ticks": ""
                      },
                      "bgcolor": "#E5ECF6",
                      "radialaxis": {
                        "gridcolor": "white",
                        "linecolor": "white",
                        "ticks": ""
                      }
                    },
                    "scene": {
                      "xaxis": {
                        "backgroundcolor": "#E5ECF6",
                        "gridcolor": "white",
                        "gridwidth": 2,
                        "linecolor": "white",
                        "showbackground": true,
                        "ticks": "",
                        "zerolinecolor": "white"
                      },
                      "yaxis": {
                        "backgroundcolor": "#E5ECF6",
                        "gridcolor": "white",
                        "gridwidth": 2,
                        "linecolor": "white",
                        "showbackground": true,
                        "ticks": "",
                        "zerolinecolor": "white"
                      },
                      "zaxis": {
                        "backgroundcolor": "#E5ECF6",
                        "gridcolor": "white",
                        "gridwidth": 2,
                        "linecolor": "white",
                        "showbackground": true,
                        "ticks": "",
                        "zerolinecolor": "white"
                      }
                    },
                    "shapedefaults": {
                      "line": {
                        "color": "#2a3f5f"
                      }
                    },
                    "ternary": {
                      "aaxis": {
                        "gridcolor": "white",
                        "linecolor": "white",
                        "ticks": ""
                      },
                      "baxis": {
                        "gridcolor": "white",
                        "linecolor": "white",
                        "ticks": ""
                      },
                      "bgcolor": "#E5ECF6",
                      "caxis": {
                        "gridcolor": "white",
                        "linecolor": "white",
                        "ticks": ""
                      }
                    },
                    "title": {
                      "x": 0.05
                    },
                    "xaxis": {
                      "automargin": true,
                      "gridcolor": "white",
                      "linecolor": "white",
                      "ticks": "",
                      "title": {
                        "standoff": 15
                      },
                      "zerolinecolor": "white",
                      "zerolinewidth": 2
                    },
                    "yaxis": {
                      "automargin": true,
                      "gridcolor": "white",
                      "linecolor": "white",
                      "ticks": "",
                      "title": {
                        "standoff": 15
                      },
                      "zerolinecolor": "white",
                      "zerolinewidth": 2
                    }
                  }
                },
                "title": {
                  "text": "Relationship Between Rank and Education Expenditure"
                },
                "xaxis": {
                  "anchor": "y",
                  "domain": [
                    0,
                    1
                  ],
                  "title": {
                    "text": "Rank"
                  }
                },
                "yaxis": {
                  "anchor": "x",
                  "domain": [
                    0,
                    1
                  ],
                  "title": {
                    "text": "Education Expenditure"
                  }
                }
              }
            }
          },
          "metadata": {},
          "output_type": "display_data"
        }
      ],
      "source": [
        "fig = px.bar(IqIt_train, x=\"Id\", y=\"education_expenditure\", title=\"Relationship Between Rank and Education Expenditure\",\n",
        "             labels={\"Id\": \"Rank\", \"education_expenditure\": \"Education Expenditure\"})\n",
        "fig.update_traces(marker=dict(color='purple'))\n",
        "fig.show()"
      ]
    },
    {
      "cell_type": "code",
      "execution_count": 50,
      "metadata": {},
      "outputs": [
        {
          "data": {
            "application/vnd.plotly.v1+json": {
              "config": {
                "plotlyServerURL": "https://plot.ly"
              },
              "data": [
                {
                  "hovertemplate": "avg_temp=%{x}<br>IQ=%{y}<extra></extra>",
                  "legendgroup": "",
                  "marker": {
                    "color": "#636efa",
                    "symbol": "circle"
                  },
                  "mode": "markers",
                  "name": "",
                  "orientation": "v",
                  "showlegend": false,
                  "type": "scatter",
                  "x": [
                    9.5,
                    27.1,
                    29.9,
                    27.2,
                    13.5,
                    30.9,
                    33.1,
                    30.4,
                    21.4,
                    33,
                    30.4,
                    32.7,
                    24.7,
                    18.5,
                    32.1,
                    19.2,
                    32,
                    16,
                    13.8,
                    32.1,
                    30.4,
                    31.7,
                    26.6,
                    19.1,
                    25.4,
                    26.5,
                    28.9,
                    29.8,
                    33.3,
                    21.1,
                    31.1,
                    31.2,
                    26.1,
                    26.2,
                    31.5,
                    25.3,
                    31.9,
                    30,
                    12.5,
                    21.5,
                    30.6,
                    18.8,
                    30.1,
                    24.4,
                    33.2,
                    16.6,
                    27.4,
                    27.6,
                    18.3,
                    12.9,
                    11.6,
                    32.1,
                    20.5,
                    14.7,
                    15.3,
                    7.4,
                    17.8,
                    18.1,
                    28.6,
                    24.3,
                    21.1,
                    14.6,
                    34.4,
                    15.2,
                    9.1,
                    24.6,
                    14.4,
                    9.9,
                    12.8,
                    0.4,
                    24.4,
                    32.2,
                    32.9,
                    33.7,
                    24.6,
                    14.8,
                    13.4,
                    32.2,
                    13.2,
                    29.7,
                    24.1,
                    16.8,
                    25.6,
                    31.7,
                    8.1,
                    18.1,
                    26.9,
                    26.8,
                    31.6,
                    32.1,
                    29.9,
                    8.1,
                    30.3,
                    18.2,
                    20.1,
                    33.8,
                    31.7,
                    17.4,
                    32.3,
                    30.9,
                    34.3,
                    36.5,
                    10.1,
                    13.2,
                    36.5,
                    8.2,
                    22.3,
                    35.6
                  ],
                  "xaxis": "x",
                  "y": [
                    96,
                    74,
                    56,
                    67,
                    89,
                    74,
                    97,
                    82,
                    82,
                    89,
                    52,
                    77,
                    69,
                    88,
                    83,
                    106,
                    89,
                    88,
                    100,
                    83,
                    64,
                    88,
                    81,
                    104,
                    93,
                    77,
                    91,
                    87,
                    68,
                    95,
                    67,
                    72,
                    100,
                    106,
                    106,
                    76,
                    83,
                    84,
                    98,
                    93,
                    83,
                    97,
                    78,
                    81,
                    69,
                    99,
                    74,
                    79,
                    89,
                    99,
                    95,
                    61,
                    87,
                    100,
                    100,
                    100,
                    95,
                    95,
                    88,
                    99,
                    85,
                    91,
                    82,
                    100,
                    98,
                    92,
                    101,
                    98,
                    96,
                    99,
                    87,
                    61,
                    55,
                    80,
                    51,
                    98,
                    96,
                    89,
                    95,
                    85,
                    71,
                    97,
                    79,
                    77,
                    93,
                    91,
                    106,
                    87,
                    80,
                    55,
                    75,
                    99,
                    83,
                    103,
                    86,
                    80,
                    82,
                    99,
                    88,
                    81,
                    80,
                    69,
                    100,
                    99,
                    77,
                    101,
                    91,
                    75
                  ],
                  "yaxis": "y"
                }
              ],
              "layout": {
                "legend": {
                  "tracegroupgap": 0
                },
                "template": {
                  "data": {
                    "bar": [
                      {
                        "error_x": {
                          "color": "#2a3f5f"
                        },
                        "error_y": {
                          "color": "#2a3f5f"
                        },
                        "marker": {
                          "line": {
                            "color": "#E5ECF6",
                            "width": 0.5
                          },
                          "pattern": {
                            "fillmode": "overlay",
                            "size": 10,
                            "solidity": 0.2
                          }
                        },
                        "type": "bar"
                      }
                    ],
                    "barpolar": [
                      {
                        "marker": {
                          "line": {
                            "color": "#E5ECF6",
                            "width": 0.5
                          },
                          "pattern": {
                            "fillmode": "overlay",
                            "size": 10,
                            "solidity": 0.2
                          }
                        },
                        "type": "barpolar"
                      }
                    ],
                    "carpet": [
                      {
                        "aaxis": {
                          "endlinecolor": "#2a3f5f",
                          "gridcolor": "white",
                          "linecolor": "white",
                          "minorgridcolor": "white",
                          "startlinecolor": "#2a3f5f"
                        },
                        "baxis": {
                          "endlinecolor": "#2a3f5f",
                          "gridcolor": "white",
                          "linecolor": "white",
                          "minorgridcolor": "white",
                          "startlinecolor": "#2a3f5f"
                        },
                        "type": "carpet"
                      }
                    ],
                    "choropleth": [
                      {
                        "colorbar": {
                          "outlinewidth": 0,
                          "ticks": ""
                        },
                        "type": "choropleth"
                      }
                    ],
                    "contour": [
                      {
                        "colorbar": {
                          "outlinewidth": 0,
                          "ticks": ""
                        },
                        "colorscale": [
                          [
                            0,
                            "#0d0887"
                          ],
                          [
                            0.1111111111111111,
                            "#46039f"
                          ],
                          [
                            0.2222222222222222,
                            "#7201a8"
                          ],
                          [
                            0.3333333333333333,
                            "#9c179e"
                          ],
                          [
                            0.4444444444444444,
                            "#bd3786"
                          ],
                          [
                            0.5555555555555556,
                            "#d8576b"
                          ],
                          [
                            0.6666666666666666,
                            "#ed7953"
                          ],
                          [
                            0.7777777777777778,
                            "#fb9f3a"
                          ],
                          [
                            0.8888888888888888,
                            "#fdca26"
                          ],
                          [
                            1,
                            "#f0f921"
                          ]
                        ],
                        "type": "contour"
                      }
                    ],
                    "contourcarpet": [
                      {
                        "colorbar": {
                          "outlinewidth": 0,
                          "ticks": ""
                        },
                        "type": "contourcarpet"
                      }
                    ],
                    "heatmap": [
                      {
                        "colorbar": {
                          "outlinewidth": 0,
                          "ticks": ""
                        },
                        "colorscale": [
                          [
                            0,
                            "#0d0887"
                          ],
                          [
                            0.1111111111111111,
                            "#46039f"
                          ],
                          [
                            0.2222222222222222,
                            "#7201a8"
                          ],
                          [
                            0.3333333333333333,
                            "#9c179e"
                          ],
                          [
                            0.4444444444444444,
                            "#bd3786"
                          ],
                          [
                            0.5555555555555556,
                            "#d8576b"
                          ],
                          [
                            0.6666666666666666,
                            "#ed7953"
                          ],
                          [
                            0.7777777777777778,
                            "#fb9f3a"
                          ],
                          [
                            0.8888888888888888,
                            "#fdca26"
                          ],
                          [
                            1,
                            "#f0f921"
                          ]
                        ],
                        "type": "heatmap"
                      }
                    ],
                    "heatmapgl": [
                      {
                        "colorbar": {
                          "outlinewidth": 0,
                          "ticks": ""
                        },
                        "colorscale": [
                          [
                            0,
                            "#0d0887"
                          ],
                          [
                            0.1111111111111111,
                            "#46039f"
                          ],
                          [
                            0.2222222222222222,
                            "#7201a8"
                          ],
                          [
                            0.3333333333333333,
                            "#9c179e"
                          ],
                          [
                            0.4444444444444444,
                            "#bd3786"
                          ],
                          [
                            0.5555555555555556,
                            "#d8576b"
                          ],
                          [
                            0.6666666666666666,
                            "#ed7953"
                          ],
                          [
                            0.7777777777777778,
                            "#fb9f3a"
                          ],
                          [
                            0.8888888888888888,
                            "#fdca26"
                          ],
                          [
                            1,
                            "#f0f921"
                          ]
                        ],
                        "type": "heatmapgl"
                      }
                    ],
                    "histogram": [
                      {
                        "marker": {
                          "pattern": {
                            "fillmode": "overlay",
                            "size": 10,
                            "solidity": 0.2
                          }
                        },
                        "type": "histogram"
                      }
                    ],
                    "histogram2d": [
                      {
                        "colorbar": {
                          "outlinewidth": 0,
                          "ticks": ""
                        },
                        "colorscale": [
                          [
                            0,
                            "#0d0887"
                          ],
                          [
                            0.1111111111111111,
                            "#46039f"
                          ],
                          [
                            0.2222222222222222,
                            "#7201a8"
                          ],
                          [
                            0.3333333333333333,
                            "#9c179e"
                          ],
                          [
                            0.4444444444444444,
                            "#bd3786"
                          ],
                          [
                            0.5555555555555556,
                            "#d8576b"
                          ],
                          [
                            0.6666666666666666,
                            "#ed7953"
                          ],
                          [
                            0.7777777777777778,
                            "#fb9f3a"
                          ],
                          [
                            0.8888888888888888,
                            "#fdca26"
                          ],
                          [
                            1,
                            "#f0f921"
                          ]
                        ],
                        "type": "histogram2d"
                      }
                    ],
                    "histogram2dcontour": [
                      {
                        "colorbar": {
                          "outlinewidth": 0,
                          "ticks": ""
                        },
                        "colorscale": [
                          [
                            0,
                            "#0d0887"
                          ],
                          [
                            0.1111111111111111,
                            "#46039f"
                          ],
                          [
                            0.2222222222222222,
                            "#7201a8"
                          ],
                          [
                            0.3333333333333333,
                            "#9c179e"
                          ],
                          [
                            0.4444444444444444,
                            "#bd3786"
                          ],
                          [
                            0.5555555555555556,
                            "#d8576b"
                          ],
                          [
                            0.6666666666666666,
                            "#ed7953"
                          ],
                          [
                            0.7777777777777778,
                            "#fb9f3a"
                          ],
                          [
                            0.8888888888888888,
                            "#fdca26"
                          ],
                          [
                            1,
                            "#f0f921"
                          ]
                        ],
                        "type": "histogram2dcontour"
                      }
                    ],
                    "mesh3d": [
                      {
                        "colorbar": {
                          "outlinewidth": 0,
                          "ticks": ""
                        },
                        "type": "mesh3d"
                      }
                    ],
                    "parcoords": [
                      {
                        "line": {
                          "colorbar": {
                            "outlinewidth": 0,
                            "ticks": ""
                          }
                        },
                        "type": "parcoords"
                      }
                    ],
                    "pie": [
                      {
                        "automargin": true,
                        "type": "pie"
                      }
                    ],
                    "scatter": [
                      {
                        "fillpattern": {
                          "fillmode": "overlay",
                          "size": 10,
                          "solidity": 0.2
                        },
                        "type": "scatter"
                      }
                    ],
                    "scatter3d": [
                      {
                        "line": {
                          "colorbar": {
                            "outlinewidth": 0,
                            "ticks": ""
                          }
                        },
                        "marker": {
                          "colorbar": {
                            "outlinewidth": 0,
                            "ticks": ""
                          }
                        },
                        "type": "scatter3d"
                      }
                    ],
                    "scattercarpet": [
                      {
                        "marker": {
                          "colorbar": {
                            "outlinewidth": 0,
                            "ticks": ""
                          }
                        },
                        "type": "scattercarpet"
                      }
                    ],
                    "scattergeo": [
                      {
                        "marker": {
                          "colorbar": {
                            "outlinewidth": 0,
                            "ticks": ""
                          }
                        },
                        "type": "scattergeo"
                      }
                    ],
                    "scattergl": [
                      {
                        "marker": {
                          "colorbar": {
                            "outlinewidth": 0,
                            "ticks": ""
                          }
                        },
                        "type": "scattergl"
                      }
                    ],
                    "scattermapbox": [
                      {
                        "marker": {
                          "colorbar": {
                            "outlinewidth": 0,
                            "ticks": ""
                          }
                        },
                        "type": "scattermapbox"
                      }
                    ],
                    "scatterpolar": [
                      {
                        "marker": {
                          "colorbar": {
                            "outlinewidth": 0,
                            "ticks": ""
                          }
                        },
                        "type": "scatterpolar"
                      }
                    ],
                    "scatterpolargl": [
                      {
                        "marker": {
                          "colorbar": {
                            "outlinewidth": 0,
                            "ticks": ""
                          }
                        },
                        "type": "scatterpolargl"
                      }
                    ],
                    "scatterternary": [
                      {
                        "marker": {
                          "colorbar": {
                            "outlinewidth": 0,
                            "ticks": ""
                          }
                        },
                        "type": "scatterternary"
                      }
                    ],
                    "surface": [
                      {
                        "colorbar": {
                          "outlinewidth": 0,
                          "ticks": ""
                        },
                        "colorscale": [
                          [
                            0,
                            "#0d0887"
                          ],
                          [
                            0.1111111111111111,
                            "#46039f"
                          ],
                          [
                            0.2222222222222222,
                            "#7201a8"
                          ],
                          [
                            0.3333333333333333,
                            "#9c179e"
                          ],
                          [
                            0.4444444444444444,
                            "#bd3786"
                          ],
                          [
                            0.5555555555555556,
                            "#d8576b"
                          ],
                          [
                            0.6666666666666666,
                            "#ed7953"
                          ],
                          [
                            0.7777777777777778,
                            "#fb9f3a"
                          ],
                          [
                            0.8888888888888888,
                            "#fdca26"
                          ],
                          [
                            1,
                            "#f0f921"
                          ]
                        ],
                        "type": "surface"
                      }
                    ],
                    "table": [
                      {
                        "cells": {
                          "fill": {
                            "color": "#EBF0F8"
                          },
                          "line": {
                            "color": "white"
                          }
                        },
                        "header": {
                          "fill": {
                            "color": "#C8D4E3"
                          },
                          "line": {
                            "color": "white"
                          }
                        },
                        "type": "table"
                      }
                    ]
                  },
                  "layout": {
                    "annotationdefaults": {
                      "arrowcolor": "#2a3f5f",
                      "arrowhead": 0,
                      "arrowwidth": 1
                    },
                    "autotypenumbers": "strict",
                    "coloraxis": {
                      "colorbar": {
                        "outlinewidth": 0,
                        "ticks": ""
                      }
                    },
                    "colorscale": {
                      "diverging": [
                        [
                          0,
                          "#8e0152"
                        ],
                        [
                          0.1,
                          "#c51b7d"
                        ],
                        [
                          0.2,
                          "#de77ae"
                        ],
                        [
                          0.3,
                          "#f1b6da"
                        ],
                        [
                          0.4,
                          "#fde0ef"
                        ],
                        [
                          0.5,
                          "#f7f7f7"
                        ],
                        [
                          0.6,
                          "#e6f5d0"
                        ],
                        [
                          0.7,
                          "#b8e186"
                        ],
                        [
                          0.8,
                          "#7fbc41"
                        ],
                        [
                          0.9,
                          "#4d9221"
                        ],
                        [
                          1,
                          "#276419"
                        ]
                      ],
                      "sequential": [
                        [
                          0,
                          "#0d0887"
                        ],
                        [
                          0.1111111111111111,
                          "#46039f"
                        ],
                        [
                          0.2222222222222222,
                          "#7201a8"
                        ],
                        [
                          0.3333333333333333,
                          "#9c179e"
                        ],
                        [
                          0.4444444444444444,
                          "#bd3786"
                        ],
                        [
                          0.5555555555555556,
                          "#d8576b"
                        ],
                        [
                          0.6666666666666666,
                          "#ed7953"
                        ],
                        [
                          0.7777777777777778,
                          "#fb9f3a"
                        ],
                        [
                          0.8888888888888888,
                          "#fdca26"
                        ],
                        [
                          1,
                          "#f0f921"
                        ]
                      ],
                      "sequentialminus": [
                        [
                          0,
                          "#0d0887"
                        ],
                        [
                          0.1111111111111111,
                          "#46039f"
                        ],
                        [
                          0.2222222222222222,
                          "#7201a8"
                        ],
                        [
                          0.3333333333333333,
                          "#9c179e"
                        ],
                        [
                          0.4444444444444444,
                          "#bd3786"
                        ],
                        [
                          0.5555555555555556,
                          "#d8576b"
                        ],
                        [
                          0.6666666666666666,
                          "#ed7953"
                        ],
                        [
                          0.7777777777777778,
                          "#fb9f3a"
                        ],
                        [
                          0.8888888888888888,
                          "#fdca26"
                        ],
                        [
                          1,
                          "#f0f921"
                        ]
                      ]
                    },
                    "colorway": [
                      "#636efa",
                      "#EF553B",
                      "#00cc96",
                      "#ab63fa",
                      "#FFA15A",
                      "#19d3f3",
                      "#FF6692",
                      "#B6E880",
                      "#FF97FF",
                      "#FECB52"
                    ],
                    "font": {
                      "color": "#2a3f5f"
                    },
                    "geo": {
                      "bgcolor": "white",
                      "lakecolor": "white",
                      "landcolor": "#E5ECF6",
                      "showlakes": true,
                      "showland": true,
                      "subunitcolor": "white"
                    },
                    "hoverlabel": {
                      "align": "left"
                    },
                    "hovermode": "closest",
                    "mapbox": {
                      "style": "light"
                    },
                    "paper_bgcolor": "white",
                    "plot_bgcolor": "#E5ECF6",
                    "polar": {
                      "angularaxis": {
                        "gridcolor": "white",
                        "linecolor": "white",
                        "ticks": ""
                      },
                      "bgcolor": "#E5ECF6",
                      "radialaxis": {
                        "gridcolor": "white",
                        "linecolor": "white",
                        "ticks": ""
                      }
                    },
                    "scene": {
                      "xaxis": {
                        "backgroundcolor": "#E5ECF6",
                        "gridcolor": "white",
                        "gridwidth": 2,
                        "linecolor": "white",
                        "showbackground": true,
                        "ticks": "",
                        "zerolinecolor": "white"
                      },
                      "yaxis": {
                        "backgroundcolor": "#E5ECF6",
                        "gridcolor": "white",
                        "gridwidth": 2,
                        "linecolor": "white",
                        "showbackground": true,
                        "ticks": "",
                        "zerolinecolor": "white"
                      },
                      "zaxis": {
                        "backgroundcolor": "#E5ECF6",
                        "gridcolor": "white",
                        "gridwidth": 2,
                        "linecolor": "white",
                        "showbackground": true,
                        "ticks": "",
                        "zerolinecolor": "white"
                      }
                    },
                    "shapedefaults": {
                      "line": {
                        "color": "#2a3f5f"
                      }
                    },
                    "ternary": {
                      "aaxis": {
                        "gridcolor": "white",
                        "linecolor": "white",
                        "ticks": ""
                      },
                      "baxis": {
                        "gridcolor": "white",
                        "linecolor": "white",
                        "ticks": ""
                      },
                      "bgcolor": "#E5ECF6",
                      "caxis": {
                        "gridcolor": "white",
                        "linecolor": "white",
                        "ticks": ""
                      }
                    },
                    "title": {
                      "x": 0.05
                    },
                    "xaxis": {
                      "automargin": true,
                      "gridcolor": "white",
                      "linecolor": "white",
                      "ticks": "",
                      "title": {
                        "standoff": 15
                      },
                      "zerolinecolor": "white",
                      "zerolinewidth": 2
                    },
                    "yaxis": {
                      "automargin": true,
                      "gridcolor": "white",
                      "linecolor": "white",
                      "ticks": "",
                      "title": {
                        "standoff": 15
                      },
                      "zerolinecolor": "white",
                      "zerolinewidth": 2
                    }
                  }
                },
                "title": {
                  "text": "Correlation between Temperature and IQ"
                },
                "xaxis": {
                  "anchor": "y",
                  "domain": [
                    0,
                    1
                  ],
                  "title": {
                    "text": "avg_temp"
                  }
                },
                "yaxis": {
                  "anchor": "x",
                  "domain": [
                    0,
                    1
                  ],
                  "title": {
                    "text": "IQ"
                  }
                }
              }
            }
          },
          "metadata": {},
          "output_type": "display_data"
        }
      ],
      "source": [
        "fig = px.scatter(IqIt_train, x=\"avg_temp\", y=\"IQ\", title=\"Correlation between Temperature and IQ\")\n",
        "fig.show()"
      ]
    }
  ],
  "metadata": {
    "colab": {
      "provenance": []
    },
    "kernelspec": {
      "display_name": "Python 3",
      "name": "python3"
    },
    "language_info": {
      "codemirror_mode": {
        "name": "ipython",
        "version": 3
      },
      "file_extension": ".py",
      "mimetype": "text/x-python",
      "name": "python",
      "nbconvert_exporter": "python",
      "pygments_lexer": "ipython3",
      "version": "3.11.6"
    }
  },
  "nbformat": 4,
  "nbformat_minor": 0
}
