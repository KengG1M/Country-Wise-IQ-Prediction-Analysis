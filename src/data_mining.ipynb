{
  "cells": [
    {
      "cell_type": "markdown",
      "metadata": {
        "id": "CwqfyN-cpu7y"
      },
      "source": [
        "# Note :    Riêng **Colab** phải **Ctrl+S** hoặc **Save** thì mới update được nha mọi người."
      ]
    },
    {
      "cell_type": "code",
      "execution_count": 1,
      "metadata": {
        "id": "tO27aFHUZN4n"
      },
      "outputs": [],
      "source": [
        "import pandas as pd\n",
        "import numpy as np\n",
        "import matplotlib.pyplot as plt\n",
        "import seaborn as sns\n",
        "from matplotlib import pyplot\n",
        "from sklearn.model_selection import train_test_split\n"
      ]
    },
    {
      "cell_type": "markdown",
      "metadata": {
        "id": "ZjPp3HxfZPFs"
      },
      "source": [
        "# 1.Data Preparation"
      ]
    },
    {
      "cell_type": "markdown",
      "metadata": {
        "id": "emZYd8UiZa6o"
      },
      "source": [
        "## 1.1. Data Shuffling"
      ]
    },
    {
      "cell_type": "code",
      "execution_count": null,
      "metadata": {
        "id": "UNAdR7ZbTUTJ"
      },
      "outputs": [],
      "source": []
    },
    {
      "cell_type": "markdown",
      "metadata": {
        "id": "0haNsTFoIAT0"
      },
      "source": [
        "### 1.1.1 Daily Activity\n"
      ]
    },
    {
      "cell_type": "code",
      "execution_count": 2,
      "metadata": {
        "colab": {
          "base_uri": "https://localhost:8080/",
          "height": 226
        },
        "id": "Hm_nTJ9XTXGF",
        "outputId": "2afe9376-0434-4758-8c45-81d6ed0b82cf"
      },
      "outputs": [
        {
          "data": {
            "text/html": [
              "<div>\n",
              "<style scoped>\n",
              "    .dataframe tbody tr th:only-of-type {\n",
              "        vertical-align: middle;\n",
              "    }\n",
              "\n",
              "    .dataframe tbody tr th {\n",
              "        vertical-align: top;\n",
              "    }\n",
              "\n",
              "    .dataframe thead th {\n",
              "        text-align: right;\n",
              "    }\n",
              "</style>\n",
              "<table border=\"1\" class=\"dataframe\">\n",
              "  <thead>\n",
              "    <tr style=\"text-align: right;\">\n",
              "      <th></th>\n",
              "      <th>Id</th>\n",
              "      <th>ActivityDate</th>\n",
              "      <th>TotalSteps</th>\n",
              "      <th>TotalDistance</th>\n",
              "      <th>TrackerDistance</th>\n",
              "      <th>LoggedActivitiesDistance</th>\n",
              "      <th>VeryActiveDistance</th>\n",
              "      <th>ModeratelyActiveDistance</th>\n",
              "      <th>LightActiveDistance</th>\n",
              "      <th>SedentaryActiveDistance</th>\n",
              "      <th>VeryActiveMinutes</th>\n",
              "      <th>FairlyActiveMinutes</th>\n",
              "      <th>LightlyActiveMinutes</th>\n",
              "      <th>SedentaryMinutes</th>\n",
              "      <th>Calories</th>\n",
              "    </tr>\n",
              "  </thead>\n",
              "  <tbody>\n",
              "    <tr>\n",
              "      <th>0</th>\n",
              "      <td>1503960366</td>\n",
              "      <td>3/25/2016</td>\n",
              "      <td>11004</td>\n",
              "      <td>7.11</td>\n",
              "      <td>7.11</td>\n",
              "      <td>0.0</td>\n",
              "      <td>2.57</td>\n",
              "      <td>0.46</td>\n",
              "      <td>4.07</td>\n",
              "      <td>0.0</td>\n",
              "      <td>33</td>\n",
              "      <td>12</td>\n",
              "      <td>205</td>\n",
              "      <td>804</td>\n",
              "      <td>1819</td>\n",
              "    </tr>\n",
              "    <tr>\n",
              "      <th>1</th>\n",
              "      <td>1503960366</td>\n",
              "      <td>3/26/2016</td>\n",
              "      <td>17609</td>\n",
              "      <td>11.55</td>\n",
              "      <td>11.55</td>\n",
              "      <td>0.0</td>\n",
              "      <td>6.92</td>\n",
              "      <td>0.73</td>\n",
              "      <td>3.91</td>\n",
              "      <td>0.0</td>\n",
              "      <td>89</td>\n",
              "      <td>17</td>\n",
              "      <td>274</td>\n",
              "      <td>588</td>\n",
              "      <td>2154</td>\n",
              "    </tr>\n",
              "    <tr>\n",
              "      <th>2</th>\n",
              "      <td>1503960366</td>\n",
              "      <td>3/27/2016</td>\n",
              "      <td>12736</td>\n",
              "      <td>8.53</td>\n",
              "      <td>8.53</td>\n",
              "      <td>0.0</td>\n",
              "      <td>4.66</td>\n",
              "      <td>0.16</td>\n",
              "      <td>3.71</td>\n",
              "      <td>0.0</td>\n",
              "      <td>56</td>\n",
              "      <td>5</td>\n",
              "      <td>268</td>\n",
              "      <td>605</td>\n",
              "      <td>1944</td>\n",
              "    </tr>\n",
              "    <tr>\n",
              "      <th>3</th>\n",
              "      <td>1503960366</td>\n",
              "      <td>3/28/2016</td>\n",
              "      <td>13231</td>\n",
              "      <td>8.93</td>\n",
              "      <td>8.93</td>\n",
              "      <td>0.0</td>\n",
              "      <td>3.19</td>\n",
              "      <td>0.79</td>\n",
              "      <td>4.95</td>\n",
              "      <td>0.0</td>\n",
              "      <td>39</td>\n",
              "      <td>20</td>\n",
              "      <td>224</td>\n",
              "      <td>1080</td>\n",
              "      <td>1932</td>\n",
              "    </tr>\n",
              "    <tr>\n",
              "      <th>4</th>\n",
              "      <td>1503960366</td>\n",
              "      <td>3/29/2016</td>\n",
              "      <td>12041</td>\n",
              "      <td>7.85</td>\n",
              "      <td>7.85</td>\n",
              "      <td>0.0</td>\n",
              "      <td>2.16</td>\n",
              "      <td>1.09</td>\n",
              "      <td>4.61</td>\n",
              "      <td>0.0</td>\n",
              "      <td>28</td>\n",
              "      <td>28</td>\n",
              "      <td>243</td>\n",
              "      <td>763</td>\n",
              "      <td>1886</td>\n",
              "    </tr>\n",
              "  </tbody>\n",
              "</table>\n",
              "</div>"
            ],
            "text/plain": [
              "           Id ActivityDate  TotalSteps  TotalDistance  TrackerDistance  \\\n",
              "0  1503960366    3/25/2016       11004           7.11             7.11   \n",
              "1  1503960366    3/26/2016       17609          11.55            11.55   \n",
              "2  1503960366    3/27/2016       12736           8.53             8.53   \n",
              "3  1503960366    3/28/2016       13231           8.93             8.93   \n",
              "4  1503960366    3/29/2016       12041           7.85             7.85   \n",
              "\n",
              "   LoggedActivitiesDistance  VeryActiveDistance  ModeratelyActiveDistance  \\\n",
              "0                       0.0                2.57                      0.46   \n",
              "1                       0.0                6.92                      0.73   \n",
              "2                       0.0                4.66                      0.16   \n",
              "3                       0.0                3.19                      0.79   \n",
              "4                       0.0                2.16                      1.09   \n",
              "\n",
              "   LightActiveDistance  SedentaryActiveDistance  VeryActiveMinutes  \\\n",
              "0                 4.07                      0.0                 33   \n",
              "1                 3.91                      0.0                 89   \n",
              "2                 3.71                      0.0                 56   \n",
              "3                 4.95                      0.0                 39   \n",
              "4                 4.61                      0.0                 28   \n",
              "\n",
              "   FairlyActiveMinutes  LightlyActiveMinutes  SedentaryMinutes  Calories  \n",
              "0                   12                   205               804      1819  \n",
              "1                   17                   274               588      2154  \n",
              "2                    5                   268               605      1944  \n",
              "3                   20                   224              1080      1932  \n",
              "4                   28                   243               763      1886  "
            ]
          },
          "execution_count": 2,
          "metadata": {},
          "output_type": "execute_result"
        }
      ],
      "source": [
        "# Correct URL to the raw CSV file on GitHub\n",
        "dailyActivity = pd.read_csv('../data/dailyActivity_merged.csv')\n",
        "dailyActivity.head()"
      ]
    },
    {
      "cell_type": "code",
      "execution_count": 3,
      "metadata": {
        "colab": {
          "base_uri": "https://localhost:8080/"
        },
        "id": "Vf7TYtyJZdz0",
        "outputId": "41b09c32-4b57-4eb6-c7ed-11612b3efa48"
      },
      "outputs": [
        {
          "name": "stdout",
          "output_type": "stream",
          "text": [
            "<class 'pandas.core.frame.DataFrame'>\n",
            "RangeIndex: 457 entries, 0 to 456\n",
            "Data columns (total 15 columns):\n",
            " #   Column                    Non-Null Count  Dtype  \n",
            "---  ------                    --------------  -----  \n",
            " 0   Id                        457 non-null    int64  \n",
            " 1   ActivityDate              457 non-null    object \n",
            " 2   TotalSteps                457 non-null    int64  \n",
            " 3   TotalDistance             457 non-null    float64\n",
            " 4   TrackerDistance           457 non-null    float64\n",
            " 5   LoggedActivitiesDistance  457 non-null    float64\n",
            " 6   VeryActiveDistance        457 non-null    float64\n",
            " 7   ModeratelyActiveDistance  457 non-null    float64\n",
            " 8   LightActiveDistance       457 non-null    float64\n",
            " 9   SedentaryActiveDistance   457 non-null    float64\n",
            " 10  VeryActiveMinutes         457 non-null    int64  \n",
            " 11  FairlyActiveMinutes       457 non-null    int64  \n",
            " 12  LightlyActiveMinutes      457 non-null    int64  \n",
            " 13  SedentaryMinutes          457 non-null    int64  \n",
            " 14  Calories                  457 non-null    int64  \n",
            "dtypes: float64(7), int64(7), object(1)\n",
            "memory usage: 53.7+ KB\n"
          ]
        }
      ],
      "source": [
        "dailyActivity.info()"
      ]
    },
    {
      "cell_type": "code",
      "execution_count": 4,
      "metadata": {
        "colab": {
          "base_uri": "https://localhost:8080/",
          "height": 226
        },
        "id": "MwpkzCkeZdxC",
        "outputId": "87a229e1-b192-4197-8ea8-b13cf80a704e"
      },
      "outputs": [
        {
          "data": {
            "text/html": [
              "<div>\n",
              "<style scoped>\n",
              "    .dataframe tbody tr th:only-of-type {\n",
              "        vertical-align: middle;\n",
              "    }\n",
              "\n",
              "    .dataframe tbody tr th {\n",
              "        vertical-align: top;\n",
              "    }\n",
              "\n",
              "    .dataframe thead th {\n",
              "        text-align: right;\n",
              "    }\n",
              "</style>\n",
              "<table border=\"1\" class=\"dataframe\">\n",
              "  <thead>\n",
              "    <tr style=\"text-align: right;\">\n",
              "      <th></th>\n",
              "      <th>Id</th>\n",
              "      <th>ActivityDate</th>\n",
              "      <th>TotalSteps</th>\n",
              "      <th>TotalDistance</th>\n",
              "      <th>TrackerDistance</th>\n",
              "      <th>LoggedActivitiesDistance</th>\n",
              "      <th>VeryActiveDistance</th>\n",
              "      <th>ModeratelyActiveDistance</th>\n",
              "      <th>LightActiveDistance</th>\n",
              "      <th>SedentaryActiveDistance</th>\n",
              "      <th>VeryActiveMinutes</th>\n",
              "      <th>FairlyActiveMinutes</th>\n",
              "      <th>LightlyActiveMinutes</th>\n",
              "      <th>SedentaryMinutes</th>\n",
              "      <th>Calories</th>\n",
              "    </tr>\n",
              "  </thead>\n",
              "  <tbody>\n",
              "    <tr>\n",
              "      <th>430</th>\n",
              "      <td>8583815059</td>\n",
              "      <td>4/6/2016</td>\n",
              "      <td>2098</td>\n",
              "      <td>1.64</td>\n",
              "      <td>1.64</td>\n",
              "      <td>0.0</td>\n",
              "      <td>0.00</td>\n",
              "      <td>0.00</td>\n",
              "      <td>1.63</td>\n",
              "      <td>0.00</td>\n",
              "      <td>0</td>\n",
              "      <td>0</td>\n",
              "      <td>112</td>\n",
              "      <td>1328</td>\n",
              "      <td>2354</td>\n",
              "    </tr>\n",
              "    <tr>\n",
              "      <th>328</th>\n",
              "      <td>6290855005</td>\n",
              "      <td>4/5/2016</td>\n",
              "      <td>0</td>\n",
              "      <td>0.00</td>\n",
              "      <td>0.00</td>\n",
              "      <td>0.0</td>\n",
              "      <td>0.00</td>\n",
              "      <td>0.00</td>\n",
              "      <td>0.00</td>\n",
              "      <td>0.00</td>\n",
              "      <td>0</td>\n",
              "      <td>0</td>\n",
              "      <td>0</td>\n",
              "      <td>1440</td>\n",
              "      <td>2060</td>\n",
              "    </tr>\n",
              "    <tr>\n",
              "      <th>180</th>\n",
              "      <td>4020332650</td>\n",
              "      <td>3/27/2016</td>\n",
              "      <td>7144</td>\n",
              "      <td>5.12</td>\n",
              "      <td>5.12</td>\n",
              "      <td>0.0</td>\n",
              "      <td>0.00</td>\n",
              "      <td>0.00</td>\n",
              "      <td>0.00</td>\n",
              "      <td>0.00</td>\n",
              "      <td>0</td>\n",
              "      <td>0</td>\n",
              "      <td>0</td>\n",
              "      <td>1440</td>\n",
              "      <td>3510</td>\n",
              "    </tr>\n",
              "    <tr>\n",
              "      <th>39</th>\n",
              "      <td>1644430081</td>\n",
              "      <td>4/2/2016</td>\n",
              "      <td>20237</td>\n",
              "      <td>14.71</td>\n",
              "      <td>14.71</td>\n",
              "      <td>0.0</td>\n",
              "      <td>2.57</td>\n",
              "      <td>6.40</td>\n",
              "      <td>5.73</td>\n",
              "      <td>0.01</td>\n",
              "      <td>34</td>\n",
              "      <td>141</td>\n",
              "      <td>347</td>\n",
              "      <td>918</td>\n",
              "      <td>4029</td>\n",
              "    </tr>\n",
              "    <tr>\n",
              "      <th>453</th>\n",
              "      <td>8877689391</td>\n",
              "      <td>4/9/2016</td>\n",
              "      <td>16470</td>\n",
              "      <td>8.07</td>\n",
              "      <td>8.07</td>\n",
              "      <td>0.0</td>\n",
              "      <td>0.00</td>\n",
              "      <td>0.02</td>\n",
              "      <td>8.02</td>\n",
              "      <td>0.00</td>\n",
              "      <td>90</td>\n",
              "      <td>9</td>\n",
              "      <td>289</td>\n",
              "      <td>1052</td>\n",
              "      <td>3841</td>\n",
              "    </tr>\n",
              "  </tbody>\n",
              "</table>\n",
              "</div>"
            ],
            "text/plain": [
              "             Id ActivityDate  TotalSteps  TotalDistance  TrackerDistance  \\\n",
              "430  8583815059     4/6/2016        2098           1.64             1.64   \n",
              "328  6290855005     4/5/2016           0           0.00             0.00   \n",
              "180  4020332650    3/27/2016        7144           5.12             5.12   \n",
              "39   1644430081     4/2/2016       20237          14.71            14.71   \n",
              "453  8877689391     4/9/2016       16470           8.07             8.07   \n",
              "\n",
              "     LoggedActivitiesDistance  VeryActiveDistance  ModeratelyActiveDistance  \\\n",
              "430                       0.0                0.00                      0.00   \n",
              "328                       0.0                0.00                      0.00   \n",
              "180                       0.0                0.00                      0.00   \n",
              "39                        0.0                2.57                      6.40   \n",
              "453                       0.0                0.00                      0.02   \n",
              "\n",
              "     LightActiveDistance  SedentaryActiveDistance  VeryActiveMinutes  \\\n",
              "430                 1.63                     0.00                  0   \n",
              "328                 0.00                     0.00                  0   \n",
              "180                 0.00                     0.00                  0   \n",
              "39                  5.73                     0.01                 34   \n",
              "453                 8.02                     0.00                 90   \n",
              "\n",
              "     FairlyActiveMinutes  LightlyActiveMinutes  SedentaryMinutes  Calories  \n",
              "430                    0                   112              1328      2354  \n",
              "328                    0                     0              1440      2060  \n",
              "180                    0                     0              1440      3510  \n",
              "39                   141                   347               918      4029  \n",
              "453                    9                   289              1052      3841  "
            ]
          },
          "execution_count": 4,
          "metadata": {},
          "output_type": "execute_result"
        }
      ],
      "source": [
        "from sklearn.utils import shuffle\n",
        "\n",
        "dailyActivity = shuffle(dailyActivity)\n",
        "dailyActivity.head()"
      ]
    },
    {
      "cell_type": "markdown",
      "metadata": {
        "id": "7B2z6h7JX7wL"
      },
      "source": [
        "### 1.1.2. Heart Rate Second"
      ]
    },
    {
      "cell_type": "code",
      "execution_count": 5,
      "metadata": {
        "colab": {
          "base_uri": "https://localhost:8080/",
          "height": 206
        },
        "id": "C9As_H1rchOu",
        "outputId": "49e6e206-6921-47df-dee9-cc08f1064954"
      },
      "outputs": [
        {
          "data": {
            "text/html": [
              "<div>\n",
              "<style scoped>\n",
              "    .dataframe tbody tr th:only-of-type {\n",
              "        vertical-align: middle;\n",
              "    }\n",
              "\n",
              "    .dataframe tbody tr th {\n",
              "        vertical-align: top;\n",
              "    }\n",
              "\n",
              "    .dataframe thead th {\n",
              "        text-align: right;\n",
              "    }\n",
              "</style>\n",
              "<table border=\"1\" class=\"dataframe\">\n",
              "  <thead>\n",
              "    <tr style=\"text-align: right;\">\n",
              "      <th></th>\n",
              "      <th>Id</th>\n",
              "      <th>Time</th>\n",
              "      <th>Value</th>\n",
              "    </tr>\n",
              "  </thead>\n",
              "  <tbody>\n",
              "    <tr>\n",
              "      <th>0</th>\n",
              "      <td>2022484408</td>\n",
              "      <td>4/12/2016 7:21:00 AM</td>\n",
              "      <td>97</td>\n",
              "    </tr>\n",
              "    <tr>\n",
              "      <th>1</th>\n",
              "      <td>2022484408</td>\n",
              "      <td>4/12/2016 7:21:05 AM</td>\n",
              "      <td>102</td>\n",
              "    </tr>\n",
              "    <tr>\n",
              "      <th>2</th>\n",
              "      <td>2022484408</td>\n",
              "      <td>4/12/2016 7:21:10 AM</td>\n",
              "      <td>105</td>\n",
              "    </tr>\n",
              "    <tr>\n",
              "      <th>3</th>\n",
              "      <td>2022484408</td>\n",
              "      <td>4/12/2016 7:21:20 AM</td>\n",
              "      <td>103</td>\n",
              "    </tr>\n",
              "    <tr>\n",
              "      <th>4</th>\n",
              "      <td>2022484408</td>\n",
              "      <td>4/12/2016 7:21:25 AM</td>\n",
              "      <td>101</td>\n",
              "    </tr>\n",
              "  </tbody>\n",
              "</table>\n",
              "</div>"
            ],
            "text/plain": [
              "           Id                  Time  Value\n",
              "0  2022484408  4/12/2016 7:21:00 AM     97\n",
              "1  2022484408  4/12/2016 7:21:05 AM    102\n",
              "2  2022484408  4/12/2016 7:21:10 AM    105\n",
              "3  2022484408  4/12/2016 7:21:20 AM    103\n",
              "4  2022484408  4/12/2016 7:21:25 AM    101"
            ]
          },
          "execution_count": 5,
          "metadata": {},
          "output_type": "execute_result"
        }
      ],
      "source": [
        "# Correct URL to the raw CSV file on GitHub\n",
        "heartRate = pd.read_csv('../data/heartrate_seconds_merged.csv')\n",
        "heartRate.head()"
      ]
    },
    {
      "cell_type": "code",
      "execution_count": 6,
      "metadata": {
        "colab": {
          "base_uri": "https://localhost:8080/"
        },
        "id": "HJcisJZLchJo",
        "outputId": "c354448f-5384-46af-c0cc-ffc43bc9e96d"
      },
      "outputs": [
        {
          "name": "stdout",
          "output_type": "stream",
          "text": [
            "<class 'pandas.core.frame.DataFrame'>\n",
            "RangeIndex: 2483658 entries, 0 to 2483657\n",
            "Data columns (total 3 columns):\n",
            " #   Column  Dtype \n",
            "---  ------  ----- \n",
            " 0   Id      int64 \n",
            " 1   Time    object\n",
            " 2   Value   int64 \n",
            "dtypes: int64(2), object(1)\n",
            "memory usage: 56.8+ MB\n"
          ]
        }
      ],
      "source": [
        "heartRate.info()"
      ]
    },
    {
      "cell_type": "code",
      "execution_count": 7,
      "metadata": {
        "colab": {
          "base_uri": "https://localhost:8080/",
          "height": 206
        },
        "id": "YkZE9jXfchEc",
        "outputId": "4fe91655-48a8-4399-e292-8fb4d45d601b"
      },
      "outputs": [
        {
          "data": {
            "text/html": [
              "<div>\n",
              "<style scoped>\n",
              "    .dataframe tbody tr th:only-of-type {\n",
              "        vertical-align: middle;\n",
              "    }\n",
              "\n",
              "    .dataframe tbody tr th {\n",
              "        vertical-align: top;\n",
              "    }\n",
              "\n",
              "    .dataframe thead th {\n",
              "        text-align: right;\n",
              "    }\n",
              "</style>\n",
              "<table border=\"1\" class=\"dataframe\">\n",
              "  <thead>\n",
              "    <tr style=\"text-align: right;\">\n",
              "      <th></th>\n",
              "      <th>Id</th>\n",
              "      <th>Time</th>\n",
              "      <th>Value</th>\n",
              "    </tr>\n",
              "  </thead>\n",
              "  <tbody>\n",
              "    <tr>\n",
              "      <th>1122731</th>\n",
              "      <td>5553957443</td>\n",
              "      <td>4/22/2016 3:53:38 PM</td>\n",
              "      <td>114</td>\n",
              "    </tr>\n",
              "    <tr>\n",
              "      <th>1925560</th>\n",
              "      <td>6962181067</td>\n",
              "      <td>5/3/2016 11:19:30 PM</td>\n",
              "      <td>70</td>\n",
              "    </tr>\n",
              "    <tr>\n",
              "      <th>1291073</th>\n",
              "      <td>5553957443</td>\n",
              "      <td>5/12/2016 5:31:35 AM</td>\n",
              "      <td>69</td>\n",
              "    </tr>\n",
              "    <tr>\n",
              "      <th>1677183</th>\n",
              "      <td>6117666160</td>\n",
              "      <td>5/7/2016 2:50:10 AM</td>\n",
              "      <td>74</td>\n",
              "    </tr>\n",
              "    <tr>\n",
              "      <th>650032</th>\n",
              "      <td>4388161847</td>\n",
              "      <td>4/19/2016 12:44:35 PM</td>\n",
              "      <td>60</td>\n",
              "    </tr>\n",
              "  </tbody>\n",
              "</table>\n",
              "</div>"
            ],
            "text/plain": [
              "                 Id                   Time  Value\n",
              "1122731  5553957443   4/22/2016 3:53:38 PM    114\n",
              "1925560  6962181067   5/3/2016 11:19:30 PM     70\n",
              "1291073  5553957443   5/12/2016 5:31:35 AM     69\n",
              "1677183  6117666160    5/7/2016 2:50:10 AM     74\n",
              "650032   4388161847  4/19/2016 12:44:35 PM     60"
            ]
          },
          "execution_count": 7,
          "metadata": {},
          "output_type": "execute_result"
        }
      ],
      "source": [
        "from sklearn.utils import shuffle\n",
        "\n",
        "heartRate = shuffle(heartRate)\n",
        "heartRate.head()"
      ]
    },
    {
      "cell_type": "code",
      "execution_count": null,
      "metadata": {
        "id": "vrUl7JTxcg7e"
      },
      "outputs": [],
      "source": []
    },
    {
      "cell_type": "markdown",
      "metadata": {
        "id": "Ym70WPqwYCTS"
      },
      "source": [
        "### 1.1.3. Hourly Calories"
      ]
    },
    {
      "cell_type": "code",
      "execution_count": 8,
      "metadata": {
        "colab": {
          "base_uri": "https://localhost:8080/",
          "height": 206
        },
        "id": "MN0pmFfmeK4p",
        "outputId": "d71a65c0-cda3-4554-cc82-332b7fdb9cc1"
      },
      "outputs": [
        {
          "data": {
            "text/html": [
              "<div>\n",
              "<style scoped>\n",
              "    .dataframe tbody tr th:only-of-type {\n",
              "        vertical-align: middle;\n",
              "    }\n",
              "\n",
              "    .dataframe tbody tr th {\n",
              "        vertical-align: top;\n",
              "    }\n",
              "\n",
              "    .dataframe thead th {\n",
              "        text-align: right;\n",
              "    }\n",
              "</style>\n",
              "<table border=\"1\" class=\"dataframe\">\n",
              "  <thead>\n",
              "    <tr style=\"text-align: right;\">\n",
              "      <th></th>\n",
              "      <th>Id</th>\n",
              "      <th>ActivityHour</th>\n",
              "      <th>Calories</th>\n",
              "    </tr>\n",
              "  </thead>\n",
              "  <tbody>\n",
              "    <tr>\n",
              "      <th>0</th>\n",
              "      <td>1503960366</td>\n",
              "      <td>3/12/2016 12:00:00 AM</td>\n",
              "      <td>48</td>\n",
              "    </tr>\n",
              "    <tr>\n",
              "      <th>1</th>\n",
              "      <td>1503960366</td>\n",
              "      <td>3/12/2016 1:00:00 AM</td>\n",
              "      <td>48</td>\n",
              "    </tr>\n",
              "    <tr>\n",
              "      <th>2</th>\n",
              "      <td>1503960366</td>\n",
              "      <td>3/12/2016 2:00:00 AM</td>\n",
              "      <td>48</td>\n",
              "    </tr>\n",
              "    <tr>\n",
              "      <th>3</th>\n",
              "      <td>1503960366</td>\n",
              "      <td>3/12/2016 3:00:00 AM</td>\n",
              "      <td>48</td>\n",
              "    </tr>\n",
              "    <tr>\n",
              "      <th>4</th>\n",
              "      <td>1503960366</td>\n",
              "      <td>3/12/2016 4:00:00 AM</td>\n",
              "      <td>48</td>\n",
              "    </tr>\n",
              "  </tbody>\n",
              "</table>\n",
              "</div>"
            ],
            "text/plain": [
              "           Id           ActivityHour  Calories\n",
              "0  1503960366  3/12/2016 12:00:00 AM        48\n",
              "1  1503960366   3/12/2016 1:00:00 AM        48\n",
              "2  1503960366   3/12/2016 2:00:00 AM        48\n",
              "3  1503960366   3/12/2016 3:00:00 AM        48\n",
              "4  1503960366   3/12/2016 4:00:00 AM        48"
            ]
          },
          "execution_count": 8,
          "metadata": {},
          "output_type": "execute_result"
        }
      ],
      "source": [
        "# Correct URL to the raw CSV file on GitHub\n",
        "hourlyCalories = pd.read_csv('../data/hourlyCalories_merged.csv')\n",
        "hourlyCalories.head()"
      ]
    },
    {
      "cell_type": "code",
      "execution_count": 9,
      "metadata": {
        "colab": {
          "base_uri": "https://localhost:8080/"
        },
        "id": "n844RqFyeK0T",
        "outputId": "0549f118-f419-4db4-c153-e1826d3b4c69"
      },
      "outputs": [
        {
          "name": "stdout",
          "output_type": "stream",
          "text": [
            "<class 'pandas.core.frame.DataFrame'>\n",
            "RangeIndex: 24084 entries, 0 to 24083\n",
            "Data columns (total 3 columns):\n",
            " #   Column        Non-Null Count  Dtype \n",
            "---  ------        --------------  ----- \n",
            " 0   Id            24084 non-null  int64 \n",
            " 1   ActivityHour  24084 non-null  object\n",
            " 2   Calories      24084 non-null  int64 \n",
            "dtypes: int64(2), object(1)\n",
            "memory usage: 564.6+ KB\n"
          ]
        }
      ],
      "source": [
        "hourlyCalories.info()"
      ]
    },
    {
      "cell_type": "code",
      "execution_count": 10,
      "metadata": {
        "colab": {
          "base_uri": "https://localhost:8080/",
          "height": 206
        },
        "id": "h2cV6JWfeKuG",
        "outputId": "e75575d0-634e-4f18-f7d8-d79e075af2e7"
      },
      "outputs": [
        {
          "data": {
            "text/html": [
              "<div>\n",
              "<style scoped>\n",
              "    .dataframe tbody tr th:only-of-type {\n",
              "        vertical-align: middle;\n",
              "    }\n",
              "\n",
              "    .dataframe tbody tr th {\n",
              "        vertical-align: top;\n",
              "    }\n",
              "\n",
              "    .dataframe thead th {\n",
              "        text-align: right;\n",
              "    }\n",
              "</style>\n",
              "<table border=\"1\" class=\"dataframe\">\n",
              "  <thead>\n",
              "    <tr style=\"text-align: right;\">\n",
              "      <th></th>\n",
              "      <th>Id</th>\n",
              "      <th>ActivityHour</th>\n",
              "      <th>Calories</th>\n",
              "    </tr>\n",
              "  </thead>\n",
              "  <tbody>\n",
              "    <tr>\n",
              "      <th>17875</th>\n",
              "      <td>6962181067</td>\n",
              "      <td>3/31/2016 2:00:00 PM</td>\n",
              "      <td>71</td>\n",
              "    </tr>\n",
              "    <tr>\n",
              "      <th>17627</th>\n",
              "      <td>6962181067</td>\n",
              "      <td>3/21/2016 6:00:00 AM</td>\n",
              "      <td>54</td>\n",
              "    </tr>\n",
              "    <tr>\n",
              "      <th>9488</th>\n",
              "      <td>4020332650</td>\n",
              "      <td>4/4/2016 6:00:00 AM</td>\n",
              "      <td>85</td>\n",
              "    </tr>\n",
              "    <tr>\n",
              "      <th>15843</th>\n",
              "      <td>6290855005</td>\n",
              "      <td>3/25/2016 4:00:00 AM</td>\n",
              "      <td>86</td>\n",
              "    </tr>\n",
              "    <tr>\n",
              "      <th>24071</th>\n",
              "      <td>8877689391</td>\n",
              "      <td>4/11/2016 8:00:00 PM</td>\n",
              "      <td>122</td>\n",
              "    </tr>\n",
              "  </tbody>\n",
              "</table>\n",
              "</div>"
            ],
            "text/plain": [
              "               Id          ActivityHour  Calories\n",
              "17875  6962181067  3/31/2016 2:00:00 PM        71\n",
              "17627  6962181067  3/21/2016 6:00:00 AM        54\n",
              "9488   4020332650   4/4/2016 6:00:00 AM        85\n",
              "15843  6290855005  3/25/2016 4:00:00 AM        86\n",
              "24071  8877689391  4/11/2016 8:00:00 PM       122"
            ]
          },
          "execution_count": 10,
          "metadata": {},
          "output_type": "execute_result"
        }
      ],
      "source": [
        "from sklearn.utils import shuffle\n",
        "\n",
        "hourlyCalories = shuffle(hourlyCalories)\n",
        "hourlyCalories.head()"
      ]
    },
    {
      "cell_type": "markdown",
      "metadata": {
        "id": "lymtP8-MYDw7"
      },
      "source": [
        "### 1.1.4. Hourly Intensities"
      ]
    },
    {
      "cell_type": "code",
      "execution_count": 11,
      "metadata": {
        "colab": {
          "base_uri": "https://localhost:8080/",
          "height": 206
        },
        "id": "JKNO4CwnesjX",
        "outputId": "77ca0b2e-e46a-46f8-8e65-c127b87fcb0f"
      },
      "outputs": [
        {
          "data": {
            "text/html": [
              "<div>\n",
              "<style scoped>\n",
              "    .dataframe tbody tr th:only-of-type {\n",
              "        vertical-align: middle;\n",
              "    }\n",
              "\n",
              "    .dataframe tbody tr th {\n",
              "        vertical-align: top;\n",
              "    }\n",
              "\n",
              "    .dataframe thead th {\n",
              "        text-align: right;\n",
              "    }\n",
              "</style>\n",
              "<table border=\"1\" class=\"dataframe\">\n",
              "  <thead>\n",
              "    <tr style=\"text-align: right;\">\n",
              "      <th></th>\n",
              "      <th>Id</th>\n",
              "      <th>ActivityHour</th>\n",
              "      <th>Calories</th>\n",
              "    </tr>\n",
              "  </thead>\n",
              "  <tbody>\n",
              "    <tr>\n",
              "      <th>0</th>\n",
              "      <td>1503960366</td>\n",
              "      <td>3/12/2016 12:00:00 AM</td>\n",
              "      <td>48</td>\n",
              "    </tr>\n",
              "    <tr>\n",
              "      <th>1</th>\n",
              "      <td>1503960366</td>\n",
              "      <td>3/12/2016 1:00:00 AM</td>\n",
              "      <td>48</td>\n",
              "    </tr>\n",
              "    <tr>\n",
              "      <th>2</th>\n",
              "      <td>1503960366</td>\n",
              "      <td>3/12/2016 2:00:00 AM</td>\n",
              "      <td>48</td>\n",
              "    </tr>\n",
              "    <tr>\n",
              "      <th>3</th>\n",
              "      <td>1503960366</td>\n",
              "      <td>3/12/2016 3:00:00 AM</td>\n",
              "      <td>48</td>\n",
              "    </tr>\n",
              "    <tr>\n",
              "      <th>4</th>\n",
              "      <td>1503960366</td>\n",
              "      <td>3/12/2016 4:00:00 AM</td>\n",
              "      <td>48</td>\n",
              "    </tr>\n",
              "  </tbody>\n",
              "</table>\n",
              "</div>"
            ],
            "text/plain": [
              "           Id           ActivityHour  Calories\n",
              "0  1503960366  3/12/2016 12:00:00 AM        48\n",
              "1  1503960366   3/12/2016 1:00:00 AM        48\n",
              "2  1503960366   3/12/2016 2:00:00 AM        48\n",
              "3  1503960366   3/12/2016 3:00:00 AM        48\n",
              "4  1503960366   3/12/2016 4:00:00 AM        48"
            ]
          },
          "execution_count": 11,
          "metadata": {},
          "output_type": "execute_result"
        }
      ],
      "source": [
        "# Correct URL to the raw CSV file on GitHub\n",
        "hourlyIntensities = pd.read_csv('../data/hourlyCalories_merged.csv')\n",
        "hourlyIntensities.head()"
      ]
    },
    {
      "cell_type": "code",
      "execution_count": 12,
      "metadata": {
        "colab": {
          "base_uri": "https://localhost:8080/"
        },
        "id": "DJUkWiTAeseS",
        "outputId": "8cd7c1e2-0e47-4781-ef46-a83ca54c6c27"
      },
      "outputs": [
        {
          "name": "stdout",
          "output_type": "stream",
          "text": [
            "<class 'pandas.core.frame.DataFrame'>\n",
            "RangeIndex: 24084 entries, 0 to 24083\n",
            "Data columns (total 3 columns):\n",
            " #   Column        Non-Null Count  Dtype \n",
            "---  ------        --------------  ----- \n",
            " 0   Id            24084 non-null  int64 \n",
            " 1   ActivityHour  24084 non-null  object\n",
            " 2   Calories      24084 non-null  int64 \n",
            "dtypes: int64(2), object(1)\n",
            "memory usage: 564.6+ KB\n"
          ]
        }
      ],
      "source": [
        "hourlyIntensities.info()"
      ]
    },
    {
      "cell_type": "code",
      "execution_count": 13,
      "metadata": {
        "colab": {
          "base_uri": "https://localhost:8080/",
          "height": 206
        },
        "id": "o-TZXMA6esZI",
        "outputId": "a9c9b03d-a338-4fee-94f8-ee9c9a05924b"
      },
      "outputs": [
        {
          "data": {
            "text/html": [
              "<div>\n",
              "<style scoped>\n",
              "    .dataframe tbody tr th:only-of-type {\n",
              "        vertical-align: middle;\n",
              "    }\n",
              "\n",
              "    .dataframe tbody tr th {\n",
              "        vertical-align: top;\n",
              "    }\n",
              "\n",
              "    .dataframe thead th {\n",
              "        text-align: right;\n",
              "    }\n",
              "</style>\n",
              "<table border=\"1\" class=\"dataframe\">\n",
              "  <thead>\n",
              "    <tr style=\"text-align: right;\">\n",
              "      <th></th>\n",
              "      <th>Id</th>\n",
              "      <th>ActivityHour</th>\n",
              "      <th>Calories</th>\n",
              "    </tr>\n",
              "  </thead>\n",
              "  <tbody>\n",
              "    <tr>\n",
              "      <th>10584</th>\n",
              "      <td>4319703577</td>\n",
              "      <td>3/18/2016 11:00:00 AM</td>\n",
              "      <td>113</td>\n",
              "    </tr>\n",
              "    <tr>\n",
              "      <th>23496</th>\n",
              "      <td>8877689391</td>\n",
              "      <td>3/18/2016 9:00:00 PM</td>\n",
              "      <td>110</td>\n",
              "    </tr>\n",
              "    <tr>\n",
              "      <th>7425</th>\n",
              "      <td>2873212765</td>\n",
              "      <td>4/10/2016 9:00:00 AM</td>\n",
              "      <td>70</td>\n",
              "    </tr>\n",
              "    <tr>\n",
              "      <th>11547</th>\n",
              "      <td>4445114986</td>\n",
              "      <td>3/30/2016 3:00:00 PM</td>\n",
              "      <td>123</td>\n",
              "    </tr>\n",
              "    <tr>\n",
              "      <th>10706</th>\n",
              "      <td>4319703577</td>\n",
              "      <td>3/23/2016 1:00:00 PM</td>\n",
              "      <td>91</td>\n",
              "    </tr>\n",
              "  </tbody>\n",
              "</table>\n",
              "</div>"
            ],
            "text/plain": [
              "               Id           ActivityHour  Calories\n",
              "10584  4319703577  3/18/2016 11:00:00 AM       113\n",
              "23496  8877689391   3/18/2016 9:00:00 PM       110\n",
              "7425   2873212765   4/10/2016 9:00:00 AM        70\n",
              "11547  4445114986   3/30/2016 3:00:00 PM       123\n",
              "10706  4319703577   3/23/2016 1:00:00 PM        91"
            ]
          },
          "execution_count": 13,
          "metadata": {},
          "output_type": "execute_result"
        }
      ],
      "source": [
        "from sklearn.utils import shuffle\n",
        "\n",
        "hourlyIntensities = shuffle(hourlyIntensities)\n",
        "hourlyIntensities.head()"
      ]
    },
    {
      "cell_type": "markdown",
      "metadata": {
        "id": "TQWHRQEhYEJN"
      },
      "source": [
        "### 1.1.5. Sleep Day"
      ]
    },
    {
      "cell_type": "code",
      "execution_count": 14,
      "metadata": {
        "colab": {
          "base_uri": "https://localhost:8080/",
          "height": 206
        },
        "id": "7-R2_A_Efhml",
        "outputId": "383284a6-6b44-49fe-f155-82ab452a6218"
      },
      "outputs": [
        {
          "data": {
            "text/html": [
              "<div>\n",
              "<style scoped>\n",
              "    .dataframe tbody tr th:only-of-type {\n",
              "        vertical-align: middle;\n",
              "    }\n",
              "\n",
              "    .dataframe tbody tr th {\n",
              "        vertical-align: top;\n",
              "    }\n",
              "\n",
              "    .dataframe thead th {\n",
              "        text-align: right;\n",
              "    }\n",
              "</style>\n",
              "<table border=\"1\" class=\"dataframe\">\n",
              "  <thead>\n",
              "    <tr style=\"text-align: right;\">\n",
              "      <th></th>\n",
              "      <th>Id</th>\n",
              "      <th>SleepDay</th>\n",
              "      <th>TotalSleepRecords</th>\n",
              "      <th>TotalMinutesAsleep</th>\n",
              "      <th>TotalTimeInBed</th>\n",
              "    </tr>\n",
              "  </thead>\n",
              "  <tbody>\n",
              "    <tr>\n",
              "      <th>0</th>\n",
              "      <td>1503960366</td>\n",
              "      <td>4/12/2016 12:00:00 AM</td>\n",
              "      <td>1</td>\n",
              "      <td>327</td>\n",
              "      <td>346</td>\n",
              "    </tr>\n",
              "    <tr>\n",
              "      <th>1</th>\n",
              "      <td>1503960366</td>\n",
              "      <td>4/13/2016 12:00:00 AM</td>\n",
              "      <td>2</td>\n",
              "      <td>384</td>\n",
              "      <td>407</td>\n",
              "    </tr>\n",
              "    <tr>\n",
              "      <th>2</th>\n",
              "      <td>1503960366</td>\n",
              "      <td>4/15/2016 12:00:00 AM</td>\n",
              "      <td>1</td>\n",
              "      <td>412</td>\n",
              "      <td>442</td>\n",
              "    </tr>\n",
              "    <tr>\n",
              "      <th>3</th>\n",
              "      <td>1503960366</td>\n",
              "      <td>4/16/2016 12:00:00 AM</td>\n",
              "      <td>2</td>\n",
              "      <td>340</td>\n",
              "      <td>367</td>\n",
              "    </tr>\n",
              "    <tr>\n",
              "      <th>4</th>\n",
              "      <td>1503960366</td>\n",
              "      <td>4/17/2016 12:00:00 AM</td>\n",
              "      <td>1</td>\n",
              "      <td>700</td>\n",
              "      <td>712</td>\n",
              "    </tr>\n",
              "  </tbody>\n",
              "</table>\n",
              "</div>"
            ],
            "text/plain": [
              "           Id               SleepDay  TotalSleepRecords  TotalMinutesAsleep  \\\n",
              "0  1503960366  4/12/2016 12:00:00 AM                  1                 327   \n",
              "1  1503960366  4/13/2016 12:00:00 AM                  2                 384   \n",
              "2  1503960366  4/15/2016 12:00:00 AM                  1                 412   \n",
              "3  1503960366  4/16/2016 12:00:00 AM                  2                 340   \n",
              "4  1503960366  4/17/2016 12:00:00 AM                  1                 700   \n",
              "\n",
              "   TotalTimeInBed  \n",
              "0             346  \n",
              "1             407  \n",
              "2             442  \n",
              "3             367  \n",
              "4             712  "
            ]
          },
          "execution_count": 14,
          "metadata": {},
          "output_type": "execute_result"
        }
      ],
      "source": [
        "# Correct URL to the raw CSV file on GitHub\n",
        "sleepDay = pd.read_csv('../data/sleepDay_merged.csv')\n",
        "sleepDay.head()"
      ]
    },
    {
      "cell_type": "code",
      "execution_count": 15,
      "metadata": {
        "colab": {
          "base_uri": "https://localhost:8080/"
        },
        "id": "gn7bBx1Evdzx",
        "outputId": "c454d1e5-ab5d-4eb1-8da6-124ab456ade2"
      },
      "outputs": [
        {
          "name": "stdout",
          "output_type": "stream",
          "text": [
            "<class 'pandas.core.frame.DataFrame'>\n",
            "RangeIndex: 413 entries, 0 to 412\n",
            "Data columns (total 5 columns):\n",
            " #   Column              Non-Null Count  Dtype \n",
            "---  ------              --------------  ----- \n",
            " 0   Id                  413 non-null    int64 \n",
            " 1   SleepDay            413 non-null    object\n",
            " 2   TotalSleepRecords   413 non-null    int64 \n",
            " 3   TotalMinutesAsleep  413 non-null    int64 \n",
            " 4   TotalTimeInBed      413 non-null    int64 \n",
            "dtypes: int64(4), object(1)\n",
            "memory usage: 16.3+ KB\n"
          ]
        }
      ],
      "source": [
        "sleepDay.info()"
      ]
    },
    {
      "cell_type": "code",
      "execution_count": 16,
      "metadata": {
        "colab": {
          "base_uri": "https://localhost:8080/",
          "height": 206
        },
        "id": "_mYlYUWHf37A",
        "outputId": "841d4d20-85a5-457f-c589-c9a09dab2730"
      },
      "outputs": [
        {
          "data": {
            "text/html": [
              "<div>\n",
              "<style scoped>\n",
              "    .dataframe tbody tr th:only-of-type {\n",
              "        vertical-align: middle;\n",
              "    }\n",
              "\n",
              "    .dataframe tbody tr th {\n",
              "        vertical-align: top;\n",
              "    }\n",
              "\n",
              "    .dataframe thead th {\n",
              "        text-align: right;\n",
              "    }\n",
              "</style>\n",
              "<table border=\"1\" class=\"dataframe\">\n",
              "  <thead>\n",
              "    <tr style=\"text-align: right;\">\n",
              "      <th></th>\n",
              "      <th>Id</th>\n",
              "      <th>SleepDay</th>\n",
              "      <th>TotalSleepRecords</th>\n",
              "      <th>TotalMinutesAsleep</th>\n",
              "      <th>TotalTimeInBed</th>\n",
              "    </tr>\n",
              "  </thead>\n",
              "  <tbody>\n",
              "    <tr>\n",
              "      <th>377</th>\n",
              "      <td>8378563200</td>\n",
              "      <td>4/23/2016 12:00:00 AM</td>\n",
              "      <td>1</td>\n",
              "      <td>565</td>\n",
              "      <td>591</td>\n",
              "    </tr>\n",
              "    <tr>\n",
              "      <th>349</th>\n",
              "      <td>7086361926</td>\n",
              "      <td>4/26/2016 12:00:00 AM</td>\n",
              "      <td>1</td>\n",
              "      <td>485</td>\n",
              "      <td>500</td>\n",
              "    </tr>\n",
              "    <tr>\n",
              "      <th>183</th>\n",
              "      <td>4445114986</td>\n",
              "      <td>5/1/2016 12:00:00 AM</td>\n",
              "      <td>2</td>\n",
              "      <td>439</td>\n",
              "      <td>459</td>\n",
              "    </tr>\n",
              "    <tr>\n",
              "      <th>295</th>\n",
              "      <td>6117666160</td>\n",
              "      <td>4/28/2016 12:00:00 AM</td>\n",
              "      <td>1</td>\n",
              "      <td>393</td>\n",
              "      <td>416</td>\n",
              "    </tr>\n",
              "    <tr>\n",
              "      <th>192</th>\n",
              "      <td>4445114986</td>\n",
              "      <td>5/10/2016 12:00:00 AM</td>\n",
              "      <td>1</td>\n",
              "      <td>405</td>\n",
              "      <td>426</td>\n",
              "    </tr>\n",
              "  </tbody>\n",
              "</table>\n",
              "</div>"
            ],
            "text/plain": [
              "             Id               SleepDay  TotalSleepRecords  TotalMinutesAsleep  \\\n",
              "377  8378563200  4/23/2016 12:00:00 AM                  1                 565   \n",
              "349  7086361926  4/26/2016 12:00:00 AM                  1                 485   \n",
              "183  4445114986   5/1/2016 12:00:00 AM                  2                 439   \n",
              "295  6117666160  4/28/2016 12:00:00 AM                  1                 393   \n",
              "192  4445114986  5/10/2016 12:00:00 AM                  1                 405   \n",
              "\n",
              "     TotalTimeInBed  \n",
              "377             591  \n",
              "349             500  \n",
              "183             459  \n",
              "295             416  \n",
              "192             426  "
            ]
          },
          "execution_count": 16,
          "metadata": {},
          "output_type": "execute_result"
        }
      ],
      "source": [
        "from sklearn.utils import shuffle\n",
        "\n",
        "sleepDay = shuffle(sleepDay)\n",
        "sleepDay.head()"
      ]
    },
    {
      "cell_type": "markdown",
      "metadata": {
        "id": "GTWHkf8BYCyl"
      },
      "source": [
        "### 1.1.6. Weight Info"
      ]
    },
    {
      "cell_type": "code",
      "execution_count": 17,
      "metadata": {
        "colab": {
          "base_uri": "https://localhost:8080/",
          "height": 206
        },
        "id": "Xc5i4htQgM6s",
        "outputId": "30d878dc-c473-4d4b-e07f-87b57cdbb7cc"
      },
      "outputs": [
        {
          "data": {
            "text/html": [
              "<div>\n",
              "<style scoped>\n",
              "    .dataframe tbody tr th:only-of-type {\n",
              "        vertical-align: middle;\n",
              "    }\n",
              "\n",
              "    .dataframe tbody tr th {\n",
              "        vertical-align: top;\n",
              "    }\n",
              "\n",
              "    .dataframe thead th {\n",
              "        text-align: right;\n",
              "    }\n",
              "</style>\n",
              "<table border=\"1\" class=\"dataframe\">\n",
              "  <thead>\n",
              "    <tr style=\"text-align: right;\">\n",
              "      <th></th>\n",
              "      <th>Id</th>\n",
              "      <th>Date</th>\n",
              "      <th>WeightKg</th>\n",
              "      <th>WeightPounds</th>\n",
              "      <th>Fat</th>\n",
              "      <th>BMI</th>\n",
              "      <th>IsManualReport</th>\n",
              "      <th>LogId</th>\n",
              "    </tr>\n",
              "  </thead>\n",
              "  <tbody>\n",
              "    <tr>\n",
              "      <th>0</th>\n",
              "      <td>1503960366</td>\n",
              "      <td>5/2/2016 11:59:59 PM</td>\n",
              "      <td>52.599998</td>\n",
              "      <td>115.963147</td>\n",
              "      <td>22.0</td>\n",
              "      <td>22.650000</td>\n",
              "      <td>True</td>\n",
              "      <td>1462233599000</td>\n",
              "    </tr>\n",
              "    <tr>\n",
              "      <th>1</th>\n",
              "      <td>1503960366</td>\n",
              "      <td>5/3/2016 11:59:59 PM</td>\n",
              "      <td>52.599998</td>\n",
              "      <td>115.963147</td>\n",
              "      <td>NaN</td>\n",
              "      <td>22.650000</td>\n",
              "      <td>True</td>\n",
              "      <td>1462319999000</td>\n",
              "    </tr>\n",
              "    <tr>\n",
              "      <th>2</th>\n",
              "      <td>1927972279</td>\n",
              "      <td>4/13/2016 1:08:52 AM</td>\n",
              "      <td>133.500000</td>\n",
              "      <td>294.317120</td>\n",
              "      <td>NaN</td>\n",
              "      <td>47.540001</td>\n",
              "      <td>False</td>\n",
              "      <td>1460509732000</td>\n",
              "    </tr>\n",
              "    <tr>\n",
              "      <th>3</th>\n",
              "      <td>2873212765</td>\n",
              "      <td>4/21/2016 11:59:59 PM</td>\n",
              "      <td>56.700001</td>\n",
              "      <td>125.002104</td>\n",
              "      <td>NaN</td>\n",
              "      <td>21.450001</td>\n",
              "      <td>True</td>\n",
              "      <td>1461283199000</td>\n",
              "    </tr>\n",
              "    <tr>\n",
              "      <th>4</th>\n",
              "      <td>2873212765</td>\n",
              "      <td>5/12/2016 11:59:59 PM</td>\n",
              "      <td>57.299999</td>\n",
              "      <td>126.324875</td>\n",
              "      <td>NaN</td>\n",
              "      <td>21.690001</td>\n",
              "      <td>True</td>\n",
              "      <td>1463097599000</td>\n",
              "    </tr>\n",
              "  </tbody>\n",
              "</table>\n",
              "</div>"
            ],
            "text/plain": [
              "           Id                   Date    WeightKg  WeightPounds   Fat  \\\n",
              "0  1503960366   5/2/2016 11:59:59 PM   52.599998    115.963147  22.0   \n",
              "1  1503960366   5/3/2016 11:59:59 PM   52.599998    115.963147   NaN   \n",
              "2  1927972279   4/13/2016 1:08:52 AM  133.500000    294.317120   NaN   \n",
              "3  2873212765  4/21/2016 11:59:59 PM   56.700001    125.002104   NaN   \n",
              "4  2873212765  5/12/2016 11:59:59 PM   57.299999    126.324875   NaN   \n",
              "\n",
              "         BMI  IsManualReport          LogId  \n",
              "0  22.650000            True  1462233599000  \n",
              "1  22.650000            True  1462319999000  \n",
              "2  47.540001           False  1460509732000  \n",
              "3  21.450001            True  1461283199000  \n",
              "4  21.690001            True  1463097599000  "
            ]
          },
          "execution_count": 17,
          "metadata": {},
          "output_type": "execute_result"
        }
      ],
      "source": [
        "# Correct URL to the raw CSV file on GitHub\n",
        "weightLogInfo = pd.read_csv('../data/weightLogInfo_merged.csv')\n",
        "weightLogInfo.head()"
      ]
    },
    {
      "cell_type": "code",
      "execution_count": 18,
      "metadata": {
        "colab": {
          "base_uri": "https://localhost:8080/"
        },
        "id": "Zo9gSPbqwGBh",
        "outputId": "ec6c9c3e-a93c-44af-8125-195682630dea"
      },
      "outputs": [
        {
          "name": "stdout",
          "output_type": "stream",
          "text": [
            "<class 'pandas.core.frame.DataFrame'>\n",
            "RangeIndex: 67 entries, 0 to 66\n",
            "Data columns (total 8 columns):\n",
            " #   Column          Non-Null Count  Dtype  \n",
            "---  ------          --------------  -----  \n",
            " 0   Id              67 non-null     int64  \n",
            " 1   Date            67 non-null     object \n",
            " 2   WeightKg        67 non-null     float64\n",
            " 3   WeightPounds    67 non-null     float64\n",
            " 4   Fat             2 non-null      float64\n",
            " 5   BMI             67 non-null     float64\n",
            " 6   IsManualReport  67 non-null     bool   \n",
            " 7   LogId           67 non-null     int64  \n",
            "dtypes: bool(1), float64(4), int64(2), object(1)\n",
            "memory usage: 3.9+ KB\n"
          ]
        }
      ],
      "source": [
        "weightLogInfo.info()"
      ]
    },
    {
      "cell_type": "code",
      "execution_count": 19,
      "metadata": {
        "colab": {
          "base_uri": "https://localhost:8080/",
          "height": 206
        },
        "id": "upfxF_-agxsZ",
        "outputId": "a237f605-5046-46ce-b113-f4433e6b1fa7"
      },
      "outputs": [
        {
          "data": {
            "text/html": [
              "<div>\n",
              "<style scoped>\n",
              "    .dataframe tbody tr th:only-of-type {\n",
              "        vertical-align: middle;\n",
              "    }\n",
              "\n",
              "    .dataframe tbody tr th {\n",
              "        vertical-align: top;\n",
              "    }\n",
              "\n",
              "    .dataframe thead th {\n",
              "        text-align: right;\n",
              "    }\n",
              "</style>\n",
              "<table border=\"1\" class=\"dataframe\">\n",
              "  <thead>\n",
              "    <tr style=\"text-align: right;\">\n",
              "      <th></th>\n",
              "      <th>Id</th>\n",
              "      <th>Date</th>\n",
              "      <th>WeightKg</th>\n",
              "      <th>WeightPounds</th>\n",
              "      <th>Fat</th>\n",
              "      <th>BMI</th>\n",
              "      <th>IsManualReport</th>\n",
              "      <th>LogId</th>\n",
              "    </tr>\n",
              "  </thead>\n",
              "  <tbody>\n",
              "    <tr>\n",
              "      <th>65</th>\n",
              "      <td>8877689391</td>\n",
              "      <td>5/11/2016 6:51:47 AM</td>\n",
              "      <td>85.400002</td>\n",
              "      <td>188.274775</td>\n",
              "      <td>NaN</td>\n",
              "      <td>25.559999</td>\n",
              "      <td>False</td>\n",
              "      <td>1462949507000</td>\n",
              "    </tr>\n",
              "    <tr>\n",
              "      <th>48</th>\n",
              "      <td>8877689391</td>\n",
              "      <td>4/19/2016 6:39:31 AM</td>\n",
              "      <td>85.300003</td>\n",
              "      <td>188.054316</td>\n",
              "      <td>NaN</td>\n",
              "      <td>25.530001</td>\n",
              "      <td>False</td>\n",
              "      <td>1461047971000</td>\n",
              "    </tr>\n",
              "    <tr>\n",
              "      <th>38</th>\n",
              "      <td>6962181067</td>\n",
              "      <td>5/8/2016 11:59:59 PM</td>\n",
              "      <td>61.200001</td>\n",
              "      <td>134.922906</td>\n",
              "      <td>NaN</td>\n",
              "      <td>23.889999</td>\n",
              "      <td>True</td>\n",
              "      <td>1462751999000</td>\n",
              "    </tr>\n",
              "    <tr>\n",
              "      <th>12</th>\n",
              "      <td>5577150313</td>\n",
              "      <td>4/17/2016 9:17:55 AM</td>\n",
              "      <td>90.699997</td>\n",
              "      <td>199.959265</td>\n",
              "      <td>NaN</td>\n",
              "      <td>28.000000</td>\n",
              "      <td>False</td>\n",
              "      <td>1460884675000</td>\n",
              "    </tr>\n",
              "    <tr>\n",
              "      <th>23</th>\n",
              "      <td>6962181067</td>\n",
              "      <td>4/22/2016 11:59:59 PM</td>\n",
              "      <td>61.400002</td>\n",
              "      <td>135.363832</td>\n",
              "      <td>NaN</td>\n",
              "      <td>23.959999</td>\n",
              "      <td>True</td>\n",
              "      <td>1461369599000</td>\n",
              "    </tr>\n",
              "  </tbody>\n",
              "</table>\n",
              "</div>"
            ],
            "text/plain": [
              "            Id                   Date   WeightKg  WeightPounds  Fat  \\\n",
              "65  8877689391   5/11/2016 6:51:47 AM  85.400002    188.274775  NaN   \n",
              "48  8877689391   4/19/2016 6:39:31 AM  85.300003    188.054316  NaN   \n",
              "38  6962181067   5/8/2016 11:59:59 PM  61.200001    134.922906  NaN   \n",
              "12  5577150313   4/17/2016 9:17:55 AM  90.699997    199.959265  NaN   \n",
              "23  6962181067  4/22/2016 11:59:59 PM  61.400002    135.363832  NaN   \n",
              "\n",
              "          BMI  IsManualReport          LogId  \n",
              "65  25.559999           False  1462949507000  \n",
              "48  25.530001           False  1461047971000  \n",
              "38  23.889999            True  1462751999000  \n",
              "12  28.000000           False  1460884675000  \n",
              "23  23.959999            True  1461369599000  "
            ]
          },
          "execution_count": 19,
          "metadata": {},
          "output_type": "execute_result"
        }
      ],
      "source": [
        "from sklearn.utils import shuffle\n",
        "\n",
        "weightLogInfo = shuffle(weightLogInfo)\n",
        "weightLogInfo.head()"
      ]
    },
    {
      "cell_type": "markdown",
      "metadata": {
        "id": "GqhSiLhygxRI"
      },
      "source": []
    },
    {
      "cell_type": "markdown",
      "metadata": {
        "id": "UURLcvjwZbWv"
      },
      "source": [
        "## 1.2. Data Preprocessing"
      ]
    },
    {
      "cell_type": "markdown",
      "metadata": {
        "id": "PlJiX_K-ZbZM"
      },
      "source": [
        "### 1.2.1. Cleaning the datasets"
      ]
    },
    {
      "cell_type": "markdown",
      "metadata": {},
      "source": [
        "#### 1.2.1.a. Convert all the date columns into datetime object and rename it as ActivityDate"
      ]
    },
    {
      "cell_type": "code",
      "execution_count": 20,
      "metadata": {},
      "outputs": [],
      "source": [
        "dailyActivity['ActivityDate'] = pd.to_datetime(dailyActivity['ActivityDate'])"
      ]
    },
    {
      "cell_type": "code",
      "execution_count": 21,
      "metadata": {},
      "outputs": [
        {
          "name": "stderr",
          "output_type": "stream",
          "text": [
            "C:\\Users\\Admin\\AppData\\Local\\Temp\\ipykernel_21256\\416243218.py:4: UserWarning: Could not infer format, so each element will be parsed individually, falling back to `dateutil`. To ensure parsing is consistent and as-expected, please specify a format.\n",
            "  df[date_col] = pd.to_datetime(df[date_col])\n",
            "C:\\Users\\Admin\\AppData\\Local\\Temp\\ipykernel_21256\\416243218.py:4: UserWarning: Could not infer format, so each element will be parsed individually, falling back to `dateutil`. To ensure parsing is consistent and as-expected, please specify a format.\n",
            "  df[date_col] = pd.to_datetime(df[date_col])\n",
            "C:\\Users\\Admin\\AppData\\Local\\Temp\\ipykernel_21256\\416243218.py:4: UserWarning: Could not infer format, so each element will be parsed individually, falling back to `dateutil`. To ensure parsing is consistent and as-expected, please specify a format.\n",
            "  df[date_col] = pd.to_datetime(df[date_col])\n"
          ]
        },
        {
          "name": "stdout",
          "output_type": "stream",
          "text": [
            "DataFrame 1:\n",
            "              Id  TotalSleepRecords  TotalMinutesAsleep  TotalTimeInBed  \\\n",
            "377  8378563200                  1                 565             591   \n",
            "349  7086361926                  1                 485             500   \n",
            "183  4445114986                  2                 439             459   \n",
            "295  6117666160                  1                 393             416   \n",
            "192  4445114986                  1                 405             426   \n",
            "\n",
            "    ActivityDate ActivityTime  \n",
            "377   2016-04-23  12:00:00 AM  \n",
            "349   2016-04-26  12:00:00 AM  \n",
            "183   2016-05-01  12:00:00 AM  \n",
            "295   2016-04-28  12:00:00 AM  \n",
            "192   2016-05-10  12:00:00 AM  \n",
            "datetime64[ns]\n",
            "DataFrame 2:\n",
            "                Id  Calories ActivityDate ActivityTime\n",
            "17875  6962181067        71   2016-03-31  02:00:00 PM\n",
            "17627  6962181067        54   2016-03-21  06:00:00 AM\n",
            "9488   4020332650        85   2016-04-04  06:00:00 AM\n",
            "15843  6290855005        86   2016-03-25  04:00:00 AM\n",
            "24071  8877689391       122   2016-04-11  08:00:00 PM\n",
            "datetime64[ns]\n",
            "DataFrame 3:\n",
            "                Id  Calories ActivityDate ActivityTime\n",
            "10584  4319703577       113   2016-03-18  11:00:00 AM\n",
            "23496  8877689391       110   2016-03-18  09:00:00 PM\n",
            "7425   2873212765        70   2016-04-10  09:00:00 AM\n",
            "11547  4445114986       123   2016-03-30  03:00:00 PM\n",
            "10706  4319703577        91   2016-03-23  01:00:00 PM\n",
            "datetime64[ns]\n",
            "DataFrame 4:\n",
            "                  Id  Value ActivityDate ActivityTime\n",
            "1122731  5553957443    114   2016-04-22  03:53:38 PM\n",
            "1925560  6962181067     70   2016-05-03  11:19:30 PM\n",
            "1291073  5553957443     69   2016-05-12  05:31:35 AM\n",
            "1677183  6117666160     74   2016-05-07  02:50:10 AM\n",
            "650032   4388161847     60   2016-04-19  12:44:35 PM\n",
            "datetime64[ns]\n",
            "DataFrame 5:\n",
            "             Id   WeightKg  WeightPounds  Fat        BMI  IsManualReport  \\\n",
            "65  8877689391  85.400002    188.274775  NaN  25.559999           False   \n",
            "48  8877689391  85.300003    188.054316  NaN  25.530001           False   \n",
            "38  6962181067  61.200001    134.922906  NaN  23.889999            True   \n",
            "12  5577150313  90.699997    199.959265  NaN  28.000000           False   \n",
            "23  6962181067  61.400002    135.363832  NaN  23.959999            True   \n",
            "\n",
            "            LogId ActivityDate ActivityTime  \n",
            "65  1462949507000   2016-05-11  06:51:47 AM  \n",
            "48  1461047971000   2016-04-19  06:39:31 AM  \n",
            "38  1462751999000   2016-05-08  11:59:59 PM  \n",
            "12  1460884675000   2016-04-17  09:17:55 AM  \n",
            "23  1461369599000   2016-04-22  11:59:59 PM  \n",
            "datetime64[ns]\n"
          ]
        }
      ],
      "source": [
        "def process_dataframe(df):\n",
        "    # converting date column to datetime\n",
        "    date_col = df.columns[1]\n",
        "    df[date_col] = pd.to_datetime(df[date_col])\n",
        "\n",
        "    # Creating separate 'date' and 'time' columns\n",
        "    df['ActivityDate'] = df[date_col].dt.date\n",
        "    df['ActivityTime'] = df[date_col].dt.strftime('%I:%M:%S %p')\n",
        "    df['ActivityDate'] = pd.to_datetime(df['ActivityDate'])\n",
        "    df.drop(columns=[date_col],inplace=True)\n",
        "\n",
        "    return df\n",
        "\n",
        "dataframes = [sleepDay, hourlyCalories, hourlyIntensities, heartRate, weightLogInfo]\n",
        "\n",
        "for i, df in enumerate(dataframes):\n",
        "    dataframes[i] = process_dataframe(df)\n",
        "\n",
        "for i, df in enumerate(dataframes, 1):\n",
        "    print(f\"DataFrame {i}:\\n\", df.head())\n",
        "    print(df['ActivityDate'].dtypes)"
      ]
    },
    {
      "cell_type": "markdown",
      "metadata": {},
      "source": [
        "#### 1.2.1.b.  Check if there are any duplicate records"
      ]
    },
    {
      "cell_type": "code",
      "execution_count": 22,
      "metadata": {},
      "outputs": [
        {
          "name": "stdout",
          "output_type": "stream",
          "text": [
            "\n",
            " Duplicates in activity record:\n",
            "Empty DataFrame\n",
            "Columns: [Id, ActivityDate, Count]\n",
            "Index: []\n",
            "\n",
            "Duplicates in sleep record:\n",
            "             Id ActivityDate ActivityTime  TotalSleepRecords  Count\n",
            "160  4388161847   2016-05-05  12:00:00 AM                  1      2\n",
            "221  4702921684   2016-05-07  12:00:00 AM                  1      2\n",
            "377  8378563200   2016-04-25  12:00:00 AM                  1      2\n",
            "\n",
            "Duplicates in hourly calories record:\n",
            "Empty DataFrame\n",
            "Columns: [Id, ActivityDate, ActivityTime, Count]\n",
            "Index: []\n",
            "\n",
            "Duplicates in hourly intensities record:\n",
            "Empty DataFrame\n",
            "Columns: [Id, ActivityDate, ActivityTime, Count]\n",
            "Index: []\n",
            "\n",
            "Duplicates in heartrate seconds record:\n",
            "Empty DataFrame\n",
            "Columns: [Id, ActivityDate, ActivityTime, Count]\n",
            "Index: []\n"
          ]
        }
      ],
      "source": [
        "grouped = dailyActivity.groupby(['Id', 'ActivityDate']).size().reset_index(name='Count')\n",
        "duplicates = grouped[grouped['Count'] > 1]\n",
        "print(\"\\n Duplicates in activity record:\")\n",
        "print(duplicates)\n",
        "\n",
        "grouped1 = sleepDay.groupby(['Id', 'ActivityDate','ActivityTime','TotalSleepRecords']).size().reset_index(name='Count')\n",
        "duplicates1 = grouped1[grouped1['Count'] > 1]\n",
        "print(\"\\nDuplicates in sleep record:\")\n",
        "print(duplicates1)\n",
        "\n",
        "grouped2 = hourlyCalories.groupby(['Id', 'ActivityDate','ActivityTime']).size().reset_index(name='Count')\n",
        "duplicates2 = grouped2[grouped2['Count'] > 1]\n",
        "print(\"\\nDuplicates in hourly calories record:\")\n",
        "print(duplicates2)\n",
        "\n",
        "\n",
        "grouped3 = hourlyIntensities.groupby(['Id', 'ActivityDate','ActivityTime']).size().reset_index(name='Count')\n",
        "duplicates3 = grouped3[grouped3['Count'] > 1]\n",
        "print(\"\\nDuplicates in hourly intensities record:\")\n",
        "print(duplicates3)\n",
        "\n",
        "grouped4 = heartRate.groupby(['Id', 'ActivityDate','ActivityTime']).size().reset_index(name='Count')\n",
        "duplicates4 = grouped4[grouped4['Count'] > 1]\n",
        "print(\"\\nDuplicates in heartrate seconds record:\")\n",
        "print(duplicates4)"
      ]
    },
    {
      "cell_type": "code",
      "execution_count": 23,
      "metadata": {},
      "outputs": [
        {
          "name": "stdout",
          "output_type": "stream",
          "text": [
            "\n",
            "Duplicate records in the original DataFrame:\n",
            "             Id  TotalSleepRecords  TotalMinutesAsleep  TotalTimeInBed  \\\n",
            "222  4702921684                  1                 520             543   \n",
            "379  8378563200                  1                 388             402   \n",
            "380  8378563200                  1                 388             402   \n",
            "160  4388161847                  1                 471             495   \n",
            "223  4702921684                  1                 520             543   \n",
            "161  4388161847                  1                 471             495   \n",
            "\n",
            "    ActivityDate ActivityTime  \n",
            "222   2016-05-07  12:00:00 AM  \n",
            "379   2016-04-25  12:00:00 AM  \n",
            "380   2016-04-25  12:00:00 AM  \n",
            "160   2016-05-05  12:00:00 AM  \n",
            "223   2016-05-07  12:00:00 AM  \n",
            "161   2016-05-05  12:00:00 AM  \n"
          ]
        }
      ],
      "source": [
        "duplicate_records = sleepDay[sleepDay.set_index(['Id', 'ActivityDate', 'ActivityTime', 'TotalSleepRecords']).index.isin(duplicates1.set_index(['Id', 'ActivityDate', 'ActivityTime', 'TotalSleepRecords']).index)]\n",
        "print(\"\\nDuplicate records in the original DataFrame:\")\n",
        "print(duplicate_records)\n",
        "\n",
        "# Removing the duplicate records from the original DataFrame\n",
        "sleepDay.drop_duplicates(subset=['Id', 'ActivityDate', 'ActivityTime', 'TotalSleepRecords'], inplace=True)"
      ]
    },
    {
      "cell_type": "markdown",
      "metadata": {},
      "source": [
        "##### Only the SleepDay dataset has duplicates."
      ]
    },
    {
      "cell_type": "markdown",
      "metadata": {
        "id": "S5qQTDQRLKO-"
      },
      "source": []
    },
    {
      "cell_type": "code",
      "execution_count": 24,
      "metadata": {},
      "outputs": [
        {
          "name": "stdout",
          "output_type": "stream",
          "text": [
            "Missing values in dailyActivity:\n",
            "{'null_values': np.int64(0), 'empty_strings': np.int64(0), 'na_values': np.int64(0)}\n",
            "\n",
            "Missing values in sleepDay:\n",
            "{'null_values': np.int64(0), 'empty_strings': np.int64(0), 'na_values': np.int64(0)}\n",
            "\n",
            "Missing values in hourlyCalories:\n",
            "{'null_values': np.int64(0), 'empty_strings': np.int64(0), 'na_values': np.int64(0)}\n",
            "\n",
            "Missing values in hourlyIntensities:\n",
            "{'null_values': np.int64(0), 'empty_strings': np.int64(0), 'na_values': np.int64(0)}\n",
            "\n",
            "Missing values in heartRate:\n",
            "{'null_values': np.int64(0), 'empty_strings': np.int64(0), 'na_values': np.int64(0)}\n"
          ]
        }
      ],
      "source": [
        "import pandas as pd\n",
        "import numpy as np\n",
        "\n",
        "# Function to check for missing values including NaN, None, and empty strings\n",
        "def check_missing_values(df):\n",
        "    return {\n",
        "        'null_values': df.isnull().values.sum(),\n",
        "        'empty_strings': (df == '').values.sum(),\n",
        "        'na_values': df.isna().values.sum()\n",
        "    }\n",
        "\n",
        "# Check for missing values in each DataFrame\n",
        "print(\"Missing values in dailyActivity:\")\n",
        "print(check_missing_values(dailyActivity))\n",
        "\n",
        "print(\"\\nMissing values in sleepDay:\")\n",
        "print(check_missing_values(sleepDay))\n",
        "\n",
        "print(\"\\nMissing values in hourlyCalories:\")\n",
        "print(check_missing_values(hourlyCalories))\n",
        "\n",
        "print(\"\\nMissing values in hourlyIntensities:\")\n",
        "print(check_missing_values(hourlyIntensities))\n",
        "\n",
        "print(\"\\nMissing values in heartRate:\")\n",
        "print(check_missing_values(heartRate))"
      ]
    },
    {
      "cell_type": "markdown",
      "metadata": {},
      "source": [
        "#### Aggreate data in DailyActivity"
      ]
    },
    {
      "cell_type": "code",
      "execution_count": 25,
      "metadata": {},
      "outputs": [
        {
          "name": "stdout",
          "output_type": "stream",
          "text": [
            "     TotalSteps  TotalDistance  TotalActiveMinutes  Calories\n",
            "430        2098           1.64                 112      2354\n",
            "328           0           0.00                   0      2060\n",
            "180        7144           5.12                   0      3510\n",
            "39        20237          14.71                 522      4029\n",
            "453       16470           8.07                 388      3841\n"
          ]
        }
      ],
      "source": [
        "dailyActivity['TotalActiveMinutes'] = dailyActivity['VeryActiveMinutes'] + dailyActivity['FairlyActiveMinutes'] + dailyActivity['LightlyActiveMinutes']\n",
        "\n",
        "dailyActivity_final = dailyActivity[['TotalSteps', 'TotalDistance', 'TotalActiveMinutes','Calories']]\n",
        "\n",
        "print(dailyActivity_final.head())"
      ]
    },
    {
      "cell_type": "markdown",
      "metadata": {},
      "source": [
        "#### 1.2.1.c. Clone into train&test file"
      ]
    },
    {
      "cell_type": "code",
      "execution_count": 26,
      "metadata": {},
      "outputs": [],
      "source": [
        "import os\n",
        "\n",
        "clone_directory = 'clone_data'\n",
        "train_file_path1 = os.path.join(clone_directory, 'train_dailyActivity.csv')\n",
        "train_file_path2 = os.path.join(clone_directory, 'train_heartRate.csv')\n",
        "train_file_path3 = os.path.join(clone_directory, 'train_hourlyCalories.csv')\n",
        "train_file_path4 = os.path.join(clone_directory, 'train_hourlyIntensities.csv')\n",
        "train_file_path5 = os.path.join(clone_directory, 'train_sleepDay.csv')\n",
        "train_file_path6 = os.path.join(clone_directory, 'train_weightInfo.csv')\n",
        "\n",
        "test_file_path1 = os.path.join(clone_directory, 'test_dailyActivity.csv')\n",
        "test_file_path2 = os.path.join(clone_directory, 'test_heartRate.csv')\n",
        "test_file_path3 = os.path.join(clone_directory, 'test_hourlyCalories.csv')\n",
        "test_file_path4 = os.path.join(clone_directory, 'test_hourlyIntensities.csv')\n",
        "test_file_path5 = os.path.join(clone_directory, 'test_sleepDay.csv')\n",
        "test_file_path6 = os.path.join(clone_directory, 'test_weightInfo.csv')\n",
        "\n",
        "if not os.path.exists(clone_directory):\n",
        "    os.makedirs(clone_directory)\n",
        "\n",
        "dailyActivity.to_csv(train_file_path1)\n",
        "heartRate.to_csv(train_file_path2)\n",
        "hourlyCalories.to_csv(train_file_path3)\n",
        "hourlyIntensities.to_csv(train_file_path4)\n",
        "sleepDay.to_csv(train_file_path5)\n",
        "weightLogInfo.to_csv(train_file_path6)\n",
        "\n",
        "dailyActivity.to_csv(test_file_path1)\n",
        "heartRate.to_csv(test_file_path2)\n",
        "hourlyCalories.to_csv(test_file_path3)\n",
        "hourlyIntensities.to_csv(test_file_path4)\n",
        "sleepDay.to_csv(test_file_path5)\n",
        "weightLogInfo.to_csv(test_file_path6)\n"
      ]
    },
    {
      "cell_type": "markdown",
      "metadata": {
        "id": "iW3BHRYgk9rB"
      },
      "source": [
        "# 2. Selection"
      ]
    },
    {
      "cell_type": "code",
      "execution_count": 27,
      "metadata": {},
      "outputs": [],
      "source": [
        "# Daily\n",
        "daily_train = pd.read_csv(\"../src/clone_data/train_dailyActivity.csv\")\n",
        "# Fill null value with the most popular value.\n",
        "daily_train = daily_train.apply(lambda x: x.fillna(x.value_counts().index[0]))\n",
        "\n",
        "# heart\n",
        "heart_train = pd.read_csv(\"../src/clone_data/train_heartrate.csv\")\n",
        "heart_train = heart_train.apply(lambda x: x.fillna(x.value_counts().index[0]))\n",
        "\n",
        "# calories\n",
        "calories_train = pd.read_csv(\"../src/clone_data/train_hourlyCalories.csv\")\n",
        "calories_train = calories_train.apply(lambda x: x.fillna(x.value_counts().index[0]))\n",
        "\n",
        "# Intensities\n",
        "intensities_train = pd.read_csv(\"../src/clone_data/train_hourlyIntensities.csv\")\n",
        "intensities_train = intensities_train.apply(lambda x: x.fillna(x.value_counts().index[0]))\n",
        "\n",
        "# sleepDay\n",
        "sleepDay_train = pd.read_csv(\"../src/clone_data/train_sleepDay.csv\")\n",
        "sleepDay_train = sleepDay_train.apply(lambda x: x.fillna(x.value_counts().index[0]))\n",
        "\n",
        "# weight\n",
        "weight_train = pd.read_csv(\"../src/clone_data/train_weightInfo.csv\")\n",
        "weight_train = weight_train.apply(lambda x: x.fillna(x.value_counts().index[0]))"
      ]
    },
    {
      "cell_type": "markdown",
      "metadata": {
        "id": "tAqgXbYUk9tu"
      },
      "source": [
        "## 2.1. Information Gain"
      ]
    },
    {
      "cell_type": "code",
      "execution_count": 28,
      "metadata": {},
      "outputs": [],
      "source": [
        "import numpy as np\n",
        "import matplotlib.pyplot as plt\n",
        "from sklearn.datasets import load_diabetes\n",
        "from sklearn.feature_selection import mutual_info_regression"
      ]
    },
    {
      "cell_type": "markdown",
      "metadata": {},
      "source": [
        "### 2.1.1. Daily Activity"
      ]
    },
    {
      "cell_type": "code",
      "execution_count": 39,
      "metadata": {},
      "outputs": [
        {
          "name": "stdout",
          "output_type": "stream",
          "text": [
            "Features: TotalDistance Score:  0.6931513802897324\n",
            "Features: TrackerDistance Score:  0.6634194089081147\n",
            "Features: TotalSteps Score:  0.6304668856271372\n",
            "Features: SedentaryMinutes Score:  0.5849459783285975\n",
            "Features: TotalActiveMinutes Score:  0.5707276850018541\n",
            "Features: LightlyActiveMinutes Score:  0.450024528649521\n",
            "Features: LightActiveDistance Score:  0.400219979573067\n",
            "Features: VeryActiveMinutes Score:  0.2640113781369666\n",
            "Features: FairlyActiveMinutes Score:  0.1642313793097374\n",
            "Features: VeryActiveDistance Score:  0.16242250969996075\n",
            "Features: ModeratelyActiveDistance Score:  0.13240457787553295\n",
            "Features: LoggedActivitiesDistance Score:  0.043205446965833394\n",
            "Features: SedentaryActiveDistance Score:  0.0\n"
          ]
        },
        {
          "data": {
            "image/png": "[encoded data removed]",
            "text/plain": [
              "<Figure size 640x480 with 1 Axes>"
            ]
          },
          "metadata": {},
          "output_type": "display_data"
        }
      ],
      "source": [
        "x = daily_train.drop(columns=[\"Unnamed: 0\",\"Id\",\"ActivityDate\",\"Calories\"])\n",
        "y = daily_train[\"Calories\"]\n",
        "\n",
        "#Apply Information Gain\n",
        "ig = mutual_info_regression(x,y)\n",
        "\n",
        "#Create a dictionary of feature importance scores\n",
        "feature_scores = {}\n",
        "for i in range(len(x.columns)):\n",
        "    feature_scores[x.columns[i]] = ig[i]\n",
        "\n",
        "# Sort the features by importance score in descending order\n",
        "sorted_features = sorted(feature_scores.items(), key=lambda x: x[1], reverse=True)\n",
        "\n",
        "#Sort the features by importance scores and the sorted features\n",
        "for feature, score in sorted_features:\n",
        "    print(\"Features:\", feature, \"Score: \", score)\n",
        "\n",
        "#Plot a horizontal bar chat of the feature importance scores\n",
        "fig, ax = plt.subplots()\n",
        "y_pos = np.arange(len(sorted_features))\n",
        "ax.barh(y_pos, [score for feature, score in sorted_features], align=\"center\")\n",
        "ax.set_yticks(y_pos)\n",
        "ax.set_yticklabels([feature for feature, score in sorted_features])\n",
        "ax.invert_yaxis()  # Labels read top-to-bottom\n",
        "ax.set_xlabel(\"Importance Score\")\n",
        "ax.set_title(\"Feature Importance Scores (Information Gain)\")\n",
        "\n",
        "# Add importance scores as labels on the horizontal bar chart\n",
        "for i, v in enumerate([score for feature, score in sorted_features]):\n",
        "    ax.text(v + 0.01, i, str(round(v, 3)), color=\"black\", fontweight=\"bold\")\n",
        "plt.show()"
      ]
    },
    {
      "cell_type": "markdown",
      "metadata": {},
      "source": [
        "### 2.1.2. Sleep Day"
      ]
    },
    {
      "cell_type": "code",
      "execution_count": 41,
      "metadata": {},
      "outputs": [
        {
          "name": "stdout",
          "output_type": "stream",
          "text": [
            "Features: TotalTimeInBed Score:  1.776531565369722\n",
            "Features: TotalSleepRecords Score:  0.026385899891688824\n"
          ]
        },
        {
          "data": {
            "image/png": "[encoded data removed]",
            "text/plain": [
              "<Figure size 640x480 with 1 Axes>"
            ]
          },
          "metadata": {},
          "output_type": "display_data"
        }
      ],
      "source": [
        "x = sleepDay_train.drop(columns=[\"Unnamed: 0\",\"Id\", \"ActivityDate\", \"ActivityTime\", \"TotalMinutesAsleep\"])\n",
        "y = sleepDay_train[\"TotalMinutesAsleep\"]\n",
        "\n",
        "#Apply Information Gain\n",
        "ig = mutual_info_regression(x,y)\n",
        "\n",
        "#Create a dictionary of feature importance scores\n",
        "feature_scores = {}\n",
        "for i in range(len(x.columns)):\n",
        "    feature_scores[x.columns[i]] = ig[i]\n",
        "\n",
        "# Sort the features by importance score in descending order\n",
        "sorted_features = sorted(feature_scores.items(), key=lambda x: x[1], reverse=True)\n",
        "\n",
        "#Sort the features by importance scores and the sorted features\n",
        "for feature, score in sorted_features:\n",
        "    print(\"Features:\", feature, \"Score: \", score)\n",
        "\n",
        "#Plot a horizontal bar chat of the feature importance scores\n",
        "fig, ax = plt.subplots()\n",
        "y_pos = np.arange(len(sorted_features))\n",
        "ax.barh(y_pos, [score for feature, score in sorted_features], align=\"center\")\n",
        "ax.set_yticks(y_pos)\n",
        "ax.set_yticklabels([feature for feature, score in sorted_features])\n",
        "ax.invert_yaxis()  # Labels read top-to-bottom\n",
        "ax.set_xlabel(\"Importance Score\")\n",
        "ax.set_title(\"Feature Importance Scores (Information Gain)\")\n",
        "\n",
        "# Add importance scores as labels on the horizontal bar chart\n",
        "for i, v in enumerate([score for feature, score in sorted_features]):\n",
        "    ax.text(v + 0.01, i, str(round(v, 3)), color=\"black\", fontweight=\"bold\")\n",
        "plt.show()"
      ]
    },
    {
      "cell_type": "code",
      "execution_count": null,
      "metadata": {},
      "outputs": [],
      "source": []
    },
    {
      "cell_type": "markdown",
      "metadata": {
        "id": "f9TIYqosk9wd"
      },
      "source": [
        "## 2.2. Forward Selection"
      ]
    },
    {
      "cell_type": "code",
      "execution_count": null,
      "metadata": {},
      "outputs": [],
      "source": [
        "# from sklearn.linear_model import LogisticRegression\n",
        "from sklearn.discriminant_analysis import LinearDiscriminantAnalysis\n",
        "from mlxtend.feature_selection import SequentialFeatureSelector as SFS"
      ]
    },
    {
      "cell_type": "code",
      "execution_count": null,
      "metadata": {},
      "outputs": [
        {
          "ename": "NameError",
          "evalue": "name 'train_test_split' is not defined",
          "output_type": "error",
          "traceback": [
            "\u001b[1;31m---------------------------------------------------------------------------\u001b[0m",
            "\u001b[1;31mNameError\u001b[0m                                 Traceback (most recent call last)",
            "Cell \u001b[1;32mIn[36], line 6\u001b[0m\n\u001b[0;32m      3\u001b[0m y \u001b[38;5;241m=\u001b[39m daily_train[\u001b[38;5;124m\"\u001b[39m\u001b[38;5;124mCalories\u001b[39m\u001b[38;5;124m\"\u001b[39m]\n\u001b[0;32m      5\u001b[0m \u001b[38;5;66;03m# Split the dataset into training and testing sets\u001b[39;00m\n\u001b[1;32m----> 6\u001b[0m X_train, X_test, y_train, y_test \u001b[38;5;241m=\u001b[39m \u001b[43mtrain_test_split\u001b[49m(X, y, test_size\u001b[38;5;241m=\u001b[39m\u001b[38;5;241m0.3\u001b[39m, random_state\u001b[38;5;241m=\u001b[39m\u001b[38;5;241m0\u001b[39m)\n\u001b[0;32m      8\u001b[0m \u001b[38;5;66;03m# Define the logistic regression model\u001b[39;00m\n\u001b[0;32m      9\u001b[0m model \u001b[38;5;241m=\u001b[39m LinearDiscriminantAnalysis()\n",
            "\u001b[1;31mNameError\u001b[0m: name 'train_test_split' is not defined"
          ]
        }
      ],
      "source": [
        "12313"
      ]
    },
    {
      "cell_type": "markdown",
      "metadata": {
        "id": "KVmy8FRpk9yV"
      },
      "source": [
        "## 2.3. Chi_Square"
      ]
    },
    {
      "cell_type": "markdown",
      "metadata": {
        "id": "aqQJbOKMZbdl"
      },
      "source": [
        "# 3. Split and Prepare Data"
      ]
    },
    {
      "cell_type": "markdown",
      "metadata": {},
      "source": [
        "## 3.1. Daily Activity"
      ]
    },
    {
      "cell_type": "markdown",
      "metadata": {},
      "source": [
        "## 3.2. Sleep Day\n"
      ]
    },
    {
      "cell_type": "markdown",
      "metadata": {
        "id": "sTtE1-nVYDOT"
      },
      "source": [
        "# 4. Model\n",
        "#### Decision Tree, Logistic Regression, Random Forest, KNN, Naive Bayes, SVM"
      ]
    },
    {
      "cell_type": "markdown",
      "metadata": {},
      "source": [
        "# 5. Apply Model"
      ]
    }
  ],
  "metadata": {
    "colab": {
      "provenance": []
    },
    "kernelspec": {
      "display_name": "Python 3",
      "name": "python3"
    },
    "language_info": {
      "codemirror_mode": {
        "name": "ipython",
        "version": 3
      },
      "file_extension": ".py",
      "mimetype": "text/x-python",
      "name": "python",
      "nbconvert_exporter": "python",
      "pygments_lexer": "ipython3",
      "version": "3.11.6"
    }
  },
  "nbformat": 4,
  "nbformat_minor": 0
}
