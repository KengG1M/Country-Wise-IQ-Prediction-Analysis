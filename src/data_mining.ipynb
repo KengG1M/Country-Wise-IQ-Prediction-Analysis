{
  "cells": [
    {
      "cell_type": "markdown",
      "metadata": {
        "id": "CwqfyN-cpu7y"
      },
      "source": [
        "# Note :    Riêng **Colab** phải **Ctrl+S** hoặc **Save** thì mới update được nha mọi người."
      ]
    },
    {
      "cell_type": "code",
      "execution_count": 1,
      "metadata": {
        "id": "tO27aFHUZN4n"
      },
      "outputs": [],
      "source": [
        "import pandas as pd\n",
        "import numpy as np\n",
        "import matplotlib.pyplot as plt\n",
        "import seaborn as sns\n",
        "from matplotlib import pyplot\n",
        "# from sklearn.model_selection import train_test_split\n"
      ]
    },
    {
      "cell_type": "markdown",
      "metadata": {
        "id": "ZjPp3HxfZPFs"
      },
      "source": [
        "# 1.Data Preparation"
      ]
    },
    {
      "cell_type": "markdown",
      "metadata": {
        "id": "emZYd8UiZa6o"
      },
      "source": [
        "## 1.1. Data Shuffling"
      ]
    },
    {
      "cell_type": "code",
      "execution_count": null,
      "metadata": {
        "id": "UNAdR7ZbTUTJ"
      },
      "outputs": [],
      "source": []
    },
    {
      "cell_type": "markdown",
      "metadata": {
        "id": "0haNsTFoIAT0"
      },
      "source": [
        "### 1.1.1 Daily Activity\n"
      ]
    },
    {
      "cell_type": "code",
      "execution_count": 2,
      "metadata": {
        "colab": {
          "base_uri": "https://localhost:8080/",
          "height": 226
        },
        "id": "Hm_nTJ9XTXGF",
        "outputId": "2afe9376-0434-4758-8c45-81d6ed0b82cf"
      },
      "outputs": [
        {
          "data": {
            "text/html": [
              "<div>\n",
              "<style scoped>\n",
              "    .dataframe tbody tr th:only-of-type {\n",
              "        vertical-align: middle;\n",
              "    }\n",
              "\n",
              "    .dataframe tbody tr th {\n",
              "        vertical-align: top;\n",
              "    }\n",
              "\n",
              "    .dataframe thead th {\n",
              "        text-align: right;\n",
              "    }\n",
              "</style>\n",
              "<table border=\"1\" class=\"dataframe\">\n",
              "  <thead>\n",
              "    <tr style=\"text-align: right;\">\n",
              "      <th></th>\n",
              "      <th>Id</th>\n",
              "      <th>ActivityDate</th>\n",
              "      <th>TotalSteps</th>\n",
              "      <th>TotalDistance</th>\n",
              "      <th>TrackerDistance</th>\n",
              "      <th>LoggedActivitiesDistance</th>\n",
              "      <th>VeryActiveDistance</th>\n",
              "      <th>ModeratelyActiveDistance</th>\n",
              "      <th>LightActiveDistance</th>\n",
              "      <th>SedentaryActiveDistance</th>\n",
              "      <th>VeryActiveMinutes</th>\n",
              "      <th>FairlyActiveMinutes</th>\n",
              "      <th>LightlyActiveMinutes</th>\n",
              "      <th>SedentaryMinutes</th>\n",
              "      <th>Calories</th>\n",
              "    </tr>\n",
              "  </thead>\n",
              "  <tbody>\n",
              "    <tr>\n",
              "      <th>0</th>\n",
              "      <td>1503960366</td>\n",
              "      <td>3/25/2016</td>\n",
              "      <td>11004</td>\n",
              "      <td>7.11</td>\n",
              "      <td>7.11</td>\n",
              "      <td>0.0</td>\n",
              "      <td>2.57</td>\n",
              "      <td>0.46</td>\n",
              "      <td>4.07</td>\n",
              "      <td>0.0</td>\n",
              "      <td>33</td>\n",
              "      <td>12</td>\n",
              "      <td>205</td>\n",
              "      <td>804</td>\n",
              "      <td>1819</td>\n",
              "    </tr>\n",
              "    <tr>\n",
              "      <th>1</th>\n",
              "      <td>1503960366</td>\n",
              "      <td>3/26/2016</td>\n",
              "      <td>17609</td>\n",
              "      <td>11.55</td>\n",
              "      <td>11.55</td>\n",
              "      <td>0.0</td>\n",
              "      <td>6.92</td>\n",
              "      <td>0.73</td>\n",
              "      <td>3.91</td>\n",
              "      <td>0.0</td>\n",
              "      <td>89</td>\n",
              "      <td>17</td>\n",
              "      <td>274</td>\n",
              "      <td>588</td>\n",
              "      <td>2154</td>\n",
              "    </tr>\n",
              "    <tr>\n",
              "      <th>2</th>\n",
              "      <td>1503960366</td>\n",
              "      <td>3/27/2016</td>\n",
              "      <td>12736</td>\n",
              "      <td>8.53</td>\n",
              "      <td>8.53</td>\n",
              "      <td>0.0</td>\n",
              "      <td>4.66</td>\n",
              "      <td>0.16</td>\n",
              "      <td>3.71</td>\n",
              "      <td>0.0</td>\n",
              "      <td>56</td>\n",
              "      <td>5</td>\n",
              "      <td>268</td>\n",
              "      <td>605</td>\n",
              "      <td>1944</td>\n",
              "    </tr>\n",
              "    <tr>\n",
              "      <th>3</th>\n",
              "      <td>1503960366</td>\n",
              "      <td>3/28/2016</td>\n",
              "      <td>13231</td>\n",
              "      <td>8.93</td>\n",
              "      <td>8.93</td>\n",
              "      <td>0.0</td>\n",
              "      <td>3.19</td>\n",
              "      <td>0.79</td>\n",
              "      <td>4.95</td>\n",
              "      <td>0.0</td>\n",
              "      <td>39</td>\n",
              "      <td>20</td>\n",
              "      <td>224</td>\n",
              "      <td>1080</td>\n",
              "      <td>1932</td>\n",
              "    </tr>\n",
              "    <tr>\n",
              "      <th>4</th>\n",
              "      <td>1503960366</td>\n",
              "      <td>3/29/2016</td>\n",
              "      <td>12041</td>\n",
              "      <td>7.85</td>\n",
              "      <td>7.85</td>\n",
              "      <td>0.0</td>\n",
              "      <td>2.16</td>\n",
              "      <td>1.09</td>\n",
              "      <td>4.61</td>\n",
              "      <td>0.0</td>\n",
              "      <td>28</td>\n",
              "      <td>28</td>\n",
              "      <td>243</td>\n",
              "      <td>763</td>\n",
              "      <td>1886</td>\n",
              "    </tr>\n",
              "  </tbody>\n",
              "</table>\n",
              "</div>"
            ],
            "text/plain": [
              "           Id ActivityDate  TotalSteps  TotalDistance  TrackerDistance  \\\n",
              "0  1503960366    3/25/2016       11004           7.11             7.11   \n",
              "1  1503960366    3/26/2016       17609          11.55            11.55   \n",
              "2  1503960366    3/27/2016       12736           8.53             8.53   \n",
              "3  1503960366    3/28/2016       13231           8.93             8.93   \n",
              "4  1503960366    3/29/2016       12041           7.85             7.85   \n",
              "\n",
              "   LoggedActivitiesDistance  VeryActiveDistance  ModeratelyActiveDistance  \\\n",
              "0                       0.0                2.57                      0.46   \n",
              "1                       0.0                6.92                      0.73   \n",
              "2                       0.0                4.66                      0.16   \n",
              "3                       0.0                3.19                      0.79   \n",
              "4                       0.0                2.16                      1.09   \n",
              "\n",
              "   LightActiveDistance  SedentaryActiveDistance  VeryActiveMinutes  \\\n",
              "0                 4.07                      0.0                 33   \n",
              "1                 3.91                      0.0                 89   \n",
              "2                 3.71                      0.0                 56   \n",
              "3                 4.95                      0.0                 39   \n",
              "4                 4.61                      0.0                 28   \n",
              "\n",
              "   FairlyActiveMinutes  LightlyActiveMinutes  SedentaryMinutes  Calories  \n",
              "0                   12                   205               804      1819  \n",
              "1                   17                   274               588      2154  \n",
              "2                    5                   268               605      1944  \n",
              "3                   20                   224              1080      1932  \n",
              "4                   28                   243               763      1886  "
            ]
          },
          "execution_count": 2,
          "metadata": {},
          "output_type": "execute_result"
        }
      ],
      "source": [
        "# Correct URL to the raw CSV file on GitHub\n",
        "dailyActivity = pd.read_csv('../data/dailyActivity_merged.csv')\n",
        "dailyActivity.head()"
      ]
    },
    {
      "cell_type": "code",
      "execution_count": null,
      "metadata": {
        "colab": {
          "base_uri": "https://localhost:8080/"
        },
        "id": "Vf7TYtyJZdz0",
        "outputId": "41b09c32-4b57-4eb6-c7ed-11612b3efa48"
      },
      "outputs": [
        {
          "name": "stdout",
          "output_type": "stream",
          "text": [
            "<class 'pandas.core.frame.DataFrame'>\n",
            "RangeIndex: 457 entries, 0 to 456\n",
            "Data columns (total 15 columns):\n",
            " #   Column                    Non-Null Count  Dtype  \n",
            "---  ------                    --------------  -----  \n",
            " 0   Id                        457 non-null    int64  \n",
            " 1   ActivityDate              457 non-null    object \n",
            " 2   TotalSteps                457 non-null    int64  \n",
            " 3   TotalDistance             457 non-null    float64\n",
            " 4   TrackerDistance           457 non-null    float64\n",
            " 5   LoggedActivitiesDistance  457 non-null    float64\n",
            " 6   VeryActiveDistance        457 non-null    float64\n",
            " 7   ModeratelyActiveDistance  457 non-null    float64\n",
            " 8   LightActiveDistance       457 non-null    float64\n",
            " 9   SedentaryActiveDistance   457 non-null    float64\n",
            " 10  VeryActiveMinutes         457 non-null    int64  \n",
            " 11  FairlyActiveMinutes       457 non-null    int64  \n",
            " 12  LightlyActiveMinutes      457 non-null    int64  \n",
            " 13  SedentaryMinutes          457 non-null    int64  \n",
            " 14  Calories                  457 non-null    int64  \n",
            "dtypes: float64(7), int64(7), object(1)\n",
            "memory usage: 53.7+ KB\n"
          ]
        }
      ],
      "source": [
        "dailyActivity.info()"
      ]
    },
    {
      "cell_type": "code",
      "execution_count": 18,
      "metadata": {
        "colab": {
          "base_uri": "https://localhost:8080/",
          "height": 226
        },
        "id": "MwpkzCkeZdxC",
        "outputId": "87a229e1-b192-4197-8ea8-b13cf80a704e"
      },
      "outputs": [
        {
          "data": {
            "text/html": [
              "<div>\n",
              "<style scoped>\n",
              "    .dataframe tbody tr th:only-of-type {\n",
              "        vertical-align: middle;\n",
              "    }\n",
              "\n",
              "    .dataframe tbody tr th {\n",
              "        vertical-align: top;\n",
              "    }\n",
              "\n",
              "    .dataframe thead th {\n",
              "        text-align: right;\n",
              "    }\n",
              "</style>\n",
              "<table border=\"1\" class=\"dataframe\">\n",
              "  <thead>\n",
              "    <tr style=\"text-align: right;\">\n",
              "      <th></th>\n",
              "      <th>Id</th>\n",
              "      <th>ActivityDate</th>\n",
              "      <th>TotalSteps</th>\n",
              "      <th>TotalDistance</th>\n",
              "      <th>TrackerDistance</th>\n",
              "      <th>LoggedActivitiesDistance</th>\n",
              "      <th>VeryActiveDistance</th>\n",
              "      <th>ModeratelyActiveDistance</th>\n",
              "      <th>LightActiveDistance</th>\n",
              "      <th>SedentaryActiveDistance</th>\n",
              "      <th>VeryActiveMinutes</th>\n",
              "      <th>FairlyActiveMinutes</th>\n",
              "      <th>LightlyActiveMinutes</th>\n",
              "      <th>SedentaryMinutes</th>\n",
              "      <th>Calories</th>\n",
              "    </tr>\n",
              "  </thead>\n",
              "  <tbody>\n",
              "    <tr>\n",
              "      <th>194</th>\n",
              "      <td>4020332650</td>\n",
              "      <td>4/10/2016</td>\n",
              "      <td>5129</td>\n",
              "      <td>3.68</td>\n",
              "      <td>3.68</td>\n",
              "      <td>0.0</td>\n",
              "      <td>0.18</td>\n",
              "      <td>0.24</td>\n",
              "      <td>3.21</td>\n",
              "      <td>0.01</td>\n",
              "      <td>5</td>\n",
              "      <td>7</td>\n",
              "      <td>176</td>\n",
              "      <td>1178</td>\n",
              "      <td>2817</td>\n",
              "    </tr>\n",
              "    <tr>\n",
              "      <th>340</th>\n",
              "      <td>6391747486</td>\n",
              "      <td>4/7/2016</td>\n",
              "      <td>0</td>\n",
              "      <td>0.00</td>\n",
              "      <td>0.00</td>\n",
              "      <td>0.0</td>\n",
              "      <td>0.00</td>\n",
              "      <td>0.00</td>\n",
              "      <td>0.00</td>\n",
              "      <td>0.00</td>\n",
              "      <td>0</td>\n",
              "      <td>0</td>\n",
              "      <td>0</td>\n",
              "      <td>1440</td>\n",
              "      <td>1822</td>\n",
              "    </tr>\n",
              "    <tr>\n",
              "      <th>174</th>\n",
              "      <td>4020332650</td>\n",
              "      <td>3/21/2016</td>\n",
              "      <td>8778</td>\n",
              "      <td>6.29</td>\n",
              "      <td>6.29</td>\n",
              "      <td>0.0</td>\n",
              "      <td>0.00</td>\n",
              "      <td>0.00</td>\n",
              "      <td>0.00</td>\n",
              "      <td>0.00</td>\n",
              "      <td>0</td>\n",
              "      <td>0</td>\n",
              "      <td>0</td>\n",
              "      <td>1440</td>\n",
              "      <td>3348</td>\n",
              "    </tr>\n",
              "    <tr>\n",
              "      <th>445</th>\n",
              "      <td>8877689391</td>\n",
              "      <td>4/1/2016</td>\n",
              "      <td>18700</td>\n",
              "      <td>15.82</td>\n",
              "      <td>15.82</td>\n",
              "      <td>0.0</td>\n",
              "      <td>8.70</td>\n",
              "      <td>0.16</td>\n",
              "      <td>6.91</td>\n",
              "      <td>0.00</td>\n",
              "      <td>67</td>\n",
              "      <td>3</td>\n",
              "      <td>247</td>\n",
              "      <td>1123</td>\n",
              "      <td>3527</td>\n",
              "    </tr>\n",
              "    <tr>\n",
              "      <th>189</th>\n",
              "      <td>4020332650</td>\n",
              "      <td>4/5/2016</td>\n",
              "      <td>6880</td>\n",
              "      <td>4.93</td>\n",
              "      <td>4.93</td>\n",
              "      <td>0.0</td>\n",
              "      <td>0.50</td>\n",
              "      <td>0.76</td>\n",
              "      <td>3.65</td>\n",
              "      <td>0.00</td>\n",
              "      <td>7</td>\n",
              "      <td>19</td>\n",
              "      <td>165</td>\n",
              "      <td>1249</td>\n",
              "      <td>2966</td>\n",
              "    </tr>\n",
              "  </tbody>\n",
              "</table>\n",
              "</div>"
            ],
            "text/plain": [
              "             Id ActivityDate  TotalSteps  TotalDistance  TrackerDistance  \\\n",
              "194  4020332650    4/10/2016        5129           3.68             3.68   \n",
              "340  6391747486     4/7/2016           0           0.00             0.00   \n",
              "174  4020332650    3/21/2016        8778           6.29             6.29   \n",
              "445  8877689391     4/1/2016       18700          15.82            15.82   \n",
              "189  4020332650     4/5/2016        6880           4.93             4.93   \n",
              "\n",
              "     LoggedActivitiesDistance  VeryActiveDistance  ModeratelyActiveDistance  \\\n",
              "194                       0.0                0.18                      0.24   \n",
              "340                       0.0                0.00                      0.00   \n",
              "174                       0.0                0.00                      0.00   \n",
              "445                       0.0                8.70                      0.16   \n",
              "189                       0.0                0.50                      0.76   \n",
              "\n",
              "     LightActiveDistance  SedentaryActiveDistance  VeryActiveMinutes  \\\n",
              "194                 3.21                     0.01                  5   \n",
              "340                 0.00                     0.00                  0   \n",
              "174                 0.00                     0.00                  0   \n",
              "445                 6.91                     0.00                 67   \n",
              "189                 3.65                     0.00                  7   \n",
              "\n",
              "     FairlyActiveMinutes  LightlyActiveMinutes  SedentaryMinutes  Calories  \n",
              "194                    7                   176              1178      2817  \n",
              "340                    0                     0              1440      1822  \n",
              "174                    0                     0              1440      3348  \n",
              "445                    3                   247              1123      3527  \n",
              "189                   19                   165              1249      2966  "
            ]
          },
          "execution_count": 18,
          "metadata": {},
          "output_type": "execute_result"
        }
      ],
      "source": [
        "from sklearn.utils import shuffle\n",
        "\n",
        "dailyActivity = shuffle(dailyActivity)\n",
        "dailyActivity.head()"
      ]
    },
    {
      "cell_type": "markdown",
      "metadata": {
        "id": "7B2z6h7JX7wL"
      },
      "source": [
        "### 1.1.2. Heart Rate Second"
      ]
    },
    {
      "cell_type": "code",
      "execution_count": 3,
      "metadata": {
        "colab": {
          "base_uri": "https://localhost:8080/",
          "height": 206
        },
        "id": "C9As_H1rchOu",
        "outputId": "49e6e206-6921-47df-dee9-cc08f1064954"
      },
      "outputs": [
        {
          "data": {
            "text/html": [
              "<div>\n",
              "<style scoped>\n",
              "    .dataframe tbody tr th:only-of-type {\n",
              "        vertical-align: middle;\n",
              "    }\n",
              "\n",
              "    .dataframe tbody tr th {\n",
              "        vertical-align: top;\n",
              "    }\n",
              "\n",
              "    .dataframe thead th {\n",
              "        text-align: right;\n",
              "    }\n",
              "</style>\n",
              "<table border=\"1\" class=\"dataframe\">\n",
              "  <thead>\n",
              "    <tr style=\"text-align: right;\">\n",
              "      <th></th>\n",
              "      <th>Id</th>\n",
              "      <th>Time</th>\n",
              "      <th>Value</th>\n",
              "    </tr>\n",
              "  </thead>\n",
              "  <tbody>\n",
              "    <tr>\n",
              "      <th>0</th>\n",
              "      <td>2022484408</td>\n",
              "      <td>4/12/2016 7:21:00 AM</td>\n",
              "      <td>97</td>\n",
              "    </tr>\n",
              "    <tr>\n",
              "      <th>1</th>\n",
              "      <td>2022484408</td>\n",
              "      <td>4/12/2016 7:21:05 AM</td>\n",
              "      <td>102</td>\n",
              "    </tr>\n",
              "    <tr>\n",
              "      <th>2</th>\n",
              "      <td>2022484408</td>\n",
              "      <td>4/12/2016 7:21:10 AM</td>\n",
              "      <td>105</td>\n",
              "    </tr>\n",
              "    <tr>\n",
              "      <th>3</th>\n",
              "      <td>2022484408</td>\n",
              "      <td>4/12/2016 7:21:20 AM</td>\n",
              "      <td>103</td>\n",
              "    </tr>\n",
              "    <tr>\n",
              "      <th>4</th>\n",
              "      <td>2022484408</td>\n",
              "      <td>4/12/2016 7:21:25 AM</td>\n",
              "      <td>101</td>\n",
              "    </tr>\n",
              "  </tbody>\n",
              "</table>\n",
              "</div>"
            ],
            "text/plain": [
              "           Id                  Time  Value\n",
              "0  2022484408  4/12/2016 7:21:00 AM     97\n",
              "1  2022484408  4/12/2016 7:21:05 AM    102\n",
              "2  2022484408  4/12/2016 7:21:10 AM    105\n",
              "3  2022484408  4/12/2016 7:21:20 AM    103\n",
              "4  2022484408  4/12/2016 7:21:25 AM    101"
            ]
          },
          "execution_count": 3,
          "metadata": {},
          "output_type": "execute_result"
        }
      ],
      "source": [
        "# Correct URL to the raw CSV file on GitHub\n",
        "heartRate = pd.read_csv('../data/heartrate_seconds_merged.csv')\n",
        "heartRate.head()"
      ]
    },
    {
      "cell_type": "code",
      "execution_count": 12,
      "metadata": {
        "colab": {
          "base_uri": "https://localhost:8080/"
        },
        "id": "HJcisJZLchJo",
        "outputId": "c354448f-5384-46af-c0cc-ffc43bc9e96d"
      },
      "outputs": [
        {
          "name": "stdout",
          "output_type": "stream",
          "text": [
            "<class 'pandas.core.frame.DataFrame'>\n",
            "RangeIndex: 2483658 entries, 0 to 2483657\n",
            "Data columns (total 3 columns):\n",
            " #   Column  Dtype \n",
            "---  ------  ----- \n",
            " 0   Id      int64 \n",
            " 1   Time    object\n",
            " 2   Value   int64 \n",
            "dtypes: int64(2), object(1)\n",
            "memory usage: 56.8+ MB\n"
          ]
        }
      ],
      "source": [
        "heartRate.info()"
      ]
    },
    {
      "cell_type": "code",
      "execution_count": 19,
      "metadata": {
        "colab": {
          "base_uri": "https://localhost:8080/",
          "height": 206
        },
        "id": "YkZE9jXfchEc",
        "outputId": "4fe91655-48a8-4399-e292-8fb4d45d601b"
      },
      "outputs": [
        {
          "data": {
            "text/html": [
              "<div>\n",
              "<style scoped>\n",
              "    .dataframe tbody tr th:only-of-type {\n",
              "        vertical-align: middle;\n",
              "    }\n",
              "\n",
              "    .dataframe tbody tr th {\n",
              "        vertical-align: top;\n",
              "    }\n",
              "\n",
              "    .dataframe thead th {\n",
              "        text-align: right;\n",
              "    }\n",
              "</style>\n",
              "<table border=\"1\" class=\"dataframe\">\n",
              "  <thead>\n",
              "    <tr style=\"text-align: right;\">\n",
              "      <th></th>\n",
              "      <th>Id</th>\n",
              "      <th>Time</th>\n",
              "      <th>Value</th>\n",
              "    </tr>\n",
              "  </thead>\n",
              "  <tbody>\n",
              "    <tr>\n",
              "      <th>1893813</th>\n",
              "      <td>6962181067</td>\n",
              "      <td>4/30/2016 9:05:45 AM</td>\n",
              "      <td>85</td>\n",
              "    </tr>\n",
              "    <tr>\n",
              "      <th>1899425</th>\n",
              "      <td>6962181067</td>\n",
              "      <td>5/1/2016 12:42:15 AM</td>\n",
              "      <td>72</td>\n",
              "    </tr>\n",
              "    <tr>\n",
              "      <th>712170</th>\n",
              "      <td>4388161847</td>\n",
              "      <td>4/26/2016 7:27:30 PM</td>\n",
              "      <td>68</td>\n",
              "    </tr>\n",
              "    <tr>\n",
              "      <th>818756</th>\n",
              "      <td>4388161847</td>\n",
              "      <td>5/9/2016 10:44:40 AM</td>\n",
              "      <td>60</td>\n",
              "    </tr>\n",
              "    <tr>\n",
              "      <th>1011174</th>\n",
              "      <td>4558609924</td>\n",
              "      <td>5/8/2016 4:44:25 PM</td>\n",
              "      <td>108</td>\n",
              "    </tr>\n",
              "  </tbody>\n",
              "</table>\n",
              "</div>"
            ],
            "text/plain": [
              "                 Id                  Time  Value\n",
              "1893813  6962181067  4/30/2016 9:05:45 AM     85\n",
              "1899425  6962181067  5/1/2016 12:42:15 AM     72\n",
              "712170   4388161847  4/26/2016 7:27:30 PM     68\n",
              "818756   4388161847  5/9/2016 10:44:40 AM     60\n",
              "1011174  4558609924   5/8/2016 4:44:25 PM    108"
            ]
          },
          "execution_count": 19,
          "metadata": {},
          "output_type": "execute_result"
        }
      ],
      "source": [
        "from sklearn.utils import shuffle\n",
        "\n",
        "heartRate = shuffle(heartRate)\n",
        "heartRate.head()"
      ]
    },
    {
      "cell_type": "code",
      "execution_count": null,
      "metadata": {
        "id": "vrUl7JTxcg7e"
      },
      "outputs": [],
      "source": []
    },
    {
      "cell_type": "markdown",
      "metadata": {
        "id": "Ym70WPqwYCTS"
      },
      "source": [
        "### 1.1.3. Hourly Calories"
      ]
    },
    {
      "cell_type": "code",
      "execution_count": 4,
      "metadata": {
        "colab": {
          "base_uri": "https://localhost:8080/",
          "height": 206
        },
        "id": "MN0pmFfmeK4p",
        "outputId": "d71a65c0-cda3-4554-cc82-332b7fdb9cc1"
      },
      "outputs": [
        {
          "data": {
            "text/html": [
              "<div>\n",
              "<style scoped>\n",
              "    .dataframe tbody tr th:only-of-type {\n",
              "        vertical-align: middle;\n",
              "    }\n",
              "\n",
              "    .dataframe tbody tr th {\n",
              "        vertical-align: top;\n",
              "    }\n",
              "\n",
              "    .dataframe thead th {\n",
              "        text-align: right;\n",
              "    }\n",
              "</style>\n",
              "<table border=\"1\" class=\"dataframe\">\n",
              "  <thead>\n",
              "    <tr style=\"text-align: right;\">\n",
              "      <th></th>\n",
              "      <th>Id</th>\n",
              "      <th>ActivityHour</th>\n",
              "      <th>Calories</th>\n",
              "    </tr>\n",
              "  </thead>\n",
              "  <tbody>\n",
              "    <tr>\n",
              "      <th>0</th>\n",
              "      <td>1503960366</td>\n",
              "      <td>3/12/2016 12:00:00 AM</td>\n",
              "      <td>48</td>\n",
              "    </tr>\n",
              "    <tr>\n",
              "      <th>1</th>\n",
              "      <td>1503960366</td>\n",
              "      <td>3/12/2016 1:00:00 AM</td>\n",
              "      <td>48</td>\n",
              "    </tr>\n",
              "    <tr>\n",
              "      <th>2</th>\n",
              "      <td>1503960366</td>\n",
              "      <td>3/12/2016 2:00:00 AM</td>\n",
              "      <td>48</td>\n",
              "    </tr>\n",
              "    <tr>\n",
              "      <th>3</th>\n",
              "      <td>1503960366</td>\n",
              "      <td>3/12/2016 3:00:00 AM</td>\n",
              "      <td>48</td>\n",
              "    </tr>\n",
              "    <tr>\n",
              "      <th>4</th>\n",
              "      <td>1503960366</td>\n",
              "      <td>3/12/2016 4:00:00 AM</td>\n",
              "      <td>48</td>\n",
              "    </tr>\n",
              "  </tbody>\n",
              "</table>\n",
              "</div>"
            ],
            "text/plain": [
              "           Id           ActivityHour  Calories\n",
              "0  1503960366  3/12/2016 12:00:00 AM        48\n",
              "1  1503960366   3/12/2016 1:00:00 AM        48\n",
              "2  1503960366   3/12/2016 2:00:00 AM        48\n",
              "3  1503960366   3/12/2016 3:00:00 AM        48\n",
              "4  1503960366   3/12/2016 4:00:00 AM        48"
            ]
          },
          "execution_count": 4,
          "metadata": {},
          "output_type": "execute_result"
        }
      ],
      "source": [
        "# Correct URL to the raw CSV file on GitHub\n",
        "hourlyCalories = pd.read_csv('../data/hourlyCalories_merged.csv')\n",
        "hourlyCalories.head()"
      ]
    },
    {
      "cell_type": "code",
      "execution_count": null,
      "metadata": {
        "colab": {
          "base_uri": "https://localhost:8080/"
        },
        "id": "n844RqFyeK0T",
        "outputId": "0549f118-f419-4db4-c153-e1826d3b4c69"
      },
      "outputs": [
        {
          "name": "stdout",
          "output_type": "stream",
          "text": [
            "<class 'pandas.core.frame.DataFrame'>\n",
            "RangeIndex: 24084 entries, 0 to 24083\n",
            "Data columns (total 3 columns):\n",
            " #   Column        Non-Null Count  Dtype \n",
            "---  ------        --------------  ----- \n",
            " 0   Id            24084 non-null  int64 \n",
            " 1   ActivityHour  24084 non-null  object\n",
            " 2   Calories      24084 non-null  int64 \n",
            "dtypes: int64(2), object(1)\n",
            "memory usage: 564.6+ KB\n"
          ]
        }
      ],
      "source": [
        "hourlyCalories.info()"
      ]
    },
    {
      "cell_type": "code",
      "execution_count": null,
      "metadata": {
        "colab": {
          "base_uri": "https://localhost:8080/",
          "height": 206
        },
        "id": "h2cV6JWfeKuG",
        "outputId": "e75575d0-634e-4f18-f7d8-d79e075af2e7"
      },
      "outputs": [
        {
          "data": {
            "application/vnd.google.colaboratory.intrinsic+json": {
              "summary": "{\n  \"name\": \"hourlyCalories\",\n  \"rows\": 24084,\n  \"fields\": [\n    {\n      \"column\": \"Id\",\n      \"properties\": {\n        \"dtype\": \"number\",\n        \"std\": 2421565819,\n        \"min\": 1503960366,\n        \"max\": 8877689391,\n        \"num_unique_values\": 34,\n        \"samples\": [\n          4702921684,\n          6290855005,\n          4445114986\n        ],\n        \"semantic_type\": \"\",\n        \"description\": \"\"\n      }\n    },\n    {\n      \"column\": \"ActivityHour\",\n      \"properties\": {\n        \"dtype\": \"object\",\n        \"num_unique_values\": 755,\n        \"samples\": [\n          \"3/26/2016 2:00:00 PM\",\n          \"3/31/2016 1:00:00 PM\",\n          \"4/9/2016 2:00:00 AM\"\n        ],\n        \"semantic_type\": \"\",\n        \"description\": \"\"\n      }\n    },\n    {\n      \"column\": \"Calories\",\n      \"properties\": {\n        \"dtype\": \"number\",\n        \"std\": 59,\n        \"min\": 42,\n        \"max\": 933,\n        \"num_unique_values\": 444,\n        \"samples\": [\n          257,\n          238,\n          142\n        ],\n        \"semantic_type\": \"\",\n        \"description\": \"\"\n      }\n    }\n  ]\n}",
              "type": "dataframe",
              "variable_name": "hourlyCalories"
            },
            "text/html": [
              "\n",
              "  <div id=\"df-264915aa-8b5d-4e64-a400-16ce2ac95685\" class=\"colab-df-container\">\n",
              "    <div>\n",
              "<style scoped>\n",
              "    .dataframe tbody tr th:only-of-type {\n",
              "        vertical-align: middle;\n",
              "    }\n",
              "\n",
              "    .dataframe tbody tr th {\n",
              "        vertical-align: top;\n",
              "    }\n",
              "\n",
              "    .dataframe thead th {\n",
              "        text-align: right;\n",
              "    }\n",
              "</style>\n",
              "<table border=\"1\" class=\"dataframe\">\n",
              "  <thead>\n",
              "    <tr style=\"text-align: right;\">\n",
              "      <th></th>\n",
              "      <th>Id</th>\n",
              "      <th>ActivityHour</th>\n",
              "      <th>Calories</th>\n",
              "    </tr>\n",
              "  </thead>\n",
              "  <tbody>\n",
              "    <tr>\n",
              "      <th>8363</th>\n",
              "      <td>3977333714</td>\n",
              "      <td>3/19/2016 12:00:00 PM</td>\n",
              "      <td>75</td>\n",
              "    </tr>\n",
              "    <tr>\n",
              "      <th>13962</th>\n",
              "      <td>5553957443</td>\n",
              "      <td>4/6/2016 12:00:00 PM</td>\n",
              "      <td>77</td>\n",
              "    </tr>\n",
              "    <tr>\n",
              "      <th>8498</th>\n",
              "      <td>3977333714</td>\n",
              "      <td>3/25/2016 3:00:00 AM</td>\n",
              "      <td>42</td>\n",
              "    </tr>\n",
              "    <tr>\n",
              "      <th>7951</th>\n",
              "      <td>3372868164</td>\n",
              "      <td>3/31/2016 11:00:00 PM</td>\n",
              "      <td>56</td>\n",
              "    </tr>\n",
              "    <tr>\n",
              "      <th>20670</th>\n",
              "      <td>8253242879</td>\n",
              "      <td>3/22/2016 1:00:00 PM</td>\n",
              "      <td>60</td>\n",
              "    </tr>\n",
              "  </tbody>\n",
              "</table>\n",
              "</div>\n",
              "    <div class=\"colab-df-buttons\">\n",
              "\n",
              "  <div class=\"colab-df-container\">\n",
              "    <button class=\"colab-df-convert\" onclick=\"convertToInteractive('df-264915aa-8b5d-4e64-a400-16ce2ac95685')\"\n",
              "            title=\"Convert this dataframe to an interactive table.\"\n",
              "            style=\"display:none;\">\n",
              "\n",
              "  <svg xmlns=\"http://www.w3.org/2000/svg\" height=\"24px\" viewBox=\"0 -960 960 960\">\n",
              "    <path d=\"M120-120v-720h720v720H120Zm60-500h600v-160H180v160Zm220 220h160v-160H400v160Zm0 220h160v-160H400v160ZM180-400h160v-160H180v160Zm440 0h160v-160H620v160ZM180-180h160v-160H180v160Zm440 0h160v-160H620v160Z\"/>\n",
              "  </svg>\n",
              "    </button>\n",
              "\n",
              "  <style>\n",
              "    .colab-df-container {\n",
              "      display:flex;\n",
              "      gap: 12px;\n",
              "    }\n",
              "\n",
              "    .colab-df-convert {\n",
              "      background-color: #E8F0FE;\n",
              "      border: none;\n",
              "      border-radius: 50%;\n",
              "      cursor: pointer;\n",
              "      display: none;\n",
              "      fill: #1967D2;\n",
              "      height: 32px;\n",
              "      padding: 0 0 0 0;\n",
              "      width: 32px;\n",
              "    }\n",
              "\n",
              "    .colab-df-convert:hover {\n",
              "      background-color: #E2EBFA;\n",
              "      box-shadow: 0px 1px 2px rgba(60, 64, 67, 0.3), 0px 1px 3px 1px rgba(60, 64, 67, 0.15);\n",
              "      fill: #174EA6;\n",
              "    }\n",
              "\n",
              "    .colab-df-buttons div {\n",
              "      margin-bottom: 4px;\n",
              "    }\n",
              "\n",
              "    [theme=dark] .colab-df-convert {\n",
              "      background-color: #3B4455;\n",
              "      fill: #D2E3FC;\n",
              "    }\n",
              "\n",
              "    [theme=dark] .colab-df-convert:hover {\n",
              "      background-color: #434B5C;\n",
              "      box-shadow: 0px 1px 3px 1px rgba(0, 0, 0, 0.15);\n",
              "      filter: drop-shadow(0px 1px 2px rgba(0, 0, 0, 0.3));\n",
              "      fill: #FFFFFF;\n",
              "    }\n",
              "  </style>\n",
              "\n",
              "    <script>\n",
              "      const buttonEl =\n",
              "        document.querySelector('#df-264915aa-8b5d-4e64-a400-16ce2ac95685 button.colab-df-convert');\n",
              "      buttonEl.style.display =\n",
              "        google.colab.kernel.accessAllowed ? 'block' : 'none';\n",
              "\n",
              "      async function convertToInteractive(key) {\n",
              "        const element = document.querySelector('#df-264915aa-8b5d-4e64-a400-16ce2ac95685');\n",
              "        const dataTable =\n",
              "          await google.colab.kernel.invokeFunction('convertToInteractive',\n",
              "                                                    [key], {});\n",
              "        if (!dataTable) return;\n",
              "\n",
              "        const docLinkHtml = 'Like what you see? Visit the ' +\n",
              "          '<a target=\"_blank\" href=https://colab.research.google.com/notebooks/data_table.ipynb>data table notebook</a>'\n",
              "          + ' to learn more about interactive tables.';\n",
              "        element.innerHTML = '';\n",
              "        dataTable['output_type'] = 'display_data';\n",
              "        await google.colab.output.renderOutput(dataTable, element);\n",
              "        const docLink = document.createElement('div');\n",
              "        docLink.innerHTML = docLinkHtml;\n",
              "        element.appendChild(docLink);\n",
              "      }\n",
              "    </script>\n",
              "  </div>\n",
              "\n",
              "\n",
              "<div id=\"df-85a13738-8a70-4205-8c30-4182550546e9\">\n",
              "  <button class=\"colab-df-quickchart\" onclick=\"quickchart('df-85a13738-8a70-4205-8c30-4182550546e9')\"\n",
              "            title=\"Suggest charts\"\n",
              "            style=\"display:none;\">\n",
              "\n",
              "<svg xmlns=\"http://www.w3.org/2000/svg\" height=\"24px\"viewBox=\"0 0 24 24\"\n",
              "     width=\"24px\">\n",
              "    <g>\n",
              "        <path d=\"M19 3H5c-1.1 0-2 .9-2 2v14c0 1.1.9 2 2 2h14c1.1 0 2-.9 2-2V5c0-1.1-.9-2-2-2zM9 17H7v-7h2v7zm4 0h-2V7h2v10zm4 0h-2v-4h2v4z\"/>\n",
              "    </g>\n",
              "</svg>\n",
              "  </button>\n",
              "\n",
              "<style>\n",
              "  .colab-df-quickchart {\n",
              "      --bg-color: #E8F0FE;\n",
              "      --fill-color: #1967D2;\n",
              "      --hover-bg-color: #E2EBFA;\n",
              "      --hover-fill-color: #174EA6;\n",
              "      --disabled-fill-color: #AAA;\n",
              "      --disabled-bg-color: #DDD;\n",
              "  }\n",
              "\n",
              "  [theme=dark] .colab-df-quickchart {\n",
              "      --bg-color: #3B4455;\n",
              "      --fill-color: #D2E3FC;\n",
              "      --hover-bg-color: #434B5C;\n",
              "      --hover-fill-color: #FFFFFF;\n",
              "      --disabled-bg-color: #3B4455;\n",
              "      --disabled-fill-color: #666;\n",
              "  }\n",
              "\n",
              "  .colab-df-quickchart {\n",
              "    background-color: var(--bg-color);\n",
              "    border: none;\n",
              "    border-radius: 50%;\n",
              "    cursor: pointer;\n",
              "    display: none;\n",
              "    fill: var(--fill-color);\n",
              "    height: 32px;\n",
              "    padding: 0;\n",
              "    width: 32px;\n",
              "  }\n",
              "\n",
              "  .colab-df-quickchart:hover {\n",
              "    background-color: var(--hover-bg-color);\n",
              "    box-shadow: 0 1px 2px rgba(60, 64, 67, 0.3), 0 1px 3px 1px rgba(60, 64, 67, 0.15);\n",
              "    fill: var(--button-hover-fill-color);\n",
              "  }\n",
              "\n",
              "  .colab-df-quickchart-complete:disabled,\n",
              "  .colab-df-quickchart-complete:disabled:hover {\n",
              "    background-color: var(--disabled-bg-color);\n",
              "    fill: var(--disabled-fill-color);\n",
              "    box-shadow: none;\n",
              "  }\n",
              "\n",
              "  .colab-df-spinner {\n",
              "    border: 2px solid var(--fill-color);\n",
              "    border-color: transparent;\n",
              "    border-bottom-color: var(--fill-color);\n",
              "    animation:\n",
              "      spin 1s steps(1) infinite;\n",
              "  }\n",
              "\n",
              "  @keyframes spin {\n",
              "    0% {\n",
              "      border-color: transparent;\n",
              "      border-bottom-color: var(--fill-color);\n",
              "      border-left-color: var(--fill-color);\n",
              "    }\n",
              "    20% {\n",
              "      border-color: transparent;\n",
              "      border-left-color: var(--fill-color);\n",
              "      border-top-color: var(--fill-color);\n",
              "    }\n",
              "    30% {\n",
              "      border-color: transparent;\n",
              "      border-left-color: var(--fill-color);\n",
              "      border-top-color: var(--fill-color);\n",
              "      border-right-color: var(--fill-color);\n",
              "    }\n",
              "    40% {\n",
              "      border-color: transparent;\n",
              "      border-right-color: var(--fill-color);\n",
              "      border-top-color: var(--fill-color);\n",
              "    }\n",
              "    60% {\n",
              "      border-color: transparent;\n",
              "      border-right-color: var(--fill-color);\n",
              "    }\n",
              "    80% {\n",
              "      border-color: transparent;\n",
              "      border-right-color: var(--fill-color);\n",
              "      border-bottom-color: var(--fill-color);\n",
              "    }\n",
              "    90% {\n",
              "      border-color: transparent;\n",
              "      border-bottom-color: var(--fill-color);\n",
              "    }\n",
              "  }\n",
              "</style>\n",
              "\n",
              "  <script>\n",
              "    async function quickchart(key) {\n",
              "      const quickchartButtonEl =\n",
              "        document.querySelector('#' + key + ' button');\n",
              "      quickchartButtonEl.disabled = true;  // To prevent multiple clicks.\n",
              "      quickchartButtonEl.classList.add('colab-df-spinner');\n",
              "      try {\n",
              "        const charts = await google.colab.kernel.invokeFunction(\n",
              "            'suggestCharts', [key], {});\n",
              "      } catch (error) {\n",
              "        console.error('Error during call to suggestCharts:', error);\n",
              "      }\n",
              "      quickchartButtonEl.classList.remove('colab-df-spinner');\n",
              "      quickchartButtonEl.classList.add('colab-df-quickchart-complete');\n",
              "    }\n",
              "    (() => {\n",
              "      let quickchartButtonEl =\n",
              "        document.querySelector('#df-85a13738-8a70-4205-8c30-4182550546e9 button');\n",
              "      quickchartButtonEl.style.display =\n",
              "        google.colab.kernel.accessAllowed ? 'block' : 'none';\n",
              "    })();\n",
              "  </script>\n",
              "</div>\n",
              "\n",
              "    </div>\n",
              "  </div>\n"
            ],
            "text/plain": [
              "               Id           ActivityHour  Calories\n",
              "8363   3977333714  3/19/2016 12:00:00 PM        75\n",
              "13962  5553957443   4/6/2016 12:00:00 PM        77\n",
              "8498   3977333714   3/25/2016 3:00:00 AM        42\n",
              "7951   3372868164  3/31/2016 11:00:00 PM        56\n",
              "20670  8253242879   3/22/2016 1:00:00 PM        60"
            ]
          },
          "execution_count": 32,
          "metadata": {},
          "output_type": "execute_result"
        }
      ],
      "source": [
        "from sklearn.utils import shuffle\n",
        "\n",
        "hourlyCalories = shuffle(hourlyCalories)\n",
        "hourlyCalories.head()"
      ]
    },
    {
      "cell_type": "markdown",
      "metadata": {
        "id": "lymtP8-MYDw7"
      },
      "source": [
        "### 1.1.4. Hourly Intensities"
      ]
    },
    {
      "cell_type": "code",
      "execution_count": 5,
      "metadata": {
        "colab": {
          "base_uri": "https://localhost:8080/",
          "height": 206
        },
        "id": "JKNO4CwnesjX",
        "outputId": "77ca0b2e-e46a-46f8-8e65-c127b87fcb0f"
      },
      "outputs": [
        {
          "data": {
            "text/html": [
              "<div>\n",
              "<style scoped>\n",
              "    .dataframe tbody tr th:only-of-type {\n",
              "        vertical-align: middle;\n",
              "    }\n",
              "\n",
              "    .dataframe tbody tr th {\n",
              "        vertical-align: top;\n",
              "    }\n",
              "\n",
              "    .dataframe thead th {\n",
              "        text-align: right;\n",
              "    }\n",
              "</style>\n",
              "<table border=\"1\" class=\"dataframe\">\n",
              "  <thead>\n",
              "    <tr style=\"text-align: right;\">\n",
              "      <th></th>\n",
              "      <th>Id</th>\n",
              "      <th>ActivityHour</th>\n",
              "      <th>Calories</th>\n",
              "    </tr>\n",
              "  </thead>\n",
              "  <tbody>\n",
              "    <tr>\n",
              "      <th>0</th>\n",
              "      <td>1503960366</td>\n",
              "      <td>3/12/2016 12:00:00 AM</td>\n",
              "      <td>48</td>\n",
              "    </tr>\n",
              "    <tr>\n",
              "      <th>1</th>\n",
              "      <td>1503960366</td>\n",
              "      <td>3/12/2016 1:00:00 AM</td>\n",
              "      <td>48</td>\n",
              "    </tr>\n",
              "    <tr>\n",
              "      <th>2</th>\n",
              "      <td>1503960366</td>\n",
              "      <td>3/12/2016 2:00:00 AM</td>\n",
              "      <td>48</td>\n",
              "    </tr>\n",
              "    <tr>\n",
              "      <th>3</th>\n",
              "      <td>1503960366</td>\n",
              "      <td>3/12/2016 3:00:00 AM</td>\n",
              "      <td>48</td>\n",
              "    </tr>\n",
              "    <tr>\n",
              "      <th>4</th>\n",
              "      <td>1503960366</td>\n",
              "      <td>3/12/2016 4:00:00 AM</td>\n",
              "      <td>48</td>\n",
              "    </tr>\n",
              "  </tbody>\n",
              "</table>\n",
              "</div>"
            ],
            "text/plain": [
              "           Id           ActivityHour  Calories\n",
              "0  1503960366  3/12/2016 12:00:00 AM        48\n",
              "1  1503960366   3/12/2016 1:00:00 AM        48\n",
              "2  1503960366   3/12/2016 2:00:00 AM        48\n",
              "3  1503960366   3/12/2016 3:00:00 AM        48\n",
              "4  1503960366   3/12/2016 4:00:00 AM        48"
            ]
          },
          "execution_count": 5,
          "metadata": {},
          "output_type": "execute_result"
        }
      ],
      "source": [
        "# Correct URL to the raw CSV file on GitHub\n",
        "hourlyIntensities = pd.read_csv('../data/hourlyCalories_merged.csv')\n",
        "hourlyIntensities.head()"
      ]
    },
    {
      "cell_type": "code",
      "execution_count": 21,
      "metadata": {
        "colab": {
          "base_uri": "https://localhost:8080/"
        },
        "id": "DJUkWiTAeseS",
        "outputId": "8cd7c1e2-0e47-4781-ef46-a83ca54c6c27"
      },
      "outputs": [
        {
          "name": "stdout",
          "output_type": "stream",
          "text": [
            "<class 'pandas.core.frame.DataFrame'>\n",
            "RangeIndex: 24084 entries, 0 to 24083\n",
            "Data columns (total 3 columns):\n",
            " #   Column        Non-Null Count  Dtype \n",
            "---  ------        --------------  ----- \n",
            " 0   Id            24084 non-null  int64 \n",
            " 1   ActivityHour  24084 non-null  object\n",
            " 2   Calories      24084 non-null  int64 \n",
            "dtypes: int64(2), object(1)\n",
            "memory usage: 564.6+ KB\n"
          ]
        }
      ],
      "source": [
        "hourlyIntensities.info()"
      ]
    },
    {
      "cell_type": "code",
      "execution_count": 22,
      "metadata": {
        "colab": {
          "base_uri": "https://localhost:8080/",
          "height": 206
        },
        "id": "o-TZXMA6esZI",
        "outputId": "a9c9b03d-a338-4fee-94f8-ee9c9a05924b"
      },
      "outputs": [
        {
          "data": {
            "text/html": [
              "<div>\n",
              "<style scoped>\n",
              "    .dataframe tbody tr th:only-of-type {\n",
              "        vertical-align: middle;\n",
              "    }\n",
              "\n",
              "    .dataframe tbody tr th {\n",
              "        vertical-align: top;\n",
              "    }\n",
              "\n",
              "    .dataframe thead th {\n",
              "        text-align: right;\n",
              "    }\n",
              "</style>\n",
              "<table border=\"1\" class=\"dataframe\">\n",
              "  <thead>\n",
              "    <tr style=\"text-align: right;\">\n",
              "      <th></th>\n",
              "      <th>Id</th>\n",
              "      <th>ActivityHour</th>\n",
              "      <th>Calories</th>\n",
              "    </tr>\n",
              "  </thead>\n",
              "  <tbody>\n",
              "    <tr>\n",
              "      <th>15172</th>\n",
              "      <td>6117666160</td>\n",
              "      <td>3/26/2016 4:00:00 AM</td>\n",
              "      <td>63</td>\n",
              "    </tr>\n",
              "    <tr>\n",
              "      <th>23785</th>\n",
              "      <td>8877689391</td>\n",
              "      <td>3/30/2016 10:00:00 PM</td>\n",
              "      <td>111</td>\n",
              "    </tr>\n",
              "    <tr>\n",
              "      <th>15453</th>\n",
              "      <td>6117666160</td>\n",
              "      <td>4/6/2016 9:00:00 PM</td>\n",
              "      <td>108</td>\n",
              "    </tr>\n",
              "    <tr>\n",
              "      <th>4656</th>\n",
              "      <td>2026352035</td>\n",
              "      <td>3/20/2016 4:00:00 AM</td>\n",
              "      <td>47</td>\n",
              "    </tr>\n",
              "    <tr>\n",
              "      <th>18982</th>\n",
              "      <td>7086361926</td>\n",
              "      <td>3/14/2016 11:00:00 PM</td>\n",
              "      <td>71</td>\n",
              "    </tr>\n",
              "  </tbody>\n",
              "</table>\n",
              "</div>"
            ],
            "text/plain": [
              "               Id           ActivityHour  Calories\n",
              "15172  6117666160   3/26/2016 4:00:00 AM        63\n",
              "23785  8877689391  3/30/2016 10:00:00 PM       111\n",
              "15453  6117666160    4/6/2016 9:00:00 PM       108\n",
              "4656   2026352035   3/20/2016 4:00:00 AM        47\n",
              "18982  7086361926  3/14/2016 11:00:00 PM        71"
            ]
          },
          "execution_count": 22,
          "metadata": {},
          "output_type": "execute_result"
        }
      ],
      "source": [
        "from sklearn.utils import shuffle\n",
        "\n",
        "hourlyIntensities = shuffle(hourlyIntensities)\n",
        "hourlyIntensities.head()"
      ]
    },
    {
      "cell_type": "markdown",
      "metadata": {
        "id": "TQWHRQEhYEJN"
      },
      "source": [
        "### 1.1.5. Sleep Day"
      ]
    },
    {
      "cell_type": "code",
      "execution_count": 6,
      "metadata": {
        "colab": {
          "base_uri": "https://localhost:8080/",
          "height": 206
        },
        "id": "7-R2_A_Efhml",
        "outputId": "383284a6-6b44-49fe-f155-82ab452a6218"
      },
      "outputs": [
        {
          "data": {
            "text/html": [
              "<div>\n",
              "<style scoped>\n",
              "    .dataframe tbody tr th:only-of-type {\n",
              "        vertical-align: middle;\n",
              "    }\n",
              "\n",
              "    .dataframe tbody tr th {\n",
              "        vertical-align: top;\n",
              "    }\n",
              "\n",
              "    .dataframe thead th {\n",
              "        text-align: right;\n",
              "    }\n",
              "</style>\n",
              "<table border=\"1\" class=\"dataframe\">\n",
              "  <thead>\n",
              "    <tr style=\"text-align: right;\">\n",
              "      <th></th>\n",
              "      <th>Id</th>\n",
              "      <th>SleepDay</th>\n",
              "      <th>TotalSleepRecords</th>\n",
              "      <th>TotalMinutesAsleep</th>\n",
              "      <th>TotalTimeInBed</th>\n",
              "    </tr>\n",
              "  </thead>\n",
              "  <tbody>\n",
              "    <tr>\n",
              "      <th>0</th>\n",
              "      <td>1503960366</td>\n",
              "      <td>4/12/2016 12:00:00 AM</td>\n",
              "      <td>1</td>\n",
              "      <td>327</td>\n",
              "      <td>346</td>\n",
              "    </tr>\n",
              "    <tr>\n",
              "      <th>1</th>\n",
              "      <td>1503960366</td>\n",
              "      <td>4/13/2016 12:00:00 AM</td>\n",
              "      <td>2</td>\n",
              "      <td>384</td>\n",
              "      <td>407</td>\n",
              "    </tr>\n",
              "    <tr>\n",
              "      <th>2</th>\n",
              "      <td>1503960366</td>\n",
              "      <td>4/15/2016 12:00:00 AM</td>\n",
              "      <td>1</td>\n",
              "      <td>412</td>\n",
              "      <td>442</td>\n",
              "    </tr>\n",
              "    <tr>\n",
              "      <th>3</th>\n",
              "      <td>1503960366</td>\n",
              "      <td>4/16/2016 12:00:00 AM</td>\n",
              "      <td>2</td>\n",
              "      <td>340</td>\n",
              "      <td>367</td>\n",
              "    </tr>\n",
              "    <tr>\n",
              "      <th>4</th>\n",
              "      <td>1503960366</td>\n",
              "      <td>4/17/2016 12:00:00 AM</td>\n",
              "      <td>1</td>\n",
              "      <td>700</td>\n",
              "      <td>712</td>\n",
              "    </tr>\n",
              "  </tbody>\n",
              "</table>\n",
              "</div>"
            ],
            "text/plain": [
              "           Id               SleepDay  TotalSleepRecords  TotalMinutesAsleep  \\\n",
              "0  1503960366  4/12/2016 12:00:00 AM                  1                 327   \n",
              "1  1503960366  4/13/2016 12:00:00 AM                  2                 384   \n",
              "2  1503960366  4/15/2016 12:00:00 AM                  1                 412   \n",
              "3  1503960366  4/16/2016 12:00:00 AM                  2                 340   \n",
              "4  1503960366  4/17/2016 12:00:00 AM                  1                 700   \n",
              "\n",
              "   TotalTimeInBed  \n",
              "0             346  \n",
              "1             407  \n",
              "2             442  \n",
              "3             367  \n",
              "4             712  "
            ]
          },
          "execution_count": 6,
          "metadata": {},
          "output_type": "execute_result"
        }
      ],
      "source": [
        "# Correct URL to the raw CSV file on GitHub\n",
        "sleepDay = pd.read_csv('../data/sleepDay_merged.csv')\n",
        "sleepDay.head()"
      ]
    },
    {
      "cell_type": "code",
      "execution_count": 24,
      "metadata": {
        "colab": {
          "base_uri": "https://localhost:8080/"
        },
        "id": "gn7bBx1Evdzx",
        "outputId": "c454d1e5-ab5d-4eb1-8da6-124ab456ade2"
      },
      "outputs": [
        {
          "name": "stdout",
          "output_type": "stream",
          "text": [
            "<class 'pandas.core.frame.DataFrame'>\n",
            "RangeIndex: 413 entries, 0 to 412\n",
            "Data columns (total 5 columns):\n",
            " #   Column              Non-Null Count  Dtype \n",
            "---  ------              --------------  ----- \n",
            " 0   Id                  413 non-null    int64 \n",
            " 1   SleepDay            413 non-null    object\n",
            " 2   TotalSleepRecords   413 non-null    int64 \n",
            " 3   TotalMinutesAsleep  413 non-null    int64 \n",
            " 4   TotalTimeInBed      413 non-null    int64 \n",
            "dtypes: int64(4), object(1)\n",
            "memory usage: 16.3+ KB\n"
          ]
        }
      ],
      "source": [
        "sleepDay.info()"
      ]
    },
    {
      "cell_type": "code",
      "execution_count": 25,
      "metadata": {
        "colab": {
          "base_uri": "https://localhost:8080/",
          "height": 206
        },
        "id": "_mYlYUWHf37A",
        "outputId": "841d4d20-85a5-457f-c589-c9a09dab2730"
      },
      "outputs": [
        {
          "data": {
            "text/html": [
              "<div>\n",
              "<style scoped>\n",
              "    .dataframe tbody tr th:only-of-type {\n",
              "        vertical-align: middle;\n",
              "    }\n",
              "\n",
              "    .dataframe tbody tr th {\n",
              "        vertical-align: top;\n",
              "    }\n",
              "\n",
              "    .dataframe thead th {\n",
              "        text-align: right;\n",
              "    }\n",
              "</style>\n",
              "<table border=\"1\" class=\"dataframe\">\n",
              "  <thead>\n",
              "    <tr style=\"text-align: right;\">\n",
              "      <th></th>\n",
              "      <th>Id</th>\n",
              "      <th>SleepDay</th>\n",
              "      <th>TotalSleepRecords</th>\n",
              "      <th>TotalMinutesAsleep</th>\n",
              "      <th>TotalTimeInBed</th>\n",
              "    </tr>\n",
              "  </thead>\n",
              "  <tbody>\n",
              "    <tr>\n",
              "      <th>203</th>\n",
              "      <td>4702921684</td>\n",
              "      <td>4/15/2016 12:00:00 AM</td>\n",
              "      <td>1</td>\n",
              "      <td>253</td>\n",
              "      <td>257</td>\n",
              "    </tr>\n",
              "    <tr>\n",
              "      <th>182</th>\n",
              "      <td>4445114986</td>\n",
              "      <td>4/30/2016 12:00:00 AM</td>\n",
              "      <td>1</td>\n",
              "      <td>322</td>\n",
              "      <td>353</td>\n",
              "    </tr>\n",
              "    <tr>\n",
              "      <th>341</th>\n",
              "      <td>7086361926</td>\n",
              "      <td>4/14/2016 12:00:00 AM</td>\n",
              "      <td>1</td>\n",
              "      <td>472</td>\n",
              "      <td>476</td>\n",
              "    </tr>\n",
              "    <tr>\n",
              "      <th>225</th>\n",
              "      <td>4702921684</td>\n",
              "      <td>5/10/2016 12:00:00 AM</td>\n",
              "      <td>1</td>\n",
              "      <td>416</td>\n",
              "      <td>431</td>\n",
              "    </tr>\n",
              "    <tr>\n",
              "      <th>241</th>\n",
              "      <td>5553957443</td>\n",
              "      <td>4/25/2016 12:00:00 AM</td>\n",
              "      <td>1</td>\n",
              "      <td>433</td>\n",
              "      <td>468</td>\n",
              "    </tr>\n",
              "  </tbody>\n",
              "</table>\n",
              "</div>"
            ],
            "text/plain": [
              "             Id               SleepDay  TotalSleepRecords  TotalMinutesAsleep  \\\n",
              "203  4702921684  4/15/2016 12:00:00 AM                  1                 253   \n",
              "182  4445114986  4/30/2016 12:00:00 AM                  1                 322   \n",
              "341  7086361926  4/14/2016 12:00:00 AM                  1                 472   \n",
              "225  4702921684  5/10/2016 12:00:00 AM                  1                 416   \n",
              "241  5553957443  4/25/2016 12:00:00 AM                  1                 433   \n",
              "\n",
              "     TotalTimeInBed  \n",
              "203             257  \n",
              "182             353  \n",
              "341             476  \n",
              "225             431  \n",
              "241             468  "
            ]
          },
          "execution_count": 25,
          "metadata": {},
          "output_type": "execute_result"
        }
      ],
      "source": [
        "from sklearn.utils import shuffle\n",
        "\n",
        "sleepDay = shuffle(sleepDay)\n",
        "sleepDay.head()"
      ]
    },
    {
      "cell_type": "markdown",
      "metadata": {
        "id": "GTWHkf8BYCyl"
      },
      "source": [
        "### 1.1.6. Weight Info"
      ]
    },
    {
      "cell_type": "code",
      "execution_count": 7,
      "metadata": {
        "colab": {
          "base_uri": "https://localhost:8080/",
          "height": 206
        },
        "id": "Xc5i4htQgM6s",
        "outputId": "30d878dc-c473-4d4b-e07f-87b57cdbb7cc"
      },
      "outputs": [
        {
          "data": {
            "text/html": [
              "<div>\n",
              "<style scoped>\n",
              "    .dataframe tbody tr th:only-of-type {\n",
              "        vertical-align: middle;\n",
              "    }\n",
              "\n",
              "    .dataframe tbody tr th {\n",
              "        vertical-align: top;\n",
              "    }\n",
              "\n",
              "    .dataframe thead th {\n",
              "        text-align: right;\n",
              "    }\n",
              "</style>\n",
              "<table border=\"1\" class=\"dataframe\">\n",
              "  <thead>\n",
              "    <tr style=\"text-align: right;\">\n",
              "      <th></th>\n",
              "      <th>Id</th>\n",
              "      <th>Date</th>\n",
              "      <th>WeightKg</th>\n",
              "      <th>WeightPounds</th>\n",
              "      <th>Fat</th>\n",
              "      <th>BMI</th>\n",
              "      <th>IsManualReport</th>\n",
              "      <th>LogId</th>\n",
              "    </tr>\n",
              "  </thead>\n",
              "  <tbody>\n",
              "    <tr>\n",
              "      <th>0</th>\n",
              "      <td>1503960366</td>\n",
              "      <td>5/2/2016 11:59:59 PM</td>\n",
              "      <td>52.599998</td>\n",
              "      <td>115.963147</td>\n",
              "      <td>22.0</td>\n",
              "      <td>22.650000</td>\n",
              "      <td>True</td>\n",
              "      <td>1462233599000</td>\n",
              "    </tr>\n",
              "    <tr>\n",
              "      <th>1</th>\n",
              "      <td>1503960366</td>\n",
              "      <td>5/3/2016 11:59:59 PM</td>\n",
              "      <td>52.599998</td>\n",
              "      <td>115.963147</td>\n",
              "      <td>NaN</td>\n",
              "      <td>22.650000</td>\n",
              "      <td>True</td>\n",
              "      <td>1462319999000</td>\n",
              "    </tr>\n",
              "    <tr>\n",
              "      <th>2</th>\n",
              "      <td>1927972279</td>\n",
              "      <td>4/13/2016 1:08:52 AM</td>\n",
              "      <td>133.500000</td>\n",
              "      <td>294.317120</td>\n",
              "      <td>NaN</td>\n",
              "      <td>47.540001</td>\n",
              "      <td>False</td>\n",
              "      <td>1460509732000</td>\n",
              "    </tr>\n",
              "    <tr>\n",
              "      <th>3</th>\n",
              "      <td>2873212765</td>\n",
              "      <td>4/21/2016 11:59:59 PM</td>\n",
              "      <td>56.700001</td>\n",
              "      <td>125.002104</td>\n",
              "      <td>NaN</td>\n",
              "      <td>21.450001</td>\n",
              "      <td>True</td>\n",
              "      <td>1461283199000</td>\n",
              "    </tr>\n",
              "    <tr>\n",
              "      <th>4</th>\n",
              "      <td>2873212765</td>\n",
              "      <td>5/12/2016 11:59:59 PM</td>\n",
              "      <td>57.299999</td>\n",
              "      <td>126.324875</td>\n",
              "      <td>NaN</td>\n",
              "      <td>21.690001</td>\n",
              "      <td>True</td>\n",
              "      <td>1463097599000</td>\n",
              "    </tr>\n",
              "  </tbody>\n",
              "</table>\n",
              "</div>"
            ],
            "text/plain": [
              "           Id                   Date    WeightKg  WeightPounds   Fat  \\\n",
              "0  1503960366   5/2/2016 11:59:59 PM   52.599998    115.963147  22.0   \n",
              "1  1503960366   5/3/2016 11:59:59 PM   52.599998    115.963147   NaN   \n",
              "2  1927972279   4/13/2016 1:08:52 AM  133.500000    294.317120   NaN   \n",
              "3  2873212765  4/21/2016 11:59:59 PM   56.700001    125.002104   NaN   \n",
              "4  2873212765  5/12/2016 11:59:59 PM   57.299999    126.324875   NaN   \n",
              "\n",
              "         BMI  IsManualReport          LogId  \n",
              "0  22.650000            True  1462233599000  \n",
              "1  22.650000            True  1462319999000  \n",
              "2  47.540001           False  1460509732000  \n",
              "3  21.450001            True  1461283199000  \n",
              "4  21.690001            True  1463097599000  "
            ]
          },
          "execution_count": 7,
          "metadata": {},
          "output_type": "execute_result"
        }
      ],
      "source": [
        "# Correct URL to the raw CSV file on GitHub\n",
        "weightLogInfo = pd.read_csv('../data/weightLogInfo_merged.csv')\n",
        "weightLogInfo.head()"
      ]
    },
    {
      "cell_type": "code",
      "execution_count": 27,
      "metadata": {
        "colab": {
          "base_uri": "https://localhost:8080/"
        },
        "id": "Zo9gSPbqwGBh",
        "outputId": "ec6c9c3e-a93c-44af-8125-195682630dea"
      },
      "outputs": [
        {
          "name": "stdout",
          "output_type": "stream",
          "text": [
            "<class 'pandas.core.frame.DataFrame'>\n",
            "RangeIndex: 67 entries, 0 to 66\n",
            "Data columns (total 8 columns):\n",
            " #   Column          Non-Null Count  Dtype  \n",
            "---  ------          --------------  -----  \n",
            " 0   Id              67 non-null     int64  \n",
            " 1   Date            67 non-null     object \n",
            " 2   WeightKg        67 non-null     float64\n",
            " 3   WeightPounds    67 non-null     float64\n",
            " 4   Fat             2 non-null      float64\n",
            " 5   BMI             67 non-null     float64\n",
            " 6   IsManualReport  67 non-null     bool   \n",
            " 7   LogId           67 non-null     int64  \n",
            "dtypes: bool(1), float64(4), int64(2), object(1)\n",
            "memory usage: 3.9+ KB\n"
          ]
        }
      ],
      "source": [
        "weightLogInfo.info()"
      ]
    },
    {
      "cell_type": "code",
      "execution_count": 28,
      "metadata": {
        "colab": {
          "base_uri": "https://localhost:8080/",
          "height": 206
        },
        "id": "upfxF_-agxsZ",
        "outputId": "a237f605-5046-46ce-b113-f4433e6b1fa7"
      },
      "outputs": [
        {
          "data": {
            "text/html": [
              "<div>\n",
              "<style scoped>\n",
              "    .dataframe tbody tr th:only-of-type {\n",
              "        vertical-align: middle;\n",
              "    }\n",
              "\n",
              "    .dataframe tbody tr th {\n",
              "        vertical-align: top;\n",
              "    }\n",
              "\n",
              "    .dataframe thead th {\n",
              "        text-align: right;\n",
              "    }\n",
              "</style>\n",
              "<table border=\"1\" class=\"dataframe\">\n",
              "  <thead>\n",
              "    <tr style=\"text-align: right;\">\n",
              "      <th></th>\n",
              "      <th>Id</th>\n",
              "      <th>Date</th>\n",
              "      <th>WeightKg</th>\n",
              "      <th>WeightPounds</th>\n",
              "      <th>Fat</th>\n",
              "      <th>BMI</th>\n",
              "      <th>IsManualReport</th>\n",
              "      <th>LogId</th>\n",
              "    </tr>\n",
              "  </thead>\n",
              "  <tbody>\n",
              "    <tr>\n",
              "      <th>7</th>\n",
              "      <td>4558609924</td>\n",
              "      <td>4/18/2016 11:59:59 PM</td>\n",
              "      <td>69.699997</td>\n",
              "      <td>153.662190</td>\n",
              "      <td>NaN</td>\n",
              "      <td>27.250000</td>\n",
              "      <td>True</td>\n",
              "      <td>1461023999000</td>\n",
              "    </tr>\n",
              "    <tr>\n",
              "      <th>62</th>\n",
              "      <td>8877689391</td>\n",
              "      <td>5/6/2016 6:43:35 AM</td>\n",
              "      <td>85.000000</td>\n",
              "      <td>187.392923</td>\n",
              "      <td>NaN</td>\n",
              "      <td>25.440001</td>\n",
              "      <td>False</td>\n",
              "      <td>1462517015000</td>\n",
              "    </tr>\n",
              "    <tr>\n",
              "      <th>50</th>\n",
              "      <td>8877689391</td>\n",
              "      <td>4/21/2016 6:50:27 AM</td>\n",
              "      <td>84.500000</td>\n",
              "      <td>186.290612</td>\n",
              "      <td>NaN</td>\n",
              "      <td>25.290001</td>\n",
              "      <td>False</td>\n",
              "      <td>1461221427000</td>\n",
              "    </tr>\n",
              "    <tr>\n",
              "      <th>25</th>\n",
              "      <td>6962181067</td>\n",
              "      <td>4/24/2016 11:59:59 PM</td>\n",
              "      <td>61.500000</td>\n",
              "      <td>135.584291</td>\n",
              "      <td>NaN</td>\n",
              "      <td>24.000000</td>\n",
              "      <td>True</td>\n",
              "      <td>1461542399000</td>\n",
              "    </tr>\n",
              "    <tr>\n",
              "      <th>24</th>\n",
              "      <td>6962181067</td>\n",
              "      <td>4/23/2016 11:59:59 PM</td>\n",
              "      <td>61.500000</td>\n",
              "      <td>135.584291</td>\n",
              "      <td>NaN</td>\n",
              "      <td>24.000000</td>\n",
              "      <td>True</td>\n",
              "      <td>1461455999000</td>\n",
              "    </tr>\n",
              "  </tbody>\n",
              "</table>\n",
              "</div>"
            ],
            "text/plain": [
              "            Id                   Date   WeightKg  WeightPounds  Fat  \\\n",
              "7   4558609924  4/18/2016 11:59:59 PM  69.699997    153.662190  NaN   \n",
              "62  8877689391    5/6/2016 6:43:35 AM  85.000000    187.392923  NaN   \n",
              "50  8877689391   4/21/2016 6:50:27 AM  84.500000    186.290612  NaN   \n",
              "25  6962181067  4/24/2016 11:59:59 PM  61.500000    135.584291  NaN   \n",
              "24  6962181067  4/23/2016 11:59:59 PM  61.500000    135.584291  NaN   \n",
              "\n",
              "          BMI  IsManualReport          LogId  \n",
              "7   27.250000            True  1461023999000  \n",
              "62  25.440001           False  1462517015000  \n",
              "50  25.290001           False  1461221427000  \n",
              "25  24.000000            True  1461542399000  \n",
              "24  24.000000            True  1461455999000  "
            ]
          },
          "execution_count": 28,
          "metadata": {},
          "output_type": "execute_result"
        }
      ],
      "source": [
        "from sklearn.utils import shuffle\n",
        "\n",
        "weightLogInfo = shuffle(weightLogInfo)\n",
        "weightLogInfo.head()"
      ]
    },
    {
      "cell_type": "markdown",
      "metadata": {
        "id": "GqhSiLhygxRI"
      },
      "source": []
    },
    {
      "cell_type": "markdown",
      "metadata": {
        "id": "UURLcvjwZbWv"
      },
      "source": [
        "## 1.2. Data Preprocessing"
      ]
    },
    {
      "cell_type": "markdown",
      "metadata": {
        "id": "PlJiX_K-ZbZM"
      },
      "source": [
        "### 1.2.1. Cleaning the datasets"
      ]
    },
    {
      "cell_type": "markdown",
      "metadata": {},
      "source": [
        "#### 1.2.1.a. Convert all the date columns into datetime object and rename it as ActivityDate"
      ]
    },
    {
      "cell_type": "code",
      "execution_count": 8,
      "metadata": {},
      "outputs": [],
      "source": [
        "dailyActivity['ActivityDate'] = pd.to_datetime(dailyActivity['ActivityDate'])"
      ]
    },
    {
      "cell_type": "code",
      "execution_count": 9,
      "metadata": {},
      "outputs": [
        {
          "name": "stderr",
          "output_type": "stream",
          "text": [
            "C:\\Users\\outta\\AppData\\Local\\Temp\\ipykernel_21328\\416243218.py:4: UserWarning: Could not infer format, so each element will be parsed individually, falling back to `dateutil`. To ensure parsing is consistent and as-expected, please specify a format.\n",
            "  df[date_col] = pd.to_datetime(df[date_col])\n",
            "C:\\Users\\outta\\AppData\\Local\\Temp\\ipykernel_21328\\416243218.py:4: UserWarning: Could not infer format, so each element will be parsed individually, falling back to `dateutil`. To ensure parsing is consistent and as-expected, please specify a format.\n",
            "  df[date_col] = pd.to_datetime(df[date_col])\n",
            "C:\\Users\\outta\\AppData\\Local\\Temp\\ipykernel_21328\\416243218.py:4: UserWarning: Could not infer format, so each element will be parsed individually, falling back to `dateutil`. To ensure parsing is consistent and as-expected, please specify a format.\n",
            "  df[date_col] = pd.to_datetime(df[date_col])\n"
          ]
        },
        {
          "name": "stdout",
          "output_type": "stream",
          "text": [
            "DataFrame 1:\n",
            "            Id  TotalSleepRecords  TotalMinutesAsleep  TotalTimeInBed  \\\n",
            "0  1503960366                  1                 327             346   \n",
            "1  1503960366                  2                 384             407   \n",
            "2  1503960366                  1                 412             442   \n",
            "3  1503960366                  2                 340             367   \n",
            "4  1503960366                  1                 700             712   \n",
            "\n",
            "  ActivityDate ActivityTime  \n",
            "0   2016-04-12  12:00:00 AM  \n",
            "1   2016-04-13  12:00:00 AM  \n",
            "2   2016-04-15  12:00:00 AM  \n",
            "3   2016-04-16  12:00:00 AM  \n",
            "4   2016-04-17  12:00:00 AM  \n",
            "datetime64[ns]\n",
            "DataFrame 2:\n",
            "            Id  Calories ActivityDate ActivityTime\n",
            "0  1503960366        48   2016-03-12  12:00:00 AM\n",
            "1  1503960366        48   2016-03-12  01:00:00 AM\n",
            "2  1503960366        48   2016-03-12  02:00:00 AM\n",
            "3  1503960366        48   2016-03-12  03:00:00 AM\n",
            "4  1503960366        48   2016-03-12  04:00:00 AM\n",
            "datetime64[ns]\n",
            "DataFrame 3:\n",
            "            Id  Calories ActivityDate ActivityTime\n",
            "0  1503960366        48   2016-03-12  12:00:00 AM\n",
            "1  1503960366        48   2016-03-12  01:00:00 AM\n",
            "2  1503960366        48   2016-03-12  02:00:00 AM\n",
            "3  1503960366        48   2016-03-12  03:00:00 AM\n",
            "4  1503960366        48   2016-03-12  04:00:00 AM\n",
            "datetime64[ns]\n",
            "DataFrame 4:\n",
            "            Id  Value ActivityDate ActivityTime\n",
            "0  2022484408     97   2016-04-12  07:21:00 AM\n",
            "1  2022484408    102   2016-04-12  07:21:05 AM\n",
            "2  2022484408    105   2016-04-12  07:21:10 AM\n",
            "3  2022484408    103   2016-04-12  07:21:20 AM\n",
            "4  2022484408    101   2016-04-12  07:21:25 AM\n",
            "datetime64[ns]\n",
            "DataFrame 5:\n",
            "            Id    WeightKg  WeightPounds   Fat        BMI  IsManualReport  \\\n",
            "0  1503960366   52.599998    115.963147  22.0  22.650000            True   \n",
            "1  1503960366   52.599998    115.963147   NaN  22.650000            True   \n",
            "2  1927972279  133.500000    294.317120   NaN  47.540001           False   \n",
            "3  2873212765   56.700001    125.002104   NaN  21.450001            True   \n",
            "4  2873212765   57.299999    126.324875   NaN  21.690001            True   \n",
            "\n",
            "           LogId ActivityDate ActivityTime  \n",
            "0  1462233599000   2016-05-02  11:59:59 PM  \n",
            "1  1462319999000   2016-05-03  11:59:59 PM  \n",
            "2  1460509732000   2016-04-13  01:08:52 AM  \n",
            "3  1461283199000   2016-04-21  11:59:59 PM  \n",
            "4  1463097599000   2016-05-12  11:59:59 PM  \n",
            "datetime64[ns]\n"
          ]
        },
        {
          "name": "stderr",
          "output_type": "stream",
          "text": [
            "C:\\Users\\outta\\AppData\\Local\\Temp\\ipykernel_21328\\416243218.py:4: UserWarning: Could not infer format, so each element will be parsed individually, falling back to `dateutil`. To ensure parsing is consistent and as-expected, please specify a format.\n",
            "  df[date_col] = pd.to_datetime(df[date_col])\n"
          ]
        }
      ],
      "source": [
        "def process_dataframe(df):\n",
        "    # converting date column to datetime\n",
        "    date_col = df.columns[1]\n",
        "    df[date_col] = pd.to_datetime(df[date_col])\n",
        "\n",
        "    # Creating separate 'date' and 'time' columns\n",
        "    df['ActivityDate'] = df[date_col].dt.date\n",
        "    df['ActivityTime'] = df[date_col].dt.strftime('%I:%M:%S %p')\n",
        "    df['ActivityDate'] = pd.to_datetime(df['ActivityDate'])\n",
        "    df.drop(columns=[date_col],inplace=True)\n",
        "\n",
        "    return df\n",
        "\n",
        "dataframes = [sleepDay, hourlyCalories, hourlyIntensities, heartRate, weightLogInfo]\n",
        "\n",
        "for i, df in enumerate(dataframes):\n",
        "    dataframes[i] = process_dataframe(df)\n",
        "\n",
        "for i, df in enumerate(dataframes, 1):\n",
        "    print(f\"DataFrame {i}:\\n\", df.head())\n",
        "    print(df['ActivityDate'].dtypes)"
      ]
    },
    {
      "cell_type": "markdown",
      "metadata": {},
      "source": [
        "#### 1.2.1.b.  Check if there are any duplicate records"
      ]
    },
    {
      "cell_type": "code",
      "execution_count": 11,
      "metadata": {},
      "outputs": [
        {
          "name": "stdout",
          "output_type": "stream",
          "text": [
            "\n",
            " Duplicates in activity record:\n",
            "Empty DataFrame\n",
            "Columns: [Id, ActivityDate, Count]\n",
            "Index: []\n",
            "\n",
            "Duplicates in sleep record:\n",
            "             Id ActivityDate ActivityTime  TotalSleepRecords  Count\n",
            "160  4388161847   2016-05-05  12:00:00 AM                  1      2\n",
            "221  4702921684   2016-05-07  12:00:00 AM                  1      2\n",
            "377  8378563200   2016-04-25  12:00:00 AM                  1      2\n",
            "\n",
            "Duplicates in hourly calories record:\n",
            "Empty DataFrame\n",
            "Columns: [Id, ActivityDate, ActivityTime, Count]\n",
            "Index: []\n",
            "\n",
            "Duplicates in hourly intensities record:\n",
            "Empty DataFrame\n",
            "Columns: [Id, ActivityDate, ActivityTime, Count]\n",
            "Index: []\n",
            "\n",
            "Duplicates in heartrate seconds record:\n",
            "Empty DataFrame\n",
            "Columns: [Id, ActivityDate, ActivityTime, Count]\n",
            "Index: []\n"
          ]
        }
      ],
      "source": [
        "grouped = dailyActivity.groupby(['Id', 'ActivityDate']).size().reset_index(name='Count')\n",
        "duplicates = grouped[grouped['Count'] > 1]\n",
        "print(\"\\n Duplicates in activity record:\")\n",
        "print(duplicates)\n",
        "\n",
        "grouped1 = sleepDay.groupby(['Id', 'ActivityDate','ActivityTime','TotalSleepRecords']).size().reset_index(name='Count')\n",
        "duplicates1 = grouped1[grouped1['Count'] > 1]\n",
        "print(\"\\nDuplicates in sleep record:\")\n",
        "print(duplicates1)\n",
        "\n",
        "grouped2 = hourlyCalories.groupby(['Id', 'ActivityDate','ActivityTime']).size().reset_index(name='Count')\n",
        "duplicates2 = grouped2[grouped2['Count'] > 1]\n",
        "print(\"\\nDuplicates in hourly calories record:\")\n",
        "print(duplicates2)\n",
        "\n",
        "\n",
        "grouped3 = hourlyIntensities.groupby(['Id', 'ActivityDate','ActivityTime']).size().reset_index(name='Count')\n",
        "duplicates3 = grouped3[grouped3['Count'] > 1]\n",
        "print(\"\\nDuplicates in hourly intensities record:\")\n",
        "print(duplicates3)\n",
        "\n",
        "grouped4 = heartRate.groupby(['Id', 'ActivityDate','ActivityTime']).size().reset_index(name='Count')\n",
        "duplicates4 = grouped4[grouped4['Count'] > 1]\n",
        "print(\"\\nDuplicates in heartrate seconds record:\")\n",
        "print(duplicates4)"
      ]
    },
    {
      "cell_type": "code",
      "execution_count": null,
      "metadata": {},
      "outputs": [],
      "source": []
    },
    {
      "cell_type": "markdown",
      "metadata": {},
      "source": [
        "##### Only the SleepDay dataset has duplicates."
      ]
    },
    {
      "cell_type": "markdown",
      "metadata": {
        "id": "S5qQTDQRLKO-"
      },
      "source": []
    },
    {
      "cell_type": "code",
      "execution_count": null,
      "metadata": {},
      "outputs": [],
      "source": []
    },
    {
      "cell_type": "markdown",
      "metadata": {
        "id": "rR1Pbq_AZbbg"
      },
      "source": [
        "### 1.2.2. Test"
      ]
    },
    {
      "cell_type": "markdown",
      "metadata": {
        "id": "iW3BHRYgk9rB"
      },
      "source": [
        "# Selection"
      ]
    },
    {
      "cell_type": "markdown",
      "metadata": {
        "id": "tAqgXbYUk9tu"
      },
      "source": [
        "## Information Gain"
      ]
    },
    {
      "cell_type": "markdown",
      "metadata": {
        "id": "f9TIYqosk9wd"
      },
      "source": [
        "## Forward Selection"
      ]
    },
    {
      "cell_type": "markdown",
      "metadata": {
        "id": "KVmy8FRpk9yV"
      },
      "source": [
        "# Mục mới"
      ]
    },
    {
      "cell_type": "markdown",
      "metadata": {
        "id": "aqQJbOKMZbdl"
      },
      "source": [
        "# Mục mới"
      ]
    },
    {
      "cell_type": "markdown",
      "metadata": {
        "id": "sTtE1-nVYDOT"
      },
      "source": [
        "# Mục mới"
      ]
    }
  ],
  "metadata": {
    "colab": {
      "provenance": []
    },
    "kernelspec": {
      "display_name": "Python 3",
      "name": "python3"
    },
    "language_info": {
      "codemirror_mode": {
        "name": "ipython",
        "version": 3
      },
      "file_extension": ".py",
      "mimetype": "text/x-python",
      "name": "python",
      "nbconvert_exporter": "python",
      "pygments_lexer": "ipython3",
      "version": "3.12.4"
    }
  },
  "nbformat": 4,
  "nbformat_minor": 0
}
