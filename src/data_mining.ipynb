{
  "cells": [
    {
      "cell_type": "markdown",
      "metadata": {
        "id": "CwqfyN-cpu7y"
      },
      "source": [
        "# Note :    Riêng **Colab** phải **Ctrl+S** hoặc **Save** thì mới update được nha mọi người."
      ]
    },
    {
      "cell_type": "code",
      "execution_count": 42,
      "metadata": {
        "id": "tO27aFHUZN4n"
      },
      "outputs": [],
      "source": [
        "import pandas as pd\n",
        "import numpy as np\n",
        "import matplotlib.pyplot as plt\n",
        "import seaborn as sns\n",
        "from matplotlib import pyplot\n",
        "from sklearn.model_selection import train_test_split\n"
      ]
    },
    {
      "cell_type": "markdown",
      "metadata": {
        "id": "ZjPp3HxfZPFs"
      },
      "source": [
        "# 1.Data Preparation"
      ]
    },
    {
      "cell_type": "markdown",
      "metadata": {
        "id": "emZYd8UiZa6o"
      },
      "source": [
        "## 1.1. Data Shuffling"
      ]
    },
    {
      "cell_type": "code",
      "execution_count": null,
      "metadata": {
        "id": "UNAdR7ZbTUTJ"
      },
      "outputs": [],
      "source": []
    },
    {
      "cell_type": "markdown",
      "metadata": {
        "id": "0haNsTFoIAT0"
      },
      "source": [
        "### 1.1.1 Daily Activity\n"
      ]
    },
    {
      "cell_type": "code",
      "execution_count": 43,
      "metadata": {
        "colab": {
          "base_uri": "https://localhost:8080/",
          "height": 226
        },
        "id": "Hm_nTJ9XTXGF",
        "outputId": "2afe9376-0434-4758-8c45-81d6ed0b82cf"
      },
      "outputs": [
        {
          "data": {
            "text/html": [
              "<div>\n",
              "<style scoped>\n",
              "    .dataframe tbody tr th:only-of-type {\n",
              "        vertical-align: middle;\n",
              "    }\n",
              "\n",
              "    .dataframe tbody tr th {\n",
              "        vertical-align: top;\n",
              "    }\n",
              "\n",
              "    .dataframe thead th {\n",
              "        text-align: right;\n",
              "    }\n",
              "</style>\n",
              "<table border=\"1\" class=\"dataframe\">\n",
              "  <thead>\n",
              "    <tr style=\"text-align: right;\">\n",
              "      <th></th>\n",
              "      <th>Id</th>\n",
              "      <th>ActivityDate</th>\n",
              "      <th>TotalSteps</th>\n",
              "      <th>TotalDistance</th>\n",
              "      <th>TrackerDistance</th>\n",
              "      <th>LoggedActivitiesDistance</th>\n",
              "      <th>VeryActiveDistance</th>\n",
              "      <th>ModeratelyActiveDistance</th>\n",
              "      <th>LightActiveDistance</th>\n",
              "      <th>SedentaryActiveDistance</th>\n",
              "      <th>VeryActiveMinutes</th>\n",
              "      <th>FairlyActiveMinutes</th>\n",
              "      <th>LightlyActiveMinutes</th>\n",
              "      <th>SedentaryMinutes</th>\n",
              "      <th>Calories</th>\n",
              "    </tr>\n",
              "  </thead>\n",
              "  <tbody>\n",
              "    <tr>\n",
              "      <th>0</th>\n",
              "      <td>1503960366</td>\n",
              "      <td>3/25/2016</td>\n",
              "      <td>11004</td>\n",
              "      <td>7.11</td>\n",
              "      <td>7.11</td>\n",
              "      <td>0.0</td>\n",
              "      <td>2.57</td>\n",
              "      <td>0.46</td>\n",
              "      <td>4.07</td>\n",
              "      <td>0.0</td>\n",
              "      <td>33</td>\n",
              "      <td>12</td>\n",
              "      <td>205</td>\n",
              "      <td>804</td>\n",
              "      <td>1819</td>\n",
              "    </tr>\n",
              "    <tr>\n",
              "      <th>1</th>\n",
              "      <td>1503960366</td>\n",
              "      <td>3/26/2016</td>\n",
              "      <td>17609</td>\n",
              "      <td>11.55</td>\n",
              "      <td>11.55</td>\n",
              "      <td>0.0</td>\n",
              "      <td>6.92</td>\n",
              "      <td>0.73</td>\n",
              "      <td>3.91</td>\n",
              "      <td>0.0</td>\n",
              "      <td>89</td>\n",
              "      <td>17</td>\n",
              "      <td>274</td>\n",
              "      <td>588</td>\n",
              "      <td>2154</td>\n",
              "    </tr>\n",
              "    <tr>\n",
              "      <th>2</th>\n",
              "      <td>1503960366</td>\n",
              "      <td>3/27/2016</td>\n",
              "      <td>12736</td>\n",
              "      <td>8.53</td>\n",
              "      <td>8.53</td>\n",
              "      <td>0.0</td>\n",
              "      <td>4.66</td>\n",
              "      <td>0.16</td>\n",
              "      <td>3.71</td>\n",
              "      <td>0.0</td>\n",
              "      <td>56</td>\n",
              "      <td>5</td>\n",
              "      <td>268</td>\n",
              "      <td>605</td>\n",
              "      <td>1944</td>\n",
              "    </tr>\n",
              "    <tr>\n",
              "      <th>3</th>\n",
              "      <td>1503960366</td>\n",
              "      <td>3/28/2016</td>\n",
              "      <td>13231</td>\n",
              "      <td>8.93</td>\n",
              "      <td>8.93</td>\n",
              "      <td>0.0</td>\n",
              "      <td>3.19</td>\n",
              "      <td>0.79</td>\n",
              "      <td>4.95</td>\n",
              "      <td>0.0</td>\n",
              "      <td>39</td>\n",
              "      <td>20</td>\n",
              "      <td>224</td>\n",
              "      <td>1080</td>\n",
              "      <td>1932</td>\n",
              "    </tr>\n",
              "    <tr>\n",
              "      <th>4</th>\n",
              "      <td>1503960366</td>\n",
              "      <td>3/29/2016</td>\n",
              "      <td>12041</td>\n",
              "      <td>7.85</td>\n",
              "      <td>7.85</td>\n",
              "      <td>0.0</td>\n",
              "      <td>2.16</td>\n",
              "      <td>1.09</td>\n",
              "      <td>4.61</td>\n",
              "      <td>0.0</td>\n",
              "      <td>28</td>\n",
              "      <td>28</td>\n",
              "      <td>243</td>\n",
              "      <td>763</td>\n",
              "      <td>1886</td>\n",
              "    </tr>\n",
              "  </tbody>\n",
              "</table>\n",
              "</div>"
            ],
            "text/plain": [
              "           Id ActivityDate  TotalSteps  TotalDistance  TrackerDistance  \\\n",
              "0  1503960366    3/25/2016       11004           7.11             7.11   \n",
              "1  1503960366    3/26/2016       17609          11.55            11.55   \n",
              "2  1503960366    3/27/2016       12736           8.53             8.53   \n",
              "3  1503960366    3/28/2016       13231           8.93             8.93   \n",
              "4  1503960366    3/29/2016       12041           7.85             7.85   \n",
              "\n",
              "   LoggedActivitiesDistance  VeryActiveDistance  ModeratelyActiveDistance  \\\n",
              "0                       0.0                2.57                      0.46   \n",
              "1                       0.0                6.92                      0.73   \n",
              "2                       0.0                4.66                      0.16   \n",
              "3                       0.0                3.19                      0.79   \n",
              "4                       0.0                2.16                      1.09   \n",
              "\n",
              "   LightActiveDistance  SedentaryActiveDistance  VeryActiveMinutes  \\\n",
              "0                 4.07                      0.0                 33   \n",
              "1                 3.91                      0.0                 89   \n",
              "2                 3.71                      0.0                 56   \n",
              "3                 4.95                      0.0                 39   \n",
              "4                 4.61                      0.0                 28   \n",
              "\n",
              "   FairlyActiveMinutes  LightlyActiveMinutes  SedentaryMinutes  Calories  \n",
              "0                   12                   205               804      1819  \n",
              "1                   17                   274               588      2154  \n",
              "2                    5                   268               605      1944  \n",
              "3                   20                   224              1080      1932  \n",
              "4                   28                   243               763      1886  "
            ]
          },
          "execution_count": 43,
          "metadata": {},
          "output_type": "execute_result"
        }
      ],
      "source": [
        "# Correct URL to the raw CSV file on GitHub\n",
        "dailyActivity = pd.read_csv('../data/dailyActivity_merged.csv')\n",
        "dailyActivity.head()"
      ]
    },
    {
      "cell_type": "code",
      "execution_count": 44,
      "metadata": {
        "colab": {
          "base_uri": "https://localhost:8080/"
        },
        "id": "Vf7TYtyJZdz0",
        "outputId": "41b09c32-4b57-4eb6-c7ed-11612b3efa48"
      },
      "outputs": [
        {
          "name": "stdout",
          "output_type": "stream",
          "text": [
            "<class 'pandas.core.frame.DataFrame'>\n",
            "RangeIndex: 457 entries, 0 to 456\n",
            "Data columns (total 15 columns):\n",
            " #   Column                    Non-Null Count  Dtype  \n",
            "---  ------                    --------------  -----  \n",
            " 0   Id                        457 non-null    int64  \n",
            " 1   ActivityDate              457 non-null    object \n",
            " 2   TotalSteps                457 non-null    int64  \n",
            " 3   TotalDistance             457 non-null    float64\n",
            " 4   TrackerDistance           457 non-null    float64\n",
            " 5   LoggedActivitiesDistance  457 non-null    float64\n",
            " 6   VeryActiveDistance        457 non-null    float64\n",
            " 7   ModeratelyActiveDistance  457 non-null    float64\n",
            " 8   LightActiveDistance       457 non-null    float64\n",
            " 9   SedentaryActiveDistance   457 non-null    float64\n",
            " 10  VeryActiveMinutes         457 non-null    int64  \n",
            " 11  FairlyActiveMinutes       457 non-null    int64  \n",
            " 12  LightlyActiveMinutes      457 non-null    int64  \n",
            " 13  SedentaryMinutes          457 non-null    int64  \n",
            " 14  Calories                  457 non-null    int64  \n",
            "dtypes: float64(7), int64(7), object(1)\n",
            "memory usage: 53.7+ KB\n"
          ]
        }
      ],
      "source": [
        "dailyActivity.info()"
      ]
    },
    {
      "cell_type": "code",
      "execution_count": 45,
      "metadata": {
        "colab": {
          "base_uri": "https://localhost:8080/",
          "height": 226
        },
        "id": "MwpkzCkeZdxC",
        "outputId": "87a229e1-b192-4197-8ea8-b13cf80a704e"
      },
      "outputs": [
        {
          "data": {
            "text/html": [
              "<div>\n",
              "<style scoped>\n",
              "    .dataframe tbody tr th:only-of-type {\n",
              "        vertical-align: middle;\n",
              "    }\n",
              "\n",
              "    .dataframe tbody tr th {\n",
              "        vertical-align: top;\n",
              "    }\n",
              "\n",
              "    .dataframe thead th {\n",
              "        text-align: right;\n",
              "    }\n",
              "</style>\n",
              "<table border=\"1\" class=\"dataframe\">\n",
              "  <thead>\n",
              "    <tr style=\"text-align: right;\">\n",
              "      <th></th>\n",
              "      <th>Id</th>\n",
              "      <th>ActivityDate</th>\n",
              "      <th>TotalSteps</th>\n",
              "      <th>TotalDistance</th>\n",
              "      <th>TrackerDistance</th>\n",
              "      <th>LoggedActivitiesDistance</th>\n",
              "      <th>VeryActiveDistance</th>\n",
              "      <th>ModeratelyActiveDistance</th>\n",
              "      <th>LightActiveDistance</th>\n",
              "      <th>SedentaryActiveDistance</th>\n",
              "      <th>VeryActiveMinutes</th>\n",
              "      <th>FairlyActiveMinutes</th>\n",
              "      <th>LightlyActiveMinutes</th>\n",
              "      <th>SedentaryMinutes</th>\n",
              "      <th>Calories</th>\n",
              "    </tr>\n",
              "  </thead>\n",
              "  <tbody>\n",
              "    <tr>\n",
              "      <th>454</th>\n",
              "      <td>8877689391</td>\n",
              "      <td>4/10/2016</td>\n",
              "      <td>28497</td>\n",
              "      <td>27.530001</td>\n",
              "      <td>27.530001</td>\n",
              "      <td>0.0</td>\n",
              "      <td>21.92</td>\n",
              "      <td>1.12</td>\n",
              "      <td>4.46</td>\n",
              "      <td>0.0</td>\n",
              "      <td>128</td>\n",
              "      <td>46</td>\n",
              "      <td>211</td>\n",
              "      <td>1055</td>\n",
              "      <td>4526</td>\n",
              "    </tr>\n",
              "    <tr>\n",
              "      <th>344</th>\n",
              "      <td>6775888955</td>\n",
              "      <td>4/2/2016</td>\n",
              "      <td>1988</td>\n",
              "      <td>1.430000</td>\n",
              "      <td>1.430000</td>\n",
              "      <td>0.0</td>\n",
              "      <td>0.00</td>\n",
              "      <td>0.00</td>\n",
              "      <td>1.43</td>\n",
              "      <td>0.0</td>\n",
              "      <td>0</td>\n",
              "      <td>0</td>\n",
              "      <td>79</td>\n",
              "      <td>909</td>\n",
              "      <td>2207</td>\n",
              "    </tr>\n",
              "    <tr>\n",
              "      <th>290</th>\n",
              "      <td>4702921684</td>\n",
              "      <td>4/12/2016</td>\n",
              "      <td>0</td>\n",
              "      <td>0.000000</td>\n",
              "      <td>0.000000</td>\n",
              "      <td>0.0</td>\n",
              "      <td>0.00</td>\n",
              "      <td>0.00</td>\n",
              "      <td>0.00</td>\n",
              "      <td>0.0</td>\n",
              "      <td>0</td>\n",
              "      <td>0</td>\n",
              "      <td>0</td>\n",
              "      <td>1440</td>\n",
              "      <td>0</td>\n",
              "    </tr>\n",
              "    <tr>\n",
              "      <th>117</th>\n",
              "      <td>2347167796</td>\n",
              "      <td>4/7/2016</td>\n",
              "      <td>10320</td>\n",
              "      <td>6.850000</td>\n",
              "      <td>6.850000</td>\n",
              "      <td>0.0</td>\n",
              "      <td>0.68</td>\n",
              "      <td>1.23</td>\n",
              "      <td>4.94</td>\n",
              "      <td>0.0</td>\n",
              "      <td>15</td>\n",
              "      <td>32</td>\n",
              "      <td>315</td>\n",
              "      <td>1002</td>\n",
              "      <td>2338</td>\n",
              "    </tr>\n",
              "    <tr>\n",
              "      <th>189</th>\n",
              "      <td>4020332650</td>\n",
              "      <td>4/5/2016</td>\n",
              "      <td>6880</td>\n",
              "      <td>4.930000</td>\n",
              "      <td>4.930000</td>\n",
              "      <td>0.0</td>\n",
              "      <td>0.50</td>\n",
              "      <td>0.76</td>\n",
              "      <td>3.65</td>\n",
              "      <td>0.0</td>\n",
              "      <td>7</td>\n",
              "      <td>19</td>\n",
              "      <td>165</td>\n",
              "      <td>1249</td>\n",
              "      <td>2966</td>\n",
              "    </tr>\n",
              "  </tbody>\n",
              "</table>\n",
              "</div>"
            ],
            "text/plain": [
              "             Id ActivityDate  TotalSteps  TotalDistance  TrackerDistance  \\\n",
              "454  8877689391    4/10/2016       28497      27.530001        27.530001   \n",
              "344  6775888955     4/2/2016        1988       1.430000         1.430000   \n",
              "290  4702921684    4/12/2016           0       0.000000         0.000000   \n",
              "117  2347167796     4/7/2016       10320       6.850000         6.850000   \n",
              "189  4020332650     4/5/2016        6880       4.930000         4.930000   \n",
              "\n",
              "     LoggedActivitiesDistance  VeryActiveDistance  ModeratelyActiveDistance  \\\n",
              "454                       0.0               21.92                      1.12   \n",
              "344                       0.0                0.00                      0.00   \n",
              "290                       0.0                0.00                      0.00   \n",
              "117                       0.0                0.68                      1.23   \n",
              "189                       0.0                0.50                      0.76   \n",
              "\n",
              "     LightActiveDistance  SedentaryActiveDistance  VeryActiveMinutes  \\\n",
              "454                 4.46                      0.0                128   \n",
              "344                 1.43                      0.0                  0   \n",
              "290                 0.00                      0.0                  0   \n",
              "117                 4.94                      0.0                 15   \n",
              "189                 3.65                      0.0                  7   \n",
              "\n",
              "     FairlyActiveMinutes  LightlyActiveMinutes  SedentaryMinutes  Calories  \n",
              "454                   46                   211              1055      4526  \n",
              "344                    0                    79               909      2207  \n",
              "290                    0                     0              1440         0  \n",
              "117                   32                   315              1002      2338  \n",
              "189                   19                   165              1249      2966  "
            ]
          },
          "execution_count": 45,
          "metadata": {},
          "output_type": "execute_result"
        }
      ],
      "source": [
        "from sklearn.utils import shuffle\n",
        "\n",
        "dailyActivity = shuffle(dailyActivity)\n",
        "dailyActivity.head()"
      ]
    },
    {
      "cell_type": "markdown",
      "metadata": {
        "id": "7B2z6h7JX7wL"
      },
      "source": [
        "### 1.1.2. Heart Rate Second"
      ]
    },
    {
      "cell_type": "code",
      "execution_count": 46,
      "metadata": {
        "colab": {
          "base_uri": "https://localhost:8080/",
          "height": 206
        },
        "id": "C9As_H1rchOu",
        "outputId": "49e6e206-6921-47df-dee9-cc08f1064954"
      },
      "outputs": [
        {
          "data": {
            "text/html": [
              "<div>\n",
              "<style scoped>\n",
              "    .dataframe tbody tr th:only-of-type {\n",
              "        vertical-align: middle;\n",
              "    }\n",
              "\n",
              "    .dataframe tbody tr th {\n",
              "        vertical-align: top;\n",
              "    }\n",
              "\n",
              "    .dataframe thead th {\n",
              "        text-align: right;\n",
              "    }\n",
              "</style>\n",
              "<table border=\"1\" class=\"dataframe\">\n",
              "  <thead>\n",
              "    <tr style=\"text-align: right;\">\n",
              "      <th></th>\n",
              "      <th>Id</th>\n",
              "      <th>Time</th>\n",
              "      <th>Value</th>\n",
              "    </tr>\n",
              "  </thead>\n",
              "  <tbody>\n",
              "    <tr>\n",
              "      <th>0</th>\n",
              "      <td>2022484408</td>\n",
              "      <td>4/12/2016 7:21:00 AM</td>\n",
              "      <td>97</td>\n",
              "    </tr>\n",
              "    <tr>\n",
              "      <th>1</th>\n",
              "      <td>2022484408</td>\n",
              "      <td>4/12/2016 7:21:05 AM</td>\n",
              "      <td>102</td>\n",
              "    </tr>\n",
              "    <tr>\n",
              "      <th>2</th>\n",
              "      <td>2022484408</td>\n",
              "      <td>4/12/2016 7:21:10 AM</td>\n",
              "      <td>105</td>\n",
              "    </tr>\n",
              "    <tr>\n",
              "      <th>3</th>\n",
              "      <td>2022484408</td>\n",
              "      <td>4/12/2016 7:21:20 AM</td>\n",
              "      <td>103</td>\n",
              "    </tr>\n",
              "    <tr>\n",
              "      <th>4</th>\n",
              "      <td>2022484408</td>\n",
              "      <td>4/12/2016 7:21:25 AM</td>\n",
              "      <td>101</td>\n",
              "    </tr>\n",
              "  </tbody>\n",
              "</table>\n",
              "</div>"
            ],
            "text/plain": [
              "           Id                  Time  Value\n",
              "0  2022484408  4/12/2016 7:21:00 AM     97\n",
              "1  2022484408  4/12/2016 7:21:05 AM    102\n",
              "2  2022484408  4/12/2016 7:21:10 AM    105\n",
              "3  2022484408  4/12/2016 7:21:20 AM    103\n",
              "4  2022484408  4/12/2016 7:21:25 AM    101"
            ]
          },
          "execution_count": 46,
          "metadata": {},
          "output_type": "execute_result"
        }
      ],
      "source": [
        "# Correct URL to the raw CSV file on GitHub\n",
        "heartRate = pd.read_csv('../data/heartrate_seconds_merged.csv')\n",
        "heartRate.head()"
      ]
    },
    {
      "cell_type": "code",
      "execution_count": 47,
      "metadata": {
        "colab": {
          "base_uri": "https://localhost:8080/"
        },
        "id": "HJcisJZLchJo",
        "outputId": "c354448f-5384-46af-c0cc-ffc43bc9e96d"
      },
      "outputs": [
        {
          "name": "stdout",
          "output_type": "stream",
          "text": [
            "<class 'pandas.core.frame.DataFrame'>\n",
            "RangeIndex: 2483658 entries, 0 to 2483657\n",
            "Data columns (total 3 columns):\n",
            " #   Column  Dtype \n",
            "---  ------  ----- \n",
            " 0   Id      int64 \n",
            " 1   Time    object\n",
            " 2   Value   int64 \n",
            "dtypes: int64(2), object(1)\n",
            "memory usage: 56.8+ MB\n"
          ]
        }
      ],
      "source": [
        "heartRate.info()"
      ]
    },
    {
      "cell_type": "code",
      "execution_count": 48,
      "metadata": {
        "colab": {
          "base_uri": "https://localhost:8080/",
          "height": 206
        },
        "id": "YkZE9jXfchEc",
        "outputId": "4fe91655-48a8-4399-e292-8fb4d45d601b"
      },
      "outputs": [
        {
          "data": {
            "text/html": [
              "<div>\n",
              "<style scoped>\n",
              "    .dataframe tbody tr th:only-of-type {\n",
              "        vertical-align: middle;\n",
              "    }\n",
              "\n",
              "    .dataframe tbody tr th {\n",
              "        vertical-align: top;\n",
              "    }\n",
              "\n",
              "    .dataframe thead th {\n",
              "        text-align: right;\n",
              "    }\n",
              "</style>\n",
              "<table border=\"1\" class=\"dataframe\">\n",
              "  <thead>\n",
              "    <tr style=\"text-align: right;\">\n",
              "      <th></th>\n",
              "      <th>Id</th>\n",
              "      <th>Time</th>\n",
              "      <th>Value</th>\n",
              "    </tr>\n",
              "  </thead>\n",
              "  <tbody>\n",
              "    <tr>\n",
              "      <th>805767</th>\n",
              "      <td>4388161847</td>\n",
              "      <td>5/7/2016 8:15:05 PM</td>\n",
              "      <td>82</td>\n",
              "    </tr>\n",
              "    <tr>\n",
              "      <th>368617</th>\n",
              "      <td>4020332650</td>\n",
              "      <td>5/2/2016 11:15:34 PM</td>\n",
              "      <td>83</td>\n",
              "    </tr>\n",
              "    <tr>\n",
              "      <th>153639</th>\n",
              "      <td>2022484408</td>\n",
              "      <td>5/12/2016 2:39:30 PM</td>\n",
              "      <td>98</td>\n",
              "    </tr>\n",
              "    <tr>\n",
              "      <th>454416</th>\n",
              "      <td>4020332650</td>\n",
              "      <td>5/5/2016 5:32:18 PM</td>\n",
              "      <td>99</td>\n",
              "    </tr>\n",
              "    <tr>\n",
              "      <th>853933</th>\n",
              "      <td>4558609924</td>\n",
              "      <td>4/14/2016 11:29:30 AM</td>\n",
              "      <td>85</td>\n",
              "    </tr>\n",
              "  </tbody>\n",
              "</table>\n",
              "</div>"
            ],
            "text/plain": [
              "                Id                   Time  Value\n",
              "805767  4388161847    5/7/2016 8:15:05 PM     82\n",
              "368617  4020332650   5/2/2016 11:15:34 PM     83\n",
              "153639  2022484408   5/12/2016 2:39:30 PM     98\n",
              "454416  4020332650    5/5/2016 5:32:18 PM     99\n",
              "853933  4558609924  4/14/2016 11:29:30 AM     85"
            ]
          },
          "execution_count": 48,
          "metadata": {},
          "output_type": "execute_result"
        }
      ],
      "source": [
        "from sklearn.utils import shuffle\n",
        "\n",
        "heartRate = shuffle(heartRate)\n",
        "heartRate.head()"
      ]
    },
    {
      "cell_type": "code",
      "execution_count": null,
      "metadata": {
        "id": "vrUl7JTxcg7e"
      },
      "outputs": [],
      "source": []
    },
    {
      "cell_type": "markdown",
      "metadata": {
        "id": "Ym70WPqwYCTS"
      },
      "source": [
        "### 1.1.3. Hourly Calories"
      ]
    },
    {
      "cell_type": "code",
      "execution_count": 49,
      "metadata": {
        "colab": {
          "base_uri": "https://localhost:8080/",
          "height": 206
        },
        "id": "MN0pmFfmeK4p",
        "outputId": "d71a65c0-cda3-4554-cc82-332b7fdb9cc1"
      },
      "outputs": [
        {
          "data": {
            "text/html": [
              "<div>\n",
              "<style scoped>\n",
              "    .dataframe tbody tr th:only-of-type {\n",
              "        vertical-align: middle;\n",
              "    }\n",
              "\n",
              "    .dataframe tbody tr th {\n",
              "        vertical-align: top;\n",
              "    }\n",
              "\n",
              "    .dataframe thead th {\n",
              "        text-align: right;\n",
              "    }\n",
              "</style>\n",
              "<table border=\"1\" class=\"dataframe\">\n",
              "  <thead>\n",
              "    <tr style=\"text-align: right;\">\n",
              "      <th></th>\n",
              "      <th>Id</th>\n",
              "      <th>ActivityHour</th>\n",
              "      <th>Calories</th>\n",
              "    </tr>\n",
              "  </thead>\n",
              "  <tbody>\n",
              "    <tr>\n",
              "      <th>0</th>\n",
              "      <td>1503960366</td>\n",
              "      <td>3/12/2016 12:00:00 AM</td>\n",
              "      <td>48</td>\n",
              "    </tr>\n",
              "    <tr>\n",
              "      <th>1</th>\n",
              "      <td>1503960366</td>\n",
              "      <td>3/12/2016 1:00:00 AM</td>\n",
              "      <td>48</td>\n",
              "    </tr>\n",
              "    <tr>\n",
              "      <th>2</th>\n",
              "      <td>1503960366</td>\n",
              "      <td>3/12/2016 2:00:00 AM</td>\n",
              "      <td>48</td>\n",
              "    </tr>\n",
              "    <tr>\n",
              "      <th>3</th>\n",
              "      <td>1503960366</td>\n",
              "      <td>3/12/2016 3:00:00 AM</td>\n",
              "      <td>48</td>\n",
              "    </tr>\n",
              "    <tr>\n",
              "      <th>4</th>\n",
              "      <td>1503960366</td>\n",
              "      <td>3/12/2016 4:00:00 AM</td>\n",
              "      <td>48</td>\n",
              "    </tr>\n",
              "  </tbody>\n",
              "</table>\n",
              "</div>"
            ],
            "text/plain": [
              "           Id           ActivityHour  Calories\n",
              "0  1503960366  3/12/2016 12:00:00 AM        48\n",
              "1  1503960366   3/12/2016 1:00:00 AM        48\n",
              "2  1503960366   3/12/2016 2:00:00 AM        48\n",
              "3  1503960366   3/12/2016 3:00:00 AM        48\n",
              "4  1503960366   3/12/2016 4:00:00 AM        48"
            ]
          },
          "execution_count": 49,
          "metadata": {},
          "output_type": "execute_result"
        }
      ],
      "source": [
        "# Correct URL to the raw CSV file on GitHub\n",
        "hourlyCalories = pd.read_csv('../data/hourlyCalories_merged.csv')\n",
        "hourlyCalories.head()"
      ]
    },
    {
      "cell_type": "code",
      "execution_count": 50,
      "metadata": {
        "colab": {
          "base_uri": "https://localhost:8080/"
        },
        "id": "n844RqFyeK0T",
        "outputId": "0549f118-f419-4db4-c153-e1826d3b4c69"
      },
      "outputs": [
        {
          "name": "stdout",
          "output_type": "stream",
          "text": [
            "<class 'pandas.core.frame.DataFrame'>\n",
            "RangeIndex: 24084 entries, 0 to 24083\n",
            "Data columns (total 3 columns):\n",
            " #   Column        Non-Null Count  Dtype \n",
            "---  ------        --------------  ----- \n",
            " 0   Id            24084 non-null  int64 \n",
            " 1   ActivityHour  24084 non-null  object\n",
            " 2   Calories      24084 non-null  int64 \n",
            "dtypes: int64(2), object(1)\n",
            "memory usage: 564.6+ KB\n"
          ]
        }
      ],
      "source": [
        "hourlyCalories.info()"
      ]
    },
    {
      "cell_type": "code",
      "execution_count": 51,
      "metadata": {
        "colab": {
          "base_uri": "https://localhost:8080/",
          "height": 206
        },
        "id": "h2cV6JWfeKuG",
        "outputId": "e75575d0-634e-4f18-f7d8-d79e075af2e7"
      },
      "outputs": [
        {
          "data": {
            "text/html": [
              "<div>\n",
              "<style scoped>\n",
              "    .dataframe tbody tr th:only-of-type {\n",
              "        vertical-align: middle;\n",
              "    }\n",
              "\n",
              "    .dataframe tbody tr th {\n",
              "        vertical-align: top;\n",
              "    }\n",
              "\n",
              "    .dataframe thead th {\n",
              "        text-align: right;\n",
              "    }\n",
              "</style>\n",
              "<table border=\"1\" class=\"dataframe\">\n",
              "  <thead>\n",
              "    <tr style=\"text-align: right;\">\n",
              "      <th></th>\n",
              "      <th>Id</th>\n",
              "      <th>ActivityHour</th>\n",
              "      <th>Calories</th>\n",
              "    </tr>\n",
              "  </thead>\n",
              "  <tbody>\n",
              "    <tr>\n",
              "      <th>6197</th>\n",
              "      <td>2347167796</td>\n",
              "      <td>3/21/2016 12:00:00 PM</td>\n",
              "      <td>81</td>\n",
              "    </tr>\n",
              "    <tr>\n",
              "      <th>236</th>\n",
              "      <td>1503960366</td>\n",
              "      <td>3/21/2016 8:00:00 PM</td>\n",
              "      <td>67</td>\n",
              "    </tr>\n",
              "    <tr>\n",
              "      <th>22521</th>\n",
              "      <td>8583815059</td>\n",
              "      <td>4/6/2016 10:00:00 AM</td>\n",
              "      <td>118</td>\n",
              "    </tr>\n",
              "    <tr>\n",
              "      <th>6226</th>\n",
              "      <td>2347167796</td>\n",
              "      <td>3/22/2016 5:00:00 PM</td>\n",
              "      <td>88</td>\n",
              "    </tr>\n",
              "    <tr>\n",
              "      <th>5273</th>\n",
              "      <td>2320127002</td>\n",
              "      <td>3/14/2016 11:00:00 AM</td>\n",
              "      <td>55</td>\n",
              "    </tr>\n",
              "  </tbody>\n",
              "</table>\n",
              "</div>"
            ],
            "text/plain": [
              "               Id           ActivityHour  Calories\n",
              "6197   2347167796  3/21/2016 12:00:00 PM        81\n",
              "236    1503960366   3/21/2016 8:00:00 PM        67\n",
              "22521  8583815059   4/6/2016 10:00:00 AM       118\n",
              "6226   2347167796   3/22/2016 5:00:00 PM        88\n",
              "5273   2320127002  3/14/2016 11:00:00 AM        55"
            ]
          },
          "execution_count": 51,
          "metadata": {},
          "output_type": "execute_result"
        }
      ],
      "source": [
        "from sklearn.utils import shuffle\n",
        "\n",
        "hourlyCalories = shuffle(hourlyCalories)\n",
        "hourlyCalories.head()"
      ]
    },
    {
      "cell_type": "markdown",
      "metadata": {
        "id": "lymtP8-MYDw7"
      },
      "source": [
        "### 1.1.4. Hourly Intensities"
      ]
    },
    {
      "cell_type": "code",
      "execution_count": 52,
      "metadata": {
        "colab": {
          "base_uri": "https://localhost:8080/",
          "height": 206
        },
        "id": "JKNO4CwnesjX",
        "outputId": "77ca0b2e-e46a-46f8-8e65-c127b87fcb0f"
      },
      "outputs": [
        {
          "data": {
            "text/html": [
              "<div>\n",
              "<style scoped>\n",
              "    .dataframe tbody tr th:only-of-type {\n",
              "        vertical-align: middle;\n",
              "    }\n",
              "\n",
              "    .dataframe tbody tr th {\n",
              "        vertical-align: top;\n",
              "    }\n",
              "\n",
              "    .dataframe thead th {\n",
              "        text-align: right;\n",
              "    }\n",
              "</style>\n",
              "<table border=\"1\" class=\"dataframe\">\n",
              "  <thead>\n",
              "    <tr style=\"text-align: right;\">\n",
              "      <th></th>\n",
              "      <th>Id</th>\n",
              "      <th>ActivityHour</th>\n",
              "      <th>Calories</th>\n",
              "    </tr>\n",
              "  </thead>\n",
              "  <tbody>\n",
              "    <tr>\n",
              "      <th>0</th>\n",
              "      <td>1503960366</td>\n",
              "      <td>3/12/2016 12:00:00 AM</td>\n",
              "      <td>48</td>\n",
              "    </tr>\n",
              "    <tr>\n",
              "      <th>1</th>\n",
              "      <td>1503960366</td>\n",
              "      <td>3/12/2016 1:00:00 AM</td>\n",
              "      <td>48</td>\n",
              "    </tr>\n",
              "    <tr>\n",
              "      <th>2</th>\n",
              "      <td>1503960366</td>\n",
              "      <td>3/12/2016 2:00:00 AM</td>\n",
              "      <td>48</td>\n",
              "    </tr>\n",
              "    <tr>\n",
              "      <th>3</th>\n",
              "      <td>1503960366</td>\n",
              "      <td>3/12/2016 3:00:00 AM</td>\n",
              "      <td>48</td>\n",
              "    </tr>\n",
              "    <tr>\n",
              "      <th>4</th>\n",
              "      <td>1503960366</td>\n",
              "      <td>3/12/2016 4:00:00 AM</td>\n",
              "      <td>48</td>\n",
              "    </tr>\n",
              "  </tbody>\n",
              "</table>\n",
              "</div>"
            ],
            "text/plain": [
              "           Id           ActivityHour  Calories\n",
              "0  1503960366  3/12/2016 12:00:00 AM        48\n",
              "1  1503960366   3/12/2016 1:00:00 AM        48\n",
              "2  1503960366   3/12/2016 2:00:00 AM        48\n",
              "3  1503960366   3/12/2016 3:00:00 AM        48\n",
              "4  1503960366   3/12/2016 4:00:00 AM        48"
            ]
          },
          "execution_count": 52,
          "metadata": {},
          "output_type": "execute_result"
        }
      ],
      "source": [
        "# Correct URL to the raw CSV file on GitHub\n",
        "hourlyIntensities = pd.read_csv('../data/hourlyCalories_merged.csv')\n",
        "hourlyIntensities.head()"
      ]
    },
    {
      "cell_type": "code",
      "execution_count": 53,
      "metadata": {
        "colab": {
          "base_uri": "https://localhost:8080/"
        },
        "id": "DJUkWiTAeseS",
        "outputId": "8cd7c1e2-0e47-4781-ef46-a83ca54c6c27"
      },
      "outputs": [
        {
          "name": "stdout",
          "output_type": "stream",
          "text": [
            "<class 'pandas.core.frame.DataFrame'>\n",
            "RangeIndex: 24084 entries, 0 to 24083\n",
            "Data columns (total 3 columns):\n",
            " #   Column        Non-Null Count  Dtype \n",
            "---  ------        --------------  ----- \n",
            " 0   Id            24084 non-null  int64 \n",
            " 1   ActivityHour  24084 non-null  object\n",
            " 2   Calories      24084 non-null  int64 \n",
            "dtypes: int64(2), object(1)\n",
            "memory usage: 564.6+ KB\n"
          ]
        }
      ],
      "source": [
        "hourlyIntensities.info()"
      ]
    },
    {
      "cell_type": "code",
      "execution_count": 54,
      "metadata": {
        "colab": {
          "base_uri": "https://localhost:8080/",
          "height": 206
        },
        "id": "o-TZXMA6esZI",
        "outputId": "a9c9b03d-a338-4fee-94f8-ee9c9a05924b"
      },
      "outputs": [
        {
          "data": {
            "text/html": [
              "<div>\n",
              "<style scoped>\n",
              "    .dataframe tbody tr th:only-of-type {\n",
              "        vertical-align: middle;\n",
              "    }\n",
              "\n",
              "    .dataframe tbody tr th {\n",
              "        vertical-align: top;\n",
              "    }\n",
              "\n",
              "    .dataframe thead th {\n",
              "        text-align: right;\n",
              "    }\n",
              "</style>\n",
              "<table border=\"1\" class=\"dataframe\">\n",
              "  <thead>\n",
              "    <tr style=\"text-align: right;\">\n",
              "      <th></th>\n",
              "      <th>Id</th>\n",
              "      <th>ActivityHour</th>\n",
              "      <th>Calories</th>\n",
              "    </tr>\n",
              "  </thead>\n",
              "  <tbody>\n",
              "    <tr>\n",
              "      <th>10746</th>\n",
              "      <td>4319703577</td>\n",
              "      <td>3/25/2016 5:00:00 AM</td>\n",
              "      <td>62</td>\n",
              "    </tr>\n",
              "    <tr>\n",
              "      <th>17623</th>\n",
              "      <td>6962181067</td>\n",
              "      <td>3/21/2016 2:00:00 AM</td>\n",
              "      <td>55</td>\n",
              "    </tr>\n",
              "    <tr>\n",
              "      <th>1922</th>\n",
              "      <td>1644430081</td>\n",
              "      <td>3/29/2016 3:00:00 PM</td>\n",
              "      <td>125</td>\n",
              "    </tr>\n",
              "    <tr>\n",
              "      <th>7605</th>\n",
              "      <td>3372868164</td>\n",
              "      <td>3/17/2016 1:00:00 PM</td>\n",
              "      <td>70</td>\n",
              "    </tr>\n",
              "    <tr>\n",
              "      <th>22075</th>\n",
              "      <td>8583815059</td>\n",
              "      <td>3/18/2016 8:00:00 PM</td>\n",
              "      <td>84</td>\n",
              "    </tr>\n",
              "  </tbody>\n",
              "</table>\n",
              "</div>"
            ],
            "text/plain": [
              "               Id          ActivityHour  Calories\n",
              "10746  4319703577  3/25/2016 5:00:00 AM        62\n",
              "17623  6962181067  3/21/2016 2:00:00 AM        55\n",
              "1922   1644430081  3/29/2016 3:00:00 PM       125\n",
              "7605   3372868164  3/17/2016 1:00:00 PM        70\n",
              "22075  8583815059  3/18/2016 8:00:00 PM        84"
            ]
          },
          "execution_count": 54,
          "metadata": {},
          "output_type": "execute_result"
        }
      ],
      "source": [
        "from sklearn.utils import shuffle\n",
        "\n",
        "hourlyIntensities = shuffle(hourlyIntensities)\n",
        "hourlyIntensities.head()"
      ]
    },
    {
      "cell_type": "markdown",
      "metadata": {
        "id": "TQWHRQEhYEJN"
      },
      "source": [
        "### 1.1.5. Sleep Day"
      ]
    },
    {
      "cell_type": "code",
      "execution_count": 55,
      "metadata": {
        "colab": {
          "base_uri": "https://localhost:8080/",
          "height": 206
        },
        "id": "7-R2_A_Efhml",
        "outputId": "383284a6-6b44-49fe-f155-82ab452a6218"
      },
      "outputs": [
        {
          "data": {
            "text/html": [
              "<div>\n",
              "<style scoped>\n",
              "    .dataframe tbody tr th:only-of-type {\n",
              "        vertical-align: middle;\n",
              "    }\n",
              "\n",
              "    .dataframe tbody tr th {\n",
              "        vertical-align: top;\n",
              "    }\n",
              "\n",
              "    .dataframe thead th {\n",
              "        text-align: right;\n",
              "    }\n",
              "</style>\n",
              "<table border=\"1\" class=\"dataframe\">\n",
              "  <thead>\n",
              "    <tr style=\"text-align: right;\">\n",
              "      <th></th>\n",
              "      <th>Id</th>\n",
              "      <th>SleepDay</th>\n",
              "      <th>TotalSleepRecords</th>\n",
              "      <th>TotalMinutesAsleep</th>\n",
              "      <th>TotalTimeInBed</th>\n",
              "    </tr>\n",
              "  </thead>\n",
              "  <tbody>\n",
              "    <tr>\n",
              "      <th>0</th>\n",
              "      <td>1503960366</td>\n",
              "      <td>4/12/2016 12:00:00 AM</td>\n",
              "      <td>1</td>\n",
              "      <td>327</td>\n",
              "      <td>346</td>\n",
              "    </tr>\n",
              "    <tr>\n",
              "      <th>1</th>\n",
              "      <td>1503960366</td>\n",
              "      <td>4/13/2016 12:00:00 AM</td>\n",
              "      <td>2</td>\n",
              "      <td>384</td>\n",
              "      <td>407</td>\n",
              "    </tr>\n",
              "    <tr>\n",
              "      <th>2</th>\n",
              "      <td>1503960366</td>\n",
              "      <td>4/15/2016 12:00:00 AM</td>\n",
              "      <td>1</td>\n",
              "      <td>412</td>\n",
              "      <td>442</td>\n",
              "    </tr>\n",
              "    <tr>\n",
              "      <th>3</th>\n",
              "      <td>1503960366</td>\n",
              "      <td>4/16/2016 12:00:00 AM</td>\n",
              "      <td>2</td>\n",
              "      <td>340</td>\n",
              "      <td>367</td>\n",
              "    </tr>\n",
              "    <tr>\n",
              "      <th>4</th>\n",
              "      <td>1503960366</td>\n",
              "      <td>4/17/2016 12:00:00 AM</td>\n",
              "      <td>1</td>\n",
              "      <td>700</td>\n",
              "      <td>712</td>\n",
              "    </tr>\n",
              "  </tbody>\n",
              "</table>\n",
              "</div>"
            ],
            "text/plain": [
              "           Id               SleepDay  TotalSleepRecords  TotalMinutesAsleep  \\\n",
              "0  1503960366  4/12/2016 12:00:00 AM                  1                 327   \n",
              "1  1503960366  4/13/2016 12:00:00 AM                  2                 384   \n",
              "2  1503960366  4/15/2016 12:00:00 AM                  1                 412   \n",
              "3  1503960366  4/16/2016 12:00:00 AM                  2                 340   \n",
              "4  1503960366  4/17/2016 12:00:00 AM                  1                 700   \n",
              "\n",
              "   TotalTimeInBed  \n",
              "0             346  \n",
              "1             407  \n",
              "2             442  \n",
              "3             367  \n",
              "4             712  "
            ]
          },
          "execution_count": 55,
          "metadata": {},
          "output_type": "execute_result"
        }
      ],
      "source": [
        "# Correct URL to the raw CSV file on GitHub\n",
        "sleepDay = pd.read_csv('../data/sleepDay_merged.csv')\n",
        "sleepDay.head()"
      ]
    },
    {
      "cell_type": "code",
      "execution_count": 56,
      "metadata": {
        "colab": {
          "base_uri": "https://localhost:8080/"
        },
        "id": "gn7bBx1Evdzx",
        "outputId": "c454d1e5-ab5d-4eb1-8da6-124ab456ade2"
      },
      "outputs": [
        {
          "name": "stdout",
          "output_type": "stream",
          "text": [
            "<class 'pandas.core.frame.DataFrame'>\n",
            "RangeIndex: 413 entries, 0 to 412\n",
            "Data columns (total 5 columns):\n",
            " #   Column              Non-Null Count  Dtype \n",
            "---  ------              --------------  ----- \n",
            " 0   Id                  413 non-null    int64 \n",
            " 1   SleepDay            413 non-null    object\n",
            " 2   TotalSleepRecords   413 non-null    int64 \n",
            " 3   TotalMinutesAsleep  413 non-null    int64 \n",
            " 4   TotalTimeInBed      413 non-null    int64 \n",
            "dtypes: int64(4), object(1)\n",
            "memory usage: 16.3+ KB\n"
          ]
        }
      ],
      "source": [
        "sleepDay.info()"
      ]
    },
    {
      "cell_type": "code",
      "execution_count": 57,
      "metadata": {
        "colab": {
          "base_uri": "https://localhost:8080/",
          "height": 206
        },
        "id": "_mYlYUWHf37A",
        "outputId": "841d4d20-85a5-457f-c589-c9a09dab2730"
      },
      "outputs": [
        {
          "data": {
            "text/html": [
              "<div>\n",
              "<style scoped>\n",
              "    .dataframe tbody tr th:only-of-type {\n",
              "        vertical-align: middle;\n",
              "    }\n",
              "\n",
              "    .dataframe tbody tr th {\n",
              "        vertical-align: top;\n",
              "    }\n",
              "\n",
              "    .dataframe thead th {\n",
              "        text-align: right;\n",
              "    }\n",
              "</style>\n",
              "<table border=\"1\" class=\"dataframe\">\n",
              "  <thead>\n",
              "    <tr style=\"text-align: right;\">\n",
              "      <th></th>\n",
              "      <th>Id</th>\n",
              "      <th>SleepDay</th>\n",
              "      <th>TotalSleepRecords</th>\n",
              "      <th>TotalMinutesAsleep</th>\n",
              "      <th>TotalTimeInBed</th>\n",
              "    </tr>\n",
              "  </thead>\n",
              "  <tbody>\n",
              "    <tr>\n",
              "      <th>398</th>\n",
              "      <td>8792009665</td>\n",
              "      <td>4/12/2016 12:00:00 AM</td>\n",
              "      <td>1</td>\n",
              "      <td>458</td>\n",
              "      <td>493</td>\n",
              "    </tr>\n",
              "    <tr>\n",
              "      <th>371</th>\n",
              "      <td>8378563200</td>\n",
              "      <td>4/17/2016 12:00:00 AM</td>\n",
              "      <td>2</td>\n",
              "      <td>525</td>\n",
              "      <td>591</td>\n",
              "    </tr>\n",
              "    <tr>\n",
              "      <th>63</th>\n",
              "      <td>2026352035</td>\n",
              "      <td>5/11/2016 12:00:00 AM</td>\n",
              "      <td>1</td>\n",
              "      <td>523</td>\n",
              "      <td>553</td>\n",
              "    </tr>\n",
              "    <tr>\n",
              "      <th>14</th>\n",
              "      <td>1503960366</td>\n",
              "      <td>4/30/2016 12:00:00 AM</td>\n",
              "      <td>1</td>\n",
              "      <td>404</td>\n",
              "      <td>425</td>\n",
              "    </tr>\n",
              "    <tr>\n",
              "      <th>146</th>\n",
              "      <td>4388161847</td>\n",
              "      <td>4/18/2016 12:00:00 AM</td>\n",
              "      <td>1</td>\n",
              "      <td>99</td>\n",
              "      <td>104</td>\n",
              "    </tr>\n",
              "  </tbody>\n",
              "</table>\n",
              "</div>"
            ],
            "text/plain": [
              "             Id               SleepDay  TotalSleepRecords  TotalMinutesAsleep  \\\n",
              "398  8792009665  4/12/2016 12:00:00 AM                  1                 458   \n",
              "371  8378563200  4/17/2016 12:00:00 AM                  2                 525   \n",
              "63   2026352035  5/11/2016 12:00:00 AM                  1                 523   \n",
              "14   1503960366  4/30/2016 12:00:00 AM                  1                 404   \n",
              "146  4388161847  4/18/2016 12:00:00 AM                  1                  99   \n",
              "\n",
              "     TotalTimeInBed  \n",
              "398             493  \n",
              "371             591  \n",
              "63              553  \n",
              "14              425  \n",
              "146             104  "
            ]
          },
          "execution_count": 57,
          "metadata": {},
          "output_type": "execute_result"
        }
      ],
      "source": [
        "from sklearn.utils import shuffle\n",
        "\n",
        "sleepDay = shuffle(sleepDay)\n",
        "sleepDay.head()"
      ]
    },
    {
      "cell_type": "markdown",
      "metadata": {
        "id": "GTWHkf8BYCyl"
      },
      "source": [
        "### 1.1.6. Weight Info"
      ]
    },
    {
      "cell_type": "code",
      "execution_count": 58,
      "metadata": {
        "colab": {
          "base_uri": "https://localhost:8080/",
          "height": 206
        },
        "id": "Xc5i4htQgM6s",
        "outputId": "30d878dc-c473-4d4b-e07f-87b57cdbb7cc"
      },
      "outputs": [
        {
          "data": {
            "text/html": [
              "<div>\n",
              "<style scoped>\n",
              "    .dataframe tbody tr th:only-of-type {\n",
              "        vertical-align: middle;\n",
              "    }\n",
              "\n",
              "    .dataframe tbody tr th {\n",
              "        vertical-align: top;\n",
              "    }\n",
              "\n",
              "    .dataframe thead th {\n",
              "        text-align: right;\n",
              "    }\n",
              "</style>\n",
              "<table border=\"1\" class=\"dataframe\">\n",
              "  <thead>\n",
              "    <tr style=\"text-align: right;\">\n",
              "      <th></th>\n",
              "      <th>Id</th>\n",
              "      <th>Date</th>\n",
              "      <th>WeightKg</th>\n",
              "      <th>WeightPounds</th>\n",
              "      <th>Fat</th>\n",
              "      <th>BMI</th>\n",
              "      <th>IsManualReport</th>\n",
              "      <th>LogId</th>\n",
              "    </tr>\n",
              "  </thead>\n",
              "  <tbody>\n",
              "    <tr>\n",
              "      <th>0</th>\n",
              "      <td>1503960366</td>\n",
              "      <td>5/2/2016 11:59:59 PM</td>\n",
              "      <td>52.599998</td>\n",
              "      <td>115.963147</td>\n",
              "      <td>22.0</td>\n",
              "      <td>22.650000</td>\n",
              "      <td>True</td>\n",
              "      <td>1462233599000</td>\n",
              "    </tr>\n",
              "    <tr>\n",
              "      <th>1</th>\n",
              "      <td>1503960366</td>\n",
              "      <td>5/3/2016 11:59:59 PM</td>\n",
              "      <td>52.599998</td>\n",
              "      <td>115.963147</td>\n",
              "      <td>NaN</td>\n",
              "      <td>22.650000</td>\n",
              "      <td>True</td>\n",
              "      <td>1462319999000</td>\n",
              "    </tr>\n",
              "    <tr>\n",
              "      <th>2</th>\n",
              "      <td>1927972279</td>\n",
              "      <td>4/13/2016 1:08:52 AM</td>\n",
              "      <td>133.500000</td>\n",
              "      <td>294.317120</td>\n",
              "      <td>NaN</td>\n",
              "      <td>47.540001</td>\n",
              "      <td>False</td>\n",
              "      <td>1460509732000</td>\n",
              "    </tr>\n",
              "    <tr>\n",
              "      <th>3</th>\n",
              "      <td>2873212765</td>\n",
              "      <td>4/21/2016 11:59:59 PM</td>\n",
              "      <td>56.700001</td>\n",
              "      <td>125.002104</td>\n",
              "      <td>NaN</td>\n",
              "      <td>21.450001</td>\n",
              "      <td>True</td>\n",
              "      <td>1461283199000</td>\n",
              "    </tr>\n",
              "    <tr>\n",
              "      <th>4</th>\n",
              "      <td>2873212765</td>\n",
              "      <td>5/12/2016 11:59:59 PM</td>\n",
              "      <td>57.299999</td>\n",
              "      <td>126.324875</td>\n",
              "      <td>NaN</td>\n",
              "      <td>21.690001</td>\n",
              "      <td>True</td>\n",
              "      <td>1463097599000</td>\n",
              "    </tr>\n",
              "  </tbody>\n",
              "</table>\n",
              "</div>"
            ],
            "text/plain": [
              "           Id                   Date    WeightKg  WeightPounds   Fat  \\\n",
              "0  1503960366   5/2/2016 11:59:59 PM   52.599998    115.963147  22.0   \n",
              "1  1503960366   5/3/2016 11:59:59 PM   52.599998    115.963147   NaN   \n",
              "2  1927972279   4/13/2016 1:08:52 AM  133.500000    294.317120   NaN   \n",
              "3  2873212765  4/21/2016 11:59:59 PM   56.700001    125.002104   NaN   \n",
              "4  2873212765  5/12/2016 11:59:59 PM   57.299999    126.324875   NaN   \n",
              "\n",
              "         BMI  IsManualReport          LogId  \n",
              "0  22.650000            True  1462233599000  \n",
              "1  22.650000            True  1462319999000  \n",
              "2  47.540001           False  1460509732000  \n",
              "3  21.450001            True  1461283199000  \n",
              "4  21.690001            True  1463097599000  "
            ]
          },
          "execution_count": 58,
          "metadata": {},
          "output_type": "execute_result"
        }
      ],
      "source": [
        "# Correct URL to the raw CSV file on GitHub\n",
        "weightLogInfo = pd.read_csv('../data/weightLogInfo_merged.csv')\n",
        "weightLogInfo.head()"
      ]
    },
    {
      "cell_type": "code",
      "execution_count": 59,
      "metadata": {
        "colab": {
          "base_uri": "https://localhost:8080/"
        },
        "id": "Zo9gSPbqwGBh",
        "outputId": "ec6c9c3e-a93c-44af-8125-195682630dea"
      },
      "outputs": [
        {
          "name": "stdout",
          "output_type": "stream",
          "text": [
            "<class 'pandas.core.frame.DataFrame'>\n",
            "RangeIndex: 67 entries, 0 to 66\n",
            "Data columns (total 8 columns):\n",
            " #   Column          Non-Null Count  Dtype  \n",
            "---  ------          --------------  -----  \n",
            " 0   Id              67 non-null     int64  \n",
            " 1   Date            67 non-null     object \n",
            " 2   WeightKg        67 non-null     float64\n",
            " 3   WeightPounds    67 non-null     float64\n",
            " 4   Fat             2 non-null      float64\n",
            " 5   BMI             67 non-null     float64\n",
            " 6   IsManualReport  67 non-null     bool   \n",
            " 7   LogId           67 non-null     int64  \n",
            "dtypes: bool(1), float64(4), int64(2), object(1)\n",
            "memory usage: 3.9+ KB\n"
          ]
        }
      ],
      "source": [
        "weightLogInfo.info()"
      ]
    },
    {
      "cell_type": "code",
      "execution_count": 60,
      "metadata": {
        "colab": {
          "base_uri": "https://localhost:8080/",
          "height": 206
        },
        "id": "upfxF_-agxsZ",
        "outputId": "a237f605-5046-46ce-b113-f4433e6b1fa7"
      },
      "outputs": [
        {
          "data": {
            "text/html": [
              "<div>\n",
              "<style scoped>\n",
              "    .dataframe tbody tr th:only-of-type {\n",
              "        vertical-align: middle;\n",
              "    }\n",
              "\n",
              "    .dataframe tbody tr th {\n",
              "        vertical-align: top;\n",
              "    }\n",
              "\n",
              "    .dataframe thead th {\n",
              "        text-align: right;\n",
              "    }\n",
              "</style>\n",
              "<table border=\"1\" class=\"dataframe\">\n",
              "  <thead>\n",
              "    <tr style=\"text-align: right;\">\n",
              "      <th></th>\n",
              "      <th>Id</th>\n",
              "      <th>Date</th>\n",
              "      <th>WeightKg</th>\n",
              "      <th>WeightPounds</th>\n",
              "      <th>Fat</th>\n",
              "      <th>BMI</th>\n",
              "      <th>IsManualReport</th>\n",
              "      <th>LogId</th>\n",
              "    </tr>\n",
              "  </thead>\n",
              "  <tbody>\n",
              "    <tr>\n",
              "      <th>20</th>\n",
              "      <td>6962181067</td>\n",
              "      <td>4/19/2016 11:59:59 PM</td>\n",
              "      <td>61.400002</td>\n",
              "      <td>135.363832</td>\n",
              "      <td>NaN</td>\n",
              "      <td>23.959999</td>\n",
              "      <td>True</td>\n",
              "      <td>1461110399000</td>\n",
              "    </tr>\n",
              "    <tr>\n",
              "      <th>55</th>\n",
              "      <td>8877689391</td>\n",
              "      <td>4/27/2016 6:51:05 AM</td>\n",
              "      <td>85.400002</td>\n",
              "      <td>188.274775</td>\n",
              "      <td>NaN</td>\n",
              "      <td>25.559999</td>\n",
              "      <td>False</td>\n",
              "      <td>1461739865000</td>\n",
              "    </tr>\n",
              "    <tr>\n",
              "      <th>2</th>\n",
              "      <td>1927972279</td>\n",
              "      <td>4/13/2016 1:08:52 AM</td>\n",
              "      <td>133.500000</td>\n",
              "      <td>294.317120</td>\n",
              "      <td>NaN</td>\n",
              "      <td>47.540001</td>\n",
              "      <td>False</td>\n",
              "      <td>1460509732000</td>\n",
              "    </tr>\n",
              "    <tr>\n",
              "      <th>64</th>\n",
              "      <td>8877689391</td>\n",
              "      <td>5/9/2016 6:39:44 AM</td>\n",
              "      <td>85.500000</td>\n",
              "      <td>188.495234</td>\n",
              "      <td>NaN</td>\n",
              "      <td>25.610001</td>\n",
              "      <td>False</td>\n",
              "      <td>1462775984000</td>\n",
              "    </tr>\n",
              "    <tr>\n",
              "      <th>60</th>\n",
              "      <td>8877689391</td>\n",
              "      <td>5/3/2016 6:49:41 AM</td>\n",
              "      <td>84.900002</td>\n",
              "      <td>187.172464</td>\n",
              "      <td>NaN</td>\n",
              "      <td>25.410000</td>\n",
              "      <td>False</td>\n",
              "      <td>1462258181000</td>\n",
              "    </tr>\n",
              "  </tbody>\n",
              "</table>\n",
              "</div>"
            ],
            "text/plain": [
              "            Id                   Date    WeightKg  WeightPounds  Fat  \\\n",
              "20  6962181067  4/19/2016 11:59:59 PM   61.400002    135.363832  NaN   \n",
              "55  8877689391   4/27/2016 6:51:05 AM   85.400002    188.274775  NaN   \n",
              "2   1927972279   4/13/2016 1:08:52 AM  133.500000    294.317120  NaN   \n",
              "64  8877689391    5/9/2016 6:39:44 AM   85.500000    188.495234  NaN   \n",
              "60  8877689391    5/3/2016 6:49:41 AM   84.900002    187.172464  NaN   \n",
              "\n",
              "          BMI  IsManualReport          LogId  \n",
              "20  23.959999            True  1461110399000  \n",
              "55  25.559999           False  1461739865000  \n",
              "2   47.540001           False  1460509732000  \n",
              "64  25.610001           False  1462775984000  \n",
              "60  25.410000           False  1462258181000  "
            ]
          },
          "execution_count": 60,
          "metadata": {},
          "output_type": "execute_result"
        }
      ],
      "source": [
        "from sklearn.utils import shuffle\n",
        "\n",
        "weightLogInfo = shuffle(weightLogInfo)\n",
        "weightLogInfo.head()"
      ]
    },
    {
      "cell_type": "markdown",
      "metadata": {
        "id": "GqhSiLhygxRI"
      },
      "source": []
    },
    {
      "cell_type": "markdown",
      "metadata": {
        "id": "UURLcvjwZbWv"
      },
      "source": [
        "## 1.2. Data Preprocessing"
      ]
    },
    {
      "cell_type": "markdown",
      "metadata": {
        "id": "PlJiX_K-ZbZM"
      },
      "source": [
        "### 1.2.1. Cleaning the datasets"
      ]
    },
    {
      "cell_type": "markdown",
      "metadata": {},
      "source": [
        "#### 1.2.1.a. Convert all the date columns into datetime object and rename it as ActivityDate"
      ]
    },
    {
      "cell_type": "code",
      "execution_count": 61,
      "metadata": {},
      "outputs": [],
      "source": [
        "dailyActivity['ActivityDate'] = pd.to_datetime(dailyActivity['ActivityDate'])"
      ]
    },
    {
      "cell_type": "code",
      "execution_count": 62,
      "metadata": {},
      "outputs": [
        {
          "name": "stderr",
          "output_type": "stream",
          "text": [
            "C:\\Users\\Admin\\AppData\\Local\\Temp\\ipykernel_21256\\416243218.py:4: UserWarning: Could not infer format, so each element will be parsed individually, falling back to `dateutil`. To ensure parsing is consistent and as-expected, please specify a format.\n",
            "  df[date_col] = pd.to_datetime(df[date_col])\n",
            "C:\\Users\\Admin\\AppData\\Local\\Temp\\ipykernel_21256\\416243218.py:4: UserWarning: Could not infer format, so each element will be parsed individually, falling back to `dateutil`. To ensure parsing is consistent and as-expected, please specify a format.\n",
            "  df[date_col] = pd.to_datetime(df[date_col])\n"
          ]
        },
        {
          "name": "stdout",
          "output_type": "stream",
          "text": [
            "DataFrame 1:\n",
            "              Id  TotalSleepRecords  TotalMinutesAsleep  TotalTimeInBed  \\\n",
            "398  8792009665                  1                 458             493   \n",
            "371  8378563200                  2                 525             591   \n",
            "63   2026352035                  1                 523             553   \n",
            "14   1503960366                  1                 404             425   \n",
            "146  4388161847                  1                  99             104   \n",
            "\n",
            "    ActivityDate ActivityTime  \n",
            "398   2016-04-12  12:00:00 AM  \n",
            "371   2016-04-17  12:00:00 AM  \n",
            "63    2016-05-11  12:00:00 AM  \n",
            "14    2016-04-30  12:00:00 AM  \n",
            "146   2016-04-18  12:00:00 AM  \n",
            "datetime64[ns]\n",
            "DataFrame 2:\n",
            "                Id  Calories ActivityDate ActivityTime\n",
            "6197   2347167796        81   2016-03-21  12:00:00 PM\n",
            "236    1503960366        67   2016-03-21  08:00:00 PM\n",
            "22521  8583815059       118   2016-04-06  10:00:00 AM\n",
            "6226   2347167796        88   2016-03-22  05:00:00 PM\n",
            "5273   2320127002        55   2016-03-14  11:00:00 AM\n",
            "datetime64[ns]\n",
            "DataFrame 3:\n",
            "                Id  Calories ActivityDate ActivityTime\n",
            "10746  4319703577        62   2016-03-25  05:00:00 AM\n",
            "17623  6962181067        55   2016-03-21  02:00:00 AM\n",
            "1922   1644430081       125   2016-03-29  03:00:00 PM\n",
            "7605   3372868164        70   2016-03-17  01:00:00 PM\n",
            "22075  8583815059        84   2016-03-18  08:00:00 PM\n",
            "datetime64[ns]\n",
            "DataFrame 4:\n",
            "                 Id  Value ActivityDate ActivityTime\n",
            "805767  4388161847     82   2016-05-07  08:15:05 PM\n",
            "368617  4020332650     83   2016-05-02  11:15:34 PM\n",
            "153639  2022484408     98   2016-05-12  02:39:30 PM\n",
            "454416  4020332650     99   2016-05-05  05:32:18 PM\n",
            "853933  4558609924     85   2016-04-14  11:29:30 AM\n",
            "datetime64[ns]\n",
            "DataFrame 5:\n",
            "             Id    WeightKg  WeightPounds  Fat        BMI  IsManualReport  \\\n",
            "20  6962181067   61.400002    135.363832  NaN  23.959999            True   \n",
            "55  8877689391   85.400002    188.274775  NaN  25.559999           False   \n",
            "2   1927972279  133.500000    294.317120  NaN  47.540001           False   \n",
            "64  8877689391   85.500000    188.495234  NaN  25.610001           False   \n",
            "60  8877689391   84.900002    187.172464  NaN  25.410000           False   \n",
            "\n",
            "            LogId ActivityDate ActivityTime  \n",
            "20  1461110399000   2016-04-19  11:59:59 PM  \n",
            "55  1461739865000   2016-04-27  06:51:05 AM  \n",
            "2   1460509732000   2016-04-13  01:08:52 AM  \n",
            "64  1462775984000   2016-05-09  06:39:44 AM  \n",
            "60  1462258181000   2016-05-03  06:49:41 AM  \n",
            "datetime64[ns]\n"
          ]
        },
        {
          "name": "stderr",
          "output_type": "stream",
          "text": [
            "C:\\Users\\Admin\\AppData\\Local\\Temp\\ipykernel_21256\\416243218.py:4: UserWarning: Could not infer format, so each element will be parsed individually, falling back to `dateutil`. To ensure parsing is consistent and as-expected, please specify a format.\n",
            "  df[date_col] = pd.to_datetime(df[date_col])\n"
          ]
        }
      ],
      "source": [
        "def process_dataframe(df):\n",
        "    # converting date column to datetime\n",
        "    date_col = df.columns[1]\n",
        "    df[date_col] = pd.to_datetime(df[date_col])\n",
        "\n",
        "    # Creating separate 'date' and 'time' columns\n",
        "    df['ActivityDate'] = df[date_col].dt.date\n",
        "    df['ActivityTime'] = df[date_col].dt.strftime('%I:%M:%S %p')\n",
        "    df['ActivityDate'] = pd.to_datetime(df['ActivityDate'])\n",
        "    df.drop(columns=[date_col],inplace=True)\n",
        "\n",
        "    return df\n",
        "\n",
        "dataframes = [sleepDay, hourlyCalories, hourlyIntensities, heartRate, weightLogInfo]\n",
        "\n",
        "for i, df in enumerate(dataframes):\n",
        "    dataframes[i] = process_dataframe(df)\n",
        "\n",
        "for i, df in enumerate(dataframes, 1):\n",
        "    print(f\"DataFrame {i}:\\n\", df.head())\n",
        "    print(df['ActivityDate'].dtypes)"
      ]
    },
    {
      "cell_type": "markdown",
      "metadata": {},
      "source": [
        "#### 1.2.1.b.  Check if there are any duplicate records"
      ]
    },
    {
      "cell_type": "code",
      "execution_count": 63,
      "metadata": {},
      "outputs": [
        {
          "name": "stdout",
          "output_type": "stream",
          "text": [
            "\n",
            " Duplicates in activity record:\n",
            "Empty DataFrame\n",
            "Columns: [Id, ActivityDate, Count]\n",
            "Index: []\n",
            "\n",
            "Duplicates in sleep record:\n",
            "             Id ActivityDate ActivityTime  TotalSleepRecords  Count\n",
            "160  4388161847   2016-05-05  12:00:00 AM                  1      2\n",
            "221  4702921684   2016-05-07  12:00:00 AM                  1      2\n",
            "377  8378563200   2016-04-25  12:00:00 AM                  1      2\n",
            "\n",
            "Duplicates in hourly calories record:\n",
            "Empty DataFrame\n",
            "Columns: [Id, ActivityDate, ActivityTime, Count]\n",
            "Index: []\n",
            "\n",
            "Duplicates in hourly intensities record:\n",
            "Empty DataFrame\n",
            "Columns: [Id, ActivityDate, ActivityTime, Count]\n",
            "Index: []\n",
            "\n",
            "Duplicates in heartrate seconds record:\n",
            "Empty DataFrame\n",
            "Columns: [Id, ActivityDate, ActivityTime, Count]\n",
            "Index: []\n"
          ]
        }
      ],
      "source": [
        "grouped = dailyActivity.groupby(['Id', 'ActivityDate']).size().reset_index(name='Count')\n",
        "duplicates = grouped[grouped['Count'] > 1]\n",
        "print(\"\\n Duplicates in activity record:\")\n",
        "print(duplicates)\n",
        "\n",
        "grouped1 = sleepDay.groupby(['Id', 'ActivityDate','ActivityTime','TotalSleepRecords']).size().reset_index(name='Count')\n",
        "duplicates1 = grouped1[grouped1['Count'] > 1]\n",
        "print(\"\\nDuplicates in sleep record:\")\n",
        "print(duplicates1)\n",
        "\n",
        "grouped2 = hourlyCalories.groupby(['Id', 'ActivityDate','ActivityTime']).size().reset_index(name='Count')\n",
        "duplicates2 = grouped2[grouped2['Count'] > 1]\n",
        "print(\"\\nDuplicates in hourly calories record:\")\n",
        "print(duplicates2)\n",
        "\n",
        "\n",
        "grouped3 = hourlyIntensities.groupby(['Id', 'ActivityDate','ActivityTime']).size().reset_index(name='Count')\n",
        "duplicates3 = grouped3[grouped3['Count'] > 1]\n",
        "print(\"\\nDuplicates in hourly intensities record:\")\n",
        "print(duplicates3)\n",
        "\n",
        "grouped4 = heartRate.groupby(['Id', 'ActivityDate','ActivityTime']).size().reset_index(name='Count')\n",
        "duplicates4 = grouped4[grouped4['Count'] > 1]\n",
        "print(\"\\nDuplicates in heartrate seconds record:\")\n",
        "print(duplicates4)"
      ]
    },
    {
      "cell_type": "code",
      "execution_count": 64,
      "metadata": {},
      "outputs": [
        {
          "name": "stdout",
          "output_type": "stream",
          "text": [
            "\n",
            "Duplicate records in the original DataFrame:\n",
            "             Id  TotalSleepRecords  TotalMinutesAsleep  TotalTimeInBed  \\\n",
            "223  4702921684                  1                 520             543   \n",
            "222  4702921684                  1                 520             543   \n",
            "160  4388161847                  1                 471             495   \n",
            "379  8378563200                  1                 388             402   \n",
            "380  8378563200                  1                 388             402   \n",
            "161  4388161847                  1                 471             495   \n",
            "\n",
            "    ActivityDate ActivityTime  \n",
            "223   2016-05-07  12:00:00 AM  \n",
            "222   2016-05-07  12:00:00 AM  \n",
            "160   2016-05-05  12:00:00 AM  \n",
            "379   2016-04-25  12:00:00 AM  \n",
            "380   2016-04-25  12:00:00 AM  \n",
            "161   2016-05-05  12:00:00 AM  \n"
          ]
        }
      ],
      "source": [
        "duplicate_records = sleepDay[sleepDay.set_index(['Id', 'ActivityDate', 'ActivityTime', 'TotalSleepRecords']).index.isin(duplicates1.set_index(['Id', 'ActivityDate', 'ActivityTime', 'TotalSleepRecords']).index)]\n",
        "print(\"\\nDuplicate records in the original DataFrame:\")\n",
        "print(duplicate_records)\n",
        "\n",
        "# Removing the duplicate records from the original DataFrame\n",
        "sleepDay.drop_duplicates(subset=['Id', 'ActivityDate', 'ActivityTime', 'TotalSleepRecords'], inplace=True)"
      ]
    },
    {
      "cell_type": "markdown",
      "metadata": {},
      "source": [
        "##### Only the SleepDay dataset has duplicates."
      ]
    },
    {
      "cell_type": "markdown",
      "metadata": {
        "id": "S5qQTDQRLKO-"
      },
      "source": []
    },
    {
      "cell_type": "code",
      "execution_count": 65,
      "metadata": {},
      "outputs": [
        {
          "name": "stdout",
          "output_type": "stream",
          "text": [
            "Missing values in dailyActivity:\n",
            "{'null_values': np.int64(0), 'empty_strings': np.int64(0), 'na_values': np.int64(0)}\n",
            "\n",
            "Missing values in sleepDay:\n",
            "{'null_values': np.int64(0), 'empty_strings': np.int64(0), 'na_values': np.int64(0)}\n",
            "\n",
            "Missing values in hourlyCalories:\n",
            "{'null_values': np.int64(0), 'empty_strings': np.int64(0), 'na_values': np.int64(0)}\n",
            "\n",
            "Missing values in hourlyIntensities:\n",
            "{'null_values': np.int64(0), 'empty_strings': np.int64(0), 'na_values': np.int64(0)}\n",
            "\n",
            "Missing values in heartRate:\n",
            "{'null_values': np.int64(0), 'empty_strings': np.int64(0), 'na_values': np.int64(0)}\n"
          ]
        }
      ],
      "source": [
        "import pandas as pd\n",
        "import numpy as np\n",
        "\n",
        "# Function to check for missing values including NaN, None, and empty strings\n",
        "def check_missing_values(df):\n",
        "    return {\n",
        "        'null_values': df.isnull().values.sum(),\n",
        "        'empty_strings': (df == '').values.sum(),\n",
        "        'na_values': df.isna().values.sum()\n",
        "    }\n",
        "\n",
        "# Check for missing values in each DataFrame\n",
        "print(\"Missing values in dailyActivity:\")\n",
        "print(check_missing_values(dailyActivity))\n",
        "\n",
        "print(\"\\nMissing values in sleepDay:\")\n",
        "print(check_missing_values(sleepDay))\n",
        "\n",
        "print(\"\\nMissing values in hourlyCalories:\")\n",
        "print(check_missing_values(hourlyCalories))\n",
        "\n",
        "print(\"\\nMissing values in hourlyIntensities:\")\n",
        "print(check_missing_values(hourlyIntensities))\n",
        "\n",
        "print(\"\\nMissing values in heartRate:\")\n",
        "print(check_missing_values(heartRate))"
      ]
    },
    {
      "cell_type": "markdown",
      "metadata": {},
      "source": [
        "#### Aggreate data in DailyActivity"
      ]
    },
    {
      "cell_type": "code",
      "execution_count": 66,
      "metadata": {},
      "outputs": [
        {
          "name": "stdout",
          "output_type": "stream",
          "text": [
            "     TotalSteps  TotalDistance  TotalActiveMinutes  Calories\n",
            "454       28497      27.530001                 385      4526\n",
            "344        1988       1.430000                  79      2207\n",
            "290           0       0.000000                   0         0\n",
            "117       10320       6.850000                 362      2338\n",
            "189        6880       4.930000                 191      2966\n"
          ]
        }
      ],
      "source": [
        "dailyActivity['TotalActiveMinutes'] = dailyActivity['VeryActiveMinutes'] + dailyActivity['FairlyActiveMinutes'] + dailyActivity['LightlyActiveMinutes']\n",
        "\n",
        "dailyActivity_final = dailyActivity[['TotalSteps', 'TotalDistance', 'TotalActiveMinutes','Calories']]\n",
        "\n",
        "print(dailyActivity_final.head())"
      ]
    },
    {
      "cell_type": "markdown",
      "metadata": {},
      "source": [
        "#### 1.2.1.c. Clone into train&test file"
      ]
    },
    {
      "cell_type": "code",
      "execution_count": 67,
      "metadata": {},
      "outputs": [],
      "source": [
        "import os\n",
        "\n",
        "clone_directory = 'clone_data'\n",
        "train_file_path1 = os.path.join(clone_directory, 'train_dailyActivity.csv')\n",
        "train_file_path2 = os.path.join(clone_directory, 'train_heartRate.csv')\n",
        "train_file_path3 = os.path.join(clone_directory, 'train_hourlyCalories.csv')\n",
        "train_file_path4 = os.path.join(clone_directory, 'train_hourlyIntensities.csv')\n",
        "train_file_path5 = os.path.join(clone_directory, 'train_sleepDay.csv')\n",
        "train_file_path6 = os.path.join(clone_directory, 'train_weightInfo.csv')\n",
        "\n",
        "test_file_path1 = os.path.join(clone_directory, 'test_dailyActivity.csv')\n",
        "test_file_path2 = os.path.join(clone_directory, 'test_heartRate.csv')\n",
        "test_file_path3 = os.path.join(clone_directory, 'test_hourlyCalories.csv')\n",
        "test_file_path4 = os.path.join(clone_directory, 'test_hourlyIntensities.csv')\n",
        "test_file_path5 = os.path.join(clone_directory, 'test_sleepDay.csv')\n",
        "test_file_path6 = os.path.join(clone_directory, 'test_weightInfo.csv')\n",
        "\n",
        "if not os.path.exists(clone_directory):\n",
        "    os.makedirs(clone_directory)\n",
        "\n",
        "dailyActivity.to_csv(train_file_path1)\n",
        "heartRate.to_csv(train_file_path2)\n",
        "hourlyCalories.to_csv(train_file_path3)\n",
        "hourlyIntensities.to_csv(train_file_path4)\n",
        "sleepDay.to_csv(train_file_path5)\n",
        "weightLogInfo.to_csv(train_file_path6)\n",
        "\n",
        "dailyActivity.to_csv(test_file_path1)\n",
        "heartRate.to_csv(test_file_path2)\n",
        "hourlyCalories.to_csv(test_file_path3)\n",
        "hourlyIntensities.to_csv(test_file_path4)\n",
        "sleepDay.to_csv(test_file_path5)\n",
        "weightLogInfo.to_csv(test_file_path6)\n"
      ]
    },
    {
      "cell_type": "markdown",
      "metadata": {
        "id": "iW3BHRYgk9rB"
      },
      "source": [
        "# 2. Selection"
      ]
    },
    {
      "cell_type": "code",
      "execution_count": 68,
      "metadata": {},
      "outputs": [],
      "source": [
        "# Daily\n",
        "daily_train = pd.read_csv(\"../src/clone_data/train_dailyActivity.csv\")\n",
        "# Fill null value with the most popular value.\n",
        "daily_train = daily_train.apply(lambda x: x.fillna(x.value_counts().index[0]))\n",
        "\n",
        "# heart\n",
        "heart_train = pd.read_csv(\"../src/clone_data/train_heartrate.csv\")\n",
        "heart_train = heart_train.apply(lambda x: x.fillna(x.value_counts().index[0]))\n",
        "\n",
        "# calories\n",
        "calories_train = pd.read_csv(\"../src/clone_data/train_hourlyCalories.csv\")\n",
        "calories_train = calories_train.apply(lambda x: x.fillna(x.value_counts().index[0]))\n",
        "\n",
        "# Intensities\n",
        "intensities_train = pd.read_csv(\"../src/clone_data/train_hourlyIntensities.csv\")\n",
        "intensities_train = intensities_train.apply(lambda x: x.fillna(x.value_counts().index[0]))\n",
        "\n",
        "# sleepDay\n",
        "sleepDay_train = pd.read_csv(\"../src/clone_data/train_sleepDay.csv\")\n",
        "sleepDay_train = sleepDay_train.apply(lambda x: x.fillna(x.value_counts().index[0]))\n",
        "\n",
        "# weight\n",
        "weight_train = pd.read_csv(\"../src/clone_data/train_weightInfo.csv\")\n",
        "weight_train = weight_train.apply(lambda x: x.fillna(x.value_counts().index[0]))"
      ]
    },
    {
      "cell_type": "markdown",
      "metadata": {
        "id": "tAqgXbYUk9tu"
      },
      "source": [
        "## 2.1. Information Gain"
      ]
    },
    {
      "cell_type": "code",
      "execution_count": 69,
      "metadata": {},
      "outputs": [],
      "source": [
        "import numpy as np\n",
        "import matplotlib.pyplot as plt\n",
        "from sklearn.datasets import load_diabetes\n",
        "from sklearn.feature_selection import mutual_info_regression"
      ]
    },
    {
      "cell_type": "markdown",
      "metadata": {},
      "source": [
        "### 2.1.1. Daily Activity"
      ]
    },
    {
      "cell_type": "code",
      "execution_count": 70,
      "metadata": {},
      "outputs": [
        {
          "name": "stdout",
          "output_type": "stream",
          "text": [
            "Features: TotalDistance Score:  0.7002015313329717\n",
            "Features: TrackerDistance Score:  0.6727797632306594\n",
            "Features: TotalSteps Score:  0.6410970197681118\n",
            "Features: TotalActiveMinutes Score:  0.5743517026310911\n",
            "Features: SedentaryMinutes Score:  0.5696352635685433\n",
            "Features: LightlyActiveMinutes Score:  0.45484306010228925\n",
            "Features: LightActiveDistance Score:  0.4092423068187099\n",
            "Features: VeryActiveMinutes Score:  0.27446906249858793\n",
            "Features: VeryActiveDistance Score:  0.1802955175283123\n",
            "Features: FairlyActiveMinutes Score:  0.1709160567536041\n",
            "Features: ModeratelyActiveDistance Score:  0.12428027300700117\n",
            "Features: LoggedActivitiesDistance Score:  0.04595389595462729\n",
            "Features: SedentaryActiveDistance Score:  0.0\n"
          ]
        },
        {
          "data": {
            "image/png": "[encoded data removed]",
            "text/plain": [
              "<Figure size 640x480 with 1 Axes>"
            ]
          },
          "metadata": {},
          "output_type": "display_data"
        }
      ],
      "source": [
        "x = daily_train.drop(columns=[\"Unnamed: 0\",\"Id\",\"ActivityDate\",\"Calories\"])\n",
        "y = daily_train[\"Calories\"]\n",
        "\n",
        "#Apply Information Gain\n",
        "ig = mutual_info_regression(x,y)\n",
        "\n",
        "#Create a dictionary of feature importance scores\n",
        "feature_scores = {}\n",
        "for i in range(len(x.columns)):\n",
        "    feature_scores[x.columns[i]] = ig[i]\n",
        "\n",
        "# Sort the features by importance score in descending order\n",
        "sorted_features = sorted(feature_scores.items(), key=lambda x: x[1], reverse=True)\n",
        "\n",
        "#Sort the features by importance scores and the sorted features\n",
        "for feature, score in sorted_features:\n",
        "    print(\"Features:\", feature, \"Score: \", score)\n",
        "\n",
        "#Plot a horizontal bar chat of the feature importance scores\n",
        "fig, ax = plt.subplots()\n",
        "y_pos = np.arange(len(sorted_features))\n",
        "ax.barh(y_pos, [score for feature, score in sorted_features], align=\"center\")\n",
        "ax.set_yticks(y_pos)\n",
        "ax.set_yticklabels([feature for feature, score in sorted_features])\n",
        "ax.invert_yaxis()  # Labels read top-to-bottom\n",
        "ax.set_xlabel(\"Importance Score\")\n",
        "ax.set_title(\"Feature Importance Scores (Information Gain)\")\n",
        "\n",
        "# Add importance scores as labels on the horizontal bar chart\n",
        "for i, v in enumerate([score for feature, score in sorted_features]):\n",
        "    ax.text(v + 0.01, i, str(round(v, 3)), color=\"black\", fontweight=\"bold\")\n",
        "plt.show()"
      ]
    },
    {
      "cell_type": "markdown",
      "metadata": {},
      "source": [
        "### 2.1.2. Sleep Day"
      ]
    },
    {
      "cell_type": "code",
      "execution_count": 71,
      "metadata": {},
      "outputs": [
        {
          "name": "stdout",
          "output_type": "stream",
          "text": [
            "Features: TotalTimeInBed Score:  1.7652012866853362\n",
            "Features: TotalSleepRecords Score:  0.03022192887185926\n"
          ]
        },
        {
          "data": {
            "image/png": "[encoded data removed]",
            "text/plain": [
              "<Figure size 640x480 with 1 Axes>"
            ]
          },
          "metadata": {},
          "output_type": "display_data"
        }
      ],
      "source": [
        "x = sleepDay_train.drop(columns=[\"Unnamed: 0\",\"Id\", \"ActivityDate\", \"ActivityTime\", \"TotalMinutesAsleep\"])\n",
        "y = sleepDay_train[\"TotalMinutesAsleep\"]\n",
        "\n",
        "#Apply Information Gain\n",
        "ig = mutual_info_regression(x,y)\n",
        "\n",
        "#Create a dictionary of feature importance scores\n",
        "feature_scores = {}\n",
        "for i in range(len(x.columns)):\n",
        "    feature_scores[x.columns[i]] = ig[i]\n",
        "\n",
        "# Sort the features by importance score in descending order\n",
        "sorted_features = sorted(feature_scores.items(), key=lambda x: x[1], reverse=True)\n",
        "\n",
        "#Sort the features by importance scores and the sorted features\n",
        "for feature, score in sorted_features:\n",
        "    print(\"Features:\", feature, \"Score: \", score)\n",
        "\n",
        "#Plot a horizontal bar chat of the feature importance scores\n",
        "fig, ax = plt.subplots()\n",
        "y_pos = np.arange(len(sorted_features))\n",
        "ax.barh(y_pos, [score for feature, score in sorted_features], align=\"center\")\n",
        "ax.set_yticks(y_pos)\n",
        "ax.set_yticklabels([feature for feature, score in sorted_features])\n",
        "ax.invert_yaxis()  # Labels read top-to-bottom\n",
        "ax.set_xlabel(\"Importance Score\")\n",
        "ax.set_title(\"Feature Importance Scores (Information Gain)\")\n",
        "\n",
        "# Add importance scores as labels on the horizontal bar chart\n",
        "for i, v in enumerate([score for feature, score in sorted_features]):\n",
        "    ax.text(v + 0.01, i, str(round(v, 3)), color=\"black\", fontweight=\"bold\")\n",
        "plt.show()"
      ]
    },
    {
      "cell_type": "code",
      "execution_count": null,
      "metadata": {},
      "outputs": [],
      "source": []
    },
    {
      "cell_type": "markdown",
      "metadata": {
        "id": "f9TIYqosk9wd"
      },
      "source": [
        "## 2.2. Forward Selection"
      ]
    },
    {
      "cell_type": "code",
      "execution_count": 72,
      "metadata": {},
      "outputs": [
        {
          "ename": "ModuleNotFoundError",
          "evalue": "No module named 'mlxtend'",
          "output_type": "error",
          "traceback": [
            "\u001b[1;31m---------------------------------------------------------------------------\u001b[0m",
            "\u001b[1;31mModuleNotFoundError\u001b[0m                       Traceback (most recent call last)",
            "Cell \u001b[1;32mIn[72], line 3\u001b[0m\n\u001b[0;32m      1\u001b[0m \u001b[38;5;66;03m# from sklearn.linear_model import LogisticRegression\u001b[39;00m\n\u001b[0;32m      2\u001b[0m \u001b[38;5;28;01mfrom\u001b[39;00m \u001b[38;5;21;01msklearn\u001b[39;00m\u001b[38;5;21;01m.\u001b[39;00m\u001b[38;5;21;01mdiscriminant_analysis\u001b[39;00m \u001b[38;5;28;01mimport\u001b[39;00m LinearDiscriminantAnalysis\n\u001b[1;32m----> 3\u001b[0m \u001b[38;5;28;01mfrom\u001b[39;00m \u001b[38;5;21;01mmlxtend\u001b[39;00m\u001b[38;5;21;01m.\u001b[39;00m\u001b[38;5;21;01mfeature_selection\u001b[39;00m \u001b[38;5;28;01mimport\u001b[39;00m SequentialFeatureSelector \u001b[38;5;28;01mas\u001b[39;00m SFS\n",
            "\u001b[1;31mModuleNotFoundError\u001b[0m: No module named 'mlxtend'"
          ]
        }
      ],
      "source": [
        "# from sklearn.linear_model import LogisticRegression\n",
        "from sklearn.discriminant_analysis import LinearDiscriminantAnalysis\n",
        "from mlxtend.feature_selection import SequentialFeatureSelector as SFS"
      ]
    },
    {
      "cell_type": "code",
      "execution_count": null,
      "metadata": {},
      "outputs": [
        {
          "ename": "NameError",
          "evalue": "name 'train_test_split' is not defined",
          "output_type": "error",
          "traceback": [
            "\u001b[1;31m---------------------------------------------------------------------------\u001b[0m",
            "\u001b[1;31mNameError\u001b[0m                                 Traceback (most recent call last)",
            "Cell \u001b[1;32mIn[36], line 6\u001b[0m\n\u001b[0;32m      3\u001b[0m y \u001b[38;5;241m=\u001b[39m daily_train[\u001b[38;5;124m\"\u001b[39m\u001b[38;5;124mCalories\u001b[39m\u001b[38;5;124m\"\u001b[39m]\n\u001b[0;32m      5\u001b[0m \u001b[38;5;66;03m# Split the dataset into training and testing sets\u001b[39;00m\n\u001b[1;32m----> 6\u001b[0m X_train, X_test, y_train, y_test \u001b[38;5;241m=\u001b[39m \u001b[43mtrain_test_split\u001b[49m(X, y, test_size\u001b[38;5;241m=\u001b[39m\u001b[38;5;241m0.3\u001b[39m, random_state\u001b[38;5;241m=\u001b[39m\u001b[38;5;241m0\u001b[39m)\n\u001b[0;32m      8\u001b[0m \u001b[38;5;66;03m# Define the logistic regression model\u001b[39;00m\n\u001b[0;32m      9\u001b[0m model \u001b[38;5;241m=\u001b[39m LinearDiscriminantAnalysis()\n",
            "\u001b[1;31mNameError\u001b[0m: name 'train_test_split' is not defined"
          ]
        }
      ],
      "source": [
        "12313"
      ]
    },
    {
      "cell_type": "markdown",
      "metadata": {
        "id": "KVmy8FRpk9yV"
      },
      "source": [
        "## 2.3. Chi_Square"
      ]
    },
    {
      "cell_type": "markdown",
      "metadata": {
        "id": "aqQJbOKMZbdl"
      },
      "source": [
        "# 3. Split and Prepare Data"
      ]
    },
    {
      "cell_type": "code",
      "execution_count": 73,
      "metadata": {},
      "outputs": [],
      "source": [
        "from sklearn.model_selection import train_test_split"
      ]
    },
    {
      "cell_type": "markdown",
      "metadata": {},
      "source": [
        "## 3.1. Daily Activity"
      ]
    },
    {
      "cell_type": "code",
      "execution_count": 74,
      "metadata": {},
      "outputs": [],
      "source": [
        "X_ac = daily_train[\n",
        "    [\n",
        "        \"TotalSteps\",\n",
        "        \"TotalDistance\",\n",
        "        \"TrackerDistance\",\n",
        "        \"SedentaryMinutes\",\n",
        "        \"TotalActiveMinutes\"\n",
        "    ]\n",
        "]\n",
        "\n",
        "Y_ac = daily_train[\"Calories\"]\n",
        "\n",
        "X_train_ac, X_test_ac, Y_train_ac, Y_test_ac = train_test_split(\n",
        "    X_ac, Y_ac, test_size = 0.1, random_state=42\n",
        ")"
      ]
    },
    {
      "cell_type": "markdown",
      "metadata": {},
      "source": [
        "## 3.2. Sleep Day\n"
      ]
    },
    {
      "cell_type": "code",
      "execution_count": 75,
      "metadata": {},
      "outputs": [],
      "source": [
        "X_sle = sleepDay_train[\n",
        "    [\n",
        "        \"TotalSleepRecords\",\n",
        "        \"TotalTimeInBed\"\n",
        "    ]\n",
        "]\n",
        "\n",
        "Y_sle = sleepDay_train[\"TotalMinutesAsleep\"]\n",
        "\n",
        "X_train_sle, X_test_sle, Y_train_sle, Y_test_sle = train_test_split(\n",
        "    X_sle, Y_sle, test_size = 0.2, random_state = 42\n",
        ")"
      ]
    },
    {
      "cell_type": "markdown",
      "metadata": {
        "id": "sTtE1-nVYDOT"
      },
      "source": [
        "# 4. Model\n",
        "#### Decision Tree, Logistic Regression, Random Forest, KNN, Naive Bayes, SVM"
      ]
    },
    {
      "cell_type": "markdown",
      "metadata": {},
      "source": [
        "# 5. Apply Model"
      ]
    }
  ],
  "metadata": {
    "colab": {
      "provenance": []
    },
    "kernelspec": {
      "display_name": "Python 3",
      "name": "python3"
    },
    "language_info": {
      "codemirror_mode": {
        "name": "ipython",
        "version": 3
      },
      "file_extension": ".py",
      "mimetype": "text/x-python",
      "name": "python",
      "nbconvert_exporter": "python",
      "pygments_lexer": "ipython3",
      "version": "3.11.6"
    }
  },
  "nbformat": 4,
  "nbformat_minor": 0
}
